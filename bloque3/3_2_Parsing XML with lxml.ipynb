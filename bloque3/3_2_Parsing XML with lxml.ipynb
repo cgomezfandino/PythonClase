{
 "cells": [
  {
   "cell_type": "markdown",
   "metadata": {},
   "source": [
    "# Parsing XML with lxml"
   ]
  },
  {
   "cell_type": "markdown",
   "metadata": {},
   "source": [
    "XML is a general purpose markup language that was designed to exchange data among systems. There are hundreds of \"XML schemas\" that are used for particular applications or uses. "
   ]
  },
  {
   "cell_type": "markdown",
   "metadata": {},
   "source": [
    "## Getting some data"
   ]
  },
  {
   "cell_type": "markdown",
   "metadata": {},
   "source": [
    "Let's get the XML file from the \"US Overseas loans and grants\" that was downloadable from here (it was retired august 2015): http://catalog.data.gov/dataset/us-overseas-loans-and-grants-greenbook-usaid-1554"
   ]
  },
  {
   "cell_type": "code",
   "execution_count": 14,
   "metadata": {
    "collapsed": false
   },
   "outputs": [],
   "source": [
    "# Code for getting the data:\n",
    "# URL not available, instead the original file is provided with the Notebook. \n",
    "#from urllib import urlretrieve\n",
    "#link = 'https://eads.usaid.gov/gbk/data/files/us_foreign_assistance.xml'\n",
    "#urlretrieve(link, \"fa.xml\")"
   ]
  },
  {
   "cell_type": "code",
   "execution_count": 15,
   "metadata": {
    "collapsed": false
   },
   "outputs": [
    {
     "name": "stdout",
     "output_type": "stream",
     "text": [
      " El volumen de la unidad C es Windows8_OS\n",
      " El n£mero de serie del volumen es: A699-69CC\n",
      "\n",
      " Directorio de C:\\Users\\CarlosEduardo\\CiffBigData\\DataSciencePython\\bloque3\n",
      "\n",
      "\n",
      " Directorio de C:\\Users\\CarlosEduardo\\CiffBigData\\DataSciencePython\\bloque3\n",
      "\n",
      "08/11/2016  18:18         2.583.173 fa.xml\n",
      "               1 archivos      2.583.173 bytes\n",
      "               0 dirs  321.400.119.296 bytes libres\n"
     ]
    }
   ],
   "source": [
    "%ls -l *.xml"
   ]
  },
  {
   "cell_type": "code",
   "execution_count": 16,
   "metadata": {
    "collapsed": false
   },
   "outputs": [
    {
     "name": "stderr",
     "output_type": "stream",
     "text": [
      "\"head\" no se reconoce como un comando interno o externo,\n",
      "programa o archivo por lotes ejecutable.\n"
     ]
    }
   ],
   "source": [
    "!head -n12 fa.xml"
   ]
  },
  {
   "cell_type": "markdown",
   "metadata": {},
   "source": [
    "Note that this is a relatively simple XML. You can see a more complex one for example here: http://www.ec.tuwien.ac.at/~dorn/Courses/KM/Resources/hrxml/HR-XML-2_3/SIDES/StaffingInvoice.html\n",
    "\n",
    "Information in XML is not necessarily tabular, but it can be complex and with a nested structure, so there is no single way of importing that into a tabular structure (DataFrame)."
   ]
  },
  {
   "cell_type": "markdown",
   "metadata": {},
   "source": [
    "## Loading the XML into memory"
   ]
  },
  {
   "cell_type": "code",
   "execution_count": 17,
   "metadata": {
    "collapsed": false
   },
   "outputs": [
    {
     "name": "stdout",
     "output_type": "stream",
     "text": [
      "ForeignAssistance\n",
      "{}\n",
      "8278\n"
     ]
    }
   ],
   "source": [
    "from lxml import objectify\n",
    "parsed = objectify.parse('fa.xml')\n",
    "root = parsed.getroot()\n",
    "print root.tag\n",
    "print root.attrib\n",
    "print root.countchildren()\n"
   ]
  },
  {
   "cell_type": "markdown",
   "metadata": {},
   "source": [
    "We can see in the XML file that it follows a simple structure with each entry as a ForeignAssistanceRow element."
   ]
  },
  {
   "cell_type": "markdown",
   "metadata": {},
   "source": [
    "The expression root.ForeignAssistanceRow generates one element for each ForeignAssistanceRow element:"
   ]
  },
  {
   "cell_type": "code",
   "execution_count": 18,
   "metadata": {
    "collapsed": false
   },
   "outputs": [
    {
     "name": "stdout",
     "output_type": "stream",
     "text": [
      "8278 8278 8278 8278 8278\n"
     ]
    }
   ],
   "source": [
    "country=[]\n",
    "name=[]\n",
    "unit =[]\n",
    "year=[]\n",
    "amount=[]\n",
    "kind =[]\n",
    "program = []\n",
    "for row in root.ForeignAssistanceRow:\n",
    "    country.append(row.RecipientCountry.text)\n",
    "    name.append(row.ProgramName.text)\n",
    "    unit.append(row.UnitName.text)\n",
    "    year.append(row.FiscalYear.text)\n",
    "    amount.append(row.Obligations.text)\n",
    "    kind.append(row.AssistanceType.text)\n",
    "    program.append(row.ProgramName.text)\n",
    "    \n",
    "print len(country), len(name), len(unit), len(year), len(amount)"
   ]
  },
  {
   "cell_type": "code",
   "execution_count": 31,
   "metadata": {
    "collapsed": false
   },
   "outputs": [
    {
     "name": "stdout",
     "output_type": "stream",
     "text": [
      "<type 'str'>\n",
      "<type 'numpy.int64'>\n"
     ]
    },
    {
     "data": {
      "text/html": [
       "<div>\n",
       "<table border=\"1\" class=\"dataframe\">\n",
       "  <thead>\n",
       "    <tr style=\"text-align: right;\">\n",
       "      <th></th>\n",
       "      <th>country</th>\n",
       "      <th>name</th>\n",
       "      <th>unit</th>\n",
       "      <th>year</th>\n",
       "      <th>amount</th>\n",
       "      <th>type</th>\n",
       "      <th>program</th>\n",
       "    </tr>\n",
       "  </thead>\n",
       "  <tbody>\n",
       "    <tr>\n",
       "      <th>0</th>\n",
       "      <td>Afghanistan</td>\n",
       "      <td>Child Survival and Health</td>\n",
       "      <td>Constant 2011 $US</td>\n",
       "      <td>2002</td>\n",
       "      <td>2691390</td>\n",
       "      <td>Economic</td>\n",
       "      <td>Child Survival and Health</td>\n",
       "    </tr>\n",
       "    <tr>\n",
       "      <th>1</th>\n",
       "      <td>Afghanistan</td>\n",
       "      <td>Child Survival and Health</td>\n",
       "      <td>Constant 2011 $US</td>\n",
       "      <td>2003</td>\n",
       "      <td>58817159</td>\n",
       "      <td>Economic</td>\n",
       "      <td>Child Survival and Health</td>\n",
       "    </tr>\n",
       "    <tr>\n",
       "      <th>2</th>\n",
       "      <td>Afghanistan</td>\n",
       "      <td>Child Survival and Health</td>\n",
       "      <td>Constant 2011 $US</td>\n",
       "      <td>2004</td>\n",
       "      <td>41877130</td>\n",
       "      <td>Economic</td>\n",
       "      <td>Child Survival and Health</td>\n",
       "    </tr>\n",
       "    <tr>\n",
       "      <th>3</th>\n",
       "      <td>Afghanistan</td>\n",
       "      <td>Child Survival and Health</td>\n",
       "      <td>Constant 2011 $US</td>\n",
       "      <td>2005</td>\n",
       "      <td>41467658</td>\n",
       "      <td>Economic</td>\n",
       "      <td>Child Survival and Health</td>\n",
       "    </tr>\n",
       "    <tr>\n",
       "      <th>4</th>\n",
       "      <td>Afghanistan</td>\n",
       "      <td>Child Survival and Health</td>\n",
       "      <td>Constant 2011 $US</td>\n",
       "      <td>2006</td>\n",
       "      <td>42463433</td>\n",
       "      <td>Economic</td>\n",
       "      <td>Child Survival and Health</td>\n",
       "    </tr>\n",
       "  </tbody>\n",
       "</table>\n",
       "</div>"
      ],
      "text/plain": [
       "       country                       name               unit  year    amount  \\\n",
       "0  Afghanistan  Child Survival and Health  Constant 2011 $US  2002   2691390   \n",
       "1  Afghanistan  Child Survival and Health  Constant 2011 $US  2003  58817159   \n",
       "2  Afghanistan  Child Survival and Health  Constant 2011 $US  2004  41877130   \n",
       "3  Afghanistan  Child Survival and Health  Constant 2011 $US  2005  41467658   \n",
       "4  Afghanistan  Child Survival and Health  Constant 2011 $US  2006  42463433   \n",
       "\n",
       "       type                    program  \n",
       "0  Economic  Child Survival and Health  \n",
       "1  Economic  Child Survival and Health  \n",
       "2  Economic  Child Survival and Health  \n",
       "3  Economic  Child Survival and Health  \n",
       "4  Economic  Child Survival and Health  "
      ]
     },
     "execution_count": 31,
     "metadata": {},
     "output_type": "execute_result"
    }
   ],
   "source": [
    "import pandas as pd\n",
    "data = pd.DataFrame()\n",
    "data['country'] = country\n",
    "data['name'] = name\n",
    "data['unit'] = unit\n",
    "data['year'] = year\n",
    "data['amount'] = amount\n",
    "data['type'] = kind\n",
    "data['program'] = program\n",
    "\n",
    "# Always remember to check types and convert if needed:\n",
    "print type(data['amount'][0])\n",
    "data['amount'] = pd.Series(amount, dtype=\"int64\") #convertir de int32 a int64\n",
    "print type(data['amount'][0])\n",
    "\n",
    "data.head(5)"
   ]
  },
  {
   "cell_type": "markdown",
   "metadata": {},
   "source": [
    "## Some basic analysis"
   ]
  },
  {
   "cell_type": "code",
   "execution_count": 32,
   "metadata": {
    "collapsed": false
   },
   "outputs": [],
   "source": [
    "yearly = data.groupby(year)"
   ]
  },
  {
   "cell_type": "code",
   "execution_count": 33,
   "metadata": {
    "collapsed": false
   },
   "outputs": [
    {
     "name": "stdout",
     "output_type": "stream",
     "text": [
      "<class 'pandas.core.series.Series'>\n"
     ]
    },
    {
     "data": {
      "text/plain": [
       "1946    1047178817\n",
       "1947    1499747351\n",
       "1948    1491179787\n",
       "1949    5034934326\n",
       "1950    3812156866\n",
       "Name: amount, dtype: int64"
      ]
     },
     "execution_count": 33,
     "metadata": {},
     "output_type": "execute_result"
    }
   ],
   "source": [
    "per_year = yearly[\"amount\"].sum()\n",
    "print type(per_year)\n",
    "per_year.head(5)"
   ]
  },
  {
   "cell_type": "code",
   "execution_count": 34,
   "metadata": {
    "collapsed": false
   },
   "outputs": [
    {
     "data": {
      "text/plain": [
       "<matplotlib.axes._subplots.AxesSubplot at 0x837e9e8>"
      ]
     },
     "execution_count": 34,
     "metadata": {},
     "output_type": "execute_result"
    },
    {
     "data": {
      "image/png": "[encoded data removed]",
      "text/plain": [
       "<matplotlib.figure.Figure at 0x83718d0>"
      ]
     },
     "metadata": {},
     "output_type": "display_data"
    }
   ],
   "source": [
    "%matplotlib inline\n",
    "per_year.plot()"
   ]
  },
  {
   "cell_type": "markdown",
   "metadata": {},
   "source": [
    "Note: we have not checked that these are constant dollars!"
   ]
  },
  {
   "cell_type": "code",
   "execution_count": 35,
   "metadata": {
    "collapsed": false
   },
   "outputs": [
    {
     "name": "stdout",
     "output_type": "stream",
     "text": [
      "<class 'pandas.core.groupby.DataFrameGroupBy'>\n",
      "country\n",
      "Afghanistan    52969366592\n",
      "Albania         2099277602\n",
      "Algeria         1522752781\n",
      "Name: amount, dtype: int64\n",
      "---------\n",
      "country\n",
      "Afghanistan             52969366592\n",
      "Asia (not specified)    21667862209\n",
      "Bangladesh              19205492546\n",
      "Brazil                  18237524846\n",
      "Bolivia                 14286340487\n",
      "Name: amount, dtype: int64\n"
     ]
    },
    {
     "name": "stderr",
     "output_type": "stream",
     "text": [
      "C:\\Program Files\\Anaconda2\\lib\\site-packages\\ipykernel\\__main__.py:9: FutureWarning: sort is deprecated, use sort_values(inplace=True) for INPLACE sorting\n"
     ]
    },
    {
     "data": {
      "text/plain": [
       "<matplotlib.axes._subplots.AxesSubplot at 0x88a23c8>"
      ]
     },
     "execution_count": 35,
     "metadata": {},
     "output_type": "execute_result"
    },
    {
     "data": {
      "image/png": "[encoded data removed]",
      "text/plain": [
       "<matplotlib.figure.Figure at 0x4a81390>"
      ]
     },
     "metadata": {},
     "output_type": "display_data"
    }
   ],
   "source": [
    "countrywise = data.groupby(\"country\")\n",
    "print type(countrywise)\n",
    "\n",
    "per_country = countrywise[\"amount\"].sum()\n",
    "print per_country.head(3)\n",
    "print \"---------\"\n",
    "\n",
    "# Sort and visualize:\n",
    "per_country.sort(ascending=False)\n",
    "print per_country.head(5)\n",
    "per_country.head(10).plot(kind=\"bar\")"
   ]
  },
  {
   "cell_type": "markdown",
   "metadata": {},
   "source": [
    "Now let's try to do that with homogeneous currency data."
   ]
  },
  {
   "cell_type": "code",
   "execution_count": 36,
   "metadata": {
    "collapsed": false
   },
   "outputs": [
    {
     "name": "stdout",
     "output_type": "stream",
     "text": [
      "{'Historical $US': array([   8,    9,   10, ..., 8275, 8276, 8277], dtype=int64), 'Constant 2011 $US': array([   0,    1,    2, ..., 8263, 8264, 8265], dtype=int64)}\n",
      "                               amount\n",
      "unit                                 \n",
      "Constant 2011 $US count  4.156000e+03\n",
      "                  mean   2.791793e+07\n",
      "                  std    1.427025e+08\n",
      "                  min   -5.742315e+07\n",
      "                  25%    5.004238e+05\n",
      "                  50%    2.520098e+06\n",
      "                  75%    1.364326e+07\n",
      "                  max    4.953482e+09\n",
      "Historical $US    count  4.122000e+03\n",
      "                  mean   1.450088e+07\n",
      "                  std    8.024697e+07\n",
      "                  min   -5.742315e+07\n",
      "                  25%    3.000000e+05\n",
      "                  50%    1.560000e+06\n",
      "                  75%    7.745584e+06\n",
      "                  max    2.655419e+09\n",
      "----------------\n",
      "<class 'pandas.core.frame.DataFrame'>\n",
      "----------------\n",
      "29\n"
     ]
    },
    {
     "name": "stderr",
     "output_type": "stream",
     "text": [
      "C:\\Program Files\\Anaconda2\\lib\\site-packages\\ipykernel\\__main__.py:17: FutureWarning: sort is deprecated, use sort_values(inplace=True) for INPLACE sorting\n"
     ]
    },
    {
     "data": {
      "text/plain": [
       "country\n",
       "Afghanistan             28590191083\n",
       "Asia (not specified)    15560857192\n",
       "Brazil                  15157110184\n",
       "Bangladesh              12811248174\n",
       "Bolivia                  9569419419\n",
       "Austria                  8986074931\n",
       "Belgium                  4774177381\n",
       "Bosnia & Herzegovina     2448231674\n",
       "Armenia                  2214524971\n",
       "Angola                   2044264334\n",
       "Name: amount, dtype: int64"
      ]
     },
     "execution_count": 36,
     "metadata": {},
     "output_type": "execute_result"
    },
    {
     "data": {
      "image/png": "[encoded data removed]",
      "text/plain": [
       "<matplotlib.figure.Figure at 0x8a892e8>"
      ]
     },
     "metadata": {},
     "output_type": "display_data"
    }
   ],
   "source": [
    "# Create groups based on unit:\n",
    "currencywise = data.groupby(\"unit\")\n",
    "print currencywise.indices\n",
    "print currencywise.describe()\n",
    "print \"----------------\"\n",
    "\n",
    "\n",
    "# Each group is a DataFrame:\n",
    "constantdollars = currencywise.get_group(\"Constant 2011 $US\")\n",
    "print type(constantdollars)\n",
    "print \"----------------\"\n",
    "\n",
    "\n",
    "# Now we group by country:\n",
    "percountry2 = constantdollars.groupby(\"country\")\n",
    "final = percountry2[\"amount\"].sum()\n",
    "final.sort(ascending=False)\n",
    "print len(final)\n",
    "final.head(10).plot(kind=\"bar\")\n",
    "final.head(10)"
   ]
  },
  {
   "cell_type": "markdown",
   "metadata": {},
   "source": [
    "## Analyzing the type of assistance"
   ]
  },
  {
   "cell_type": "markdown",
   "metadata": {},
   "source": [
    "We can get the different types of assistance:"
   ]
  },
  {
   "cell_type": "code",
   "execution_count": 37,
   "metadata": {
    "collapsed": false
   },
   "outputs": [
    {
     "name": "stdout",
     "output_type": "stream",
     "text": [
      "<type 'numpy.ndarray'>\n",
      "21\n"
     ]
    },
    {
     "data": {
      "text/plain": [
       "array(['Child Survival and Health',\n",
       "       'Department of Defense Security Assistance',\n",
       "       'Development Assistance',\n",
       "       'Economic Support Fund/Security Support Assistance',\n",
       "       'Food For Education', 'Global HIV/AIDS Initiative',\n",
       "       'Global Health and Child Survival', 'Inactive Programs',\n",
       "       'Migration and Refugee Assistance', 'Narcotics Control',\n",
       "       'Nonproliferation, Anti-Terrorism, Demining and Related',\n",
       "       'Other Active Grant Programs', 'Other Food Aid Programs',\n",
       "       'Other State Assistance', 'Other USAID Assistance',\n",
       "       'Other USDA Assistance', 'Peace Corps', 'Title I', 'Title II',\n",
       "       'Millennium Challenge Corporation',\n",
       "       'Voluntary Contributions to Multilateral Organizations, Total'], dtype=object)"
      ]
     },
     "execution_count": 37,
     "metadata": {},
     "output_type": "execute_result"
    }
   ],
   "source": [
    "programs = data[\"program\"].unique()\n",
    "print type(programs)\n",
    "print len(programs)\n",
    "programs"
   ]
  },
  {
   "cell_type": "code",
   "execution_count": 38,
   "metadata": {
    "collapsed": false
   },
   "outputs": [
    {
     "name": "stderr",
     "output_type": "stream",
     "text": [
      "C:\\Program Files\\Anaconda2\\lib\\site-packages\\ipykernel\\__main__.py:4: FutureWarning: sort is deprecated, use sort_values(inplace=True) for INPLACE sorting\n"
     ]
    },
    {
     "data": {
      "text/plain": [
       "program\n",
       "Other USAID Assistance                                          51985444345\n",
       "Economic Support Fund/Security Support Assistance               40940488143\n",
       "Title II                                                        17942727220\n",
       "Title I                                                         12525792327\n",
       "Narcotics Control                                                9986684477\n",
       "Inactive Programs                                                7423651460\n",
       "Department of Defense Security Assistance                        6170454601\n",
       "Development Assistance                                           5439410452\n",
       "Voluntary Contributions to Multilateral Organizations, Total     3481346325\n",
       "Other Food Aid Programs                                          3116251633\n",
       "Global Health and Child Survival                                 2936038170\n",
       "Migration and Refugee Assistance                                 2822740225\n",
       "Other Active Grant Programs                                      2250997710\n",
       "Millennium Challenge Corporation                                 2231246066\n",
       "Child Survival and Health                                        2063446286\n",
       "Peace Corps                                                      1660658708\n",
       "Nonproliferation, Anti-Terrorism, Demining and Related           1414138795\n",
       "Other State Assistance                                            620595250\n",
       "Global HIV/AIDS Initiative                                        331200537\n",
       "Other USDA Assistance                                             273243092\n",
       "Food For Education                                                182997541\n",
       "Name: amount, dtype: int64"
      ]
     },
     "execution_count": 38,
     "metadata": {},
     "output_type": "execute_result"
    }
   ],
   "source": [
    "byprogram = data.groupby(\"program\")\n",
    "len(byprogram)\n",
    "amountbyprogram = byprogram[\"amount\"].sum()\n",
    "amountbyprogram.sort(ascending=False)\n",
    "amountbyprogram"
   ]
  },
  {
   "cell_type": "code",
   "execution_count": 39,
   "metadata": {
    "collapsed": false
   },
   "outputs": [
    {
     "data": {
      "text/plain": [
       "program\n",
       "Other USAID Assistance                               51985444345\n",
       "Economic Support Fund/Security Support Assistance    40940488143\n",
       "Title II                                             17942727220\n",
       "Title I                                              12525792327\n",
       "Narcotics Control                                     9986684477\n",
       "Inactive Programs                                     7423651460\n",
       "Name: amount, dtype: int64"
      ]
     },
     "execution_count": 39,
     "metadata": {},
     "output_type": "execute_result"
    }
   ],
   "source": [
    "sixtop = amountbyprogram[:6]\n",
    "sixtop"
   ]
  },
  {
   "cell_type": "code",
   "execution_count": 40,
   "metadata": {
    "collapsed": false
   },
   "outputs": [
    {
     "data": {
      "image/png": "[encoded data removed]",
      "text/plain": [
       "<matplotlib.figure.Figure at 0x837e080>"
      ]
     },
     "metadata": {},
     "output_type": "display_data"
    }
   ],
   "source": [
    "\n",
    "names = [name[:12]+\".\" for name in list(sixtop.index)]\n",
    "pos = range(len(sixtop))\n",
    "\n",
    "\n",
    "import matplotlib.pyplot as plt\n",
    "line = plt.bar(pos, sixtop, color=\"r\")\n",
    "plt.xticks(pos, names, rotation=40)\n",
    "plt.title(\"Top six programs\")\n",
    "plt.ylabel(\"amount $\")\n",
    "plt.savefig(\"programs.jpg\", bbox_size=200)"
   ]
  },
  {
   "cell_type": "code",
   "execution_count": null,
   "metadata": {
    "collapsed": false
   },
   "outputs": [],
   "source": []
  }
 ],
 "metadata": {
  "anaconda-cloud": {},
  "kernelspec": {
   "display_name": "Python [conda root]",
   "language": "python",
   "name": "conda-root-py"
  },
  "language_info": {
   "codemirror_mode": {
    "name": "ipython",
    "version": 2
   },
   "file_extension": ".py",
   "mimetype": "text/x-python",
   "name": "python",
   "nbconvert_exporter": "python",
   "pygments_lexer": "ipython2",
   "version": "2.7.12"
  }
 },
 "nbformat": 4,
 "nbformat_minor": 0
}
