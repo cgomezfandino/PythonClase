{
 "cells": [
  {
   "cell_type": "markdown",
   "metadata": {},
   "source": [
    "# Prueba de consolidación I\n",
    "\n",
    "Entornos de data science con Python\n",
    "# Parte 1"
   ]
  },
  {
   "cell_type": "markdown",
   "metadata": {},
   "source": [
    "En esta primera parte trabajaremos con ficheros de la iniciativa de datos abiertos del Gobierno británico. Pueden consultarse aquí: <https://www.data.gov.uk/dataset/broadband-coverage>\n",
    "Si descargamos el fichero etiquetado como csv/zip denominado \"Broadband Coverage and speeds (postcode level data)\" y lo descomprimimos tendremos el dataset en dos fragmentos y la descripción del mismo."
   ]
  },
  {
   "cell_type": "markdown",
   "metadata": {},
   "source": [
    "### 1.1. Lectura de datos\n",
    "- Carga los datos como un DataFrame fusionando los dos ficheros en uno solo."
   ]
  },
  {
   "cell_type": "code",
   "execution_count": 10,
   "metadata": {
    "collapsed": false
   },
   "outputs": [
    {
     "ename": "IOError",
     "evalue": "File /home/oscar/MASTER_BIG_DATA/4_ENTORNOS_DATA_SCIENCE_python/Ejercicio_de_Consolidacion/ofcom-uk-fixed-broadband-postcode-level-data-2013/ofcom-part1-fixed-broadband-postcode-level-data-2013.csv does not exist",
     "output_type": "error",
     "traceback": [
      "\u001b[0;31m---------------------------------------------------------------------------\u001b[0m",
      "\u001b[0;31mIOError\u001b[0m                                   Traceback (most recent call last)",
      "\u001b[0;32m<ipython-input-10-ad7a14552ca2>\u001b[0m in \u001b[0;36m<module>\u001b[0;34m()\u001b[0m\n\u001b[1;32m      3\u001b[0m \u001b[1;31m#asignando ruta donde han de estar los archivos; ofcom-part1-fixed-broadband-postcode-level-data-2013.csv y ofcom-part2-fixed-broadband-postcode-level-data-2013.csv\u001b[0m\u001b[1;33m\u001b[0m\u001b[1;33m\u001b[0m\u001b[0m\n\u001b[1;32m      4\u001b[0m \u001b[0mpath\u001b[0m\u001b[1;33m=\u001b[0m\u001b[1;34m\"/home/oscar/MASTER_BIG_DATA/4_ENTORNOS_DATA_SCIENCE_python/Ejercicio_de_Consolidacion/ofcom-uk-fixed-broadband-postcode-level-data-2013/\"\u001b[0m\u001b[1;33m\u001b[0m\u001b[0m\n\u001b[0;32m----> 5\u001b[0;31m \u001b[0mdata_file_1\u001b[0m \u001b[1;33m=\u001b[0m \u001b[0mpd\u001b[0m\u001b[1;33m.\u001b[0m\u001b[0mread_csv\u001b[0m\u001b[1;33m(\u001b[0m\u001b[0mpath\u001b[0m\u001b[1;33m+\u001b[0m\u001b[1;34m\"ofcom-part1-fixed-broadband-postcode-level-data-2013.csv\"\u001b[0m\u001b[1;33m)\u001b[0m\u001b[1;33m\u001b[0m\u001b[0m\n\u001b[0m\u001b[1;32m      6\u001b[0m \u001b[1;33m\u001b[0m\u001b[0m\n\u001b[1;32m      7\u001b[0m \u001b[1;31m#evaluando numero de filas y columnas de los datos cargados de cada archivo\u001b[0m\u001b[1;33m\u001b[0m\u001b[1;33m\u001b[0m\u001b[0m\n",
      "\u001b[0;32mC:\\Program Files\\Anaconda2\\lib\\site-packages\\pandas\\io\\parsers.py\u001b[0m in \u001b[0;36mparser_f\u001b[0;34m(filepath_or_buffer, sep, delimiter, header, names, index_col, usecols, squeeze, prefix, mangle_dupe_cols, dtype, engine, converters, true_values, false_values, skipinitialspace, skiprows, skipfooter, nrows, na_values, keep_default_na, na_filter, verbose, skip_blank_lines, parse_dates, infer_datetime_format, keep_date_col, date_parser, dayfirst, iterator, chunksize, compression, thousands, decimal, lineterminator, quotechar, quoting, escapechar, comment, encoding, dialect, tupleize_cols, error_bad_lines, warn_bad_lines, skip_footer, doublequote, delim_whitespace, as_recarray, compact_ints, use_unsigned, low_memory, buffer_lines, memory_map, float_precision)\u001b[0m\n\u001b[1;32m    560\u001b[0m                     skip_blank_lines=skip_blank_lines)\n\u001b[1;32m    561\u001b[0m \u001b[1;33m\u001b[0m\u001b[0m\n\u001b[0;32m--> 562\u001b[0;31m         \u001b[1;32mreturn\u001b[0m \u001b[0m_read\u001b[0m\u001b[1;33m(\u001b[0m\u001b[0mfilepath_or_buffer\u001b[0m\u001b[1;33m,\u001b[0m \u001b[0mkwds\u001b[0m\u001b[1;33m)\u001b[0m\u001b[1;33m\u001b[0m\u001b[0m\n\u001b[0m\u001b[1;32m    563\u001b[0m \u001b[1;33m\u001b[0m\u001b[0m\n\u001b[1;32m    564\u001b[0m     \u001b[0mparser_f\u001b[0m\u001b[1;33m.\u001b[0m\u001b[0m__name__\u001b[0m \u001b[1;33m=\u001b[0m \u001b[0mname\u001b[0m\u001b[1;33m\u001b[0m\u001b[0m\n",
      "\u001b[0;32mC:\\Program Files\\Anaconda2\\lib\\site-packages\\pandas\\io\\parsers.py\u001b[0m in \u001b[0;36m_read\u001b[0;34m(filepath_or_buffer, kwds)\u001b[0m\n\u001b[1;32m    313\u001b[0m \u001b[1;33m\u001b[0m\u001b[0m\n\u001b[1;32m    314\u001b[0m     \u001b[1;31m# Create the parser.\u001b[0m\u001b[1;33m\u001b[0m\u001b[1;33m\u001b[0m\u001b[0m\n\u001b[0;32m--> 315\u001b[0;31m     \u001b[0mparser\u001b[0m \u001b[1;33m=\u001b[0m \u001b[0mTextFileReader\u001b[0m\u001b[1;33m(\u001b[0m\u001b[0mfilepath_or_buffer\u001b[0m\u001b[1;33m,\u001b[0m \u001b[1;33m**\u001b[0m\u001b[0mkwds\u001b[0m\u001b[1;33m)\u001b[0m\u001b[1;33m\u001b[0m\u001b[0m\n\u001b[0m\u001b[1;32m    316\u001b[0m \u001b[1;33m\u001b[0m\u001b[0m\n\u001b[1;32m    317\u001b[0m     \u001b[1;32mif\u001b[0m \u001b[1;33m(\u001b[0m\u001b[0mnrows\u001b[0m \u001b[1;32mis\u001b[0m \u001b[1;32mnot\u001b[0m \u001b[0mNone\u001b[0m\u001b[1;33m)\u001b[0m \u001b[1;32mand\u001b[0m \u001b[1;33m(\u001b[0m\u001b[0mchunksize\u001b[0m \u001b[1;32mis\u001b[0m \u001b[1;32mnot\u001b[0m \u001b[0mNone\u001b[0m\u001b[1;33m)\u001b[0m\u001b[1;33m:\u001b[0m\u001b[1;33m\u001b[0m\u001b[0m\n",
      "\u001b[0;32mC:\\Program Files\\Anaconda2\\lib\\site-packages\\pandas\\io\\parsers.py\u001b[0m in \u001b[0;36m__init__\u001b[0;34m(self, f, engine, **kwds)\u001b[0m\n\u001b[1;32m    643\u001b[0m             \u001b[0mself\u001b[0m\u001b[1;33m.\u001b[0m\u001b[0moptions\u001b[0m\u001b[1;33m[\u001b[0m\u001b[1;34m'has_index_names'\u001b[0m\u001b[1;33m]\u001b[0m \u001b[1;33m=\u001b[0m \u001b[0mkwds\u001b[0m\u001b[1;33m[\u001b[0m\u001b[1;34m'has_index_names'\u001b[0m\u001b[1;33m]\u001b[0m\u001b[1;33m\u001b[0m\u001b[0m\n\u001b[1;32m    644\u001b[0m \u001b[1;33m\u001b[0m\u001b[0m\n\u001b[0;32m--> 645\u001b[0;31m         \u001b[0mself\u001b[0m\u001b[1;33m.\u001b[0m\u001b[0m_make_engine\u001b[0m\u001b[1;33m(\u001b[0m\u001b[0mself\u001b[0m\u001b[1;33m.\u001b[0m\u001b[0mengine\u001b[0m\u001b[1;33m)\u001b[0m\u001b[1;33m\u001b[0m\u001b[0m\n\u001b[0m\u001b[1;32m    646\u001b[0m \u001b[1;33m\u001b[0m\u001b[0m\n\u001b[1;32m    647\u001b[0m     \u001b[1;32mdef\u001b[0m \u001b[0mclose\u001b[0m\u001b[1;33m(\u001b[0m\u001b[0mself\u001b[0m\u001b[1;33m)\u001b[0m\u001b[1;33m:\u001b[0m\u001b[1;33m\u001b[0m\u001b[0m\n",
      "\u001b[0;32mC:\\Program Files\\Anaconda2\\lib\\site-packages\\pandas\\io\\parsers.py\u001b[0m in \u001b[0;36m_make_engine\u001b[0;34m(self, engine)\u001b[0m\n\u001b[1;32m    797\u001b[0m     \u001b[1;32mdef\u001b[0m \u001b[0m_make_engine\u001b[0m\u001b[1;33m(\u001b[0m\u001b[0mself\u001b[0m\u001b[1;33m,\u001b[0m \u001b[0mengine\u001b[0m\u001b[1;33m=\u001b[0m\u001b[1;34m'c'\u001b[0m\u001b[1;33m)\u001b[0m\u001b[1;33m:\u001b[0m\u001b[1;33m\u001b[0m\u001b[0m\n\u001b[1;32m    798\u001b[0m         \u001b[1;32mif\u001b[0m \u001b[0mengine\u001b[0m \u001b[1;33m==\u001b[0m \u001b[1;34m'c'\u001b[0m\u001b[1;33m:\u001b[0m\u001b[1;33m\u001b[0m\u001b[0m\n\u001b[0;32m--> 799\u001b[0;31m             \u001b[0mself\u001b[0m\u001b[1;33m.\u001b[0m\u001b[0m_engine\u001b[0m \u001b[1;33m=\u001b[0m \u001b[0mCParserWrapper\u001b[0m\u001b[1;33m(\u001b[0m\u001b[0mself\u001b[0m\u001b[1;33m.\u001b[0m\u001b[0mf\u001b[0m\u001b[1;33m,\u001b[0m \u001b[1;33m**\u001b[0m\u001b[0mself\u001b[0m\u001b[1;33m.\u001b[0m\u001b[0moptions\u001b[0m\u001b[1;33m)\u001b[0m\u001b[1;33m\u001b[0m\u001b[0m\n\u001b[0m\u001b[1;32m    800\u001b[0m         \u001b[1;32melse\u001b[0m\u001b[1;33m:\u001b[0m\u001b[1;33m\u001b[0m\u001b[0m\n\u001b[1;32m    801\u001b[0m             \u001b[1;32mif\u001b[0m \u001b[0mengine\u001b[0m \u001b[1;33m==\u001b[0m \u001b[1;34m'python'\u001b[0m\u001b[1;33m:\u001b[0m\u001b[1;33m\u001b[0m\u001b[0m\n",
      "\u001b[0;32mC:\\Program Files\\Anaconda2\\lib\\site-packages\\pandas\\io\\parsers.py\u001b[0m in \u001b[0;36m__init__\u001b[0;34m(self, src, **kwds)\u001b[0m\n\u001b[1;32m   1211\u001b[0m         \u001b[0mkwds\u001b[0m\u001b[1;33m[\u001b[0m\u001b[1;34m'allow_leading_cols'\u001b[0m\u001b[1;33m]\u001b[0m \u001b[1;33m=\u001b[0m \u001b[0mself\u001b[0m\u001b[1;33m.\u001b[0m\u001b[0mindex_col\u001b[0m \u001b[1;32mis\u001b[0m \u001b[1;32mnot\u001b[0m \u001b[0mFalse\u001b[0m\u001b[1;33m\u001b[0m\u001b[0m\n\u001b[1;32m   1212\u001b[0m \u001b[1;33m\u001b[0m\u001b[0m\n\u001b[0;32m-> 1213\u001b[0;31m         \u001b[0mself\u001b[0m\u001b[1;33m.\u001b[0m\u001b[0m_reader\u001b[0m \u001b[1;33m=\u001b[0m \u001b[0m_parser\u001b[0m\u001b[1;33m.\u001b[0m\u001b[0mTextReader\u001b[0m\u001b[1;33m(\u001b[0m\u001b[0msrc\u001b[0m\u001b[1;33m,\u001b[0m \u001b[1;33m**\u001b[0m\u001b[0mkwds\u001b[0m\u001b[1;33m)\u001b[0m\u001b[1;33m\u001b[0m\u001b[0m\n\u001b[0m\u001b[1;32m   1214\u001b[0m \u001b[1;33m\u001b[0m\u001b[0m\n\u001b[1;32m   1215\u001b[0m         \u001b[1;31m# XXX\u001b[0m\u001b[1;33m\u001b[0m\u001b[1;33m\u001b[0m\u001b[0m\n",
      "\u001b[0;32mpandas\\parser.pyx\u001b[0m in \u001b[0;36mpandas.parser.TextReader.__cinit__ (pandas\\parser.c:3427)\u001b[0;34m()\u001b[0m\n",
      "\u001b[0;32mpandas\\parser.pyx\u001b[0m in \u001b[0;36mpandas.parser.TextReader._setup_parser_source (pandas\\parser.c:6861)\u001b[0;34m()\u001b[0m\n",
      "\u001b[0;31mIOError\u001b[0m: File /home/oscar/MASTER_BIG_DATA/4_ENTORNOS_DATA_SCIENCE_python/Ejercicio_de_Consolidacion/ofcom-uk-fixed-broadband-postcode-level-data-2013/ofcom-part1-fixed-broadband-postcode-level-data-2013.csv does not exist"
     ]
    }
   ],
   "source": [
    "import numpy as np\n",
    "import pandas as pd\n",
    "#asignando ruta donde han de estar los archivos; ofcom-part1-fixed-broadband-postcode-level-data-2013.csv y ofcom-part2-fixed-broadband-postcode-level-data-2013.csv\n",
    "path=\"/home/oscar/MASTER_BIG_DATA/4_ENTORNOS_DATA_SCIENCE_python/Ejercicio_de_Consolidacion/ofcom-uk-fixed-broadband-postcode-level-data-2013/\"\n",
    "data_file_1 = pd.read_csv(path+\"ofcom-part1-fixed-broadband-postcode-level-data-2013.csv\")\n",
    "\n",
    "#evaluando numero de filas y columnas de los datos cargados de cada archivo\n",
    "print data_file_1.shape\n",
    "data_file_2 = pd.read_csv(path+\"ofcom-part2-fixed-broadband-postcode-level-data-2013.csv\")\n",
    "print data_file_2.shape"
   ]
  },
  {
   "cell_type": "code",
   "execution_count": 9,
   "metadata": {
    "collapsed": false
   },
   "outputs": [
    {
     "ename": "NameError",
     "evalue": "name 'data_file_1' is not defined",
     "output_type": "error",
     "traceback": [
      "\u001b[0;31m---------------------------------------------------------------------------\u001b[0m",
      "\u001b[0;31mNameError\u001b[0m                                 Traceback (most recent call last)",
      "\u001b[0;32m<ipython-input-9-feb4c20c00c7>\u001b[0m in \u001b[0;36m<module>\u001b[0;34m()\u001b[0m\n\u001b[1;32m      1\u001b[0m \u001b[1;31m#Fusionando datos en dos ficheros en un DataFrame.\u001b[0m\u001b[1;33m\u001b[0m\u001b[1;33m\u001b[0m\u001b[0m\n\u001b[0;32m----> 2\u001b[0;31m \u001b[0muk_data\u001b[0m\u001b[1;33m=\u001b[0m\u001b[0mdata_file_1\u001b[0m\u001b[1;33m.\u001b[0m\u001b[0mappend\u001b[0m\u001b[1;33m(\u001b[0m\u001b[0mdata_file_2\u001b[0m\u001b[1;33m)\u001b[0m\u001b[1;33m\u001b[0m\u001b[0m\n\u001b[0m\u001b[1;32m      3\u001b[0m \u001b[1;32mprint\u001b[0m \u001b[0muk_data\u001b[0m\u001b[1;33m.\u001b[0m\u001b[0mshape\u001b[0m\u001b[1;33m\u001b[0m\u001b[0m\n",
      "\u001b[0;31mNameError\u001b[0m: name 'data_file_1' is not defined"
     ]
    }
   ],
   "source": [
    "#Fusionando datos en dos ficheros en un DataFrame.\n",
    "uk_data=data_file_1.append(data_file_2)\n",
    "print uk_data.shape"
   ]
  },
  {
   "cell_type": "markdown",
   "metadata": {},
   "source": [
    "- Renombra la primera columna para hacerla más corta (investiga alguna función para renombrar en pandas)."
   ]
  },
  {
   "cell_type": "code",
   "execution_count": null,
   "metadata": {
    "collapsed": false
   },
   "outputs": [],
   "source": [
    "uk_data.columns"
   ]
  },
  {
   "cell_type": "code",
   "execution_count": null,
   "metadata": {
    "collapsed": false
   },
   "outputs": [],
   "source": [
    "#renombrando primera columna y columnas con espacios y caracteres especiales\n",
    "uk_data = uk_data.rename(columns={'Postcode(No Spaces) ': 'post_code'\n",
    "                            , ' Postcode Data Status ': 'post_code_st'\n",
    "                            , ' Lines < 2Mbps(Y/N) ': 'lines_lt_2mbps'\n",
    "                            , ' Average Speed/Mbps ': 'avg_speed'\n",
    "                            , ' Median Speed/Mbps ': 'median_speed'\n",
    "                            , ' Maximum Speed/Mbps': 'max_speed'\n",
    "                            , ' NGA Available(Y/N) ': 'nga_available'\n",
    "                            , 'Number of Connections': 'num_conn'})\n"
   ]
  },
  {
   "cell_type": "code",
   "execution_count": null,
   "metadata": {
    "collapsed": false
   },
   "outputs": [],
   "source": [
    "uk_data.head()"
   ]
  },
  {
   "cell_type": "markdown",
   "metadata": {},
   "source": [
    "### 1.2. Limpieza de datos\n",
    "- Observa los valores faltantes (¿en qué columnas están?), cuantifícalos (¿cuántos hay en cada columna?). Pista: la función np.unique() puede darnos ayuda en esto."
   ]
  },
  {
   "cell_type": "code",
   "execution_count": null,
   "metadata": {
    "collapsed": false
   },
   "outputs": [],
   "source": [
    "#valores nulos\n",
    "uk_data.isnull().sum()\n",
    "#uk_data.notnull().all()\n",
    "#print np.unique(uk_data.post_code)\n",
    "#print np.unique(uk_data.post_code_st)\n",
    "#print np.unique(uk_data.lines_lt_2mbps)\n",
    "#print np.unique(uk_data.avg_speed)\n",
    "#print np.unique(uk_data.median_speed)\n",
    "#print np.unique(uk_data.max_speed)\n",
    "#print np.unique(uk_data.nga_available)\n",
    "#print np.unique(uk_data.num_conn)"
   ]
  },
  {
   "cell_type": "markdown",
   "metadata": {},
   "source": [
    "¿en qué columnas están?\n",
    "- RTA: las columnas: lines_lt_2mbps, avg_speed, median_speed y max_speed, tienen valores nulos\n",
    "¿cuántos hay en cada columna?\n",
    "- RTA: hay 588441 en cada columna (lines_lt_2mbps, avg_speed, median_speed y max_speed)"
   ]
  },
  {
   "cell_type": "markdown",
   "metadata": {},
   "source": [
    "- Cuenta cuántas filas quitamos si eliminamos todas las filas con algún valor faltante, o con al menos tres valores faltantes."
   ]
  },
  {
   "cell_type": "code",
   "execution_count": null,
   "metadata": {
    "collapsed": false
   },
   "outputs": [],
   "source": [
    "#numero de filas con algun valor faltante\n",
    "print (uk_data.isnull().any(axis=1).sum())\n",
    "#numero de filas con al menos tres valores faltantes\n",
    "print (sum(uk_data.isnull().sum(axis=1)>3))"
   ]
  },
  {
   "cell_type": "markdown",
   "metadata": {
    "collapsed": true
   },
   "source": [
    "### 1.3. Procesamiento\n",
    "- Extrae las variables que refieren a la velocidad media, mediana y máxima y el código postal a una matriz de NumPy. "
   ]
  },
  {
   "cell_type": "code",
   "execution_count": null,
   "metadata": {
    "collapsed": false
   },
   "outputs": [],
   "source": [
    "cols=[\"avg_speed\",\"median_speed\",\"max_speed\",\"post_code\"]\n",
    "m_data=uk_data[cols].as_matrix()\n",
    "print type(m_data)\n",
    "m_data"
   ]
  },
  {
   "cell_type": "markdown",
   "metadata": {},
   "source": [
    "El siguiente código permite convertir una de las columnas a numérico (suponemos que m es la matriz del punto anterior):"
   ]
  },
  {
   "cell_type": "code",
   "execution_count": null,
   "metadata": {
    "collapsed": false
   },
   "outputs": [],
   "source": [
    "def isFloat(string):\n",
    "    try:         \n",
    "       float(string)         \n",
    "       return True     \n",
    "    except ValueError:         \n",
    "       return False \n",
    "\n",
    "vec = [] \n",
    "for i in np.asarray(m_data[:, 1]):     \n",
    "   if isFloat(i):\n",
    "    vec.append(float(i))\n",
    "vec[20:30]"
   ]
  },
  {
   "cell_type": "markdown",
   "metadata": {},
   "source": [
    "- Basándote en la idea del código anterior, calcula la diferencia en valor absoluto entre la media de la velocidad y el valor 3.0  por cada código postal, utilizando arrays de NumPy. Nota: No todos los valores son convertibles, por lo que no se aplicará a todas las filas."
   ]
  },
  {
   "cell_type": "code",
   "execution_count": null,
   "metadata": {
    "collapsed": false
   },
   "outputs": [],
   "source": [
    "import math\n",
    "vec2 = [] \n",
    "for i in np.asarray(m_data[:, 2]):     \n",
    "   if isFloat(i):\n",
    "    if not math.isnan(float(i)):\n",
    "        vec2.append(abs(float(i)-3.0))\n",
    "   #else:\n",
    "   # vec2.append(i)\n",
    "print vec2[0:100]\n"
   ]
  },
  {
   "cell_type": "markdown",
   "metadata": {},
   "source": [
    "- Y dibuja un boxplot de la velocidad media para los datos que pueden convertirse a float con la función isFloat (ignora el resto), previamente tomando los primeros 3000 valores y partiendo el array en tres trozos, formando una matriz con tres subseries de 1000 datos cada una."
   ]
  },
  {
   "cell_type": "code",
   "execution_count": null,
   "metadata": {
    "collapsed": false
   },
   "outputs": [],
   "source": [
    "#vec2=filter(lambda v: v==v, vec2)\n",
    "#matrix_sub = np.asmatrix(np.array([vec2[0: 999], vec2[1000: 1999], vec2[2000:2999]]))\n",
    "\n",
    "import matplotlib.pyplot as plt\n",
    "%matplotlib inline\n",
    "\n",
    "collectn_1 = vec2[0: 999]\n",
    "collectn_2 = vec2[1000: 1999]\n",
    "collectn_3 = vec2[2000:2999]\n",
    "   \n",
    "data_to_plot = [collectn_1, collectn_2, collectn_3]\n",
    "\n",
    "plt.boxplot(data_to_plot)\n",
    "plt.show()"
   ]
  },
  {
   "cell_type": "markdown",
   "metadata": {
    "collapsed": true
   },
   "source": [
    "# Parte 2\n",
    "En esta segunda parte trabajaremos con un dataset de R que describe las características físicas de un conjunto de diamantes. Puede obtenerse de Internet.\n",
    "- Calcula los valores máximo, mínimo y medio de la variable carat."
   ]
  },
  {
   "cell_type": "code",
   "execution_count": null,
   "metadata": {
    "collapsed": false
   },
   "outputs": [],
   "source": [
    "#asignando ruta donde han de estar el archivo\n",
    "path=\"/home/oscar/MASTER_BIG_DATA/4_ENTORNOS_DATA_SCIENCE_python/Ejercicio_de_Consolidacion/\"\n",
    "diamonds_df = pd.read_csv(path+\"diamonds.csv\")\n",
    "\n",
    "# valores máximo, mínimo y medio de la variable carat.\n",
    "print max(diamonds_df.carat)\n",
    "print min(diamonds_df.carat)\n",
    "print diamonds_df.carat.mean()\n",
    " # Desviación típica\n",
    "print np.std(diamonds_df.carat)\n",
    "print len(diamonds_df.carat)"
   ]
  },
  {
   "cell_type": "markdown",
   "metadata": {},
   "source": [
    "- Dibuja su histograma y sobre el mismo gráfico, el histograma de una muestra aleatoria del mismo tamaño con puntos obtenidos de una distribución gamma con la misma media y desviación típica. Haz que la visualización sea más adecuada haciendo transparente uno de los histogramas utilizando el parámetro alpha."
   ]
  },
  {
   "cell_type": "code",
   "execution_count": null,
   "metadata": {
    "collapsed": false
   },
   "outputs": [],
   "source": [
    "plt.hist(diamonds_df.carat,alpha=0.3,color=\"r\")\n",
    "\n",
    "shape = diamonds_df.carat.mean() # media\n",
    "scale = np.std(diamonds_df.carat) # dispercion\n",
    "size = len(diamonds_df.carat) # tamaño muestra \n",
    "random_gamma = np.random.gamma(shape, scale, size)\n",
    "\n",
    "plt.hist(random_gamma,alpha=0.2,color=\"b\")\n",
    "\n",
    "plt.show()"
   ]
  },
  {
   "cell_type": "markdown",
   "metadata": {},
   "source": [
    "- Utilizando matplotlib, dibuja la nube de puntos de carat contra el precio, con ambos ejes en escala logarítmica."
   ]
  },
  {
   "cell_type": "code",
   "execution_count": null,
   "metadata": {
    "collapsed": false
   },
   "outputs": [],
   "source": [
    "plt.scatter(np.log(diamonds_df.carat),np.log(diamonds_df.price),alpha=0.1)\n",
    "plt.show()"
   ]
  },
  {
   "cell_type": "markdown",
   "metadata": {},
   "source": [
    "- Ahora repite el gráfico pero utiliza solo los datos cuyo color sea \"E\" y su claridad sea \"SI1\""
   ]
  },
  {
   "cell_type": "code",
   "execution_count": null,
   "metadata": {
    "collapsed": false,
    "scrolled": true
   },
   "outputs": [],
   "source": [
    "new_diamonds_df = diamonds_df.loc[((diamonds_df.color==\"E\")&(diamonds_df.clarity==\"SI1\")),:]\n",
    "plt.scatter(np.log(new_diamonds_df.carat),np.log(new_diamonds_df.price),alpha=0.3)\n",
    "plt.show()"
   ]
  },
  {
   "cell_type": "markdown",
   "metadata": {},
   "source": [
    "- Investiga con un gráfico la relación entre el volumen (que puedes aproximar a partir de x, y, z) y el precio, de nuevo en escala logarítmica."
   ]
  },
  {
   "cell_type": "code",
   "execution_count": 3,
   "metadata": {
    "collapsed": false
   },
   "outputs": [
    {
     "ename": "NameError",
     "evalue": "name 'diamonds_df' is not defined",
     "output_type": "error",
     "traceback": [
      "\u001b[0;31m---------------------------------------------------------------------------\u001b[0m",
      "\u001b[0;31mNameError\u001b[0m                                 Traceback (most recent call last)",
      "\u001b[0;32m<ipython-input-3-95f8a069b33f>\u001b[0m in \u001b[0;36m<module>\u001b[0;34m()\u001b[0m\n\u001b[0;32m----> 1\u001b[0;31m \u001b[0mvol\u001b[0m \u001b[1;33m=\u001b[0m \u001b[0mdiamonds_df\u001b[0m\u001b[1;33m.\u001b[0m\u001b[0mx\u001b[0m\u001b[1;33m*\u001b[0m\u001b[0mdiamonds_df\u001b[0m\u001b[1;33m.\u001b[0m\u001b[0my\u001b[0m\u001b[1;33m*\u001b[0m\u001b[0mdiamonds_df\u001b[0m\u001b[1;33m.\u001b[0m\u001b[0mz\u001b[0m\u001b[1;33m\u001b[0m\u001b[0m\n\u001b[0m\u001b[1;32m      2\u001b[0m \u001b[0mprice\u001b[0m \u001b[1;33m=\u001b[0m \u001b[0mdiamonds_df\u001b[0m\u001b[1;33m.\u001b[0m\u001b[0mprice\u001b[0m\u001b[1;33m\u001b[0m\u001b[0m\n\u001b[1;32m      3\u001b[0m \u001b[1;33m\u001b[0m\u001b[0m\n\u001b[1;32m      4\u001b[0m \u001b[0mplt\u001b[0m\u001b[1;33m.\u001b[0m\u001b[0mplot\u001b[0m\u001b[1;33m(\u001b[0m\u001b[0mnp\u001b[0m\u001b[1;33m.\u001b[0m\u001b[0mlog\u001b[0m\u001b[1;33m(\u001b[0m\u001b[0mvol\u001b[0m\u001b[1;33m)\u001b[0m\u001b[1;33m,\u001b[0m\u001b[0mcolor\u001b[0m \u001b[1;33m=\u001b[0m\u001b[1;34m\"b\"\u001b[0m\u001b[1;33m)\u001b[0m \u001b[1;31m# volumen\u001b[0m\u001b[1;33m\u001b[0m\u001b[0m\n\u001b[1;32m      5\u001b[0m \u001b[0mplt\u001b[0m\u001b[1;33m.\u001b[0m\u001b[0mplot\u001b[0m\u001b[1;33m(\u001b[0m\u001b[0mnp\u001b[0m\u001b[1;33m.\u001b[0m\u001b[0mlog\u001b[0m\u001b[1;33m(\u001b[0m\u001b[0mprice\u001b[0m\u001b[1;33m)\u001b[0m\u001b[1;33m,\u001b[0m\u001b[0mcolor\u001b[0m \u001b[1;33m=\u001b[0m \u001b[1;34m\"g\"\u001b[0m\u001b[1;33m)\u001b[0m \u001b[1;31m# precio\u001b[0m\u001b[1;33m\u001b[0m\u001b[0m\n",
      "\u001b[0;31mNameError\u001b[0m: name 'diamonds_df' is not defined"
     ]
    }
   ],
   "source": [
    "vol = diamonds_df.x*diamonds_df.y*diamonds_df.z\n",
    "price = diamonds_df.price\n",
    "\n",
    "plt.plot(np.log(vol),color =\"b\") # volumen\n",
    "plt.plot(np.log(price),color = \"g\") # precio\n",
    "plt.show()"
   ]
  },
  {
   "cell_type": "markdown",
   "metadata": {
    "collapsed": true
   },
   "source": [
    "- Utilizando scipy.stats, comprueba si la relación anterior se ajusta bien a un modelo de regresión lineal, tomando solo los 1000 primeros valores del dataset."
   ]
  },
  {
   "cell_type": "code",
   "execution_count": 4,
   "metadata": {
    "collapsed": false
   },
   "outputs": [
    {
     "ename": "NameError",
     "evalue": "name 'diamonds_df' is not defined",
     "output_type": "error",
     "traceback": [
      "\u001b[0;31m---------------------------------------------------------------------------\u001b[0m",
      "\u001b[0;31mNameError\u001b[0m                                 Traceback (most recent call last)",
      "\u001b[0;32m<ipython-input-4-fecc866d9b83>\u001b[0m in \u001b[0;36m<module>\u001b[0;34m()\u001b[0m\n\u001b[1;32m      1\u001b[0m \u001b[1;32mfrom\u001b[0m \u001b[0mscipy\u001b[0m\u001b[1;33m.\u001b[0m\u001b[0mstats\u001b[0m \u001b[1;32mimport\u001b[0m \u001b[0mlinregress\u001b[0m\u001b[1;33m\u001b[0m\u001b[0m\n\u001b[0;32m----> 2\u001b[0;31m \u001b[0mdiamonds_df_1000\u001b[0m\u001b[1;33m=\u001b[0m\u001b[0mdiamonds_df\u001b[0m\u001b[1;33m[\u001b[0m\u001b[1;33m:\u001b[0m\u001b[1;36m1000\u001b[0m\u001b[1;33m]\u001b[0m\u001b[1;33m\u001b[0m\u001b[0m\n\u001b[0m\u001b[1;32m      3\u001b[0m \u001b[1;33m\u001b[0m\u001b[0m\n\u001b[1;32m      4\u001b[0m \u001b[0mvol\u001b[0m \u001b[1;33m=\u001b[0m \u001b[1;33m(\u001b[0m\u001b[0mdiamonds_df_1000\u001b[0m\u001b[1;33m.\u001b[0m\u001b[0mx\u001b[0m\u001b[1;33m*\u001b[0m\u001b[0mdiamonds_df_1000\u001b[0m\u001b[1;33m.\u001b[0m\u001b[0my\u001b[0m\u001b[1;33m*\u001b[0m\u001b[0mdiamonds_df_1000\u001b[0m\u001b[1;33m.\u001b[0m\u001b[0mz\u001b[0m\u001b[1;33m)\u001b[0m\u001b[1;33m.\u001b[0m\u001b[0mastype\u001b[0m\u001b[1;33m(\u001b[0m\u001b[0mfloat\u001b[0m\u001b[1;33m)\u001b[0m\u001b[1;33m\u001b[0m\u001b[0m\n\u001b[1;32m      5\u001b[0m \u001b[0mprice\u001b[0m \u001b[1;33m=\u001b[0m \u001b[0mdiamonds_df_1000\u001b[0m\u001b[1;33m.\u001b[0m\u001b[0mprice\u001b[0m\u001b[1;33m.\u001b[0m\u001b[0mastype\u001b[0m\u001b[1;33m(\u001b[0m\u001b[0mfloat\u001b[0m\u001b[1;33m)\u001b[0m\u001b[1;33m\u001b[0m\u001b[0m\n",
      "\u001b[0;31mNameError\u001b[0m: name 'diamonds_df' is not defined"
     ]
    }
   ],
   "source": [
    "from scipy.stats import linregress\n",
    "diamonds_df_1000=diamonds_df[:1000]\n",
    "\n",
    "vol = (diamonds_df_1000.x*diamonds_df_1000.y*diamonds_df_1000.z).astype(float)\n",
    "price = diamonds_df_1000.price.astype(float)\n",
    "\n",
    "print linregress(vol,price)\n",
    "#linregress(x[, y])\n",
    "\n"
   ]
  },
  {
   "cell_type": "markdown",
   "metadata": {},
   "source": [
    "- Utilizando seaborn, representa la nube de puntos del precio contra el carat y asociando al diagrama las distribuciones de las dos variables"
   ]
  },
  {
   "cell_type": "code",
   "execution_count": 5,
   "metadata": {
    "collapsed": false,
    "scrolled": true
   },
   "outputs": [
    {
     "ename": "ImportError",
     "evalue": "No module named rcsetup",
     "output_type": "error",
     "traceback": [
      "\u001b[0;31m---------------------------------------------------------------------------\u001b[0m",
      "\u001b[0;31mImportError\u001b[0m                               Traceback (most recent call last)",
      "\u001b[0;32m<ipython-input-5-0322b834234f>\u001b[0m in \u001b[0;36m<module>\u001b[0;34m()\u001b[0m\n\u001b[0;32m----> 1\u001b[0;31m \u001b[1;32mimport\u001b[0m \u001b[0mseaborn\u001b[0m \u001b[1;32mas\u001b[0m \u001b[0msns\u001b[0m\u001b[1;33m\u001b[0m\u001b[0m\n\u001b[0m\u001b[1;32m      2\u001b[0m \u001b[0mcols\u001b[0m \u001b[1;33m=\u001b[0m \u001b[1;33m[\u001b[0m\u001b[1;34m\"carat\"\u001b[0m\u001b[1;33m,\u001b[0m \u001b[1;34m\"price\"\u001b[0m\u001b[1;33m]\u001b[0m\u001b[1;33m\u001b[0m\u001b[0m\n\u001b[1;32m      3\u001b[0m \u001b[0mdiamonds_df2\u001b[0m\u001b[1;33m=\u001b[0m\u001b[0mdiamonds_df\u001b[0m\u001b[1;33m[\u001b[0m\u001b[0mcols\u001b[0m\u001b[1;33m]\u001b[0m\u001b[1;33m\u001b[0m\u001b[0m\n\u001b[1;32m      4\u001b[0m \u001b[1;31m#sns.jointplot(x=diamonds_df.carat, y=diamonds_df.price, diamonds_df2=diamonds_df2, kind=\"kde\")\u001b[0m\u001b[1;33m\u001b[0m\u001b[1;33m\u001b[0m\u001b[0m\n\u001b[1;32m      5\u001b[0m \u001b[0msns\u001b[0m\u001b[1;33m.\u001b[0m\u001b[0mjointplot\u001b[0m\u001b[1;33m(\u001b[0m\u001b[0mx\u001b[0m\u001b[1;33m=\u001b[0m\u001b[1;34m\"carat\"\u001b[0m\u001b[1;33m,\u001b[0m \u001b[0my\u001b[0m\u001b[1;33m=\u001b[0m\u001b[1;34m\"price\"\u001b[0m\u001b[1;33m,\u001b[0m \u001b[0mdata\u001b[0m\u001b[1;33m=\u001b[0m\u001b[0mdiamonds_df2\u001b[0m\u001b[1;33m,\u001b[0m \u001b[0mkind\u001b[0m\u001b[1;33m=\u001b[0m\u001b[1;34m\"kde\"\u001b[0m\u001b[1;33m)\u001b[0m\u001b[1;33m\u001b[0m\u001b[0m\n",
      "\u001b[0;32mC:\\Program Files\\Anaconda2\\lib\\site-packages\\seaborn\\__init__.py\u001b[0m in \u001b[0;36m<module>\u001b[0;34m()\u001b[0m\n\u001b[1;32m      1\u001b[0m \u001b[1;31m# Capture the original matplotlib rcParams\u001b[0m\u001b[1;33m\u001b[0m\u001b[1;33m\u001b[0m\u001b[0m\n\u001b[0;32m----> 2\u001b[0;31m \u001b[1;32mimport\u001b[0m \u001b[0mmatplotlib\u001b[0m \u001b[1;32mas\u001b[0m \u001b[0mmpl\u001b[0m\u001b[1;33m\u001b[0m\u001b[0m\n\u001b[0m\u001b[1;32m      3\u001b[0m \u001b[0m_orig_rc_params\u001b[0m \u001b[1;33m=\u001b[0m \u001b[0mmpl\u001b[0m\u001b[1;33m.\u001b[0m\u001b[0mrcParams\u001b[0m\u001b[1;33m.\u001b[0m\u001b[0mcopy\u001b[0m\u001b[1;33m(\u001b[0m\u001b[1;33m)\u001b[0m\u001b[1;33m\u001b[0m\u001b[0m\n\u001b[1;32m      4\u001b[0m \u001b[1;33m\u001b[0m\u001b[0m\n\u001b[1;32m      5\u001b[0m \u001b[1;31m# Import seaborn objects\u001b[0m\u001b[1;33m\u001b[0m\u001b[1;33m\u001b[0m\u001b[0m\n",
      "\u001b[0;32mC:\\Program Files\\Anaconda2\\lib\\site-packages\\matplotlib\\__init__.py\u001b[0m in \u001b[0;36m<module>\u001b[0;34m()\u001b[0m\n\u001b[1;32m    122\u001b[0m \u001b[1;32mfrom\u001b[0m \u001b[0mmatplotlib\u001b[0m\u001b[1;33m.\u001b[0m\u001b[0mcbook\u001b[0m \u001b[1;32mimport\u001b[0m \u001b[0mis_string_like\u001b[0m\u001b[1;33m,\u001b[0m \u001b[0mmplDeprecation\u001b[0m\u001b[1;33m,\u001b[0m \u001b[0mdedent\u001b[0m\u001b[1;33m,\u001b[0m \u001b[0mget_label\u001b[0m\u001b[1;33m\u001b[0m\u001b[0m\n\u001b[1;32m    123\u001b[0m \u001b[1;32mfrom\u001b[0m \u001b[0mmatplotlib\u001b[0m\u001b[1;33m.\u001b[0m\u001b[0mcompat\u001b[0m \u001b[1;32mimport\u001b[0m \u001b[0msubprocess\u001b[0m\u001b[1;33m\u001b[0m\u001b[0m\n\u001b[0;32m--> 124\u001b[0;31m from matplotlib.rcsetup import (defaultParams,\n\u001b[0m\u001b[1;32m    125\u001b[0m                                 \u001b[0mvalidate_backend\u001b[0m\u001b[1;33m,\u001b[0m\u001b[1;33m\u001b[0m\u001b[0m\n\u001b[1;32m    126\u001b[0m                                 cycler)\n",
      "\u001b[0;31mImportError\u001b[0m: No module named rcsetup"
     ]
    }
   ],
   "source": [
    "import seaborn as sns\n",
    "cols = [\"carat\", \"price\"]\n",
    "diamonds_df2=diamonds_df[cols]\n",
    "#sns.jointplot(x=diamonds_df.carat, y=diamonds_df.price, diamonds_df2=diamonds_df2, kind=\"kde\")\n",
    "sns.jointplot(x=\"carat\", y=\"price\", data=diamonds_df2, kind=\"kde\")"
   ]
  },
  {
   "cell_type": "markdown",
   "metadata": {
    "collapsed": true
   },
   "source": [
    "- Identifica con un comando los diferentes tipos de corte (cut)."
   ]
  },
  {
   "cell_type": "code",
   "execution_count": 6,
   "metadata": {
    "collapsed": false
   },
   "outputs": [
    {
     "ename": "NameError",
     "evalue": "name 'diamonds_df' is not defined",
     "output_type": "error",
     "traceback": [
      "\u001b[0;31m---------------------------------------------------------------------------\u001b[0m",
      "\u001b[0;31mNameError\u001b[0m                                 Traceback (most recent call last)",
      "\u001b[0;32m<ipython-input-6-f342ea6a7855>\u001b[0m in \u001b[0;36m<module>\u001b[0;34m()\u001b[0m\n\u001b[0;32m----> 1\u001b[0;31m \u001b[1;32mprint\u001b[0m \u001b[0mdiamonds_df\u001b[0m\u001b[1;33m.\u001b[0m\u001b[0mcut\u001b[0m\u001b[1;33m.\u001b[0m\u001b[0munique\u001b[0m\u001b[1;33m(\u001b[0m\u001b[1;33m)\u001b[0m\u001b[1;33m\u001b[0m\u001b[0m\n\u001b[0m",
      "\u001b[0;31mNameError\u001b[0m: name 'diamonds_df' is not defined"
     ]
    }
   ],
   "source": [
    "print diamonds_df.cut.unique()"
   ]
  },
  {
   "cell_type": "markdown",
   "metadata": {},
   "source": [
    "- Comprueba si hay diferencias significativas en la media del precio para los de corte \"Ideal\" y \"Premium\" y el resto, tomando 1000 valores de cada (nótese que no se puede asumir que las muestras son de una distribución normal). Puedes investigar funciones lógicas vectorizadas en NumPy como logical_or()."
   ]
  },
  {
   "cell_type": "code",
   "execution_count": 7,
   "metadata": {
    "collapsed": false
   },
   "outputs": [
    {
     "ename": "NameError",
     "evalue": "name 'diamonds_df' is not defined",
     "output_type": "error",
     "traceback": [
      "\u001b[0;31m---------------------------------------------------------------------------\u001b[0m",
      "\u001b[0;31mNameError\u001b[0m                                 Traceback (most recent call last)",
      "\u001b[0;32m<ipython-input-7-2aa37371dea9>\u001b[0m in \u001b[0;36m<module>\u001b[0;34m()\u001b[0m\n\u001b[0;32m----> 1\u001b[0;31m \u001b[0mideal_premium_cut\u001b[0m \u001b[1;33m=\u001b[0m \u001b[0mdiamonds_df\u001b[0m\u001b[1;33m.\u001b[0m\u001b[0mloc\u001b[0m\u001b[1;33m[\u001b[0m\u001b[1;33m(\u001b[0m\u001b[1;33m(\u001b[0m\u001b[0mdiamonds_df\u001b[0m\u001b[1;33m.\u001b[0m\u001b[0mcut\u001b[0m\u001b[1;33m==\u001b[0m\u001b[1;34m\"Ideal\"\u001b[0m\u001b[1;33m)\u001b[0m\u001b[1;33m|\u001b[0m\u001b[1;33m(\u001b[0m\u001b[0mdiamonds_df\u001b[0m\u001b[1;33m.\u001b[0m\u001b[0mcut\u001b[0m\u001b[1;33m==\u001b[0m\u001b[1;34m\"Premium\"\u001b[0m\u001b[1;33m)\u001b[0m\u001b[1;33m)\u001b[0m\u001b[1;33m,\u001b[0m\u001b[1;33m:\u001b[0m\u001b[1;33m]\u001b[0m\u001b[1;33m.\u001b[0m\u001b[0miloc\u001b[0m\u001b[1;33m[\u001b[0m\u001b[1;36m0\u001b[0m\u001b[1;33m:\u001b[0m\u001b[1;36m1000\u001b[0m\u001b[1;33m]\u001b[0m\u001b[1;33m\u001b[0m\u001b[0m\n\u001b[0m\u001b[1;32m      2\u001b[0m \u001b[0mother_cut\u001b[0m \u001b[1;33m=\u001b[0m \u001b[0mdiamonds_df\u001b[0m\u001b[1;33m.\u001b[0m\u001b[0mloc\u001b[0m\u001b[1;33m[\u001b[0m\u001b[1;33m(\u001b[0m\u001b[1;33m(\u001b[0m\u001b[0mdiamonds_df\u001b[0m\u001b[1;33m.\u001b[0m\u001b[0mcut\u001b[0m\u001b[1;33m!=\u001b[0m\u001b[1;34m\"Ideal\"\u001b[0m\u001b[1;33m)\u001b[0m\u001b[1;33m&\u001b[0m\u001b[1;33m(\u001b[0m\u001b[0mdiamonds_df\u001b[0m\u001b[1;33m.\u001b[0m\u001b[0mcut\u001b[0m\u001b[1;33m!=\u001b[0m\u001b[1;34m\"Premium\"\u001b[0m\u001b[1;33m)\u001b[0m\u001b[1;33m)\u001b[0m\u001b[1;33m,\u001b[0m\u001b[1;33m:\u001b[0m\u001b[1;33m]\u001b[0m\u001b[1;33m.\u001b[0m\u001b[0miloc\u001b[0m\u001b[1;33m[\u001b[0m\u001b[1;36m0\u001b[0m\u001b[1;33m:\u001b[0m\u001b[1;36m1000\u001b[0m\u001b[1;33m]\u001b[0m\u001b[1;33m\u001b[0m\u001b[0m\n\u001b[1;32m      3\u001b[0m \u001b[1;33m\u001b[0m\u001b[0m\n\u001b[1;32m      4\u001b[0m \u001b[1;31m#print ideal_premium_cut.price.mean()\u001b[0m\u001b[1;33m\u001b[0m\u001b[1;33m\u001b[0m\u001b[0m\n\u001b[1;32m      5\u001b[0m \u001b[1;31m#print other_cut.price.mean()\u001b[0m\u001b[1;33m\u001b[0m\u001b[1;33m\u001b[0m\u001b[0m\n",
      "\u001b[0;31mNameError\u001b[0m: name 'diamonds_df' is not defined"
     ]
    }
   ],
   "source": [
    "ideal_premium_cut = diamonds_df.loc[((diamonds_df.cut==\"Ideal\")|(diamonds_df.cut==\"Premium\")),:].iloc[0:1000]\n",
    "other_cut = diamonds_df.loc[((diamonds_df.cut!=\"Ideal\")&(diamonds_df.cut!=\"Premium\")),:].iloc[0:1000]\n",
    "\n",
    "#print ideal_premium_cut.price.mean()\n",
    "#print other_cut.price.mean()\n",
    "other_cut\n",
    "\n"
   ]
  },
  {
   "cell_type": "markdown",
   "metadata": {},
   "source": [
    "- Obtén la mediana del precio por cada valor de la claridad (clarity) y ordena los resultados de manera descendente."
   ]
  },
  {
   "cell_type": "code",
   "execution_count": 13,
   "metadata": {
    "collapsed": false
   },
   "outputs": [
    {
     "ename": "NameError",
     "evalue": "name 'diamonds_df' is not defined",
     "output_type": "error",
     "traceback": [
      "\u001b[0;31m---------------------------------------------------------------------------\u001b[0m",
      "\u001b[0;31mNameError\u001b[0m                                 Traceback (most recent call last)",
      "\u001b[0;32m<ipython-input-13-b2c8f7648415>\u001b[0m in \u001b[0;36m<module>\u001b[0;34m()\u001b[0m\n\u001b[1;32m      1\u001b[0m \u001b[0mcols\u001b[0m \u001b[1;33m=\u001b[0m \u001b[1;33m[\u001b[0m\u001b[1;34m\"clarity\"\u001b[0m\u001b[1;33m,\u001b[0m \u001b[1;34m\"price\"\u001b[0m\u001b[1;33m]\u001b[0m\u001b[1;33m\u001b[0m\u001b[0m\n\u001b[0;32m----> 2\u001b[0;31m \u001b[0mdiamonds_df\u001b[0m\u001b[1;33m[\u001b[0m\u001b[1;33m[\u001b[0m\u001b[1;34m'clarity'\u001b[0m \u001b[1;33m,\u001b[0m\u001b[1;34m'price'\u001b[0m\u001b[1;33m]\u001b[0m\u001b[1;33m]\u001b[0m\u001b[1;33m.\u001b[0m\u001b[0mgroupby\u001b[0m\u001b[1;33m(\u001b[0m\u001b[1;34m\"clarity\"\u001b[0m\u001b[1;33m)\u001b[0m\u001b[1;33m.\u001b[0m\u001b[0mmedian\u001b[0m\u001b[1;33m(\u001b[0m\u001b[1;33m)\u001b[0m\u001b[1;33m.\u001b[0m\u001b[0msort_values\u001b[0m\u001b[1;33m(\u001b[0m\u001b[1;34m\"price\"\u001b[0m\u001b[1;33m,\u001b[0m \u001b[0mascending\u001b[0m\u001b[1;33m=\u001b[0m\u001b[0mFalse\u001b[0m\u001b[1;33m)\u001b[0m\u001b[1;33m\u001b[0m\u001b[0m\n\u001b[0m",
      "\u001b[0;31mNameError\u001b[0m: name 'diamonds_df' is not defined"
     ]
    }
   ],
   "source": [
    "cols = [\"clarity\", \"price\"]\n",
    "diamonds_df[['clarity' ,'price']].groupby(\"clarity\").median().sort_values(\"price\", ascending=False)"
   ]
  },
  {
   "cell_type": "markdown",
   "metadata": {},
   "source": [
    "# Parte 3\n",
    "Podemos descargar datos de empresas del dataset Forbes2000 (paquete HSAUR) mediante get_rdataset(). Encontraremos un ranking de empresas categorizadas por sector, y con datos de su país, ventas, beneficios, recursos y valor de mercado."
   ]
  },
  {
   "cell_type": "code",
   "execution_count": 22,
   "metadata": {
    "collapsed": false
   },
   "outputs": [
    {
     "data": {
      "text/html": [
       "<div>\n",
       "<table border=\"1\" class=\"dataframe\">\n",
       "  <thead>\n",
       "    <tr style=\"text-align: right;\">\n",
       "      <th></th>\n",
       "      <th>rank</th>\n",
       "      <th>name</th>\n",
       "      <th>country</th>\n",
       "      <th>category</th>\n",
       "      <th>sales</th>\n",
       "      <th>profits</th>\n",
       "      <th>assets</th>\n",
       "      <th>marketvalue</th>\n",
       "    </tr>\n",
       "  </thead>\n",
       "  <tbody>\n",
       "    <tr>\n",
       "      <th>0</th>\n",
       "      <td>1</td>\n",
       "      <td>Citigroup</td>\n",
       "      <td>United States</td>\n",
       "      <td>Banking</td>\n",
       "      <td>94.71</td>\n",
       "      <td>17.85</td>\n",
       "      <td>1264.03</td>\n",
       "      <td>255.30</td>\n",
       "    </tr>\n",
       "    <tr>\n",
       "      <th>1</th>\n",
       "      <td>2</td>\n",
       "      <td>General Electric</td>\n",
       "      <td>United States</td>\n",
       "      <td>Conglomerates</td>\n",
       "      <td>134.19</td>\n",
       "      <td>15.59</td>\n",
       "      <td>626.93</td>\n",
       "      <td>328.54</td>\n",
       "    </tr>\n",
       "    <tr>\n",
       "      <th>2</th>\n",
       "      <td>3</td>\n",
       "      <td>American Intl Group</td>\n",
       "      <td>United States</td>\n",
       "      <td>Insurance</td>\n",
       "      <td>76.66</td>\n",
       "      <td>6.46</td>\n",
       "      <td>647.66</td>\n",
       "      <td>194.87</td>\n",
       "    </tr>\n",
       "    <tr>\n",
       "      <th>3</th>\n",
       "      <td>4</td>\n",
       "      <td>ExxonMobil</td>\n",
       "      <td>United States</td>\n",
       "      <td>Oil &amp; gas operations</td>\n",
       "      <td>222.88</td>\n",
       "      <td>20.96</td>\n",
       "      <td>166.99</td>\n",
       "      <td>277.02</td>\n",
       "    </tr>\n",
       "    <tr>\n",
       "      <th>4</th>\n",
       "      <td>5</td>\n",
       "      <td>BP</td>\n",
       "      <td>United Kingdom</td>\n",
       "      <td>Oil &amp; gas operations</td>\n",
       "      <td>232.57</td>\n",
       "      <td>10.27</td>\n",
       "      <td>177.57</td>\n",
       "      <td>173.54</td>\n",
       "    </tr>\n",
       "  </tbody>\n",
       "</table>\n",
       "</div>"
      ],
      "text/plain": [
       "   rank                 name         country              category   sales  \\\n",
       "0     1            Citigroup   United States               Banking   94.71   \n",
       "1     2     General Electric   United States         Conglomerates  134.19   \n",
       "2     3  American Intl Group   United States             Insurance   76.66   \n",
       "3     4           ExxonMobil   United States  Oil & gas operations  222.88   \n",
       "4     5                   BP  United Kingdom  Oil & gas operations  232.57   \n",
       "\n",
       "   profits   assets  marketvalue  \n",
       "0    17.85  1264.03       255.30  \n",
       "1    15.59   626.93       328.54  \n",
       "2     6.46   647.66       194.87  \n",
       "3    20.96   166.99       277.02  \n",
       "4    10.27   177.57       173.54  "
      ]
     },
     "execution_count": 22,
     "metadata": {},
     "output_type": "execute_result"
    }
   ],
   "source": [
    "from statsmodels import datasets\n",
    "forbes2000_df = datasets.get_rdataset('Forbes2000', 'HSAUR', cache=True).data\n",
    "forbes2000_df.head()"
   ]
  },
  {
   "cell_type": "markdown",
   "metadata": {},
   "source": [
    "- Seleccionar del dataframe los nombres de empresa que incluyen \"elect\" (sin tener en cuenta mayúsculas). Intentamos con esto obtener empresas “del sector de la electricidad” de forma aproximada."
   ]
  },
  {
   "cell_type": "code",
   "execution_count": 23,
   "metadata": {
    "collapsed": false
   },
   "outputs": [
    {
     "name": "stdout",
     "output_type": "stream",
     "text": [
      "50\n"
     ]
    },
    {
     "data": {
      "text/html": [
       "<div>\n",
       "<table border=\"1\" class=\"dataframe\">\n",
       "  <thead>\n",
       "    <tr style=\"text-align: right;\">\n",
       "      <th></th>\n",
       "      <th>rank</th>\n",
       "      <th>name</th>\n",
       "      <th>country</th>\n",
       "      <th>category</th>\n",
       "      <th>sales</th>\n",
       "      <th>profits</th>\n",
       "      <th>assets</th>\n",
       "      <th>marketvalue</th>\n",
       "    </tr>\n",
       "  </thead>\n",
       "  <tbody>\n",
       "    <tr>\n",
       "      <th>1</th>\n",
       "      <td>2</td>\n",
       "      <td>General Electric</td>\n",
       "      <td>United States</td>\n",
       "      <td>Conglomerates</td>\n",
       "      <td>134.19</td>\n",
       "      <td>15.59</td>\n",
       "      <td>626.93</td>\n",
       "      <td>328.54</td>\n",
       "    </tr>\n",
       "    <tr>\n",
       "      <th>44</th>\n",
       "      <td>45</td>\n",
       "      <td>Samsung Electronics</td>\n",
       "      <td>South Korea</td>\n",
       "      <td>Semiconductors</td>\n",
       "      <td>50.22</td>\n",
       "      <td>5.95</td>\n",
       "      <td>54.58</td>\n",
       "      <td>72.72</td>\n",
       "    </tr>\n",
       "    <tr>\n",
       "      <th>71</th>\n",
       "      <td>72</td>\n",
       "      <td>Tokyo Electric Power</td>\n",
       "      <td>Japan</td>\n",
       "      <td>Utilities</td>\n",
       "      <td>41.62</td>\n",
       "      <td>1.40</td>\n",
       "      <td>116.68</td>\n",
       "      <td>30.63</td>\n",
       "    </tr>\n",
       "    <tr>\n",
       "      <th>151</th>\n",
       "      <td>152</td>\n",
       "      <td>Korea Electric Power</td>\n",
       "      <td>South Korea</td>\n",
       "      <td>Utilities</td>\n",
       "      <td>18.01</td>\n",
       "      <td>2.57</td>\n",
       "      <td>58.38</td>\n",
       "      <td>11.84</td>\n",
       "    </tr>\n",
       "    <tr>\n",
       "      <th>156</th>\n",
       "      <td>157</td>\n",
       "      <td>Kansai Electric Power</td>\n",
       "      <td>Japan</td>\n",
       "      <td>Utilities</td>\n",
       "      <td>22.12</td>\n",
       "      <td>0.68</td>\n",
       "      <td>60.52</td>\n",
       "      <td>17.56</td>\n",
       "    </tr>\n",
       "  </tbody>\n",
       "</table>\n",
       "</div>"
      ],
      "text/plain": [
       "     rank                   name        country        category   sales  \\\n",
       "1       2       General Electric  United States   Conglomerates  134.19   \n",
       "44     45    Samsung Electronics    South Korea  Semiconductors   50.22   \n",
       "71     72   Tokyo Electric Power          Japan       Utilities   41.62   \n",
       "151   152   Korea Electric Power    South Korea       Utilities   18.01   \n",
       "156   157  Kansai Electric Power          Japan       Utilities   22.12   \n",
       "\n",
       "     profits  assets  marketvalue  \n",
       "1      15.59  626.93       328.54  \n",
       "44      5.95   54.58        72.72  \n",
       "71      1.40  116.68        30.63  \n",
       "151     2.57   58.38        11.84  \n",
       "156     0.68   60.52        17.56  "
      ]
     },
     "execution_count": 23,
     "metadata": {},
     "output_type": "execute_result"
    }
   ],
   "source": [
    "forbes2000_elect_df=forbes2000_df.loc[(forbes2000_df.name.apply(str.upper).str.contains(\"ELECT\")),:]\n",
    "print forbes2000_elect_df.name.count()\n",
    "forbes2000_elect_df.head()"
   ]
  },
  {
   "cell_type": "markdown",
   "metadata": {},
   "source": [
    "- Utilizando como índice el país y la categoría y ordenándolo (sort_index), encontrar el valor de mercado de las empresas japonesas y estadounidenses. "
   ]
  },
  {
   "cell_type": "code",
   "execution_count": 24,
   "metadata": {
    "collapsed": false
   },
   "outputs": [
    {
     "name": "stdout",
     "output_type": "stream",
     "text": [
      "country        category                        \n",
      "Japan          Business services & supplies          2.30\n",
      "               Business services & supplies          3.25\n",
      "               Business services & supplies          2.69\n",
      "               Business services & supplies          3.29\n",
      "               Capital goods                        10.28\n",
      "               Capital goods                         6.54\n",
      "               Capital goods                         6.38\n",
      "               Capital goods                         2.52\n",
      "               Capital goods                         1.55\n",
      "               Consumer durables                    33.02\n",
      "               Consumer durables                     9.43\n",
      "               Consumer durables                     4.70\n",
      "               Consumer durables                     3.23\n",
      "               Semiconductors                       11.71\n",
      "               Technology hardware & equipment       4.29\n",
      "               Transportation                        3.72\n",
      "               Transportation                        3.49\n",
      "               Transportation                        3.22\n",
      "               Utilities                            30.63\n",
      "               Utilities                            17.56\n",
      "               Utilities                            15.59\n",
      "               Utilities                             8.67\n",
      "               Utilities                             8.48\n",
      "               Utilities                             6.41\n",
      "               Utilities                             4.65\n",
      "               Utilities                             3.76\n",
      "               Utilities                             3.74\n",
      "United States  Conglomerates                       328.54\n",
      "               Conglomerates                        26.88\n",
      "               Health care equipment & services      4.63\n",
      "               Media                                23.56\n",
      "               Software & services                   9.98\n",
      "               Software & services                  13.28\n",
      "               Technology hardware & equipment       2.67\n",
      "               Utilities                            13.21\n",
      "               Utilities                             1.94\n",
      "Name: marketvalue, dtype: float64\n"
     ]
    }
   ],
   "source": [
    "forbes2000_cc_df = forbes2000_elect_df.loc[(forbes2000_elect_df.country==\"Japan\")|(forbes2000_elect_df.country==\"United States\")]\n",
    "\n",
    "print forbes2000_cc_df.set_index([\"country\", \"category\"]).sort_index()[\"marketvalue\"]"
   ]
  },
  {
   "cell_type": "markdown",
   "metadata": {},
   "source": [
    "- Sobre el mismo subconjunto de empresas eléctricas, obtener el país donde el sector de utilities tiene mayor valor de mercado medio en sus empresas"
   ]
  },
  {
   "cell_type": "code",
   "execution_count": 25,
   "metadata": {
    "collapsed": false
   },
   "outputs": [
    {
     "data": {
      "text/plain": [
       "country\n",
       "South Korea    11.84\n",
       "Name: marketvalue, dtype: float64"
      ]
     },
     "execution_count": 25,
     "metadata": {},
     "output_type": "execute_result"
    }
   ],
   "source": [
    "forbes2000_ut_df=forbes2000_elect_df.loc[forbes2000_elect_df.category==\"Utilities\"]\n",
    "forbes2000_ut_df.groupby(\"country\").mean().sort_values(\"marketvalue\", ascending=False).head(1)[\"marketvalue\"]"
   ]
  },
  {
   "cell_type": "markdown",
   "metadata": {},
   "source": [
    "- Volviendo al dataset original, obtener las empresas españolas."
   ]
  },
  {
   "cell_type": "code",
   "execution_count": 26,
   "metadata": {
    "collapsed": false
   },
   "outputs": [
    {
     "data": {
      "text/html": [
       "<div>\n",
       "<table border=\"1\" class=\"dataframe\">\n",
       "  <thead>\n",
       "    <tr style=\"text-align: right;\">\n",
       "      <th></th>\n",
       "      <th>rank</th>\n",
       "      <th>name</th>\n",
       "      <th>country</th>\n",
       "      <th>category</th>\n",
       "      <th>sales</th>\n",
       "      <th>profits</th>\n",
       "      <th>assets</th>\n",
       "      <th>marketvalue</th>\n",
       "    </tr>\n",
       "  </thead>\n",
       "  <tbody>\n",
       "    <tr>\n",
       "      <th>38</th>\n",
       "      <td>39</td>\n",
       "      <td>Banco Santander Central</td>\n",
       "      <td>Spain</td>\n",
       "      <td>Banking</td>\n",
       "      <td>28.70</td>\n",
       "      <td>3.28</td>\n",
       "      <td>442.24</td>\n",
       "      <td>56.78</td>\n",
       "    </tr>\n",
       "    <tr>\n",
       "      <th>56</th>\n",
       "      <td>57</td>\n",
       "      <td>BBVA-Banco Bilbao Vizcaya</td>\n",
       "      <td>Spain</td>\n",
       "      <td>Banking</td>\n",
       "      <td>24.10</td>\n",
       "      <td>2.81</td>\n",
       "      <td>288.80</td>\n",
       "      <td>44.67</td>\n",
       "    </tr>\n",
       "    <tr>\n",
       "      <th>108</th>\n",
       "      <td>109</td>\n",
       "      <td>Repsol-YPF</td>\n",
       "      <td>Spain</td>\n",
       "      <td>Oil &amp; gas operations</td>\n",
       "      <td>29.14</td>\n",
       "      <td>2.05</td>\n",
       "      <td>39.34</td>\n",
       "      <td>26.22</td>\n",
       "    </tr>\n",
       "    <tr>\n",
       "      <th>114</th>\n",
       "      <td>115</td>\n",
       "      <td>Endesa Group</td>\n",
       "      <td>Spain</td>\n",
       "      <td>Utilities</td>\n",
       "      <td>20.43</td>\n",
       "      <td>1.65</td>\n",
       "      <td>57.92</td>\n",
       "      <td>21.10</td>\n",
       "    </tr>\n",
       "    <tr>\n",
       "      <th>188</th>\n",
       "      <td>189</td>\n",
       "      <td>Iberdrola</td>\n",
       "      <td>Spain</td>\n",
       "      <td>Utilities</td>\n",
       "      <td>11.94</td>\n",
       "      <td>1.33</td>\n",
       "      <td>30.99</td>\n",
       "      <td>18.78</td>\n",
       "    </tr>\n",
       "    <tr>\n",
       "      <th>378</th>\n",
       "      <td>379</td>\n",
       "      <td>Banco Popular Espaqol</td>\n",
       "      <td>Spain</td>\n",
       "      <td>Banking</td>\n",
       "      <td>3.32</td>\n",
       "      <td>0.67</td>\n",
       "      <td>44.01</td>\n",
       "      <td>14.38</td>\n",
       "    </tr>\n",
       "    <tr>\n",
       "      <th>408</th>\n",
       "      <td>409</td>\n",
       "      <td>Telefsnica</td>\n",
       "      <td>Spain</td>\n",
       "      <td>Telecommunications services</td>\n",
       "      <td>29.84</td>\n",
       "      <td>-5.86</td>\n",
       "      <td>60.65</td>\n",
       "      <td>86.39</td>\n",
       "    </tr>\n",
       "    <tr>\n",
       "      <th>462</th>\n",
       "      <td>463</td>\n",
       "      <td>Gas Natural SDG</td>\n",
       "      <td>Spain</td>\n",
       "      <td>Utilities</td>\n",
       "      <td>5.53</td>\n",
       "      <td>0.85</td>\n",
       "      <td>9.25</td>\n",
       "      <td>11.28</td>\n",
       "    </tr>\n",
       "    <tr>\n",
       "      <th>472</th>\n",
       "      <td>473</td>\n",
       "      <td>Altadis</td>\n",
       "      <td>Spain</td>\n",
       "      <td>Food drink &amp; tobacco</td>\n",
       "      <td>9.45</td>\n",
       "      <td>0.46</td>\n",
       "      <td>8.66</td>\n",
       "      <td>9.48</td>\n",
       "    </tr>\n",
       "    <tr>\n",
       "      <th>529</th>\n",
       "      <td>530</td>\n",
       "      <td>Unisn Fenosa</td>\n",
       "      <td>Spain</td>\n",
       "      <td>Utilities</td>\n",
       "      <td>6.13</td>\n",
       "      <td>0.36</td>\n",
       "      <td>15.71</td>\n",
       "      <td>6.35</td>\n",
       "    </tr>\n",
       "    <tr>\n",
       "      <th>532</th>\n",
       "      <td>533</td>\n",
       "      <td>Cepsa</td>\n",
       "      <td>Spain</td>\n",
       "      <td>Oil &amp; gas operations</td>\n",
       "      <td>8.85</td>\n",
       "      <td>0.48</td>\n",
       "      <td>6.31</td>\n",
       "      <td>9.29</td>\n",
       "    </tr>\n",
       "    <tr>\n",
       "      <th>605</th>\n",
       "      <td>606</td>\n",
       "      <td>Grupo Ferrovial</td>\n",
       "      <td>Spain</td>\n",
       "      <td>Construction</td>\n",
       "      <td>5.29</td>\n",
       "      <td>0.48</td>\n",
       "      <td>11.78</td>\n",
       "      <td>5.11</td>\n",
       "    </tr>\n",
       "    <tr>\n",
       "      <th>734</th>\n",
       "      <td>735</td>\n",
       "      <td>FCC Group</td>\n",
       "      <td>Spain</td>\n",
       "      <td>Construction</td>\n",
       "      <td>5.77</td>\n",
       "      <td>0.29</td>\n",
       "      <td>7.14</td>\n",
       "      <td>4.99</td>\n",
       "    </tr>\n",
       "    <tr>\n",
       "      <th>762</th>\n",
       "      <td>763</td>\n",
       "      <td>Inditex</td>\n",
       "      <td>Spain</td>\n",
       "      <td>Household &amp; personal products</td>\n",
       "      <td>4.28</td>\n",
       "      <td>0.47</td>\n",
       "      <td>3.24</td>\n",
       "      <td>13.52</td>\n",
       "    </tr>\n",
       "    <tr>\n",
       "      <th>787</th>\n",
       "      <td>788</td>\n",
       "      <td>Banco de Sabadell</td>\n",
       "      <td>Spain</td>\n",
       "      <td>Banking</td>\n",
       "      <td>1.99</td>\n",
       "      <td>0.30</td>\n",
       "      <td>38.38</td>\n",
       "      <td>4.77</td>\n",
       "    </tr>\n",
       "    <tr>\n",
       "      <th>876</th>\n",
       "      <td>877</td>\n",
       "      <td>ACS Group</td>\n",
       "      <td>Spain</td>\n",
       "      <td>Construction</td>\n",
       "      <td>4.64</td>\n",
       "      <td>0.19</td>\n",
       "      <td>5.16</td>\n",
       "      <td>6.24</td>\n",
       "    </tr>\n",
       "    <tr>\n",
       "      <th>951</th>\n",
       "      <td>952</td>\n",
       "      <td>Corporation Mapfre</td>\n",
       "      <td>Spain</td>\n",
       "      <td>Insurance</td>\n",
       "      <td>5.87</td>\n",
       "      <td>0.12</td>\n",
       "      <td>15.45</td>\n",
       "      <td>2.73</td>\n",
       "    </tr>\n",
       "    <tr>\n",
       "      <th>1035</th>\n",
       "      <td>1036</td>\n",
       "      <td>Acciona</td>\n",
       "      <td>Spain</td>\n",
       "      <td>Construction</td>\n",
       "      <td>3.59</td>\n",
       "      <td>0.17</td>\n",
       "      <td>6.11</td>\n",
       "      <td>4.13</td>\n",
       "    </tr>\n",
       "    <tr>\n",
       "      <th>1058</th>\n",
       "      <td>1059</td>\n",
       "      <td>Bankinter</td>\n",
       "      <td>Spain</td>\n",
       "      <td>Banking</td>\n",
       "      <td>1.37</td>\n",
       "      <td>0.17</td>\n",
       "      <td>30.05</td>\n",
       "      <td>3.26</td>\n",
       "    </tr>\n",
       "    <tr>\n",
       "      <th>1059</th>\n",
       "      <td>1060</td>\n",
       "      <td>Abertis Infraestructuras</td>\n",
       "      <td>Spain</td>\n",
       "      <td>Transportation</td>\n",
       "      <td>0.80</td>\n",
       "      <td>0.21</td>\n",
       "      <td>6.78</td>\n",
       "      <td>7.43</td>\n",
       "    </tr>\n",
       "    <tr>\n",
       "      <th>1074</th>\n",
       "      <td>1075</td>\n",
       "      <td>Iberia</td>\n",
       "      <td>Spain</td>\n",
       "      <td>Transportation</td>\n",
       "      <td>4.71</td>\n",
       "      <td>0.17</td>\n",
       "      <td>4.85</td>\n",
       "      <td>3.34</td>\n",
       "    </tr>\n",
       "    <tr>\n",
       "      <th>1426</th>\n",
       "      <td>1427</td>\n",
       "      <td>Amadeus Global Travel</td>\n",
       "      <td>Spain</td>\n",
       "      <td>Business services &amp; supplies</td>\n",
       "      <td>2.43</td>\n",
       "      <td>0.20</td>\n",
       "      <td>1.34</td>\n",
       "      <td>3.60</td>\n",
       "    </tr>\n",
       "    <tr>\n",
       "      <th>1435</th>\n",
       "      <td>1436</td>\n",
       "      <td>Sacyr-Vallehermoso</td>\n",
       "      <td>Spain</td>\n",
       "      <td>Diversified financials</td>\n",
       "      <td>0.88</td>\n",
       "      <td>0.22</td>\n",
       "      <td>3.75</td>\n",
       "      <td>4.09</td>\n",
       "    </tr>\n",
       "    <tr>\n",
       "      <th>1493</th>\n",
       "      <td>1494</td>\n",
       "      <td>Acerinox</td>\n",
       "      <td>Spain</td>\n",
       "      <td>Materials</td>\n",
       "      <td>2.63</td>\n",
       "      <td>0.18</td>\n",
       "      <td>2.70</td>\n",
       "      <td>3.05</td>\n",
       "    </tr>\n",
       "    <tr>\n",
       "      <th>1623</th>\n",
       "      <td>1624</td>\n",
       "      <td>Enagas</td>\n",
       "      <td>Spain</td>\n",
       "      <td>Oil &amp; gas operations</td>\n",
       "      <td>1.97</td>\n",
       "      <td>0.18</td>\n",
       "      <td>3.89</td>\n",
       "      <td>2.83</td>\n",
       "    </tr>\n",
       "    <tr>\n",
       "      <th>1892</th>\n",
       "      <td>1893</td>\n",
       "      <td>Banco Pastor</td>\n",
       "      <td>Spain</td>\n",
       "      <td>Banking</td>\n",
       "      <td>0.49</td>\n",
       "      <td>0.08</td>\n",
       "      <td>13.12</td>\n",
       "      <td>1.79</td>\n",
       "    </tr>\n",
       "    <tr>\n",
       "      <th>1897</th>\n",
       "      <td>1898</td>\n",
       "      <td>Red Eectrica de Espaqa</td>\n",
       "      <td>Spain</td>\n",
       "      <td>Utilities</td>\n",
       "      <td>1.14</td>\n",
       "      <td>0.15</td>\n",
       "      <td>4.28</td>\n",
       "      <td>2.36</td>\n",
       "    </tr>\n",
       "    <tr>\n",
       "      <th>1931</th>\n",
       "      <td>1932</td>\n",
       "      <td>Gamesa</td>\n",
       "      <td>Spain</td>\n",
       "      <td>Capital goods</td>\n",
       "      <td>1.15</td>\n",
       "      <td>0.14</td>\n",
       "      <td>2.04</td>\n",
       "      <td>3.02</td>\n",
       "    </tr>\n",
       "    <tr>\n",
       "      <th>1992</th>\n",
       "      <td>1993</td>\n",
       "      <td>Sogecable</td>\n",
       "      <td>Spain</td>\n",
       "      <td>Media</td>\n",
       "      <td>1.03</td>\n",
       "      <td>-0.06</td>\n",
       "      <td>1.53</td>\n",
       "      <td>6.02</td>\n",
       "    </tr>\n",
       "  </tbody>\n",
       "</table>\n",
       "</div>"
      ],
      "text/plain": [
       "      rank                       name country                       category  \\\n",
       "38      39    Banco Santander Central   Spain                        Banking   \n",
       "56      57  BBVA-Banco Bilbao Vizcaya   Spain                        Banking   \n",
       "108    109                 Repsol-YPF   Spain           Oil & gas operations   \n",
       "114    115               Endesa Group   Spain                      Utilities   \n",
       "188    189                  Iberdrola   Spain                      Utilities   \n",
       "378    379      Banco Popular Espaqol   Spain                        Banking   \n",
       "408    409                 Telefsnica   Spain    Telecommunications services   \n",
       "462    463            Gas Natural SDG   Spain                      Utilities   \n",
       "472    473                    Altadis   Spain           Food drink & tobacco   \n",
       "529    530               Unisn Fenosa   Spain                      Utilities   \n",
       "532    533                      Cepsa   Spain           Oil & gas operations   \n",
       "605    606            Grupo Ferrovial   Spain                   Construction   \n",
       "734    735                  FCC Group   Spain                   Construction   \n",
       "762    763                    Inditex   Spain  Household & personal products   \n",
       "787    788          Banco de Sabadell   Spain                        Banking   \n",
       "876    877                  ACS Group   Spain                   Construction   \n",
       "951    952         Corporation Mapfre   Spain                      Insurance   \n",
       "1035  1036                    Acciona   Spain                   Construction   \n",
       "1058  1059                  Bankinter   Spain                        Banking   \n",
       "1059  1060   Abertis Infraestructuras   Spain                 Transportation   \n",
       "1074  1075                     Iberia   Spain                 Transportation   \n",
       "1426  1427      Amadeus Global Travel   Spain   Business services & supplies   \n",
       "1435  1436         Sacyr-Vallehermoso   Spain         Diversified financials   \n",
       "1493  1494                   Acerinox   Spain                      Materials   \n",
       "1623  1624                     Enagas   Spain           Oil & gas operations   \n",
       "1892  1893               Banco Pastor   Spain                        Banking   \n",
       "1897  1898     Red Eectrica de Espaqa   Spain                      Utilities   \n",
       "1931  1932                     Gamesa   Spain                  Capital goods   \n",
       "1992  1993                  Sogecable   Spain                          Media   \n",
       "\n",
       "      sales  profits  assets  marketvalue  \n",
       "38    28.70     3.28  442.24        56.78  \n",
       "56    24.10     2.81  288.80        44.67  \n",
       "108   29.14     2.05   39.34        26.22  \n",
       "114   20.43     1.65   57.92        21.10  \n",
       "188   11.94     1.33   30.99        18.78  \n",
       "378    3.32     0.67   44.01        14.38  \n",
       "408   29.84    -5.86   60.65        86.39  \n",
       "462    5.53     0.85    9.25        11.28  \n",
       "472    9.45     0.46    8.66         9.48  \n",
       "529    6.13     0.36   15.71         6.35  \n",
       "532    8.85     0.48    6.31         9.29  \n",
       "605    5.29     0.48   11.78         5.11  \n",
       "734    5.77     0.29    7.14         4.99  \n",
       "762    4.28     0.47    3.24        13.52  \n",
       "787    1.99     0.30   38.38         4.77  \n",
       "876    4.64     0.19    5.16         6.24  \n",
       "951    5.87     0.12   15.45         2.73  \n",
       "1035   3.59     0.17    6.11         4.13  \n",
       "1058   1.37     0.17   30.05         3.26  \n",
       "1059   0.80     0.21    6.78         7.43  \n",
       "1074   4.71     0.17    4.85         3.34  \n",
       "1426   2.43     0.20    1.34         3.60  \n",
       "1435   0.88     0.22    3.75         4.09  \n",
       "1493   2.63     0.18    2.70         3.05  \n",
       "1623   1.97     0.18    3.89         2.83  \n",
       "1892   0.49     0.08   13.12         1.79  \n",
       "1897   1.14     0.15    4.28         2.36  \n",
       "1931   1.15     0.14    2.04         3.02  \n",
       "1992   1.03    -0.06    1.53         6.02  "
      ]
     },
     "execution_count": 26,
     "metadata": {},
     "output_type": "execute_result"
    }
   ],
   "source": [
    "forbes_spain=forbes2000_df.loc[forbes2000_df.country==\"Spain\"]\n",
    "forbes_spain"
   ]
  },
  {
   "cell_type": "markdown",
   "metadata": {},
   "source": [
    "- Indexar el dataframe anterior por beneficios (profits) y obtener los nombres y rangos de las que tengan un beneficio nulo o negativo. Nota: intenta indexar de manera mixta con números (filas) y etiquetas columnas), hay una operación específica para esto en pandas."
   ]
  },
  {
   "cell_type": "code",
   "execution_count": 27,
   "metadata": {
    "collapsed": false
   },
   "outputs": [
    {
     "data": {
      "text/html": [
       "<div>\n",
       "<table border=\"1\" class=\"dataframe\">\n",
       "  <thead>\n",
       "    <tr style=\"text-align: right;\">\n",
       "      <th></th>\n",
       "      <th>rank</th>\n",
       "      <th>name</th>\n",
       "    </tr>\n",
       "    <tr>\n",
       "      <th>profits</th>\n",
       "      <th></th>\n",
       "      <th></th>\n",
       "    </tr>\n",
       "  </thead>\n",
       "  <tbody>\n",
       "    <tr>\n",
       "      <th>-5.86</th>\n",
       "      <td>409</td>\n",
       "      <td>Telefsnica</td>\n",
       "    </tr>\n",
       "    <tr>\n",
       "      <th>-0.06</th>\n",
       "      <td>1993</td>\n",
       "      <td>Sogecable</td>\n",
       "    </tr>\n",
       "  </tbody>\n",
       "</table>\n",
       "</div>"
      ],
      "text/plain": [
       "         rank        name\n",
       "profits                  \n",
       "-5.86     409  Telefsnica\n",
       "-0.06    1993   Sogecable"
      ]
     },
     "execution_count": 27,
     "metadata": {},
     "output_type": "execute_result"
    }
   ],
   "source": [
    "forbes_spain.loc[(forbes_spain.profits<=0)|(forbes_spain.profits==None)].set_index([\"profits\"])[[\"rank\",\"name\"]]"
   ]
  },
  {
   "cell_type": "code",
   "execution_count": null,
   "metadata": {
    "collapsed": true
   },
   "outputs": [],
   "source": []
  }
 ],
 "metadata": {
  "anaconda-cloud": {},
  "kernelspec": {
   "display_name": "Python [conda root]",
   "language": "python",
   "name": "conda-root-py"
  },
  "language_info": {
   "codemirror_mode": {
    "name": "ipython",
    "version": 2
   },
   "file_extension": ".py",
   "mimetype": "text/x-python",
   "name": "python",
   "nbconvert_exporter": "python",
   "pygments_lexer": "ipython2",
   "version": "2.7.12"
  }
 },
 "nbformat": 4,
 "nbformat_minor": 1
}
