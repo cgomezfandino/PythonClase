{
 "cells": [
  {
   "cell_type": "markdown",
   "metadata": {},
   "source": [
    "## 1. Descarga de datos\n",
    "Hay una descripción en Kaggle, esta es la página Web: https://www.kaggle.com/teajay/global-sharkattacks\n",
    "(https://www.kaggle.com/teajay/global-shark-attacks)\n",
    "Y el enlace a la descarga directa es el siguiente: https://www.kaggle.com/teajay/global-shark-attacks\n",
    "/downloads/global-shark-attacks.zip (https://www.kaggle.com/teajay/global-shark-attacks/downloads\n",
    "/global-shark-attacks.zip) Nótese que kaggle requiere identificarse, por lo que no pueden descargarse\n",
    "sin autentificación los ficheros.\n",
    "Se pide lo siguiente:\n",
    "1. Cargad el fichero en un DataFrame de pandas.\n",
    "1. Comparad las columns cargadas con las del fichero Excel.\n",
    "1. ¿Hay información que deberíamos quitar? Nota: con columns podemos obtener la lista de columnas del DataFrame."
   ]
  },
  {
   "cell_type": "code",
   "execution_count": 2,
   "metadata": {
    "collapsed": true
   },
   "outputs": [],
   "source": [
    "import numpy as np\n",
    "import pandas as pd\n",
    "import matplotlib.pyplot as plt\n",
    "%matplotlib inline"
   ]
  },
  {
   "cell_type": "code",
   "execution_count": 3,
   "metadata": {
    "collapsed": false
   },
   "outputs": [],
   "source": [
    "data_ta = pd.read_csv('attacks.csv')\n"
   ]
  },
  {
   "cell_type": "code",
   "execution_count": 4,
   "metadata": {
    "collapsed": false
   },
   "outputs": [
    {
     "name": "stdout",
     "output_type": "stream",
     "text": [
      "95872\n",
      "5992\n"
     ]
    },
    {
     "data": {
      "text/html": [
       "<div>\n",
       "<table border=\"1\" class=\"dataframe\">\n",
       "  <thead>\n",
       "    <tr style=\"text-align: right;\">\n",
       "      <th></th>\n",
       "      <th>Case Number</th>\n",
       "      <th>Date</th>\n",
       "      <th>Year</th>\n",
       "      <th>Type</th>\n",
       "      <th>Country</th>\n",
       "      <th>Area</th>\n",
       "      <th>Location</th>\n",
       "      <th>Activity</th>\n",
       "      <th>Name</th>\n",
       "      <th>Sex</th>\n",
       "      <th>Age</th>\n",
       "      <th>Injury</th>\n",
       "      <th>Fatal (Y/N)</th>\n",
       "      <th>Time</th>\n",
       "      <th>Species</th>\n",
       "      <th>Investigator or Source</th>\n",
       "    </tr>\n",
       "  </thead>\n",
       "  <tbody>\n",
       "    <tr>\n",
       "      <th>0</th>\n",
       "      <td>2016.09.18.c</td>\n",
       "      <td>18-Sep-2016</td>\n",
       "      <td>2016</td>\n",
       "      <td>Unprovoked</td>\n",
       "      <td>USA</td>\n",
       "      <td>Florida</td>\n",
       "      <td>New Smyrna Beach, Volusia County</td>\n",
       "      <td>Surfing</td>\n",
       "      <td>male</td>\n",
       "      <td>M</td>\n",
       "      <td>16</td>\n",
       "      <td>Minor injury to thigh</td>\n",
       "      <td>N</td>\n",
       "      <td>13h00</td>\n",
       "      <td>NaN</td>\n",
       "      <td>Orlando Sentinel, 9/19/2016</td>\n",
       "    </tr>\n",
       "    <tr>\n",
       "      <th>1</th>\n",
       "      <td>2016.09.18.b</td>\n",
       "      <td>18-Sep-2016</td>\n",
       "      <td>2016</td>\n",
       "      <td>Unprovoked</td>\n",
       "      <td>USA</td>\n",
       "      <td>Florida</td>\n",
       "      <td>New Smyrna Beach, Volusia County</td>\n",
       "      <td>Surfing</td>\n",
       "      <td>Chucky Luciano</td>\n",
       "      <td>M</td>\n",
       "      <td>36</td>\n",
       "      <td>Lacerations to hands</td>\n",
       "      <td>N</td>\n",
       "      <td>11h00</td>\n",
       "      <td>NaN</td>\n",
       "      <td>Orlando Sentinel, 9/19/2016</td>\n",
       "    </tr>\n",
       "    <tr>\n",
       "      <th>2</th>\n",
       "      <td>2016.09.18.a</td>\n",
       "      <td>18-Sep-2016</td>\n",
       "      <td>2016</td>\n",
       "      <td>Unprovoked</td>\n",
       "      <td>USA</td>\n",
       "      <td>Florida</td>\n",
       "      <td>New Smyrna Beach, Volusia County</td>\n",
       "      <td>Surfing</td>\n",
       "      <td>male</td>\n",
       "      <td>M</td>\n",
       "      <td>43</td>\n",
       "      <td>Lacerations to lower leg</td>\n",
       "      <td>N</td>\n",
       "      <td>10h43</td>\n",
       "      <td>NaN</td>\n",
       "      <td>Orlando Sentinel, 9/19/2016</td>\n",
       "    </tr>\n",
       "    <tr>\n",
       "      <th>3</th>\n",
       "      <td>2016.09.17</td>\n",
       "      <td>17-Sep-2016</td>\n",
       "      <td>2016</td>\n",
       "      <td>Unprovoked</td>\n",
       "      <td>AUSTRALIA</td>\n",
       "      <td>Victoria</td>\n",
       "      <td>Thirteenth Beach</td>\n",
       "      <td>Surfing</td>\n",
       "      <td>Rory Angiolella</td>\n",
       "      <td>M</td>\n",
       "      <td>NaN</td>\n",
       "      <td>Struck by fin on chest &amp; leg</td>\n",
       "      <td>N</td>\n",
       "      <td>NaN</td>\n",
       "      <td>NaN</td>\n",
       "      <td>The Age, 9/18/2016</td>\n",
       "    </tr>\n",
       "    <tr>\n",
       "      <th>4</th>\n",
       "      <td>2016.09.15</td>\n",
       "      <td>16-Sep-2016</td>\n",
       "      <td>2016</td>\n",
       "      <td>Unprovoked</td>\n",
       "      <td>AUSTRALIA</td>\n",
       "      <td>Victoria</td>\n",
       "      <td>Bells Beach</td>\n",
       "      <td>Surfing</td>\n",
       "      <td>male</td>\n",
       "      <td>M</td>\n",
       "      <td>NaN</td>\n",
       "      <td>No injury: Knocked off board by shark</td>\n",
       "      <td>N</td>\n",
       "      <td>NaN</td>\n",
       "      <td>2 m shark</td>\n",
       "      <td>The Age, 9/16/2016</td>\n",
       "    </tr>\n",
       "  </tbody>\n",
       "</table>\n",
       "</div>"
      ],
      "text/plain": [
       "    Case Number         Date  Year        Type    Country      Area  \\\n",
       "0  2016.09.18.c  18-Sep-2016  2016  Unprovoked        USA   Florida   \n",
       "1  2016.09.18.b  18-Sep-2016  2016  Unprovoked        USA   Florida   \n",
       "2  2016.09.18.a  18-Sep-2016  2016  Unprovoked        USA   Florida   \n",
       "3    2016.09.17  17-Sep-2016  2016  Unprovoked  AUSTRALIA  Victoria   \n",
       "4    2016.09.15  16-Sep-2016  2016  Unprovoked  AUSTRALIA  Victoria   \n",
       "\n",
       "                           Location Activity             Name Sex   Age  \\\n",
       "0  New Smyrna Beach, Volusia County  Surfing             male    M   16   \n",
       "1  New Smyrna Beach, Volusia County  Surfing   Chucky Luciano    M   36   \n",
       "2  New Smyrna Beach, Volusia County  Surfing             male    M   43   \n",
       "3                  Thirteenth Beach  Surfing  Rory Angiolella    M  NaN   \n",
       "4                       Bells Beach  Surfing             male    M  NaN   \n",
       "\n",
       "                                  Injury Fatal (Y/N)   Time   Species   \\\n",
       "0                  Minor injury to thigh           N  13h00        NaN   \n",
       "1                   Lacerations to hands           N  11h00        NaN   \n",
       "2               Lacerations to lower leg           N  10h43        NaN   \n",
       "3           Struck by fin on chest & leg           N    NaN        NaN   \n",
       "4  No injury: Knocked off board by shark           N    NaN  2 m shark   \n",
       "\n",
       "        Investigator or Source  \n",
       "0  Orlando Sentinel, 9/19/2016  \n",
       "1  Orlando Sentinel, 9/19/2016  \n",
       "2  Orlando Sentinel, 9/19/2016  \n",
       "3           The Age, 9/18/2016  \n",
       "4           The Age, 9/16/2016  "
      ]
     },
     "execution_count": 4,
     "metadata": {},
     "output_type": "execute_result"
    }
   ],
   "source": [
    "print data_ta.size\n",
    "print len(data_ta)\n",
    "data_ta.head()"
   ]
  },
  {
   "cell_type": "code",
   "execution_count": 5,
   "metadata": {
    "collapsed": false
   },
   "outputs": [
    {
     "data": {
      "text/plain": [
       "Index([u'Case Number', u'Date', u'Year', u'Type', u'Country', u'Area',\n",
       "       u'Location', u'Activity', u'Name', u'Sex ', u'Age', u'Injury',\n",
       "       u'Fatal (Y/N)', u'Time', u'Species ', u'Investigator or Source'],\n",
       "      dtype='object')"
      ]
     },
     "execution_count": 5,
     "metadata": {},
     "output_type": "execute_result"
    }
   ],
   "source": [
    "col_data = data_ta.columns #Devuelve las columnas del Data.Frame\n",
    "col_data"
   ]
  },
  {
   "cell_type": "markdown",
   "metadata": {},
   "source": [
    "## 2. Observación de valores nulos\n",
    "El siguiente paso es observar los datos, los valores que toman y si hay valores nulos.\n",
    "1. Identificad las columnas en las que hay valores nulos y las que no y cuántas en cada una. Por \n",
    "ejemplo, parece que las hay en la columna Species. Nota: usar isnull()\n",
    "1. Para las columnas con información categórica, observar las etiquetas de cada categoría, por \n",
    "ejemplo, las especies de tiburones o el tipo de incidente.\n",
    "1. Concretamente, obtener las 5 especies de tiburón con más incidentes registrados en la base de\n",
    "datos. Nota: Puede hacers con groupby() o dividiendo el array por especies, y contando cada\n",
    "subconjunto."
   ]
  },
  {
   "cell_type": "code",
   "execution_count": 6,
   "metadata": {
    "collapsed": false
   },
   "outputs": [
    {
     "data": {
      "text/html": [
       "<div>\n",
       "<table border=\"1\" class=\"dataframe\">\n",
       "  <thead>\n",
       "    <tr style=\"text-align: right;\">\n",
       "      <th></th>\n",
       "      <th>Case Number</th>\n",
       "      <th>Date</th>\n",
       "      <th>Year</th>\n",
       "      <th>Type</th>\n",
       "      <th>Country</th>\n",
       "      <th>Area</th>\n",
       "      <th>Location</th>\n",
       "      <th>Activity</th>\n",
       "      <th>Name</th>\n",
       "      <th>Sex</th>\n",
       "      <th>Age</th>\n",
       "      <th>Injury</th>\n",
       "      <th>Fatal (Y/N)</th>\n",
       "      <th>Time</th>\n",
       "      <th>Species</th>\n",
       "      <th>Investigator or Source</th>\n",
       "    </tr>\n",
       "  </thead>\n",
       "  <tbody>\n",
       "    <tr>\n",
       "      <th>0</th>\n",
       "      <td>False</td>\n",
       "      <td>False</td>\n",
       "      <td>False</td>\n",
       "      <td>False</td>\n",
       "      <td>False</td>\n",
       "      <td>False</td>\n",
       "      <td>False</td>\n",
       "      <td>False</td>\n",
       "      <td>False</td>\n",
       "      <td>False</td>\n",
       "      <td>False</td>\n",
       "      <td>False</td>\n",
       "      <td>False</td>\n",
       "      <td>False</td>\n",
       "      <td>True</td>\n",
       "      <td>False</td>\n",
       "    </tr>\n",
       "    <tr>\n",
       "      <th>1</th>\n",
       "      <td>False</td>\n",
       "      <td>False</td>\n",
       "      <td>False</td>\n",
       "      <td>False</td>\n",
       "      <td>False</td>\n",
       "      <td>False</td>\n",
       "      <td>False</td>\n",
       "      <td>False</td>\n",
       "      <td>False</td>\n",
       "      <td>False</td>\n",
       "      <td>False</td>\n",
       "      <td>False</td>\n",
       "      <td>False</td>\n",
       "      <td>False</td>\n",
       "      <td>True</td>\n",
       "      <td>False</td>\n",
       "    </tr>\n",
       "    <tr>\n",
       "      <th>2</th>\n",
       "      <td>False</td>\n",
       "      <td>False</td>\n",
       "      <td>False</td>\n",
       "      <td>False</td>\n",
       "      <td>False</td>\n",
       "      <td>False</td>\n",
       "      <td>False</td>\n",
       "      <td>False</td>\n",
       "      <td>False</td>\n",
       "      <td>False</td>\n",
       "      <td>False</td>\n",
       "      <td>False</td>\n",
       "      <td>False</td>\n",
       "      <td>False</td>\n",
       "      <td>True</td>\n",
       "      <td>False</td>\n",
       "    </tr>\n",
       "    <tr>\n",
       "      <th>3</th>\n",
       "      <td>False</td>\n",
       "      <td>False</td>\n",
       "      <td>False</td>\n",
       "      <td>False</td>\n",
       "      <td>False</td>\n",
       "      <td>False</td>\n",
       "      <td>False</td>\n",
       "      <td>False</td>\n",
       "      <td>False</td>\n",
       "      <td>False</td>\n",
       "      <td>True</td>\n",
       "      <td>False</td>\n",
       "      <td>False</td>\n",
       "      <td>True</td>\n",
       "      <td>True</td>\n",
       "      <td>False</td>\n",
       "    </tr>\n",
       "    <tr>\n",
       "      <th>4</th>\n",
       "      <td>False</td>\n",
       "      <td>False</td>\n",
       "      <td>False</td>\n",
       "      <td>False</td>\n",
       "      <td>False</td>\n",
       "      <td>False</td>\n",
       "      <td>False</td>\n",
       "      <td>False</td>\n",
       "      <td>False</td>\n",
       "      <td>False</td>\n",
       "      <td>True</td>\n",
       "      <td>False</td>\n",
       "      <td>False</td>\n",
       "      <td>True</td>\n",
       "      <td>False</td>\n",
       "      <td>False</td>\n",
       "    </tr>\n",
       "    <tr>\n",
       "      <th>5</th>\n",
       "      <td>False</td>\n",
       "      <td>False</td>\n",
       "      <td>False</td>\n",
       "      <td>False</td>\n",
       "      <td>False</td>\n",
       "      <td>False</td>\n",
       "      <td>False</td>\n",
       "      <td>False</td>\n",
       "      <td>False</td>\n",
       "      <td>True</td>\n",
       "      <td>True</td>\n",
       "      <td>False</td>\n",
       "      <td>False</td>\n",
       "      <td>True</td>\n",
       "      <td>True</td>\n",
       "      <td>False</td>\n",
       "    </tr>\n",
       "    <tr>\n",
       "      <th>6</th>\n",
       "      <td>False</td>\n",
       "      <td>False</td>\n",
       "      <td>False</td>\n",
       "      <td>False</td>\n",
       "      <td>False</td>\n",
       "      <td>False</td>\n",
       "      <td>False</td>\n",
       "      <td>False</td>\n",
       "      <td>False</td>\n",
       "      <td>False</td>\n",
       "      <td>False</td>\n",
       "      <td>False</td>\n",
       "      <td>False</td>\n",
       "      <td>False</td>\n",
       "      <td>False</td>\n",
       "      <td>False</td>\n",
       "    </tr>\n",
       "    <tr>\n",
       "      <th>7</th>\n",
       "      <td>False</td>\n",
       "      <td>False</td>\n",
       "      <td>False</td>\n",
       "      <td>False</td>\n",
       "      <td>False</td>\n",
       "      <td>False</td>\n",
       "      <td>False</td>\n",
       "      <td>False</td>\n",
       "      <td>False</td>\n",
       "      <td>False</td>\n",
       "      <td>False</td>\n",
       "      <td>False</td>\n",
       "      <td>False</td>\n",
       "      <td>False</td>\n",
       "      <td>False</td>\n",
       "      <td>False</td>\n",
       "    </tr>\n",
       "    <tr>\n",
       "      <th>8</th>\n",
       "      <td>False</td>\n",
       "      <td>False</td>\n",
       "      <td>False</td>\n",
       "      <td>False</td>\n",
       "      <td>False</td>\n",
       "      <td>False</td>\n",
       "      <td>False</td>\n",
       "      <td>False</td>\n",
       "      <td>False</td>\n",
       "      <td>False</td>\n",
       "      <td>False</td>\n",
       "      <td>False</td>\n",
       "      <td>False</td>\n",
       "      <td>False</td>\n",
       "      <td>True</td>\n",
       "      <td>False</td>\n",
       "    </tr>\n",
       "    <tr>\n",
       "      <th>9</th>\n",
       "      <td>False</td>\n",
       "      <td>False</td>\n",
       "      <td>False</td>\n",
       "      <td>False</td>\n",
       "      <td>False</td>\n",
       "      <td>False</td>\n",
       "      <td>False</td>\n",
       "      <td>False</td>\n",
       "      <td>False</td>\n",
       "      <td>False</td>\n",
       "      <td>False</td>\n",
       "      <td>False</td>\n",
       "      <td>False</td>\n",
       "      <td>False</td>\n",
       "      <td>True</td>\n",
       "      <td>False</td>\n",
       "    </tr>\n",
       "    <tr>\n",
       "      <th>10</th>\n",
       "      <td>False</td>\n",
       "      <td>False</td>\n",
       "      <td>False</td>\n",
       "      <td>False</td>\n",
       "      <td>False</td>\n",
       "      <td>False</td>\n",
       "      <td>False</td>\n",
       "      <td>False</td>\n",
       "      <td>False</td>\n",
       "      <td>False</td>\n",
       "      <td>True</td>\n",
       "      <td>False</td>\n",
       "      <td>False</td>\n",
       "      <td>False</td>\n",
       "      <td>True</td>\n",
       "      <td>False</td>\n",
       "    </tr>\n",
       "    <tr>\n",
       "      <th>11</th>\n",
       "      <td>False</td>\n",
       "      <td>False</td>\n",
       "      <td>False</td>\n",
       "      <td>False</td>\n",
       "      <td>False</td>\n",
       "      <td>False</td>\n",
       "      <td>False</td>\n",
       "      <td>False</td>\n",
       "      <td>False</td>\n",
       "      <td>False</td>\n",
       "      <td>False</td>\n",
       "      <td>False</td>\n",
       "      <td>False</td>\n",
       "      <td>True</td>\n",
       "      <td>True</td>\n",
       "      <td>False</td>\n",
       "    </tr>\n",
       "    <tr>\n",
       "      <th>12</th>\n",
       "      <td>False</td>\n",
       "      <td>False</td>\n",
       "      <td>False</td>\n",
       "      <td>False</td>\n",
       "      <td>False</td>\n",
       "      <td>False</td>\n",
       "      <td>False</td>\n",
       "      <td>False</td>\n",
       "      <td>False</td>\n",
       "      <td>False</td>\n",
       "      <td>False</td>\n",
       "      <td>False</td>\n",
       "      <td>False</td>\n",
       "      <td>True</td>\n",
       "      <td>False</td>\n",
       "      <td>False</td>\n",
       "    </tr>\n",
       "    <tr>\n",
       "      <th>13</th>\n",
       "      <td>False</td>\n",
       "      <td>False</td>\n",
       "      <td>False</td>\n",
       "      <td>False</td>\n",
       "      <td>False</td>\n",
       "      <td>False</td>\n",
       "      <td>False</td>\n",
       "      <td>False</td>\n",
       "      <td>False</td>\n",
       "      <td>False</td>\n",
       "      <td>False</td>\n",
       "      <td>False</td>\n",
       "      <td>False</td>\n",
       "      <td>False</td>\n",
       "      <td>False</td>\n",
       "      <td>False</td>\n",
       "    </tr>\n",
       "    <tr>\n",
       "      <th>14</th>\n",
       "      <td>False</td>\n",
       "      <td>False</td>\n",
       "      <td>False</td>\n",
       "      <td>False</td>\n",
       "      <td>False</td>\n",
       "      <td>False</td>\n",
       "      <td>False</td>\n",
       "      <td>False</td>\n",
       "      <td>False</td>\n",
       "      <td>False</td>\n",
       "      <td>False</td>\n",
       "      <td>False</td>\n",
       "      <td>False</td>\n",
       "      <td>False</td>\n",
       "      <td>True</td>\n",
       "      <td>False</td>\n",
       "    </tr>\n",
       "    <tr>\n",
       "      <th>15</th>\n",
       "      <td>False</td>\n",
       "      <td>False</td>\n",
       "      <td>False</td>\n",
       "      <td>False</td>\n",
       "      <td>False</td>\n",
       "      <td>True</td>\n",
       "      <td>False</td>\n",
       "      <td>False</td>\n",
       "      <td>False</td>\n",
       "      <td>False</td>\n",
       "      <td>False</td>\n",
       "      <td>False</td>\n",
       "      <td>False</td>\n",
       "      <td>False</td>\n",
       "      <td>False</td>\n",
       "      <td>False</td>\n",
       "    </tr>\n",
       "    <tr>\n",
       "      <th>16</th>\n",
       "      <td>False</td>\n",
       "      <td>False</td>\n",
       "      <td>False</td>\n",
       "      <td>False</td>\n",
       "      <td>False</td>\n",
       "      <td>False</td>\n",
       "      <td>False</td>\n",
       "      <td>False</td>\n",
       "      <td>False</td>\n",
       "      <td>False</td>\n",
       "      <td>False</td>\n",
       "      <td>False</td>\n",
       "      <td>False</td>\n",
       "      <td>False</td>\n",
       "      <td>True</td>\n",
       "      <td>False</td>\n",
       "    </tr>\n",
       "    <tr>\n",
       "      <th>17</th>\n",
       "      <td>False</td>\n",
       "      <td>False</td>\n",
       "      <td>False</td>\n",
       "      <td>False</td>\n",
       "      <td>False</td>\n",
       "      <td>False</td>\n",
       "      <td>False</td>\n",
       "      <td>False</td>\n",
       "      <td>False</td>\n",
       "      <td>False</td>\n",
       "      <td>False</td>\n",
       "      <td>False</td>\n",
       "      <td>False</td>\n",
       "      <td>True</td>\n",
       "      <td>True</td>\n",
       "      <td>False</td>\n",
       "    </tr>\n",
       "    <tr>\n",
       "      <th>18</th>\n",
       "      <td>False</td>\n",
       "      <td>False</td>\n",
       "      <td>False</td>\n",
       "      <td>False</td>\n",
       "      <td>False</td>\n",
       "      <td>False</td>\n",
       "      <td>False</td>\n",
       "      <td>False</td>\n",
       "      <td>False</td>\n",
       "      <td>False</td>\n",
       "      <td>False</td>\n",
       "      <td>False</td>\n",
       "      <td>False</td>\n",
       "      <td>True</td>\n",
       "      <td>False</td>\n",
       "      <td>False</td>\n",
       "    </tr>\n",
       "    <tr>\n",
       "      <th>19</th>\n",
       "      <td>False</td>\n",
       "      <td>False</td>\n",
       "      <td>False</td>\n",
       "      <td>False</td>\n",
       "      <td>False</td>\n",
       "      <td>False</td>\n",
       "      <td>False</td>\n",
       "      <td>False</td>\n",
       "      <td>False</td>\n",
       "      <td>False</td>\n",
       "      <td>False</td>\n",
       "      <td>False</td>\n",
       "      <td>False</td>\n",
       "      <td>True</td>\n",
       "      <td>False</td>\n",
       "      <td>False</td>\n",
       "    </tr>\n",
       "  </tbody>\n",
       "</table>\n",
       "</div>"
      ],
      "text/plain": [
       "   Case Number   Date   Year   Type Country   Area Location Activity   Name  \\\n",
       "0        False  False  False  False   False  False    False    False  False   \n",
       "1        False  False  False  False   False  False    False    False  False   \n",
       "2        False  False  False  False   False  False    False    False  False   \n",
       "3        False  False  False  False   False  False    False    False  False   \n",
       "4        False  False  False  False   False  False    False    False  False   \n",
       "5        False  False  False  False   False  False    False    False  False   \n",
       "6        False  False  False  False   False  False    False    False  False   \n",
       "7        False  False  False  False   False  False    False    False  False   \n",
       "8        False  False  False  False   False  False    False    False  False   \n",
       "9        False  False  False  False   False  False    False    False  False   \n",
       "10       False  False  False  False   False  False    False    False  False   \n",
       "11       False  False  False  False   False  False    False    False  False   \n",
       "12       False  False  False  False   False  False    False    False  False   \n",
       "13       False  False  False  False   False  False    False    False  False   \n",
       "14       False  False  False  False   False  False    False    False  False   \n",
       "15       False  False  False  False   False   True    False    False  False   \n",
       "16       False  False  False  False   False  False    False    False  False   \n",
       "17       False  False  False  False   False  False    False    False  False   \n",
       "18       False  False  False  False   False  False    False    False  False   \n",
       "19       False  False  False  False   False  False    False    False  False   \n",
       "\n",
       "     Sex     Age Injury Fatal (Y/N)   Time Species  Investigator or Source  \n",
       "0   False  False  False       False  False     True                  False  \n",
       "1   False  False  False       False  False     True                  False  \n",
       "2   False  False  False       False  False     True                  False  \n",
       "3   False   True  False       False   True     True                  False  \n",
       "4   False   True  False       False   True    False                  False  \n",
       "5    True   True  False       False   True     True                  False  \n",
       "6   False  False  False       False  False    False                  False  \n",
       "7   False  False  False       False  False    False                  False  \n",
       "8   False  False  False       False  False     True                  False  \n",
       "9   False  False  False       False  False     True                  False  \n",
       "10  False   True  False       False  False     True                  False  \n",
       "11  False  False  False       False   True     True                  False  \n",
       "12  False  False  False       False   True    False                  False  \n",
       "13  False  False  False       False  False    False                  False  \n",
       "14  False  False  False       False  False     True                  False  \n",
       "15  False  False  False       False  False    False                  False  \n",
       "16  False  False  False       False  False     True                  False  \n",
       "17  False  False  False       False   True     True                  False  \n",
       "18  False  False  False       False   True    False                  False  \n",
       "19  False  False  False       False   True    False                  False  "
      ]
     },
     "execution_count": 6,
     "metadata": {},
     "output_type": "execute_result"
    }
   ],
   "source": [
    "data_ta.isnull().head(20) #me devuelve una tabla de F/T que contiene los campos que si es T es vacio o null"
   ]
  },
  {
   "cell_type": "code",
   "execution_count": 9,
   "metadata": {
    "collapsed": false
   },
   "outputs": [
    {
     "data": {
      "text/plain": [
       "Case Number                  0\n",
       "Date                         0\n",
       "Year                         0\n",
       "Type                         0\n",
       "Country                     43\n",
       "Area                       402\n",
       "Location                   496\n",
       "Activity                   527\n",
       "Name                       200\n",
       "Sex                        567\n",
       "Age                       2681\n",
       "Injury                      27\n",
       "Fatal (Y/N)                 19\n",
       "Time                      3213\n",
       "Species                   2934\n",
       "Investigator or Source      15\n",
       "dtype: int64"
      ]
     },
     "execution_count": 9,
     "metadata": {},
     "output_type": "execute_result"
    }
   ],
   "source": [
    "data_ta.isnull().sum() #devuelve la cuenta de Null de cada columna"
   ]
  },
  {
   "cell_type": "code",
   "execution_count": 8,
   "metadata": {
    "collapsed": false
   },
   "outputs": [
    {
     "name": "stdout",
     "output_type": "stream",
     "text": [
      "[nan '2 m shark' \"3' to 4' shark\" ..., \"12' tiger shark\" 'Blue pointers'\n",
      " 'Said to involve a grey nurse shark that leapt out of the water and  seized the boy but species identification is questionable']\n",
      "-------------------------------------------------------\n",
      "['Unprovoked' 'Boat' 'Provoked' 'Invalid' 'Sea Disaster' 'Boating']\n"
     ]
    }
   ],
   "source": [
    "data_species = data_ta.copy()\n",
    "data_species = data_species['Species '].unique()\n",
    "data_type = data_ta['Type'].unique()\n",
    "print data_species\n",
    "print ('-------------------------------------------------------')\n",
    "print data_type"
   ]
  },
  {
   "cell_type": "code",
   "execution_count": 8,
   "metadata": {
    "collapsed": false
   },
   "outputs": [
    {
     "data": {
      "text/html": [
       "<div>\n",
       "<table border=\"1\" class=\"dataframe\">\n",
       "  <thead>\n",
       "    <tr style=\"text-align: right;\">\n",
       "      <th></th>\n",
       "      <th>Case Number</th>\n",
       "      <th>Date</th>\n",
       "      <th>Year</th>\n",
       "      <th>Type</th>\n",
       "      <th>Country</th>\n",
       "      <th>Area</th>\n",
       "      <th>Location</th>\n",
       "      <th>Activity</th>\n",
       "      <th>Name</th>\n",
       "      <th>Sex</th>\n",
       "      <th>Age</th>\n",
       "      <th>Injury</th>\n",
       "      <th>Fatal (Y/N)</th>\n",
       "      <th>Time</th>\n",
       "      <th>Investigator or Source</th>\n",
       "    </tr>\n",
       "    <tr>\n",
       "      <th>Species</th>\n",
       "      <th></th>\n",
       "      <th></th>\n",
       "      <th></th>\n",
       "      <th></th>\n",
       "      <th></th>\n",
       "      <th></th>\n",
       "      <th></th>\n",
       "      <th></th>\n",
       "      <th></th>\n",
       "      <th></th>\n",
       "      <th></th>\n",
       "      <th></th>\n",
       "      <th></th>\n",
       "      <th></th>\n",
       "      <th></th>\n",
       "    </tr>\n",
       "  </thead>\n",
       "  <tbody>\n",
       "    <tr>\n",
       "      <th>White shark</th>\n",
       "      <td>161</td>\n",
       "      <td>161</td>\n",
       "      <td>161</td>\n",
       "      <td>161</td>\n",
       "      <td>161</td>\n",
       "      <td>157</td>\n",
       "      <td>155</td>\n",
       "      <td>155</td>\n",
       "      <td>157</td>\n",
       "      <td>137</td>\n",
       "      <td>93</td>\n",
       "      <td>160</td>\n",
       "      <td>160</td>\n",
       "      <td>93</td>\n",
       "      <td>161</td>\n",
       "    </tr>\n",
       "    <tr>\n",
       "      <th>Shark involvement not confirmed</th>\n",
       "      <td>80</td>\n",
       "      <td>80</td>\n",
       "      <td>80</td>\n",
       "      <td>80</td>\n",
       "      <td>78</td>\n",
       "      <td>76</td>\n",
       "      <td>75</td>\n",
       "      <td>69</td>\n",
       "      <td>75</td>\n",
       "      <td>71</td>\n",
       "      <td>45</td>\n",
       "      <td>79</td>\n",
       "      <td>80</td>\n",
       "      <td>39</td>\n",
       "      <td>79</td>\n",
       "    </tr>\n",
       "    <tr>\n",
       "      <th>Tiger shark</th>\n",
       "      <td>68</td>\n",
       "      <td>68</td>\n",
       "      <td>68</td>\n",
       "      <td>68</td>\n",
       "      <td>68</td>\n",
       "      <td>62</td>\n",
       "      <td>59</td>\n",
       "      <td>65</td>\n",
       "      <td>67</td>\n",
       "      <td>64</td>\n",
       "      <td>43</td>\n",
       "      <td>68</td>\n",
       "      <td>68</td>\n",
       "      <td>32</td>\n",
       "      <td>68</td>\n",
       "    </tr>\n",
       "    <tr>\n",
       "      <th>Bull shark</th>\n",
       "      <td>52</td>\n",
       "      <td>52</td>\n",
       "      <td>52</td>\n",
       "      <td>52</td>\n",
       "      <td>52</td>\n",
       "      <td>48</td>\n",
       "      <td>51</td>\n",
       "      <td>47</td>\n",
       "      <td>51</td>\n",
       "      <td>50</td>\n",
       "      <td>39</td>\n",
       "      <td>52</td>\n",
       "      <td>52</td>\n",
       "      <td>34</td>\n",
       "      <td>52</td>\n",
       "    </tr>\n",
       "    <tr>\n",
       "      <th>6' shark</th>\n",
       "      <td>40</td>\n",
       "      <td>40</td>\n",
       "      <td>40</td>\n",
       "      <td>40</td>\n",
       "      <td>40</td>\n",
       "      <td>38</td>\n",
       "      <td>38</td>\n",
       "      <td>38</td>\n",
       "      <td>39</td>\n",
       "      <td>39</td>\n",
       "      <td>29</td>\n",
       "      <td>40</td>\n",
       "      <td>40</td>\n",
       "      <td>19</td>\n",
       "      <td>40</td>\n",
       "    </tr>\n",
       "  </tbody>\n",
       "</table>\n",
       "</div>"
      ],
      "text/plain": [
       "                                 Case Number  Date  Year  Type  Country  Area  \\\n",
       "Species                                                                         \n",
       "White shark                              161   161   161   161      161   157   \n",
       "Shark involvement not confirmed           80    80    80    80       78    76   \n",
       "Tiger shark                               68    68    68    68       68    62   \n",
       "Bull shark                                52    52    52    52       52    48   \n",
       "6' shark                                  40    40    40    40       40    38   \n",
       "\n",
       "                                 Location  Activity  Name  Sex   Age  Injury  \\\n",
       "Species                                                                        \n",
       "White shark                           155       155   157   137   93     160   \n",
       "Shark involvement not confirmed        75        69    75    71   45      79   \n",
       "Tiger shark                            59        65    67    64   43      68   \n",
       "Bull shark                             51        47    51    50   39      52   \n",
       "6' shark                               38        38    39    39   29      40   \n",
       "\n",
       "                                 Fatal (Y/N)  Time  Investigator or Source  \n",
       "Species                                                                     \n",
       "White shark                              160    93                     161  \n",
       "Shark involvement not confirmed           80    39                      79  \n",
       "Tiger shark                               68    32                      68  \n",
       "Bull shark                                52    34                      52  \n",
       "6' shark                                  40    19                      40  "
      ]
     },
     "execution_count": 8,
     "metadata": {},
     "output_type": "execute_result"
    }
   ],
   "source": [
    "SharkSpecie = data_ta.copy()\n",
    "SharkSpecie = SharkSpecie.groupby('Species ').count() # agrupa por species de tiburones y los cuenta\n",
    "SharkSpecie.sort_values('Case Number', ascending = False).head(5) #ordena la especie de tiburones, los primeros 5"
   ]
  },
  {
   "cell_type": "markdown",
   "metadata": {},
   "source": [
    "## 3. Más valores nulos\n",
    "Vamos a examinar la ocurrencia de eventos por años y países. Para ello:\n",
    "\n",
    "1. Queremos utilizar como índice (país, año) primero. Probar a establecerlo con set_index()\n",
    "¿Hay algún problema de valores nulos en el índice? ¿Son NA o también hay años no válidos?¿Cómo se pueden eliminar?\n",
    "1. Obtener la cuenta de los incidentes en USA en 2014 y 2015. Utilizad .loc e .iloc en la misma expresión."
   ]
  },
  {
   "cell_type": "code",
   "execution_count": 9,
   "metadata": {
    "collapsed": false
   },
   "outputs": [
    {
     "data": {
      "text/html": [
       "<div>\n",
       "<table border=\"1\" class=\"dataframe\">\n",
       "  <thead>\n",
       "    <tr style=\"text-align: right;\">\n",
       "      <th></th>\n",
       "      <th></th>\n",
       "      <th>Case Number</th>\n",
       "      <th>Date</th>\n",
       "      <th>Type</th>\n",
       "      <th>Area</th>\n",
       "      <th>Location</th>\n",
       "      <th>Activity</th>\n",
       "      <th>Name</th>\n",
       "      <th>Sex</th>\n",
       "      <th>Age</th>\n",
       "      <th>Injury</th>\n",
       "      <th>Fatal (Y/N)</th>\n",
       "      <th>Time</th>\n",
       "      <th>Species</th>\n",
       "      <th>Investigator or Source</th>\n",
       "    </tr>\n",
       "    <tr>\n",
       "      <th>Country</th>\n",
       "      <th>Year</th>\n",
       "      <th></th>\n",
       "      <th></th>\n",
       "      <th></th>\n",
       "      <th></th>\n",
       "      <th></th>\n",
       "      <th></th>\n",
       "      <th></th>\n",
       "      <th></th>\n",
       "      <th></th>\n",
       "      <th></th>\n",
       "      <th></th>\n",
       "      <th></th>\n",
       "      <th></th>\n",
       "      <th></th>\n",
       "    </tr>\n",
       "  </thead>\n",
       "  <tbody>\n",
       "    <tr>\n",
       "      <th rowspan=\"3\" valign=\"top\">USA</th>\n",
       "      <th>2016</th>\n",
       "      <td>2016.09.18.c</td>\n",
       "      <td>18-Sep-2016</td>\n",
       "      <td>Unprovoked</td>\n",
       "      <td>Florida</td>\n",
       "      <td>New Smyrna Beach, Volusia County</td>\n",
       "      <td>Surfing</td>\n",
       "      <td>male</td>\n",
       "      <td>M</td>\n",
       "      <td>16</td>\n",
       "      <td>Minor injury to thigh</td>\n",
       "      <td>N</td>\n",
       "      <td>13h00</td>\n",
       "      <td>NaN</td>\n",
       "      <td>Orlando Sentinel, 9/19/2016</td>\n",
       "    </tr>\n",
       "    <tr>\n",
       "      <th>2016</th>\n",
       "      <td>2016.09.18.b</td>\n",
       "      <td>18-Sep-2016</td>\n",
       "      <td>Unprovoked</td>\n",
       "      <td>Florida</td>\n",
       "      <td>New Smyrna Beach, Volusia County</td>\n",
       "      <td>Surfing</td>\n",
       "      <td>Chucky Luciano</td>\n",
       "      <td>M</td>\n",
       "      <td>36</td>\n",
       "      <td>Lacerations to hands</td>\n",
       "      <td>N</td>\n",
       "      <td>11h00</td>\n",
       "      <td>NaN</td>\n",
       "      <td>Orlando Sentinel, 9/19/2016</td>\n",
       "    </tr>\n",
       "    <tr>\n",
       "      <th>2016</th>\n",
       "      <td>2016.09.18.a</td>\n",
       "      <td>18-Sep-2016</td>\n",
       "      <td>Unprovoked</td>\n",
       "      <td>Florida</td>\n",
       "      <td>New Smyrna Beach, Volusia County</td>\n",
       "      <td>Surfing</td>\n",
       "      <td>male</td>\n",
       "      <td>M</td>\n",
       "      <td>43</td>\n",
       "      <td>Lacerations to lower leg</td>\n",
       "      <td>N</td>\n",
       "      <td>10h43</td>\n",
       "      <td>NaN</td>\n",
       "      <td>Orlando Sentinel, 9/19/2016</td>\n",
       "    </tr>\n",
       "    <tr>\n",
       "      <th rowspan=\"2\" valign=\"top\">AUSTRALIA</th>\n",
       "      <th>2016</th>\n",
       "      <td>2016.09.17</td>\n",
       "      <td>17-Sep-2016</td>\n",
       "      <td>Unprovoked</td>\n",
       "      <td>Victoria</td>\n",
       "      <td>Thirteenth Beach</td>\n",
       "      <td>Surfing</td>\n",
       "      <td>Rory Angiolella</td>\n",
       "      <td>M</td>\n",
       "      <td>NaN</td>\n",
       "      <td>Struck by fin on chest &amp; leg</td>\n",
       "      <td>N</td>\n",
       "      <td>NaN</td>\n",
       "      <td>NaN</td>\n",
       "      <td>The Age, 9/18/2016</td>\n",
       "    </tr>\n",
       "    <tr>\n",
       "      <th>2016</th>\n",
       "      <td>2016.09.15</td>\n",
       "      <td>16-Sep-2016</td>\n",
       "      <td>Unprovoked</td>\n",
       "      <td>Victoria</td>\n",
       "      <td>Bells Beach</td>\n",
       "      <td>Surfing</td>\n",
       "      <td>male</td>\n",
       "      <td>M</td>\n",
       "      <td>NaN</td>\n",
       "      <td>No injury: Knocked off board by shark</td>\n",
       "      <td>N</td>\n",
       "      <td>NaN</td>\n",
       "      <td>2 m shark</td>\n",
       "      <td>The Age, 9/16/2016</td>\n",
       "    </tr>\n",
       "  </tbody>\n",
       "</table>\n",
       "</div>"
      ],
      "text/plain": [
       "                 Case Number         Date        Type      Area  \\\n",
       "Country   Year                                                    \n",
       "USA       2016  2016.09.18.c  18-Sep-2016  Unprovoked   Florida   \n",
       "          2016  2016.09.18.b  18-Sep-2016  Unprovoked   Florida   \n",
       "          2016  2016.09.18.a  18-Sep-2016  Unprovoked   Florida   \n",
       "AUSTRALIA 2016    2016.09.17  17-Sep-2016  Unprovoked  Victoria   \n",
       "          2016    2016.09.15  16-Sep-2016  Unprovoked  Victoria   \n",
       "\n",
       "                                        Location Activity             Name  \\\n",
       "Country   Year                                                               \n",
       "USA       2016  New Smyrna Beach, Volusia County  Surfing             male   \n",
       "          2016  New Smyrna Beach, Volusia County  Surfing   Chucky Luciano   \n",
       "          2016  New Smyrna Beach, Volusia County  Surfing             male   \n",
       "AUSTRALIA 2016                  Thirteenth Beach  Surfing  Rory Angiolella   \n",
       "          2016                       Bells Beach  Surfing             male   \n",
       "\n",
       "               Sex   Age                                 Injury Fatal (Y/N)  \\\n",
       "Country   Year                                                                \n",
       "USA       2016    M   16                  Minor injury to thigh           N   \n",
       "          2016    M   36                   Lacerations to hands           N   \n",
       "          2016    M   43               Lacerations to lower leg           N   \n",
       "AUSTRALIA 2016    M  NaN           Struck by fin on chest & leg           N   \n",
       "          2016    M  NaN  No injury: Knocked off board by shark           N   \n",
       "\n",
       "                 Time   Species        Investigator or Source  \n",
       "Country   Year                                                 \n",
       "USA       2016  13h00        NaN  Orlando Sentinel, 9/19/2016  \n",
       "          2016  11h00        NaN  Orlando Sentinel, 9/19/2016  \n",
       "          2016  10h43        NaN  Orlando Sentinel, 9/19/2016  \n",
       "AUSTRALIA 2016    NaN        NaN           The Age, 9/18/2016  \n",
       "          2016    NaN  2 m shark           The Age, 9/16/2016  "
      ]
     },
     "execution_count": 9,
     "metadata": {},
     "output_type": "execute_result"
    }
   ],
   "source": [
    "data_ta1 = data_ta.copy()\n",
    "data_ta.set_index(['Country','Year']).head() #me  agrupa los index primero por Country y luego por Year"
   ]
  },
  {
   "cell_type": "code",
   "execution_count": 10,
   "metadata": {
    "collapsed": false,
    "scrolled": true
   },
   "outputs": [
    {
     "data": {
      "text/html": [
       "<div>\n",
       "<table border=\"1\" class=\"dataframe\">\n",
       "  <thead>\n",
       "    <tr style=\"text-align: right;\">\n",
       "      <th></th>\n",
       "      <th></th>\n",
       "      <th>Case Number</th>\n",
       "      <th>Date</th>\n",
       "      <th>Type</th>\n",
       "      <th>Area</th>\n",
       "      <th>Location</th>\n",
       "      <th>Activity</th>\n",
       "      <th>Name</th>\n",
       "      <th>Sex</th>\n",
       "      <th>Age</th>\n",
       "      <th>Injury</th>\n",
       "      <th>Fatal (Y/N)</th>\n",
       "      <th>Time</th>\n",
       "      <th>Species</th>\n",
       "      <th>Investigator or Source</th>\n",
       "    </tr>\n",
       "    <tr>\n",
       "      <th>Country</th>\n",
       "      <th>Year</th>\n",
       "      <th></th>\n",
       "      <th></th>\n",
       "      <th></th>\n",
       "      <th></th>\n",
       "      <th></th>\n",
       "      <th></th>\n",
       "      <th></th>\n",
       "      <th></th>\n",
       "      <th></th>\n",
       "      <th></th>\n",
       "      <th></th>\n",
       "      <th></th>\n",
       "      <th></th>\n",
       "      <th></th>\n",
       "    </tr>\n",
       "  </thead>\n",
       "  <tbody>\n",
       "    <tr>\n",
       "      <th rowspan=\"3\" valign=\"top\">USA</th>\n",
       "      <th>2016</th>\n",
       "      <td>2016.09.18.c</td>\n",
       "      <td>18-Sep-2016</td>\n",
       "      <td>Unprovoked</td>\n",
       "      <td>Florida</td>\n",
       "      <td>New Smyrna Beach, Volusia County</td>\n",
       "      <td>Surfing</td>\n",
       "      <td>male</td>\n",
       "      <td>M</td>\n",
       "      <td>16</td>\n",
       "      <td>Minor injury to thigh</td>\n",
       "      <td>N</td>\n",
       "      <td>13h00</td>\n",
       "      <td>NaN</td>\n",
       "      <td>Orlando Sentinel, 9/19/2016</td>\n",
       "    </tr>\n",
       "    <tr>\n",
       "      <th>2016</th>\n",
       "      <td>2016.09.18.b</td>\n",
       "      <td>18-Sep-2016</td>\n",
       "      <td>Unprovoked</td>\n",
       "      <td>Florida</td>\n",
       "      <td>New Smyrna Beach, Volusia County</td>\n",
       "      <td>Surfing</td>\n",
       "      <td>Chucky Luciano</td>\n",
       "      <td>M</td>\n",
       "      <td>36</td>\n",
       "      <td>Lacerations to hands</td>\n",
       "      <td>N</td>\n",
       "      <td>11h00</td>\n",
       "      <td>NaN</td>\n",
       "      <td>Orlando Sentinel, 9/19/2016</td>\n",
       "    </tr>\n",
       "    <tr>\n",
       "      <th>2016</th>\n",
       "      <td>2016.09.18.a</td>\n",
       "      <td>18-Sep-2016</td>\n",
       "      <td>Unprovoked</td>\n",
       "      <td>Florida</td>\n",
       "      <td>New Smyrna Beach, Volusia County</td>\n",
       "      <td>Surfing</td>\n",
       "      <td>male</td>\n",
       "      <td>M</td>\n",
       "      <td>43</td>\n",
       "      <td>Lacerations to lower leg</td>\n",
       "      <td>N</td>\n",
       "      <td>10h43</td>\n",
       "      <td>NaN</td>\n",
       "      <td>Orlando Sentinel, 9/19/2016</td>\n",
       "    </tr>\n",
       "    <tr>\n",
       "      <th rowspan=\"2\" valign=\"top\">AUSTRALIA</th>\n",
       "      <th>2016</th>\n",
       "      <td>2016.09.17</td>\n",
       "      <td>17-Sep-2016</td>\n",
       "      <td>Unprovoked</td>\n",
       "      <td>Victoria</td>\n",
       "      <td>Thirteenth Beach</td>\n",
       "      <td>Surfing</td>\n",
       "      <td>Rory Angiolella</td>\n",
       "      <td>M</td>\n",
       "      <td>NaN</td>\n",
       "      <td>Struck by fin on chest &amp; leg</td>\n",
       "      <td>N</td>\n",
       "      <td>NaN</td>\n",
       "      <td>NaN</td>\n",
       "      <td>The Age, 9/18/2016</td>\n",
       "    </tr>\n",
       "    <tr>\n",
       "      <th>2016</th>\n",
       "      <td>2016.09.15</td>\n",
       "      <td>16-Sep-2016</td>\n",
       "      <td>Unprovoked</td>\n",
       "      <td>Victoria</td>\n",
       "      <td>Bells Beach</td>\n",
       "      <td>Surfing</td>\n",
       "      <td>male</td>\n",
       "      <td>M</td>\n",
       "      <td>NaN</td>\n",
       "      <td>No injury: Knocked off board by shark</td>\n",
       "      <td>N</td>\n",
       "      <td>NaN</td>\n",
       "      <td>2 m shark</td>\n",
       "      <td>The Age, 9/16/2016</td>\n",
       "    </tr>\n",
       "  </tbody>\n",
       "</table>\n",
       "</div>"
      ],
      "text/plain": [
       "                 Case Number         Date        Type      Area  \\\n",
       "Country   Year                                                    \n",
       "USA       2016  2016.09.18.c  18-Sep-2016  Unprovoked   Florida   \n",
       "          2016  2016.09.18.b  18-Sep-2016  Unprovoked   Florida   \n",
       "          2016  2016.09.18.a  18-Sep-2016  Unprovoked   Florida   \n",
       "AUSTRALIA 2016    2016.09.17  17-Sep-2016  Unprovoked  Victoria   \n",
       "          2016    2016.09.15  16-Sep-2016  Unprovoked  Victoria   \n",
       "\n",
       "                                        Location Activity             Name  \\\n",
       "Country   Year                                                               \n",
       "USA       2016  New Smyrna Beach, Volusia County  Surfing             male   \n",
       "          2016  New Smyrna Beach, Volusia County  Surfing   Chucky Luciano   \n",
       "          2016  New Smyrna Beach, Volusia County  Surfing             male   \n",
       "AUSTRALIA 2016                  Thirteenth Beach  Surfing  Rory Angiolella   \n",
       "          2016                       Bells Beach  Surfing             male   \n",
       "\n",
       "               Sex   Age                                 Injury Fatal (Y/N)  \\\n",
       "Country   Year                                                                \n",
       "USA       2016    M   16                  Minor injury to thigh           N   \n",
       "          2016    M   36                   Lacerations to hands           N   \n",
       "          2016    M   43               Lacerations to lower leg           N   \n",
       "AUSTRALIA 2016    M  NaN           Struck by fin on chest & leg           N   \n",
       "          2016    M  NaN  No injury: Knocked off board by shark           N   \n",
       "\n",
       "                 Time   Species        Investigator or Source  \n",
       "Country   Year                                                 \n",
       "USA       2016  13h00        NaN  Orlando Sentinel, 9/19/2016  \n",
       "          2016  11h00        NaN  Orlando Sentinel, 9/19/2016  \n",
       "          2016  10h43        NaN  Orlando Sentinel, 9/19/2016  \n",
       "AUSTRALIA 2016    NaN        NaN           The Age, 9/18/2016  \n",
       "          2016    NaN  2 m shark           The Age, 9/16/2016  "
      ]
     },
     "execution_count": 10,
     "metadata": {},
     "output_type": "execute_result"
    }
   ],
   "source": [
    "#data_ta1['Year'].unique()\n",
    "data_ta1 = data_ta1[data_ta1['Year'] > 500] #data_ta1 contiene Years > 500 años (5865 registros)\n",
    "\n",
    "data_ta2 = data_ta1.copy() # se crea data_ta2 se quiere quitar los 'Null or NaN' de los country\n",
    "\n",
    "data_ta2 = data_ta2[pd.notnull(data_ta2['Country'])] # se quiere ahora quiter los Null de country\n",
    "\n",
    "data_ta2.set_index(['Country','Year']).head(5) # set_index sin null en country y year >500 (5827 registros)\n"
   ]
  },
  {
   "cell_type": "code",
   "execution_count": 11,
   "metadata": {
    "collapsed": false,
    "scrolled": true
   },
   "outputs": [
    {
     "name": "stdout",
     "output_type": "stream",
     "text": [
      "Country  Year\n",
      "USA      2014    65\n",
      "         2015    72\n",
      "dtype: int64\n"
     ]
    },
    {
     "data": {
      "text/plain": [
       "<matplotlib.axes._subplots.AxesSubplot at 0x9cdad68>"
      ]
     },
     "execution_count": 11,
     "metadata": {},
     "output_type": "execute_result"
    },
    {
     "data": {
      "image/png": "[encoded data removed]",
      "text/plain": [
       "<matplotlib.figure.Figure at 0x47916a0>"
      ]
     },
     "metadata": {},
     "output_type": "display_data"
    }
   ],
   "source": [
    "#Indexando por .loc[ ]\n",
    "CY = data_ta2.copy()\n",
    "\n",
    "CY = CY[['Country','Year']].groupby(['Country','Year']).size()\n",
    "print CY.loc['USA',2014:2015]\n",
    "\n",
    "CY.loc['USA',2014:2015].plot.bar()\n",
    "\n",
    "#data_ta2[(data_ta2.Country == 'USA')&((data_ta2.Year == 2014)|(data_ta2.Year == 2015))].groupby(['Year','Country']).size()#.agg({'Country': np.size})\n"
   ]
  },
  {
   "cell_type": "code",
   "execution_count": 12,
   "metadata": {
    "collapsed": false
   },
   "outputs": [
    {
     "name": "stdout",
     "output_type": "stream",
     "text": [
      "Country  Year\n",
      "USA      2014    65\n",
      "         2015    72\n",
      "dtype: int64\n"
     ]
    },
    {
     "data": {
      "text/plain": [
       "Series([], dtype: int64)"
      ]
     },
     "execution_count": 12,
     "metadata": {},
     "output_type": "execute_result"
    }
   ],
   "source": [
    "#Indexando por .iloc[ ]\n",
    "CY = data_ta2.copy()\n",
    "\n",
    "CY = CY[['Country','Year']].groupby(['Country','Year']).size()\n",
    "print CY.loc['USA',2014:2015]\n",
    "\n",
    "CY.loc['USA'].iloc[2014:2015]\n",
    "\n",
    "#CY.stack().unstack('Country').apply(mean)\n",
    "#CY.loc[2014,(CY[CY['Country'] == 'USA'])].count()"
   ]
  },
  {
   "cell_type": "markdown",
   "metadata": {},
   "source": [
    "## 4. Distribución y correlaciones (i)\n",
    "Ahora queremos observar la distribución de los incidentes, primero por países y luego por años.\n",
    "\n",
    "1. Mostrar los tres países que tienen más incidentes.\n",
    "1. Dibujar la distribución por años de los incidentes, señalar el año en el que más se han producido.\n",
    "1. Para los dos países con más incidentes, mostrar su evolución por años."
   ]
  },
  {
   "cell_type": "code",
   "execution_count": 42,
   "metadata": {
    "collapsed": false
   },
   "outputs": [
    {
     "name": "stdout",
     "output_type": "stream",
     "text": [
      "              Year\n",
      "Country           \n",
      "USA           2099\n",
      "AUSTRALIA     1262\n",
      "SOUTH AFRICA   557\n"
     ]
    },
    {
     "data": {
      "text/plain": [
       "<matplotlib.axes._subplots.AxesSubplot at 0xb4245f8>"
      ]
     },
     "execution_count": 42,
     "metadata": {},
     "output_type": "execute_result"
    },
    {
     "data": {
      "image/png": "[encoded data removed]",
      "text/plain": [
       "<matplotlib.figure.Figure at 0xbc4ff98>"
      ]
     },
     "metadata": {},
     "output_type": "display_data"
    }
   ],
   "source": [
    "#IC = Incident/Country incidentes por país\n",
    "\n",
    "IC = data_ta2.copy()\n",
    "cols = ['Country', 'Year']\n",
    "\n",
    "\n",
    "IC = IC[cols].groupby('Country').count().sort_values('Year',ascending=False).head() #devuelve los paises con mas incidentes Rank3\n",
    "\n",
    "CountryRank = IC.head(3)\n",
    "print CountryRank\n",
    "\n",
    "IC.head(3).plot.bar()\n",
    "\n"
   ]
  },
  {
   "cell_type": "code",
   "execution_count": 43,
   "metadata": {
    "collapsed": false
   },
   "outputs": [
    {
     "data": {
      "text/plain": [
       "<matplotlib.axes._subplots.AxesSubplot at 0x9f1b470>"
      ]
     },
     "execution_count": 43,
     "metadata": {},
     "output_type": "execute_result"
    },
    {
     "data": {
      "image/png": "[encoded data removed]",
      "text/plain": [
       "<matplotlib.figure.Figure at 0xadde8d0>"
      ]
     },
     "metadata": {},
     "output_type": "display_data"
    }
   ],
   "source": [
    "%matplotlib inline\n",
    "\n",
    "ICI = IC.index.values\n",
    "\n",
    "IC.plot.hist() # colocamos la coma para que no se muestren los valores que se plotean\n",
    "#plt.xlabel('Country')\n",
    "#plt.ylabel('Frecuencies')\n",
    "#plt.title('Incidents by Countries')"
   ]
  },
  {
   "cell_type": "code",
   "execution_count": 44,
   "metadata": {
    "collapsed": false
   },
   "outputs": [
    {
     "name": "stdout",
     "output_type": "stream",
     "text": [
      "Year\n",
      "2015    139\n",
      "2011    128\n",
      "2014    124\n",
      "2013    122\n",
      "2008    121\n",
      "dtype: int64\n"
     ]
    },
    {
     "data": {
      "text/plain": [
       "<matplotlib.axes._subplots.AxesSubplot at 0xbc4fa20>"
      ]
     },
     "execution_count": 44,
     "metadata": {},
     "output_type": "execute_result"
    },
    {
     "data": {
      "image/png": "[encoded data removed]",
      "text/plain": [
       "<matplotlib.figure.Figure at 0xc414668>"
      ]
     },
     "metadata": {},
     "output_type": "display_data"
    }
   ],
   "source": [
    "#IY = Incident/Year incidentes por año\n",
    "\n",
    "IY = data_ta2.copy() \n",
    "\n",
    "IY = IY[['Year']].groupby(['Year']).size().sort_values(ascending=False) #Devuelve los años con mas incidentes rank 3\n",
    "\n",
    "print IY.head(5)\n",
    "IY.head(5).plot.bar()"
   ]
  },
  {
   "cell_type": "code",
   "execution_count": 46,
   "metadata": {
    "collapsed": false,
    "scrolled": true
   },
   "outputs": [
    {
     "data": {
      "image/png": "[encoded data removed]",
      "text/plain": [
       "<matplotlib.figure.Figure at 0xc5f3208>"
      ]
     },
     "metadata": {},
     "output_type": "display_data"
    }
   ],
   "source": [
    "plt.hist(IY); # colocamos la coma para que no se muestren los valores que se plotean\n"
   ]
  },
  {
   "cell_type": "code",
   "execution_count": 47,
   "metadata": {
    "collapsed": false,
    "scrolled": true
   },
   "outputs": [
    {
     "name": "stdout",
     "output_type": "stream",
     "text": [
      "1642\n",
      "2016\n"
     ]
    },
    {
     "data": {
      "text/plain": [
       "<matplotlib.text.Text at 0xc2cde10>"
      ]
     },
     "execution_count": 47,
     "metadata": {},
     "output_type": "execute_result"
    },
    {
     "data": {
      "image/png": "[encoded data removed]",
      "text/plain": [
       "<matplotlib.figure.Figure at 0xc4ef208>"
      ]
     },
     "metadata": {},
     "output_type": "display_data"
    }
   ],
   "source": [
    "# CY country/Year evolution\n",
    "CY3 = data_ta2.copy()\n",
    "\n",
    "CY3 = CY3[['Country','Year']].groupby(['Country','Year'],sort=True).size()\n",
    "CY3\n",
    "print CY3['USA'].index.values.min()\n",
    "print CY3['USA'].index.values.max()\n",
    "\n",
    "\n",
    "# USA Incidents from 2002 to 2016\n",
    "\n",
    "CY3.loc[('USA'), 2000:2016].plot.bar()\n",
    "plt.xlabel('Years')\n",
    "plt.title('USA Incidents from 2002 to 2016')\n",
    "\n",
    "\n",
    "\n",
    "#plt.hist(CY3['USA'],len(CY3['USA'].index.values));\n",
    "\n",
    "#plt.xlabel(CY3['USA'].index.values)"
   ]
  },
  {
   "cell_type": "code",
   "execution_count": 48,
   "metadata": {
    "collapsed": false
   },
   "outputs": [
    {
     "data": {
      "text/plain": [
       "<matplotlib.text.Text at 0xccc2be0>"
      ]
     },
     "execution_count": 48,
     "metadata": {},
     "output_type": "execute_result"
    },
    {
     "data": {
      "image/png": "[encoded data removed]",
      "text/plain": [
       "<matplotlib.figure.Figure at 0xc414898>"
      ]
     },
     "metadata": {},
     "output_type": "display_data"
    }
   ],
   "source": [
    "# Australia Incidents from 2002 to 2016\n",
    "CY3.loc[('AUSTRALIA'), 2000:2016].plot.bar() \n",
    "plt.xlabel('Years')\n",
    "plt.title('Australia Incidents from 2002 to 2016')"
   ]
  },
  {
   "cell_type": "markdown",
   "metadata": {},
   "source": [
    "## 5. Distribución y correlaciones (ii)\n",
    "A continuación, queremos examinar el sexo y la edad de los implicados en incidentes.\n",
    "Mostrad la distribución de los incidentes por sexo, e intentad obtener la media de la edad de los\n",
    "implicados en los incidentes.\n",
    "\n",
    "Observad:\n",
    "\n",
    "1. Valores nulos o valores que parecen incorrectos.\n",
    "1. El tipo de los valores de la columna \"Age\". Si fuese necesario cambiarlos, buscar formas de\n",
    "1. convertir de valores de cadena a valores numéricos en pandas."
   ]
  },
  {
   "cell_type": "code",
   "execution_count": 83,
   "metadata": {
    "collapsed": false
   },
   "outputs": [],
   "source": [
    "#Sex/Age Analysis\n",
    "cols = ['Sex ', 'Age']\n",
    "por_sexo = data_ta[cols].dropna()\n"
   ]
  },
  {
   "cell_type": "code",
   "execution_count": 98,
   "metadata": {
    "collapsed": false
   },
   "outputs": [
    {
     "data": {
      "text/plain": [
       "array(['M', 'F', 'M ', 'lli'], dtype=object)"
      ]
     },
     "execution_count": 98,
     "metadata": {},
     "output_type": "execute_result"
    }
   ],
   "source": [
    "por_sexo['Sex '].unique()"
   ]
  },
  {
   "cell_type": "code",
   "execution_count": 105,
   "metadata": {
    "collapsed": false
   },
   "outputs": [],
   "source": [
    "por_sexo = por_sexo[(por_sexo['Sex ']=='F') | (por_sexo['Sex ']=='M')]"
   ]
  },
  {
   "cell_type": "code",
   "execution_count": 106,
   "metadata": {
    "collapsed": false
   },
   "outputs": [
    {
     "data": {
      "text/html": [
       "<div>\n",
       "<table border=\"1\" class=\"dataframe\">\n",
       "  <thead>\n",
       "    <tr style=\"text-align: right;\">\n",
       "      <th></th>\n",
       "      <th>Age</th>\n",
       "    </tr>\n",
       "    <tr>\n",
       "      <th>Sex</th>\n",
       "      <th></th>\n",
       "    </tr>\n",
       "  </thead>\n",
       "  <tbody>\n",
       "    <tr>\n",
       "      <th>F</th>\n",
       "      <td>426</td>\n",
       "    </tr>\n",
       "    <tr>\n",
       "      <th>M</th>\n",
       "      <td>2841</td>\n",
       "    </tr>\n",
       "  </tbody>\n",
       "</table>\n",
       "</div>"
      ],
      "text/plain": [
       "       Age\n",
       "Sex       \n",
       "F      426\n",
       "M     2841"
      ]
     },
     "execution_count": 106,
     "metadata": {},
     "output_type": "execute_result"
    }
   ],
   "source": [
    "por_sexo.groupby('Sex ').count()"
   ]
  },
  {
   "cell_type": "markdown",
   "metadata": {
    "collapsed": false
   },
   "source": [
    "Analisis por Edad"
   ]
  },
  {
   "cell_type": "code",
   "execution_count": 118,
   "metadata": {
    "collapsed": false
   },
   "outputs": [],
   "source": [
    "#Por Edad\n",
    "por_edad = data_ta[cols].dropna()#Borramos NA"
   ]
  },
  {
   "cell_type": "code",
   "execution_count": 122,
   "metadata": {
    "collapsed": false
   },
   "outputs": [
    {
     "data": {
      "text/plain": [
       "array(['16', '36', '43', '60s', '51', '50', '12', '9', '22', '25', '37',\n",
       "       '20', '49', '15', '21', '40', '72', '18', '29', '31', '11', '10',\n",
       "       '59', '42', '34', '35', '19', '6', '27', '64', '60', '23', '52',\n",
       "       '13', '57', '48', '39', '24', '26', '69', '46', 'Teen', '41', '45',\n",
       "       '65', '38', '71', '32', '58', '28', '54', '44', '14', '7', '62',\n",
       "       '40s', '68', '47', '17', '30', '63', '70', '18 months', '53', '20s',\n",
       "       '33', '30s', '50s', '8', '61', '55', 'teen', '66', '77', '74', '3',\n",
       "       '56', '28 & 26', '5', '86', '18 or 20', '12 or 13', '46 & 34',\n",
       "       '28, 23 & 30', 'Teens', '8 or 10', '84', '\\xa0 ', ' ', '30 or 36',\n",
       "       '6\\xbd', '21 & ?', '75', '33 or 37', 'mid-30s', '73', '23 & 20',\n",
       "       ' 30', '7      &    31', ' 28', '20?', \"60's\", '32 & 30',\n",
       "       '16 to 18', '87', '67', 'Elderly', 'mid-20s', 'Ca. 33', '74 ',\n",
       "       '45 ', '21 or 26', '20 ', '>50', '18 to 22', 'adult', '? & 19',\n",
       "       '9 months', '25 to 35', '23 & 26', '1', '(adult)', '33 & 37',\n",
       "       '25 or 28', '37, 67, 35, 27,  ? & 27', '21, 34,24 & 35', '30 & 32',\n",
       "       '17 & 35', 'X', '\"middle-age\"', '13 or 18', '34 & 19', '33 & 26',\n",
       "       ' 43', '81', '\"young\"', '7 or 8', 'F', 'Both 11', '9 or 10',\n",
       "       'young', '36 & 23', '  ', '78', 'A.M.', '?    &   14', '10 or 12',\n",
       "       '31 or 33', '2\\xbd', '13 or 14'], dtype=object)"
      ]
     },
     "execution_count": 122,
     "metadata": {},
     "output_type": "execute_result"
    }
   ],
   "source": [
    "por_edad['Age'].unique()"
   ]
  },
  {
   "cell_type": "code",
   "execution_count": 129,
   "metadata": {
    "collapsed": false
   },
   "outputs": [
    {
     "data": {
      "text/plain": [
       "Age    27.148615\n",
       "dtype: float64"
      ]
     },
     "execution_count": 129,
     "metadata": {},
     "output_type": "execute_result"
    }
   ],
   "source": [
    "por_edad['Age'] = pd.to_numeric(por_edad['Age'],errors='coerce') # to_numeric, convierte los valores a numerocos y los errores los vuelve NaN\n",
    "por_edad.mean()"
   ]
  },
  {
   "cell_type": "code",
   "execution_count": null,
   "metadata": {
    "collapsed": true
   },
   "outputs": [],
   "source": []
  }
 ],
 "metadata": {
  "anaconda-cloud": {},
  "kernelspec": {
   "display_name": "Python [conda root]",
   "language": "python",
   "name": "conda-root-py"
  },
  "language_info": {
   "codemirror_mode": {
    "name": "ipython",
    "version": 2
   },
   "file_extension": ".py",
   "mimetype": "text/x-python",
   "name": "python",
   "nbconvert_exporter": "python",
   "pygments_lexer": "ipython2",
   "version": "2.7.12"
  }
 },
 "nbformat": 4,
 "nbformat_minor": 1
}
