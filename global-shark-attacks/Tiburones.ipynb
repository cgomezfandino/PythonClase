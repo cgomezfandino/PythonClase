{
 "cells": [
  {
   "cell_type": "markdown",
   "metadata": {},
   "source": [
    "## El ataque de los tiburones"
   ]
  },
  {
   "cell_type": "markdown",
   "metadata": {},
   "source": [
    "En este ejercicio vamos a tratar con el dataset \"Global Shark Attacks\" que recoge una base de datos de incidentes humano-tiburón. Más información sobre el dataset aquí:\n",
    "http://www.sharkattackfile.net/index.htm "
   ]
  },
  {
   "cell_type": "markdown",
   "metadata": {},
   "source": [
    "### 1. Descarga de datos"
   ]
  },
  {
   "cell_type": "markdown",
   "metadata": {},
   "source": [
    "Hay una descripción en Kaggle, esta es la página Web:\n",
    "https://www.kaggle.com/teajay/global-shark-attacks\n",
    "\n",
    "Y el enlace a la descarga directa es el siguiente:\n",
    "https://www.kaggle.com/teajay/global-shark-attacks/downloads/global-shark-attacks.zip \n",
    "Nótese que kaggle requiere identificarse, por lo que no pueden descargarse sin autentificación los ficheros. "
   ]
  },
  {
   "cell_type": "markdown",
   "metadata": {},
   "source": [
    "Se pide lo siguiente:\n",
    "* Cargad el fichero en un `DataFrame` de `pandas`.\n",
    "* Comparad las columns cargadas con las del fichero Excel. ¿Hay información que deberíamos quitar? Nota: con `columns` podemos obtener la lista de columnas del DataFrame.\n"
   ]
  },
  {
   "cell_type": "code",
   "execution_count": 1,
   "metadata": {
    "collapsed": false
   },
   "outputs": [
    {
     "data": {
      "text/html": [
       "<div>\n",
       "<table border=\"1\" class=\"dataframe\">\n",
       "  <thead>\n",
       "    <tr style=\"text-align: right;\">\n",
       "      <th></th>\n",
       "      <th>Case Number</th>\n",
       "      <th>Date</th>\n",
       "      <th>Year</th>\n",
       "      <th>Type</th>\n",
       "      <th>Country</th>\n",
       "      <th>Area</th>\n",
       "      <th>Location</th>\n",
       "      <th>Activity</th>\n",
       "      <th>Name</th>\n",
       "      <th>Sex</th>\n",
       "      <th>...</th>\n",
       "      <th>Species</th>\n",
       "      <th>Investigator or Source</th>\n",
       "      <th>pdf</th>\n",
       "      <th>href formula</th>\n",
       "      <th>href</th>\n",
       "      <th>Case Number.1</th>\n",
       "      <th>Case Number.2</th>\n",
       "      <th>original order</th>\n",
       "      <th>Unnamed: 22</th>\n",
       "      <th>Unnamed: 23</th>\n",
       "    </tr>\n",
       "  </thead>\n",
       "  <tbody>\n",
       "    <tr>\n",
       "      <th>0</th>\n",
       "      <td>2016.10.15</td>\n",
       "      <td>15-Oct-2016</td>\n",
       "      <td>2016.0</td>\n",
       "      <td>Unprovoked</td>\n",
       "      <td>AUSTRALIA</td>\n",
       "      <td>Queensland</td>\n",
       "      <td>Kings Beach, Caloundra</td>\n",
       "      <td>Surfing</td>\n",
       "      <td>Cooper Hallam</td>\n",
       "      <td>M</td>\n",
       "      <td>...</td>\n",
       "      <td>NaN</td>\n",
       "      <td>Daily Mail, 10/16/2016</td>\n",
       "      <td>2016.10.15-Hallam.pdf</td>\n",
       "      <td>http://sharkattackfile.net/spreadsheets/pdf_di...</td>\n",
       "      <td>http://sharkattackfile.net/spreadsheets/pdf_di...</td>\n",
       "      <td>2016.10.15</td>\n",
       "      <td>2016.10.15</td>\n",
       "      <td>6993.0</td>\n",
       "      <td>NaN</td>\n",
       "      <td>NaN</td>\n",
       "    </tr>\n",
       "    <tr>\n",
       "      <th>1</th>\n",
       "      <td>2016.10.24</td>\n",
       "      <td>24-Oct-2016</td>\n",
       "      <td>2016.0</td>\n",
       "      <td>Unprovoked</td>\n",
       "      <td>AUSTRALIA</td>\n",
       "      <td>New South Wales</td>\n",
       "      <td>Broken Head Beach</td>\n",
       "      <td>Surfing</td>\n",
       "      <td>Jade Fitzpatrick</td>\n",
       "      <td>M</td>\n",
       "      <td>...</td>\n",
       "      <td>NaN</td>\n",
       "      <td>Daily Mail, 10/24/2016</td>\n",
       "      <td>2016.10.24-Fitzpatrick.pdf</td>\n",
       "      <td>http://sharkattackfile.net/spreadsheets/pdf_di...</td>\n",
       "      <td>http://sharkattackfile.net/spreadsheets/pdf_di...</td>\n",
       "      <td>2016.10.24</td>\n",
       "      <td>2016.10.24</td>\n",
       "      <td>6005.0</td>\n",
       "      <td>NaN</td>\n",
       "      <td>NaN</td>\n",
       "    </tr>\n",
       "    <tr>\n",
       "      <th>2</th>\n",
       "      <td>2016.10.21</td>\n",
       "      <td>21-Oct-2016</td>\n",
       "      <td>2016.0</td>\n",
       "      <td>Unprovoked</td>\n",
       "      <td>USA</td>\n",
       "      <td>Hawaii</td>\n",
       "      <td>Hooipa Beach Park, Maui</td>\n",
       "      <td>Surfing</td>\n",
       "      <td>Federico Jaime</td>\n",
       "      <td>M</td>\n",
       "      <td>...</td>\n",
       "      <td>5' shark</td>\n",
       "      <td>Surfline, 10/23/2016</td>\n",
       "      <td>2016.10.21-Hookipa.pdf</td>\n",
       "      <td>http://sharkattackfile.net/spreadsheets/pdf_di...</td>\n",
       "      <td>http://sharkattackfile.net/spreadsheets/pdf_di...</td>\n",
       "      <td>2016.10.21</td>\n",
       "      <td>2016.10.21</td>\n",
       "      <td>6004.0</td>\n",
       "      <td>NaN</td>\n",
       "      <td>NaN</td>\n",
       "    </tr>\n",
       "  </tbody>\n",
       "</table>\n",
       "<p>3 rows × 24 columns</p>\n",
       "</div>"
      ],
      "text/plain": [
       "  Case Number         Date    Year        Type    Country             Area  \\\n",
       "0  2016.10.15  15-Oct-2016  2016.0  Unprovoked  AUSTRALIA       Queensland   \n",
       "1  2016.10.24  24-Oct-2016  2016.0  Unprovoked  AUSTRALIA  New South Wales   \n",
       "2  2016.10.21  21-Oct-2016  2016.0  Unprovoked        USA           Hawaii   \n",
       "\n",
       "                  Location Activity              Name Sex      ...      \\\n",
       "0   Kings Beach, Caloundra  Surfing     Cooper Hallam    M     ...       \n",
       "1        Broken Head Beach  Surfing  Jade Fitzpatrick    M     ...       \n",
       "2  Hooipa Beach Park, Maui  Surfing    Federico Jaime    M     ...       \n",
       "\n",
       "    Species   Investigator or Source                         pdf  \\\n",
       "0        NaN  Daily Mail, 10/16/2016       2016.10.15-Hallam.pdf   \n",
       "1        NaN  Daily Mail, 10/24/2016  2016.10.24-Fitzpatrick.pdf   \n",
       "2   5' shark    Surfline, 10/23/2016      2016.10.21-Hookipa.pdf   \n",
       "\n",
       "                                        href formula  \\\n",
       "0  http://sharkattackfile.net/spreadsheets/pdf_di...   \n",
       "1  http://sharkattackfile.net/spreadsheets/pdf_di...   \n",
       "2  http://sharkattackfile.net/spreadsheets/pdf_di...   \n",
       "\n",
       "                                                href Case Number.1  \\\n",
       "0  http://sharkattackfile.net/spreadsheets/pdf_di...    2016.10.15   \n",
       "1  http://sharkattackfile.net/spreadsheets/pdf_di...    2016.10.24   \n",
       "2  http://sharkattackfile.net/spreadsheets/pdf_di...    2016.10.21   \n",
       "\n",
       "  Case Number.2 original order Unnamed: 22 Unnamed: 23  \n",
       "0    2016.10.15         6993.0         NaN         NaN  \n",
       "1    2016.10.24         6005.0         NaN         NaN  \n",
       "2    2016.10.21         6004.0         NaN         NaN  \n",
       "\n",
       "[3 rows x 24 columns]"
      ]
     },
     "execution_count": 1,
     "metadata": {},
     "output_type": "execute_result"
    }
   ],
   "source": [
    "import pandas as pd\n",
    "tiburones = pd.read_excel(\"GSAF5.xls\")\n",
    "tiburones.head(3)"
   ]
  },
  {
   "cell_type": "code",
   "execution_count": 2,
   "metadata": {
    "collapsed": false
   },
   "outputs": [
    {
     "data": {
      "text/plain": [
       "(25580, 24)"
      ]
     },
     "execution_count": 2,
     "metadata": {},
     "output_type": "execute_result"
    }
   ],
   "source": [
    "tiburones.shape"
   ]
  },
  {
   "cell_type": "markdown",
   "metadata": {},
   "source": [
    "Lo primero que comprobamos es que aparentemente en el fichero hay 16 columnas, y el dataframe ha leído 24. Seis de ellas están ocultas en el Excel y se pueden mostrar, pero probablemente los creadores no querían que utilizásemos esos datos, quizá porque no tienen valor o no son fiables. \n",
    "\n",
    "Además, hay dos columnas que se rellenan como nulos al final, que deberíamos eliminar."
   ]
  },
  {
   "cell_type": "code",
   "execution_count": 3,
   "metadata": {
    "collapsed": false
   },
   "outputs": [
    {
     "data": {
      "text/plain": [
       "Index([           u'Case Number',                   u'Date',\n",
       "                         u'Year',                   u'Type',\n",
       "                      u'Country',                   u'Area',\n",
       "                     u'Location',               u'Activity',\n",
       "                         u'Name',                   u'Sex ',\n",
       "                          u'Age',                 u'Injury',\n",
       "                  u'Fatal (Y/N)',                   u'Time',\n",
       "                     u'Species ', u'Investigator or Source',\n",
       "                          u'pdf',           u'href formula',\n",
       "                         u'href',          u'Case Number.1',\n",
       "                u'Case Number.2',         u'original order',\n",
       "                  u'Unnamed: 22',            u'Unnamed: 23'],\n",
       "      dtype='object')"
      ]
     },
     "execution_count": 3,
     "metadata": {},
     "output_type": "execute_result"
    }
   ],
   "source": [
    "tiburones.columns"
   ]
  },
  {
   "cell_type": "code",
   "execution_count": 4,
   "metadata": {
    "collapsed": false
   },
   "outputs": [
    {
     "data": {
      "text/plain": [
       "24"
      ]
     },
     "execution_count": 4,
     "metadata": {},
     "output_type": "execute_result"
    }
   ],
   "source": [
    "tiburones.columns.size"
   ]
  },
  {
   "cell_type": "code",
   "execution_count": 5,
   "metadata": {
    "collapsed": false
   },
   "outputs": [
    {
     "data": {
      "text/plain": [
       "22"
      ]
     },
     "execution_count": 5,
     "metadata": {},
     "output_type": "execute_result"
    }
   ],
   "source": [
    "tiburones = tiburones.drop([\"Unnamed: 22\", \"Unnamed: 23\"], axis=1)\n",
    "tiburones.columns.size"
   ]
  },
  {
   "cell_type": "markdown",
   "metadata": {},
   "source": [
    "### 2. Observación de valores nulos"
   ]
  },
  {
   "cell_type": "markdown",
   "metadata": {},
   "source": [
    "El siguiente paso es observar los datos, los valores que toman y si hay valores nulos.\n",
    "* Identificad las columnas en las que hay valores nulos y las que no y cuántas en cada una. Por ejemplo, parece que las hay en la columna Species. Nota: usar `isnull()`\n",
    "* Para las columnas con información categórica, observar las etiquetas de cada categoría, por ejemplo, las especies de tiburones o el tipo de incidente.\n",
    "* Concretamente, obtener las 5 especies de tiburón con más incidentes registrados en la base de datos. Nota: Puede hacers con `groupby()` o dividiendo el array por especies, y contando cada subconjunto."
   ]
  },
  {
   "cell_type": "markdown",
   "metadata": {},
   "source": [
    "Podemos hacerlo columna por columna:"
   ]
  },
  {
   "cell_type": "code",
   "execution_count": 6,
   "metadata": {
    "collapsed": false
   },
   "outputs": [
    {
     "data": {
      "text/plain": [
       "True"
      ]
     },
     "execution_count": 6,
     "metadata": {},
     "output_type": "execute_result"
    }
   ],
   "source": [
    "tiburones[\"Species \"].isnull().values.any()   # Cuidado, tiene un blanco al final el nombre de la columna."
   ]
  },
  {
   "cell_type": "code",
   "execution_count": 9,
   "metadata": {
    "collapsed": false
   },
   "outputs": [
    {
     "data": {
      "text/plain": [
       "22518"
      ]
     },
     "execution_count": 9,
     "metadata": {},
     "output_type": "execute_result"
    }
   ],
   "source": [
    "tiburones[\"Species \"].isnull().values.sum()"
   ]
  },
  {
   "cell_type": "markdown",
   "metadata": {},
   "source": [
    "Vemos que hay bastantes. Si las comparamos con el total de filas comprobamos que solo hay un pequeño porcentaje relleno."
   ]
  },
  {
   "cell_type": "code",
   "execution_count": 12,
   "metadata": {
    "collapsed": false
   },
   "outputs": [
    {
     "data": {
      "text/plain": [
       "0.040013504868860614"
      ]
     },
     "execution_count": 12,
     "metadata": {},
     "output_type": "execute_result"
    }
   ],
   "source": [
    "tiburones[\"Species \"].isnull().values.sum() / tiburones.size.astype(\"float\")"
   ]
  },
  {
   "cell_type": "markdown",
   "metadata": {},
   "source": [
    "Si queremos de una manera rápida ver las cuentas de nulos, podemos hacerlo de la siguiente forma.\n"
   ]
  },
  {
   "cell_type": "code",
   "execution_count": 13,
   "metadata": {
    "collapsed": false
   },
   "outputs": [
    {
     "data": {
      "text/plain": [
       "Species \n",
       "White shark                        163\n",
       "Shark involvement not confirmed     80\n",
       "Tiger shark                         68\n",
       "Bull shark                          52\n",
       "6' shark                            40\n",
       "Name: Species , dtype: int64"
      ]
     },
     "execution_count": 13,
     "metadata": {},
     "output_type": "execute_result"
    }
   ],
   "source": [
    "por_especies = tiburones.groupby(\"Species \")\n",
    "por_especies[\"Species \"].count().sort_values(ascending=False).head()"
   ]
  },
  {
   "cell_type": "markdown",
   "metadata": {},
   "source": [
    "Otra columna categórica interesante es `Type.`"
   ]
  },
  {
   "cell_type": "code",
   "execution_count": 14,
   "metadata": {
    "collapsed": false
   },
   "outputs": [
    {
     "data": {
      "text/plain": [
       "Type\n",
       "Boat             200\n",
       "Boating          110\n",
       "Invalid          521\n",
       "Provoked         557\n",
       "Sea Disaster     220\n",
       "Unprovoked      4396\n",
       "Name: Type, dtype: int64"
      ]
     },
     "execution_count": 14,
     "metadata": {},
     "output_type": "execute_result"
    }
   ],
   "source": [
    "por_tipo = tiburones.groupby(\"Type\")\n",
    "por_tipo[\"Type\"].count()"
   ]
  },
  {
   "cell_type": "markdown",
   "metadata": {},
   "source": [
    "### 3. Más valores nulos"
   ]
  },
  {
   "cell_type": "markdown",
   "metadata": {},
   "source": [
    "Vamos a examinar la ocurrencia de eventos por años y países. Para ello:\n",
    "\n",
    "* Queremos utilizar como índice (país, año) primero. Probar a establecerlo con `set_index()`. ¿Hay algún problema de valores nulos en el índice? ¿Son NA o también hay años no válidos?  ¿Cómo se pueden eliminar?\n",
    "\n",
    "* Obtener la cuenta de los incidentes en USA en 2014 y 2015. Utilizad `loc` e `iloc` en la misma expresión. \n",
    "\n"
   ]
  },
  {
   "cell_type": "markdown",
   "metadata": {},
   "source": [
    "Si observamos el final del dataframe, vemos que hay valores nulos en ambas claves del índice."
   ]
  },
  {
   "cell_type": "code",
   "execution_count": 15,
   "metadata": {
    "collapsed": false
   },
   "outputs": [
    {
     "data": {
      "text/html": [
       "<div>\n",
       "<table border=\"1\" class=\"dataframe\">\n",
       "  <thead>\n",
       "    <tr style=\"text-align: right;\">\n",
       "      <th></th>\n",
       "      <th></th>\n",
       "      <th>Case Number</th>\n",
       "      <th>Date</th>\n",
       "      <th>Type</th>\n",
       "      <th>Area</th>\n",
       "      <th>Location</th>\n",
       "      <th>Activity</th>\n",
       "      <th>Name</th>\n",
       "      <th>Sex</th>\n",
       "      <th>Age</th>\n",
       "      <th>Injury</th>\n",
       "      <th>Fatal (Y/N)</th>\n",
       "      <th>Time</th>\n",
       "      <th>Species</th>\n",
       "      <th>Investigator or Source</th>\n",
       "      <th>pdf</th>\n",
       "      <th>href formula</th>\n",
       "      <th>href</th>\n",
       "      <th>Case Number.1</th>\n",
       "      <th>Case Number.2</th>\n",
       "      <th>original order</th>\n",
       "    </tr>\n",
       "    <tr>\n",
       "      <th>Country</th>\n",
       "      <th>Year</th>\n",
       "      <th></th>\n",
       "      <th></th>\n",
       "      <th></th>\n",
       "      <th></th>\n",
       "      <th></th>\n",
       "      <th></th>\n",
       "      <th></th>\n",
       "      <th></th>\n",
       "      <th></th>\n",
       "      <th></th>\n",
       "      <th></th>\n",
       "      <th></th>\n",
       "      <th></th>\n",
       "      <th></th>\n",
       "      <th></th>\n",
       "      <th></th>\n",
       "      <th></th>\n",
       "      <th></th>\n",
       "      <th></th>\n",
       "      <th></th>\n",
       "    </tr>\n",
       "  </thead>\n",
       "  <tbody>\n",
       "    <tr>\n",
       "      <th rowspan=\"5\" valign=\"top\">NaN</th>\n",
       "      <th>NaN</th>\n",
       "      <td>NaN</td>\n",
       "      <td>NaN</td>\n",
       "      <td>NaN</td>\n",
       "      <td>NaN</td>\n",
       "      <td>NaN</td>\n",
       "      <td>NaN</td>\n",
       "      <td>NaN</td>\n",
       "      <td>NaN</td>\n",
       "      <td>NaN</td>\n",
       "      <td>NaN</td>\n",
       "      <td>NaN</td>\n",
       "      <td>NaN</td>\n",
       "      <td>NaN</td>\n",
       "      <td>NaN</td>\n",
       "      <td>NaN</td>\n",
       "      <td>NaN</td>\n",
       "      <td>NaN</td>\n",
       "      <td>NaN</td>\n",
       "      <td>NaN</td>\n",
       "      <td>NaN</td>\n",
       "    </tr>\n",
       "    <tr>\n",
       "      <th>NaN</th>\n",
       "      <td>NaN</td>\n",
       "      <td>NaN</td>\n",
       "      <td>NaN</td>\n",
       "      <td>NaN</td>\n",
       "      <td>NaN</td>\n",
       "      <td>NaN</td>\n",
       "      <td>NaN</td>\n",
       "      <td>NaN</td>\n",
       "      <td>NaN</td>\n",
       "      <td>NaN</td>\n",
       "      <td>NaN</td>\n",
       "      <td>NaN</td>\n",
       "      <td>NaN</td>\n",
       "      <td>NaN</td>\n",
       "      <td>NaN</td>\n",
       "      <td>NaN</td>\n",
       "      <td>NaN</td>\n",
       "      <td>NaN</td>\n",
       "      <td>NaN</td>\n",
       "      <td>NaN</td>\n",
       "    </tr>\n",
       "    <tr>\n",
       "      <th>NaN</th>\n",
       "      <td>NaN</td>\n",
       "      <td>NaN</td>\n",
       "      <td>NaN</td>\n",
       "      <td>NaN</td>\n",
       "      <td>NaN</td>\n",
       "      <td>NaN</td>\n",
       "      <td>NaN</td>\n",
       "      <td>NaN</td>\n",
       "      <td>NaN</td>\n",
       "      <td>NaN</td>\n",
       "      <td>NaN</td>\n",
       "      <td>NaN</td>\n",
       "      <td>NaN</td>\n",
       "      <td>NaN</td>\n",
       "      <td>NaN</td>\n",
       "      <td>NaN</td>\n",
       "      <td>NaN</td>\n",
       "      <td>NaN</td>\n",
       "      <td>NaN</td>\n",
       "      <td>NaN</td>\n",
       "    </tr>\n",
       "    <tr>\n",
       "      <th>NaN</th>\n",
       "      <td>NaN</td>\n",
       "      <td>NaN</td>\n",
       "      <td>NaN</td>\n",
       "      <td>NaN</td>\n",
       "      <td>NaN</td>\n",
       "      <td>NaN</td>\n",
       "      <td>NaN</td>\n",
       "      <td>NaN</td>\n",
       "      <td>NaN</td>\n",
       "      <td>NaN</td>\n",
       "      <td>NaN</td>\n",
       "      <td>NaN</td>\n",
       "      <td>NaN</td>\n",
       "      <td>NaN</td>\n",
       "      <td>NaN</td>\n",
       "      <td>NaN</td>\n",
       "      <td>NaN</td>\n",
       "      <td>NaN</td>\n",
       "      <td>NaN</td>\n",
       "      <td>NaN</td>\n",
       "    </tr>\n",
       "    <tr>\n",
       "      <th>NaN</th>\n",
       "      <td>xx</td>\n",
       "      <td>NaN</td>\n",
       "      <td>NaN</td>\n",
       "      <td>NaN</td>\n",
       "      <td>NaN</td>\n",
       "      <td>NaN</td>\n",
       "      <td>NaN</td>\n",
       "      <td>NaN</td>\n",
       "      <td>NaN</td>\n",
       "      <td>NaN</td>\n",
       "      <td>NaN</td>\n",
       "      <td>NaN</td>\n",
       "      <td>NaN</td>\n",
       "      <td>NaN</td>\n",
       "      <td>NaN</td>\n",
       "      <td>NaN</td>\n",
       "      <td>NaN</td>\n",
       "      <td>NaN</td>\n",
       "      <td>NaN</td>\n",
       "      <td>NaN</td>\n",
       "    </tr>\n",
       "  </tbody>\n",
       "</table>\n",
       "</div>"
      ],
      "text/plain": [
       "             Case Number Date Type Area Location Activity Name Sex   Age  \\\n",
       "Country Year                                                               \n",
       "NaN     NaN          NaN  NaN  NaN  NaN      NaN      NaN  NaN  NaN  NaN   \n",
       "        NaN          NaN  NaN  NaN  NaN      NaN      NaN  NaN  NaN  NaN   \n",
       "        NaN          NaN  NaN  NaN  NaN      NaN      NaN  NaN  NaN  NaN   \n",
       "        NaN          NaN  NaN  NaN  NaN      NaN      NaN  NaN  NaN  NaN   \n",
       "        NaN           xx  NaN  NaN  NaN      NaN      NaN  NaN  NaN  NaN   \n",
       "\n",
       "             Injury Fatal (Y/N) Time Species  Investigator or Source  pdf  \\\n",
       "Country Year                                                                \n",
       "NaN     NaN     NaN         NaN  NaN      NaN                    NaN  NaN   \n",
       "        NaN     NaN         NaN  NaN      NaN                    NaN  NaN   \n",
       "        NaN     NaN         NaN  NaN      NaN                    NaN  NaN   \n",
       "        NaN     NaN         NaN  NaN      NaN                    NaN  NaN   \n",
       "        NaN     NaN         NaN  NaN      NaN                    NaN  NaN   \n",
       "\n",
       "             href formula href Case Number.1 Case Number.2  original order  \n",
       "Country Year                                                                \n",
       "NaN     NaN           NaN  NaN           NaN           NaN             NaN  \n",
       "        NaN           NaN  NaN           NaN           NaN             NaN  \n",
       "        NaN           NaN  NaN           NaN           NaN             NaN  \n",
       "        NaN           NaN  NaN           NaN           NaN             NaN  \n",
       "        NaN           NaN  NaN           NaN           NaN             NaN  "
      ]
     },
     "execution_count": 15,
     "metadata": {},
     "output_type": "execute_result"
    }
   ],
   "source": [
    "multi_tiburones = tiburones.set_index([\"Country\", \"Year\"])\n",
    "multi_tiburones.tail()"
   ]
  },
  {
   "cell_type": "code",
   "execution_count": 17,
   "metadata": {
    "collapsed": false
   },
   "outputs": [
    {
     "data": {
      "text/html": [
       "<div>\n",
       "<table border=\"1\" class=\"dataframe\">\n",
       "  <thead>\n",
       "    <tr style=\"text-align: right;\">\n",
       "      <th></th>\n",
       "      <th></th>\n",
       "      <th>Case Number</th>\n",
       "      <th>Date</th>\n",
       "      <th>Type</th>\n",
       "      <th>Area</th>\n",
       "      <th>Location</th>\n",
       "      <th>Activity</th>\n",
       "      <th>Name</th>\n",
       "      <th>Sex</th>\n",
       "      <th>Age</th>\n",
       "      <th>Injury</th>\n",
       "      <th>Fatal (Y/N)</th>\n",
       "      <th>Time</th>\n",
       "      <th>Species</th>\n",
       "      <th>Investigator or Source</th>\n",
       "      <th>pdf</th>\n",
       "      <th>href formula</th>\n",
       "      <th>href</th>\n",
       "      <th>Case Number.1</th>\n",
       "      <th>Case Number.2</th>\n",
       "      <th>original order</th>\n",
       "    </tr>\n",
       "    <tr>\n",
       "      <th>Country</th>\n",
       "      <th>Year</th>\n",
       "      <th></th>\n",
       "      <th></th>\n",
       "      <th></th>\n",
       "      <th></th>\n",
       "      <th></th>\n",
       "      <th></th>\n",
       "      <th></th>\n",
       "      <th></th>\n",
       "      <th></th>\n",
       "      <th></th>\n",
       "      <th></th>\n",
       "      <th></th>\n",
       "      <th></th>\n",
       "      <th></th>\n",
       "      <th></th>\n",
       "      <th></th>\n",
       "      <th></th>\n",
       "      <th></th>\n",
       "      <th></th>\n",
       "      <th></th>\n",
       "    </tr>\n",
       "  </thead>\n",
       "  <tbody>\n",
       "    <tr>\n",
       "      <th>USA</th>\n",
       "      <th>0.0</th>\n",
       "      <td>ND.0003</td>\n",
       "      <td>1900-1905</td>\n",
       "      <td>Unprovoked</td>\n",
       "      <td>North Carolina</td>\n",
       "      <td>Ocracoke Inlet</td>\n",
       "      <td>Swimming</td>\n",
       "      <td>Coast Guard personnel</td>\n",
       "      <td>M</td>\n",
       "      <td>NaN</td>\n",
       "      <td>FATAL</td>\n",
       "      <td>Y</td>\n",
       "      <td>NaN</td>\n",
       "      <td>NaN</td>\n",
       "      <td>F. Schwartz, p.23; C. Creswell, GSAF</td>\n",
       "      <td>ND-0003-Ocracoke_1900-1905.pdf</td>\n",
       "      <td>http://sharkattackfile.net/spreadsheets/pdf_di...</td>\n",
       "      <td>http://sharkattackfile.net/spreadsheets/pdf_di...</td>\n",
       "      <td>ND.0003</td>\n",
       "      <td>ND.0003</td>\n",
       "      <td>4.0</td>\n",
       "    </tr>\n",
       "    <tr>\n",
       "      <th>PANAMA</th>\n",
       "      <th>0.0</th>\n",
       "      <td>ND.0002</td>\n",
       "      <td>1883-1889</td>\n",
       "      <td>Unprovoked</td>\n",
       "      <td>NaN</td>\n",
       "      <td>Panama Bay 8ºN, 79ºW</td>\n",
       "      <td>NaN</td>\n",
       "      <td>Jules Patterson</td>\n",
       "      <td>M</td>\n",
       "      <td>NaN</td>\n",
       "      <td>FATAL</td>\n",
       "      <td>Y</td>\n",
       "      <td>NaN</td>\n",
       "      <td>NaN</td>\n",
       "      <td>The Sun, 10/20/1938</td>\n",
       "      <td>ND-0002-JulesPatterson.pdf</td>\n",
       "      <td>http://sharkattackfile.net/spreadsheets/pdf_di...</td>\n",
       "      <td>http://sharkattackfile.net/spreadsheets/pdf_di...</td>\n",
       "      <td>ND.0002</td>\n",
       "      <td>ND.0002</td>\n",
       "      <td>3.0</td>\n",
       "    </tr>\n",
       "    <tr>\n",
       "      <th>CEYLON (SRI LANKA)</th>\n",
       "      <th>0.0</th>\n",
       "      <td>ND.0001</td>\n",
       "      <td>1845-1853</td>\n",
       "      <td>Unprovoked</td>\n",
       "      <td>Eastern Province</td>\n",
       "      <td>Below the English fort, Trincomalee</td>\n",
       "      <td>Swimming</td>\n",
       "      <td>male</td>\n",
       "      <td>M</td>\n",
       "      <td>15</td>\n",
       "      <td>FATAL. \"Shark bit him in half, carrying away t...</td>\n",
       "      <td>Y</td>\n",
       "      <td>NaN</td>\n",
       "      <td>NaN</td>\n",
       "      <td>S.W. Baker</td>\n",
       "      <td>ND-0001-Ceylon.pdf</td>\n",
       "      <td>http://sharkattackfile.net/spreadsheets/pdf_di...</td>\n",
       "      <td>http://sharkattackfile.net/spreadsheets/pdf_di...</td>\n",
       "      <td>ND.0001</td>\n",
       "      <td>ND.0001</td>\n",
       "      <td>2.0</td>\n",
       "    </tr>\n",
       "  </tbody>\n",
       "</table>\n",
       "</div>"
      ],
      "text/plain": [
       "                        Case Number       Date        Type              Area  \\\n",
       "Country            Year                                                        \n",
       "USA                0.0      ND.0003  1900-1905  Unprovoked    North Carolina   \n",
       "PANAMA             0.0      ND.0002  1883-1889  Unprovoked               NaN   \n",
       "CEYLON (SRI LANKA) 0.0      ND.0001  1845-1853  Unprovoked  Eastern Province   \n",
       "\n",
       "                                                    Location  Activity  \\\n",
       "Country            Year                                                  \n",
       "USA                0.0                        Ocracoke Inlet  Swimming   \n",
       "PANAMA             0.0                  Panama Bay 8ºN, 79ºW       NaN   \n",
       "CEYLON (SRI LANKA) 0.0   Below the English fort, Trincomalee  Swimming   \n",
       "\n",
       "                                          Name Sex   Age  \\\n",
       "Country            Year                                    \n",
       "USA                0.0   Coast Guard personnel    M  NaN   \n",
       "PANAMA             0.0         Jules Patterson    M  NaN   \n",
       "CEYLON (SRI LANKA) 0.0                    male    M   15   \n",
       "\n",
       "                                                                    Injury  \\\n",
       "Country            Year                                                      \n",
       "USA                0.0                                               FATAL   \n",
       "PANAMA             0.0                                               FATAL   \n",
       "CEYLON (SRI LANKA) 0.0   FATAL. \"Shark bit him in half, carrying away t...   \n",
       "\n",
       "                        Fatal (Y/N) Time Species   \\\n",
       "Country            Year                             \n",
       "USA                0.0            Y  NaN      NaN   \n",
       "PANAMA             0.0            Y  NaN      NaN   \n",
       "CEYLON (SRI LANKA) 0.0            Y  NaN      NaN   \n",
       "\n",
       "                                       Investigator or Source  \\\n",
       "Country            Year                                         \n",
       "USA                0.0   F. Schwartz, p.23; C. Creswell, GSAF   \n",
       "PANAMA             0.0                    The Sun, 10/20/1938   \n",
       "CEYLON (SRI LANKA) 0.0                             S.W. Baker   \n",
       "\n",
       "                                                    pdf  \\\n",
       "Country            Year                                   \n",
       "USA                0.0   ND-0003-Ocracoke_1900-1905.pdf   \n",
       "PANAMA             0.0       ND-0002-JulesPatterson.pdf   \n",
       "CEYLON (SRI LANKA) 0.0               ND-0001-Ceylon.pdf   \n",
       "\n",
       "                                                              href formula  \\\n",
       "Country            Year                                                      \n",
       "USA                0.0   http://sharkattackfile.net/spreadsheets/pdf_di...   \n",
       "PANAMA             0.0   http://sharkattackfile.net/spreadsheets/pdf_di...   \n",
       "CEYLON (SRI LANKA) 0.0   http://sharkattackfile.net/spreadsheets/pdf_di...   \n",
       "\n",
       "                                                                      href  \\\n",
       "Country            Year                                                      \n",
       "USA                0.0   http://sharkattackfile.net/spreadsheets/pdf_di...   \n",
       "PANAMA             0.0   http://sharkattackfile.net/spreadsheets/pdf_di...   \n",
       "CEYLON (SRI LANKA) 0.0   http://sharkattackfile.net/spreadsheets/pdf_di...   \n",
       "\n",
       "                        Case Number.1 Case Number.2  original order  \n",
       "Country            Year                                              \n",
       "USA                0.0        ND.0003       ND.0003             4.0  \n",
       "PANAMA             0.0        ND.0002       ND.0002             3.0  \n",
       "CEYLON (SRI LANKA) 0.0        ND.0001       ND.0001             2.0  "
      ]
     },
     "execution_count": 17,
     "metadata": {},
     "output_type": "execute_result"
    }
   ],
   "source": [
    "# Forzamos a que se eliminen en la misma copia del dataframe.\n",
    "tiburones.dropna(subset=[\"Country\", \"Year\"], inplace=True)\n",
    "multi_tiburones = tiburones.set_index([\"Country\", \"Year\"])\n",
    "multi_tiburones.tail(3)"
   ]
  },
  {
   "cell_type": "code",
   "execution_count": 29,
   "metadata": {
    "collapsed": false
   },
   "outputs": [
    {
     "data": {
      "text/html": [
       "<div>\n",
       "<table border=\"1\" class=\"dataframe\">\n",
       "  <thead>\n",
       "    <tr style=\"text-align: right;\">\n",
       "      <th></th>\n",
       "      <th></th>\n",
       "      <th>Case Number</th>\n",
       "      <th>Date</th>\n",
       "      <th>Type</th>\n",
       "      <th>Area</th>\n",
       "      <th>Location</th>\n",
       "      <th>Activity</th>\n",
       "      <th>Name</th>\n",
       "      <th>Sex</th>\n",
       "      <th>Age</th>\n",
       "      <th>Injury</th>\n",
       "      <th>Fatal (Y/N)</th>\n",
       "      <th>Time</th>\n",
       "      <th>Species</th>\n",
       "      <th>Investigator or Source</th>\n",
       "      <th>pdf</th>\n",
       "      <th>href formula</th>\n",
       "      <th>href</th>\n",
       "      <th>Case Number.1</th>\n",
       "      <th>Case Number.2</th>\n",
       "      <th>original order</th>\n",
       "    </tr>\n",
       "    <tr>\n",
       "      <th>Country</th>\n",
       "      <th>Year</th>\n",
       "      <th></th>\n",
       "      <th></th>\n",
       "      <th></th>\n",
       "      <th></th>\n",
       "      <th></th>\n",
       "      <th></th>\n",
       "      <th></th>\n",
       "      <th></th>\n",
       "      <th></th>\n",
       "      <th></th>\n",
       "      <th></th>\n",
       "      <th></th>\n",
       "      <th></th>\n",
       "      <th></th>\n",
       "      <th></th>\n",
       "      <th></th>\n",
       "      <th></th>\n",
       "      <th></th>\n",
       "      <th></th>\n",
       "      <th></th>\n",
       "    </tr>\n",
       "  </thead>\n",
       "  <tbody>\n",
       "    <tr>\n",
       "      <th>VENEZUELA</th>\n",
       "      <th>1543.0</th>\n",
       "      <td>1543.00.00</td>\n",
       "      <td>Ca. 1543</td>\n",
       "      <td>Unprovoked</td>\n",
       "      <td>Magarita or Cubagua Islands</td>\n",
       "      <td>NaN</td>\n",
       "      <td>Pearl diving</td>\n",
       "      <td>Indian slave</td>\n",
       "      <td>M</td>\n",
       "      <td>NaN</td>\n",
       "      <td>FATAL</td>\n",
       "      <td>Y</td>\n",
       "      <td>NaN</td>\n",
       "      <td>NaN</td>\n",
       "      <td>J. Castro</td>\n",
       "      <td>1543.00.00.R-LasCasas.pdf</td>\n",
       "      <td>http://sharkattackfile.net/spreadsheets/pdf_di...</td>\n",
       "      <td>http://sharkattackfile.net/spreadsheets/pdf_di...</td>\n",
       "      <td>1543.00.00</td>\n",
       "      <td>1543.00.00</td>\n",
       "      <td>129.0</td>\n",
       "    </tr>\n",
       "    <tr>\n",
       "      <th>MEXICO</th>\n",
       "      <th>500.0</th>\n",
       "      <td>0500.00.00</td>\n",
       "      <td>Circa 500 A.D.</td>\n",
       "      <td>Unprovoked</td>\n",
       "      <td>NaN</td>\n",
       "      <td>NaN</td>\n",
       "      <td>NaN</td>\n",
       "      <td>male</td>\n",
       "      <td>NaN</td>\n",
       "      <td>NaN</td>\n",
       "      <td>Foot severed</td>\n",
       "      <td>N</td>\n",
       "      <td>NaN</td>\n",
       "      <td>NaN</td>\n",
       "      <td>J. Castro</td>\n",
       "      <td>500AD-Mexico.pdf</td>\n",
       "      <td>http://sharkattackfile.net/spreadsheets/pdf_di...</td>\n",
       "      <td>http://sharkattackfile.net/spreadsheets/pdf_di...</td>\n",
       "      <td>0500.00.00</td>\n",
       "      <td>0500.00.00</td>\n",
       "      <td>128.0</td>\n",
       "    </tr>\n",
       "    <tr>\n",
       "      <th>AUSTRALIA</th>\n",
       "      <th>5.0</th>\n",
       "      <td>0005.00.00</td>\n",
       "      <td>Ca. 5 A.D.</td>\n",
       "      <td>Unprovoked</td>\n",
       "      <td>New South Wales</td>\n",
       "      <td>Bondi</td>\n",
       "      <td>NaN</td>\n",
       "      <td>male</td>\n",
       "      <td>M</td>\n",
       "      <td>NaN</td>\n",
       "      <td>Aboriginal rock carving depicts man being atta...</td>\n",
       "      <td>N</td>\n",
       "      <td>NaN</td>\n",
       "      <td>NaN</td>\n",
       "      <td>Waverly Library</td>\n",
       "      <td>0005.00.00-AustralianAboriginal.pdf</td>\n",
       "      <td>http://sharkattackfile.net/spreadsheets/pdf_di...</td>\n",
       "      <td>http://sharkattackfile.net/spreadsheets/pdf_di...</td>\n",
       "      <td>0005.00.00</td>\n",
       "      <td>0005.00.00</td>\n",
       "      <td>126.0</td>\n",
       "    </tr>\n",
       "  </tbody>\n",
       "</table>\n",
       "</div>"
      ],
      "text/plain": [
       "                 Case Number            Date        Type  \\\n",
       "Country   Year                                             \n",
       "VENEZUELA 1543.0  1543.00.00        Ca. 1543  Unprovoked   \n",
       "MEXICO    500.0   0500.00.00  Circa 500 A.D.  Unprovoked   \n",
       "AUSTRALIA 5.0     0005.00.00      Ca. 5 A.D.  Unprovoked   \n",
       "\n",
       "                                         Area Location      Activity  \\\n",
       "Country   Year                                                         \n",
       "VENEZUELA 1543.0  Magarita or Cubagua Islands      NaN  Pearl diving   \n",
       "MEXICO    500.0                           NaN      NaN           NaN   \n",
       "AUSTRALIA 5.0                 New South Wales    Bondi           NaN   \n",
       "\n",
       "                          Name Sex   Age  \\\n",
       "Country   Year                             \n",
       "VENEZUELA 1543.0  Indian slave    M  NaN   \n",
       "MEXICO    500.0           male  NaN  NaN   \n",
       "AUSTRALIA 5.0             male    M  NaN   \n",
       "\n",
       "                                                             Injury  \\\n",
       "Country   Year                                                        \n",
       "VENEZUELA 1543.0                                              FATAL   \n",
       "MEXICO    500.0                                        Foot severed   \n",
       "AUSTRALIA 5.0     Aboriginal rock carving depicts man being atta...   \n",
       "\n",
       "                 Fatal (Y/N) Time Species  Investigator or Source  \\\n",
       "Country   Year                                                      \n",
       "VENEZUELA 1543.0           Y  NaN      NaN              J. Castro   \n",
       "MEXICO    500.0            N  NaN      NaN              J. Castro   \n",
       "AUSTRALIA 5.0              N  NaN      NaN        Waverly Library   \n",
       "\n",
       "                                                  pdf  \\\n",
       "Country   Year                                          \n",
       "VENEZUELA 1543.0            1543.00.00.R-LasCasas.pdf   \n",
       "MEXICO    500.0                      500AD-Mexico.pdf   \n",
       "AUSTRALIA 5.0     0005.00.00-AustralianAboriginal.pdf   \n",
       "\n",
       "                                                       href formula  \\\n",
       "Country   Year                                                        \n",
       "VENEZUELA 1543.0  http://sharkattackfile.net/spreadsheets/pdf_di...   \n",
       "MEXICO    500.0   http://sharkattackfile.net/spreadsheets/pdf_di...   \n",
       "AUSTRALIA 5.0     http://sharkattackfile.net/spreadsheets/pdf_di...   \n",
       "\n",
       "                                                               href  \\\n",
       "Country   Year                                                        \n",
       "VENEZUELA 1543.0  http://sharkattackfile.net/spreadsheets/pdf_di...   \n",
       "MEXICO    500.0   http://sharkattackfile.net/spreadsheets/pdf_di...   \n",
       "AUSTRALIA 5.0     http://sharkattackfile.net/spreadsheets/pdf_di...   \n",
       "\n",
       "                 Case Number.1 Case Number.2  original order  \n",
       "Country   Year                                                \n",
       "VENEZUELA 1543.0    1543.00.00    1543.00.00           129.0  \n",
       "MEXICO    500.0     0500.00.00    0500.00.00           128.0  \n",
       "AUSTRALIA 5.0       0005.00.00    0005.00.00           126.0  "
      ]
     },
     "execution_count": 29,
     "metadata": {},
     "output_type": "execute_result"
    }
   ],
   "source": [
    "tiburones = tiburones[tiburones[\"Year\"]!=0]\n",
    "multi_tiburones = tiburones.set_index([\"Country\", \"Year\"])\n",
    "multi_tiburones.tail(3)"
   ]
  },
  {
   "cell_type": "code",
   "execution_count": 36,
   "metadata": {
    "collapsed": false
   },
   "outputs": [
    {
     "data": {
      "text/plain": [
       "19"
      ]
     },
     "execution_count": 36,
     "metadata": {},
     "output_type": "execute_result"
    }
   ],
   "source": [
    "multi_tiburones.loc[\"USA\"].iloc[2015].count()"
   ]
  },
  {
   "cell_type": "markdown",
   "metadata": {},
   "source": [
    "### 4. Distribución y correlaciones (i)"
   ]
  },
  {
   "cell_type": "markdown",
   "metadata": {},
   "source": [
    "Ahora queremos observar la distribución de los incidentes, primero por países y luego por años.\n",
    "\n",
    "* Mostrar los tres países que tienen más incidentes. \n",
    "* Dibujar la distribución por años de los incidentes, señalar el año en el que más se han producido. \n",
    "* Para los dos países con más incidentes, mostrar su evolución por años."
   ]
  },
  {
   "cell_type": "code",
   "execution_count": 199,
   "metadata": {
    "collapsed": false
   },
   "outputs": [
    {
     "data": {
      "text/html": [
       "<div>\n",
       "<table border=\"1\" class=\"dataframe\">\n",
       "  <thead>\n",
       "    <tr style=\"text-align: right;\">\n",
       "      <th></th>\n",
       "      <th>Year</th>\n",
       "    </tr>\n",
       "    <tr>\n",
       "      <th>Country</th>\n",
       "      <th></th>\n",
       "    </tr>\n",
       "  </thead>\n",
       "  <tbody>\n",
       "    <tr>\n",
       "      <th>USA</th>\n",
       "      <td>2105</td>\n",
       "    </tr>\n",
       "    <tr>\n",
       "      <th>AUSTRALIA</th>\n",
       "      <td>1267</td>\n",
       "    </tr>\n",
       "    <tr>\n",
       "      <th>SOUTH AFRICA</th>\n",
       "      <td>557</td>\n",
       "    </tr>\n",
       "  </tbody>\n",
       "</table>\n",
       "</div>"
      ],
      "text/plain": [
       "              Year\n",
       "Country           \n",
       "USA           2105\n",
       "AUSTRALIA     1267\n",
       "SOUTH AFRICA   557"
      ]
     },
     "execution_count": 199,
     "metadata": {},
     "output_type": "execute_result"
    }
   ],
   "source": [
    "cols = [\"Country\", \"Year\"]\n",
    "tiburones[cols].groupby(\"Country\").count().sort_values(\"Year\", ascending=False).head(3)"
   ]
  },
  {
   "cell_type": "code",
   "execution_count": 205,
   "metadata": {
    "collapsed": false
   },
   "outputs": [
    {
     "data": {
      "text/plain": [
       "[<matplotlib.lines.Line2D at 0x11e624a50>]"
      ]
     },
     "execution_count": 205,
     "metadata": {},
     "output_type": "execute_result"
    },
    {
     "data": {
      "image/png": "[encoded data removed]",
      "text/plain": [
       "<matplotlib.figure.Figure at 0x115a9ded0>"
      ]
     },
     "metadata": {},
     "output_type": "display_data"
    }
   ],
   "source": [
    "%matplotlib inline\n",
    "import matplotlib.pyplot as plt\n",
    "by_year = tiburones[cols].groupby(\"Year\").count()\n",
    "plt.plot(by_year) # GroupBy ordena por defecto"
   ]
  },
  {
   "cell_type": "code",
   "execution_count": 279,
   "metadata": {
    "collapsed": false
   },
   "outputs": [
    {
     "data": {
      "text/plain": [
       "[<matplotlib.lines.Line2D at 0x123b29990>]"
      ]
     },
     "execution_count": 279,
     "metadata": {},
     "output_type": "execute_result"
    },
    {
     "data": {
      "image/png": "[encoded data removed]",
      "text/plain": [
       "<matplotlib.figure.Figure at 0x123b948d0>"
      ]
     },
     "metadata": {},
     "output_type": "display_data"
    }
   ],
   "source": [
    "plt.plot(by_year[2000:2016])"
   ]
  },
  {
   "cell_type": "code",
   "execution_count": 281,
   "metadata": {
    "collapsed": false
   },
   "outputs": [
    {
     "name": "stdout",
     "output_type": "stream",
     "text": [
      " Country    2015.0\n",
      "dtype: float64 Country    139\n",
      "dtype: int64\n"
     ]
    }
   ],
   "source": [
    "print by_year.idxmax(), by_year.max()\n"
   ]
  },
  {
   "cell_type": "markdown",
   "metadata": {},
   "source": [
    "### 5. Distribución y correlaciones (ii)"
   ]
  },
  {
   "cell_type": "markdown",
   "metadata": {},
   "source": [
    "A continuación, queremos examinar el sexo y la edad de los implicados en incidentes. \n",
    "\n",
    "Mostrad la distribución de los incidentes por sexo, e intentad obtener la media de la edad de los implicados en los incidentes.\n",
    "\n",
    "Observad:\n",
    "* Valores nulos o valores que parecen incorrectos.\n",
    "* El tipo de los valores de la columna \"Age\". Si fuese necesario cambiarlos, buscar formas de convertir de valores de cadena a valores numéricos en pandas."
   ]
  },
  {
   "cell_type": "code",
   "execution_count": 257,
   "metadata": {
    "collapsed": false
   },
   "outputs": [
    {
     "data": {
      "text/plain": [
       "[u'lli', u'M', u'M ', u'F']"
      ]
     },
     "execution_count": 257,
     "metadata": {},
     "output_type": "execute_result"
    }
   ],
   "source": [
    "cols=[\"Sex \", \"Age\"]\n",
    "por_sexo = tiburones[cols].dropna().groupby(\"Sex \")\n",
    "por_sexo.groups.keys()"
   ]
  },
  {
   "cell_type": "code",
   "execution_count": 272,
   "metadata": {
    "collapsed": false
   },
   "outputs": [
    {
     "data": {
      "text/html": [
       "<div>\n",
       "<table border=\"1\" class=\"dataframe\">\n",
       "  <thead>\n",
       "    <tr style=\"text-align: right;\">\n",
       "      <th></th>\n",
       "      <th>Age</th>\n",
       "    </tr>\n",
       "    <tr>\n",
       "      <th>Sex</th>\n",
       "      <th></th>\n",
       "    </tr>\n",
       "  </thead>\n",
       "  <tbody>\n",
       "    <tr>\n",
       "      <th>F</th>\n",
       "      <td>424</td>\n",
       "    </tr>\n",
       "    <tr>\n",
       "      <th>M</th>\n",
       "      <td>2832</td>\n",
       "    </tr>\n",
       "    <tr>\n",
       "      <th>M</th>\n",
       "      <td>1</td>\n",
       "    </tr>\n",
       "    <tr>\n",
       "      <th>lli</th>\n",
       "      <td>1</td>\n",
       "    </tr>\n",
       "  </tbody>\n",
       "</table>\n",
       "</div>"
      ],
      "text/plain": [
       "       Age\n",
       "Sex       \n",
       "F      424\n",
       "M     2832\n",
       "M        1\n",
       "lli      1"
      ]
     },
     "execution_count": 272,
     "metadata": {},
     "output_type": "execute_result"
    }
   ],
   "source": [
    "por_sexo.count()"
   ]
  },
  {
   "cell_type": "code",
   "execution_count": 271,
   "metadata": {
    "collapsed": false
   },
   "outputs": [
    {
     "data": {
      "text/plain": [
       "array([nan, 36, 66, 25, 29, 21, 32, 17, 16, 43, u'60s', 51, 50, 12, 9, 22,\n",
       "       37, 20, 49, 15, 40, 72, 18, 31, 11, 10, 59, 42, 34, 35, 19, 6, 27,\n",
       "       64, 60, 23, 52, 13, 57, 48, 39, 24, 26, 69, 46, u'Teen', 41, 45, 65,\n",
       "       38, 71, 58, 28, 54, 44, 14, 7, 62, u'40s', u'38', u'39', u'23',\n",
       "       u'32', u'52', u'68', u'12', u'18', u'19', u'43', u'47', u'6', u'37',\n",
       "       u'9', u'36', u'10', u'16', u'13', u'11', u'17', u'14', u'30', u'50',\n",
       "       u'29', u'65', u'63', u'26', u'71', u'48', u'70', u'58',\n",
       "       u'18 months', u'22', u'41', u'35', u'57', u'20', u'34', u'15',\n",
       "       u'44', u'53', u'7', u'40', u'28', u'20s', u'33', u'30s', u'31',\n",
       "       u'45', u'50s', u'8', u'51', u'61', u'42', 55, u'25', u'teen', u'66',\n",
       "       u'21', u'24', u'77', u'46', u'60', u'74', u'55', u'27', u'3', u'56',\n",
       "       u'64', u'28 & 26', u'62', u'5', u'49', u'54', u'86', u'59',\n",
       "       u'18 or 20', u'12 or 13', u'46 & 34', u'28, 23 & 30', u'Teens', 77,\n",
       "       47, 30, 8, 63, 61, 56, u'36 & 26', u'8 or 10', 33, 84, u'\\xa0 ',\n",
       "       u' ', u'30 or 36', u'6\\xbd', u'21 & ?', 75, u'33 or 37', u'mid-30s',\n",
       "       73, 53, u'23 & 20', 5, u' 30', u'7      &    31', u' 28', u'20?',\n",
       "       u\"60's\", u'69', u'32 & 30', u'16 to 18', u'87', u'67', u'Elderly',\n",
       "       u'mid-20s', u'Ca. 33', u'74 ', u'45 ', u'21 or 26', u'20 ', u'>50',\n",
       "       u'18 to 22', u'adult', u'9 & 12', u'? & 19', u'9 months',\n",
       "       u'25 to 35', u'23 & 26', 1, u'(adult)', u'33 & 37', u'25 or 28',\n",
       "       u'37, 67, 35, 27,  ? & 27', u'21, 34,24 & 35', u'30 & 32',\n",
       "       u'50 & 30', u'17 & 35', 3, u'X', u'\"middle-age\"', u'13 or 18',\n",
       "       u'34 & 19', u'33 & 26', u'2 to 3 months', 70, u'MAKE LINE GREEN',\n",
       "       u' 43', u'81', u'\"young\"', u'7 or 8', 78, u'17 & 16', 68, u'F',\n",
       "       u'Both 11', u'9 or 10', u'young', u'36 & 23', u'  ', u'78', u'A.M.',\n",
       "       u'?    &   14', u'10 or 12', u'31 or 33', u'M', u'2\\xbd', u'1'], dtype=object)"
      ]
     },
     "execution_count": 271,
     "metadata": {},
     "output_type": "execute_result"
    }
   ],
   "source": [
    "tiburones[\"Age\"].unique()"
   ]
  },
  {
   "cell_type": "markdown",
   "metadata": {},
   "source": [
    "Para limpiar la columna de la edad, podemos intentar convertir a entero y en caso de que no se pueda convertir, tenemos un caso de NA."
   ]
  },
  {
   "cell_type": "code",
   "execution_count": 284,
   "metadata": {
    "collapsed": false
   },
   "outputs": [],
   "source": [
    "# Esto no funciona porque no hay conversión para todos:\n",
    "#tiburones[\"Age\"] = tiburones[\"Age\"].astype(np.int)"
   ]
  },
  {
   "cell_type": "code",
   "execution_count": 296,
   "metadata": {
    "collapsed": false
   },
   "outputs": [],
   "source": [
    "# pd.to_numeric() es otra opcion\n",
    "\n",
    "tiburones[\"Age\"] = pd.to_numeric(tiburones[\"Age\"], errors=\"coerce\")"
   ]
  },
  {
   "cell_type": "code",
   "execution_count": 298,
   "metadata": {
    "collapsed": false
   },
   "outputs": [
    {
     "data": {
      "text/plain": [
       "27.1659375"
      ]
     },
     "execution_count": 298,
     "metadata": {},
     "output_type": "execute_result"
    }
   ],
   "source": [
    "tiburones[\"Age\"].mean()"
   ]
  },
  {
   "cell_type": "markdown",
   "metadata": {},
   "source": [
    "### 6. La curiosidad del data scientist"
   ]
  },
  {
   "cell_type": "markdown",
   "metadata": {
    "collapsed": true
   },
   "source": [
    "Finalmente, ¿qué más se puede examinar en el dataset que sea interesante?"
   ]
  }
 ],
 "metadata": {
  "anaconda-cloud": {},
  "kernelspec": {
   "display_name": "Python [conda root]",
   "language": "python",
   "name": "conda-root-py"
  },
  "language_info": {
   "codemirror_mode": {
    "name": "ipython",
    "version": 2
   },
   "file_extension": ".py",
   "mimetype": "text/x-python",
   "name": "python",
   "nbconvert_exporter": "python",
   "pygments_lexer": "ipython2",
   "version": "2.7.12"
  }
 },
 "nbformat": 4,
 "nbformat_minor": 0
}
