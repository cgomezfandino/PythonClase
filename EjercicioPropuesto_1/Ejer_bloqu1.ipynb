{
 "cells": [
  {
   "cell_type": "markdown",
   "metadata": {},
   "source": [
    "## Entrada/Salida de arrays NumPy"
   ]
  },
  {
   "cell_type": "code",
   "execution_count": 57,
   "metadata": {
    "collapsed": true
   },
   "outputs": [],
   "source": [
    "import numpy as np"
   ]
  },
  {
   "cell_type": "code",
   "execution_count": 58,
   "metadata": {
    "collapsed": true
   },
   "outputs": [],
   "source": [
    "N = 10"
   ]
  },
  {
   "cell_type": "code",
   "execution_count": 59,
   "metadata": {
    "collapsed": true
   },
   "outputs": [],
   "source": [
    "a = np.random.uniform(size = N)"
   ]
  },
  {
   "cell_type": "code",
   "execution_count": 60,
   "metadata": {
    "collapsed": false
   },
   "outputs": [],
   "source": [
    "b = np.random.normal(size = N)"
   ]
  },
  {
   "cell_type": "code",
   "execution_count": 61,
   "metadata": {
    "collapsed": false
   },
   "outputs": [
    {
     "data": {
      "text/plain": [
       "array([-2.15570928, -1.09715564,  0.213367  ,  1.62056538,  0.64464998,\n",
       "        0.86253706, -2.14361273,  1.78365912,  0.78860675, -2.35991333])"
      ]
     },
     "execution_count": 61,
     "metadata": {},
     "output_type": "execute_result"
    }
   ],
   "source": [
    "b"
   ]
  },
  {
   "cell_type": "markdown",
   "metadata": {},
   "source": [
    "Guardar los arrays anteriores en formato específico de NumPy comprimido y formato de texto (sin comprimir)."
   ]
  },
  {
   "cell_type": "code",
   "execution_count": 62,
   "metadata": {
    "collapsed": false
   },
   "outputs": [],
   "source": [
    "np.savez_compressed('Variables',a,b)"
   ]
  },
  {
   "cell_type": "code",
   "execution_count": 63,
   "metadata": {
    "collapsed": true
   },
   "outputs": [],
   "source": [
    "np.savetxt('Variable_a.txt', a, delimiter= ',')"
   ]
  },
  {
   "cell_type": "code",
   "execution_count": 64,
   "metadata": {
    "collapsed": true
   },
   "outputs": [],
   "source": [
    "np.savetxt('Variable_b.txt', b, delimiter= ',')"
   ]
  },
  {
   "cell_type": "code",
   "execution_count": 65,
   "metadata": {
    "collapsed": false
   },
   "outputs": [
    {
     "data": {
      "text/plain": [
       "<numpy.lib.npyio.NpzFile at 0xc2d6fd0>"
      ]
     },
     "execution_count": 65,
     "metadata": {},
     "output_type": "execute_result"
    }
   ],
   "source": [
    "np.load('C:\\Users\\CarlosEduardo\\CiffBigData\\DataSciencePython\\EjercicioPropuesto_1\\Variables.npz')"
   ]
  },
  {
   "cell_type": "markdown",
   "metadata": {},
   "source": [
    "Cargarlos de nuevo en memoria con nombres de variable diferentes."
   ]
  },
  {
   "cell_type": "code",
   "execution_count": 66,
   "metadata": {
    "collapsed": false
   },
   "outputs": [],
   "source": [
    "Vara = np.loadtxt('Variable_a.txt', delimiter=',')"
   ]
  },
  {
   "cell_type": "code",
   "execution_count": 67,
   "metadata": {
    "collapsed": false
   },
   "outputs": [],
   "source": [
    "Varb = np.loadtxt('Variable_b.txt', delimiter=',')"
   ]
  },
  {
   "cell_type": "code",
   "execution_count": 71,
   "metadata": {
    "collapsed": false
   },
   "outputs": [],
   "source": [
    "ab = (a,b)"
   ]
  },
  {
   "cell_type": "markdown",
   "metadata": {},
   "source": [
    "(opcional) Guardar los dos arrays en un solo fichero de texto y recuperarlos de nuevo. Pista: utilizar tuplas"
   ]
  },
  {
   "cell_type": "code",
   "execution_count": 13,
   "metadata": {
    "collapsed": false
   },
   "outputs": [],
   "source": [
    "np.savetxt('Var_ab', ab, delimiter=',')"
   ]
  },
  {
   "cell_type": "markdown",
   "metadata": {},
   "source": [
    "## Generacion de datos - distribuciones de SciPy"
   ]
  },
  {
   "cell_type": "code",
   "execution_count": 14,
   "metadata": {
    "collapsed": true
   },
   "outputs": [],
   "source": [
    "from scipy.stats import norm"
   ]
  },
  {
   "cell_type": "markdown",
   "metadata": {},
   "source": [
    "Creamos una distribucion normal con media 5"
   ]
  },
  {
   "cell_type": "code",
   "execution_count": 15,
   "metadata": {
    "collapsed": true
   },
   "outputs": [],
   "source": [
    "mi_normal = norm(5)"
   ]
  },
  {
   "cell_type": "markdown",
   "metadata": {},
   "source": [
    "Obtenemos los percentiles de los extremos de la distribucion:"
   ]
  },
  {
   "cell_type": "code",
   "execution_count": 16,
   "metadata": {
    "collapsed": true
   },
   "outputs": [],
   "source": [
    "x = np.linspace(mi_normal.ppf(0.001), mi_normal.ppf(0.999), 100)"
   ]
  },
  {
   "cell_type": "markdown",
   "metadata": {},
   "source": [
    "Obtenemos los estadisticos comunes:"
   ]
  },
  {
   "cell_type": "code",
   "execution_count": 17,
   "metadata": {
    "collapsed": true
   },
   "outputs": [],
   "source": [
    "m, v = mi_normal.stats(moments = 'mv')"
   ]
  },
  {
   "cell_type": "code",
   "execution_count": 18,
   "metadata": {
    "collapsed": false
   },
   "outputs": [
    {
     "name": "stdout",
     "output_type": "stream",
     "text": [
      "(array(5.0), array(1.0))\n"
     ]
    }
   ],
   "source": [
    "print(m, v)"
   ]
  },
  {
   "cell_type": "markdown",
   "metadata": {},
   "source": [
    "Dibujamos la funcion"
   ]
  },
  {
   "cell_type": "code",
   "execution_count": 19,
   "metadata": {
    "collapsed": true
   },
   "outputs": [],
   "source": [
    "%matplotlib inline"
   ]
  },
  {
   "cell_type": "code",
   "execution_count": 20,
   "metadata": {
    "collapsed": true
   },
   "outputs": [],
   "source": [
    "import matplotlib.pyplot as plt"
   ]
  },
  {
   "cell_type": "code",
   "execution_count": 21,
   "metadata": {
    "collapsed": false
   },
   "outputs": [
    {
     "data": {
      "text/plain": [
       "[<matplotlib.lines.Line2D at 0x97d7ef0>]"
      ]
     },
     "execution_count": 21,
     "metadata": {},
     "output_type": "execute_result"
    },
    {
     "data": {
      "image/png": "[encoded data removed]",
      "text/plain": [
       "<matplotlib.figure.Figure at 0x9aa50f0>"
      ]
     },
     "metadata": {},
     "output_type": "display_data"
    }
   ],
   "source": [
    "plt.plot(x, mi_normal.pdf(x), 'r-', lw = 3)"
   ]
  },
  {
   "cell_type": "markdown",
   "metadata": {},
   "source": [
    "Podemos generar a su vez datos aleatorios para simular una muestra de las siguiente manera"
   ]
  },
  {
   "cell_type": "code",
   "execution_count": 22,
   "metadata": {
    "collapsed": false
   },
   "outputs": [
    {
     "data": {
      "text/plain": [
       "(array([ 0.0038636 ,  0.00772721,  0.02318163,  0.02318163,  0.10818092,\n",
       "         0.0888629 ,  0.13136254,  0.22795265,  0.2781795 ,  0.30522473,\n",
       "         0.40954204,  0.49454133,  0.35931519,  0.31295194,  0.28590671,\n",
       "         0.25113427,  0.19704381,  0.16999858,  0.0888629 ,  0.05022685,\n",
       "         0.03090883,  0.01159081,  0.        ,  0.0038636 ]),\n",
       " array([ 1.97528951,  2.23411519,  2.49294088,  2.75176657,  3.01059225,\n",
       "         3.26941794,  3.52824362,  3.78706931,  4.045895  ,  4.30472068,\n",
       "         4.56354637,  4.82237205,  5.08119774,  5.34002343,  5.59884911,\n",
       "         5.8576748 ,  6.11650048,  6.37532617,  6.63415186,  6.89297754,\n",
       "         7.15180323,  7.41062892,  7.6694546 ,  7.92828029,  8.18710597]),\n",
       " <a list of 24 Patch objects>)"
      ]
     },
     "execution_count": 22,
     "metadata": {},
     "output_type": "execute_result"
    },
    {
     "data": {
      "image/png": "[encoded data removed]",
      "text/plain": [
       "<matplotlib.figure.Figure at 0x9adc160>"
      ]
     },
     "metadata": {},
     "output_type": "display_data"
    }
   ],
   "source": [
    "r = mi_normal.rvs(size = 1000)\n",
    "plt.hist(r, normed = True, alpha = 0.2, bins = \"auto\")"
   ]
  },
  {
   "cell_type": "markdown",
   "metadata": {},
   "source": [
    "The probability density function for pareto is:\n",
    "\n",
    "pareto.pdf(x, b) = b / x**(b+1)\n",
    "\n",
    "for x >= 1, b > 0.\n",
    "\n",
    "pareto takes b as a shape parameter.\n",
    "\n",
    "The probability density above is defined in the \n",
    "“standardized” form. To shift and/or scale the distribution \n",
    "use the loc and scale parameters. Specifically,\n",
    "pareto.pdf(x, b, loc, scale) is identically equivalent to \n",
    "pareto.pdf(y, b) / scale with y = (x - loc) / scale."
   ]
  },
  {
   "cell_type": "markdown",
   "metadata": {},
   "source": [
    "Calculate a few first moments:"
   ]
  },
  {
   "cell_type": "markdown",
   "metadata": {},
   "source": [
    "Display the probability density function (pdf)"
   ]
  },
  {
   "cell_type": "code",
   "execution_count": 23,
   "metadata": {
    "collapsed": false
   },
   "outputs": [],
   "source": [
    "a, m = 1., 3.\n",
    "s = (np.random.pareto(a, 100)+ 1)*m"
   ]
  },
  {
   "cell_type": "code",
   "execution_count": 24,
   "metadata": {
    "collapsed": false,
    "scrolled": true
   },
   "outputs": [
    {
     "data": {
      "image/png": "[encoded data removed]",
      "text/plain": [
       "<matplotlib.figure.Figure at 0x8bc5da0>"
      ]
     },
     "metadata": {},
     "output_type": "display_data"
    },
    {
     "name": "stdout",
     "output_type": "stream",
     "text": [
      "101\n",
      "100\n",
      "101\n"
     ]
    }
   ],
   "source": [
    "import matplotlib.pyplot as plt\n",
    "\n",
    "count, bins, _ = plt.hist(s, 100, normed=True)\n",
    "fit = a*m**a / bins**(a+1)\n",
    "plt.plot(bins, max(count)*fit/max(fit), linewidth=2, color='r')\n",
    "plt.show()\n",
    "print len(fit)\n",
    "print len(count)\n",
    "print len(bins)"
   ]
  },
  {
   "cell_type": "code",
   "execution_count": 25,
   "metadata": {
    "collapsed": false
   },
   "outputs": [
    {
     "name": "stdout",
     "output_type": "stream",
     "text": [
      "100\n",
      "101\n",
      "101\n"
     ]
    },
    {
     "data": {
      "text/plain": [
       "[<matplotlib.lines.Line2D at 0xa1229b0>]"
      ]
     },
     "execution_count": 25,
     "metadata": {},
     "output_type": "execute_result"
    },
    {
     "data": {
      "image/png": "[encoded data removed]",
      "text/plain": [
       "<matplotlib.figure.Figure at 0x9b07128>"
      ]
     },
     "metadata": {},
     "output_type": "display_data"
    }
   ],
   "source": [
    "%matplotlib inline\n",
    "a=3\n",
    "x = np.random.pareto(a,101)\n",
    "y= np.linspace(1,100,100)\n",
    "count, bins, _ = plt.hist(x,100);\n",
    "print len(count)\n",
    "print len(bins)\n",
    "print len(x)\n",
    "plt.plot(bins,max(count)*x/min(x))\n",
    "#plot.show()\n",
    "\n",
    "#m = 2\n",
    "#b = 1/x**m\n",
    "#count,bins= plt.hist(x,bins=1)\n",
    "#plt.plot(bins, max(count)*b/max(b), linewidth=2, color='r')\n",
    "#plt.show()"
   ]
  },
  {
   "cell_type": "code",
   "execution_count": null,
   "metadata": {
    "collapsed": false
   },
   "outputs": [],
   "source": []
  },
  {
   "cell_type": "code",
   "execution_count": null,
   "metadata": {
    "collapsed": true
   },
   "outputs": [],
   "source": []
  },
  {
   "cell_type": "code",
   "execution_count": null,
   "metadata": {
    "collapsed": true
   },
   "outputs": [],
   "source": []
  },
  {
   "cell_type": "markdown",
   "metadata": {},
   "source": [
    "$f(t)$ definida por: $$f(t)=\\begin{cases} 0, & t<0, \\ \\frac{2t}\n",
    "{(1+t^2)^2}, & t \\ge 0 \\end{cases}$$"
   ]
  },
  {
   "cell_type": "code",
   "execution_count": 66,
   "metadata": {
    "collapsed": false
   },
   "outputs": [
    {
     "name": "stdout",
     "output_type": "stream",
     "text": [
      "[ 0.          0.19796001  0.37297531  0.508403    0.59718608  0.64124611\n",
      "  0.64835433  0.62855005  0.59148253  0.54503389  0.49495     0.44504136\n",
      "  0.3976035   0.35385381  0.3142964   0.27899403  0.24775618  0.22026228\n",
      "  0.19613839  0.17500276  0.15649103  0.14026885  0.1260368   0.113531\n",
      "  0.10252131  0.09280833  0.08422011  0.07660865  0.06984681  0.06382534\n",
      "  0.05845034  0.05364104  0.04932784  0.04545072  0.04195778  0.03880408\n",
      "  0.03595061  0.03336347  0.03101307  0.02887361  0.02692248  0.02513985\n",
      "  0.02350828  0.02201241  0.02063869  0.0193751   0.01821102  0.01713699\n",
      "  0.0161446   0.01522635  0.01437553  0.01358616  0.01285285  0.01217078\n",
      "  0.01153559  0.01094338  0.01039061  0.00987407  0.00939089  0.00893844\n",
      "  0.00851433  0.00811641  0.00774269  0.00739138  0.00706084  0.00674958\n",
      "  0.0064562   0.00617947  0.00591821  0.00567138  0.005438    0.00521717\n",
      "  0.00500806  0.00480991  0.00462202  0.00444373  0.00427445  0.0041136\n",
      "  0.00396069  0.00381522  0.00367676  0.00354488  0.0034192   0.00329937\n",
      "  0.00318505  0.00307592  0.0029717   0.00287212  0.00277692  0.00268586\n",
      "  0.00259873  0.00251531  0.00243541  0.00235884  0.00228544  0.00221505\n",
      "  0.0021475   0.00208266  0.0020204   0.00196059]\n"
     ]
    },
    {
     "data": {
      "text/plain": [
       "<matplotlib.text.Text at 0xe229208>"
      ]
     },
     "execution_count": 66,
     "metadata": {},
     "output_type": "execute_result"
    },
    {
     "data": {
      "image/png": "[encoded data removed]",
      "text/plain": [
       "<matplotlib.figure.Figure at 0xdfdb278>"
      ]
     },
     "metadata": {},
     "output_type": "display_data"
    }
   ],
   "source": [
    "t1 = np.linspace(0,10,100,dtype='double')\n",
    "\n",
    "funcion1 = 2*t1/(1+t1**2)**2\n",
    "\n",
    "\n",
    "plt.plot(t1,funcion1)\n",
    "\n",
    "plt.xlabel('Series')\n",
    "#plt.text(8, 0.4, r'$\\frac{2t}{(1+t^2)^2}$')\n",
    "plt.ylabel('t')\n",
    "plt.title(\"when [0,10] replace in     \"+r'$\\frac{2t}{(1+t^2)^2}$')\n",
    "\n"
   ]
  },
  {
   "cell_type": "code",
   "execution_count": 72,
   "metadata": {
    "collapsed": false,
    "scrolled": true
   },
   "outputs": [
    {
     "data": {
      "text/plain": [
       "(array([ 565.,   87.,   76.,    0.,    0.,   94.,    0.,    0.,    0.,\n",
       "           0.,    0.,    0.,    0.,    0.,   97.,    0.,    0.,    0.,\n",
       "           0.,    0.,    0.,    0.,    0.,    0.,    0.,    0.,    0.,\n",
       "           0.,    0.,    0.,    0.,    0.,    0.,    0.,    0.,    0.,\n",
       "           0.,    0.,    0.,    0.,    0.,    0.,    0.,   81.]),\n",
       " array([ 0.        ,  0.01136364,  0.02272727,  0.03409091,  0.04545455,\n",
       "         0.05681818,  0.06818182,  0.07954545,  0.09090909,  0.10227273,\n",
       "         0.11363636,  0.125     ,  0.13636364,  0.14772727,  0.15909091,\n",
       "         0.17045455,  0.18181818,  0.19318182,  0.20454545,  0.21590909,\n",
       "         0.22727273,  0.23863636,  0.25      ,  0.26136364,  0.27272727,\n",
       "         0.28409091,  0.29545455,  0.30681818,  0.31818182,  0.32954545,\n",
       "         0.34090909,  0.35227273,  0.36363636,  0.375     ,  0.38636364,\n",
       "         0.39772727,  0.40909091,  0.42045455,  0.43181818,  0.44318182,\n",
       "         0.45454545,  0.46590909,  0.47727273,  0.48863636,  0.5       ]),\n",
       " <a list of 44 Patch objects>)"
      ]
     },
     "execution_count": 72,
     "metadata": {},
     "output_type": "execute_result"
    },
    {
     "data": {
      "image/png": "[encoded data removed]",
      "text/plain": [
       "<matplotlib.figure.Figure at 0xa07f828>"
      ]
     },
     "metadata": {},
     "output_type": "display_data"
    }
   ],
   "source": [
    "t2 = np.random.randint(0,11,1000)\n",
    "\n",
    "function2 = 2*t2/(1+t2**2.)**2\n",
    "# print function2\n",
    "\n",
    "plt.hist(function2, bins='auto')"
   ]
  },
  {
   "cell_type": "markdown",
   "metadata": {
    "collapsed": false
   },
   "source": [
    "## Generación de datos censurados"
   ]
  },
  {
   "cell_type": "code",
   "execution_count": 31,
   "metadata": {
    "collapsed": false
   },
   "outputs": [
    {
     "data": {
      "text/plain": [
       "0.7920491051109828"
      ]
     },
     "execution_count": 31,
     "metadata": {},
     "output_type": "execute_result"
    }
   ],
   "source": [
    "from scipy.stats import expon\n",
    "num_uniform = np.random.uniform()\n",
    "time = np.linspace(0,1,10)\n",
    "num_uniform\n"
   ]
  },
  {
   "cell_type": "code",
   "execution_count": 49,
   "metadata": {
    "collapsed": false
   },
   "outputs": [
    {
     "data": {
      "text/plain": [
       "[<matplotlib.lines.Line2D at 0xbfd46d8>]"
      ]
     },
     "execution_count": 49,
     "metadata": {},
     "output_type": "execute_result"
    },
    {
     "data": {
      "image/png": "[encoded data removed]",
      "text/plain": [
       "<matplotlib.figure.Figure at 0xb6a4400>"
      ]
     },
     "metadata": {},
     "output_type": "display_data"
    }
   ],
   "source": [
    "x = np.linspace(expon.ppf(0.01),expon.ppf(0.99),100)\n",
    "plt.plot(x,expon.pdf(x))\n",
    "#mean, var, skew, kurt = expon.stats(moments='mvsk')\n",
    "#t = expon()\n",
    "#np.allclose()\n",
    "#expon.rvs()\n"
   ]
  },
  {
   "cell_type": "code",
   "execution_count": 56,
   "metadata": {
    "collapsed": false
   },
   "outputs": [
    {
     "data": {
      "text/plain": [
       "array([ 0.29278377,  0.59594474,  0.25930359,  0.89139575,  0.5437992 ,\n",
       "        0.13560174,  0.27165332,  0.04983173,  0.00517654,  0.28508377])"
      ]
     },
     "execution_count": 56,
     "metadata": {},
     "output_type": "execute_result"
    }
   ],
   "source": [
    "np.random.exponential(1.0,size=10)"
   ]
  },
  {
   "cell_type": "code",
   "execution_count": null,
   "metadata": {
    "collapsed": true
   },
   "outputs": [],
   "source": []
  },
  {
   "cell_type": "code",
   "execution_count": null,
   "metadata": {
    "collapsed": true
   },
   "outputs": [],
   "source": []
  }
 ],
 "metadata": {
  "anaconda-cloud": {},
  "kernelspec": {
   "display_name": "Python [conda root]",
   "language": "python",
   "name": "conda-root-py"
  },
  "language_info": {
   "codemirror_mode": {
    "name": "ipython",
    "version": 2
   },
   "file_extension": ".py",
   "mimetype": "text/x-python",
   "name": "python",
   "nbconvert_exporter": "python",
   "pygments_lexer": "ipython2",
   "version": "2.7.12"
  }
 },
 "nbformat": 4,
 "nbformat_minor": 1
}
