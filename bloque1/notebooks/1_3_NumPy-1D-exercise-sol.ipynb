{
 "cells": [
  {
   "cell_type": "markdown",
   "metadata": {},
   "source": [
    "# Using NumPy arrays with one-dimensional data"
   ]
  },
  {
   "cell_type": "markdown",
   "metadata": {},
   "source": [
    "## What is NumPy? "
   ]
  },
  {
   "cell_type": "markdown",
   "metadata": {},
   "source": [
    "Numerical Python (NumPy) is a Python library providing a fast and space-efficient data structure: the <code>ndarray</code>, a **homogeneous** array structure, indexed with integers.\n",
    "The official documentation is <a href=\"http://www.numpy.org/\">here</a>."
   ]
  },
  {
   "cell_type": "markdown",
   "metadata": {},
   "source": [
    "## Creating arrays"
   ]
  },
  {
   "cell_type": "markdown",
   "metadata": {},
   "source": [
    "You can create an empty array. Simply import numpy and use following constructors: <code>array</code>, <code>arange</code>, <code>ones</code>, <code>zeros</code> or <code>empty</code>. "
   ]
  },
  {
   "cell_type": "code",
   "execution_count": 11,
   "metadata": {
    "collapsed": false
   },
   "outputs": [
    {
     "name": "stdout",
     "output_type": "stream",
     "text": [
      "[10  5  6  8 -2]\n",
      "[10  5  6  9 -2]\n",
      "[10, 5, 6, 8, -2]\n",
      "(10, 5, 6, 9, -2)\n"
     ]
    }
   ],
   "source": [
    "import numpy as np # Everybody uses np as shorthand...\n",
    "# Now we can create arrays from any sequence-like object:\n",
    "L = [10, 5, 6, 8, -2]\n",
    "T = (10, 5, 6, 9, -2)\n",
    "a = np.array(L)\n",
    "b = np.array(T)\n",
    "print a\n",
    "print b\n",
    "print L\n",
    "print T\n"
   ]
  },
  {
   "cell_type": "code",
   "execution_count": 6,
   "metadata": {
    "collapsed": false
   },
   "outputs": [
    {
     "data": {
      "text/plain": [
       "array([  2.36470529e-316,   2.36471636e-316,   2.36469423e-316,\n",
       "         2.36471913e-316,   2.36468869e-316,   2.36472190e-316,\n",
       "         2.36472466e-316,   2.36472743e-316,   2.36473020e-316,\n",
       "         2.36473296e-316])"
      ]
     },
     "execution_count": 6,
     "metadata": {},
     "output_type": "execute_result"
    }
   ],
   "source": [
    "# If you create it with empty, the values are arbitrary (not random, not necessarily zero).\n",
    "nothing = np.empty(10)\n",
    "nothing"
   ]
  },
  {
   "cell_type": "markdown",
   "metadata": {},
   "source": [
    "You can create arrays based on the lenght of other arrays, e.g. with the <code>ones_like</code> function."
   ]
  },
  {
   "cell_type": "code",
   "execution_count": 27,
   "metadata": {
    "collapsed": false
   },
   "outputs": [
    {
     "data": {
      "text/plain": [
       "array([1, 1, 1, 1, 1, 1, 1])"
      ]
     },
     "execution_count": 27,
     "metadata": {},
     "output_type": "execute_result"
    }
   ],
   "source": [
    "#Create an array of ones with the same lenght as this one:\n",
    "L = [2, 3, 4, 6, 4, 3, 2]\n",
    "b = np.ones(len(L))\n",
    "a = np.ones_like(L)\n",
    "a"
   ]
  },
  {
   "cell_type": "markdown",
   "metadata": {},
   "source": [
    "You can also create ranges with <code>arange</code>."
   ]
  },
  {
   "cell_type": "code",
   "execution_count": 29,
   "metadata": {
    "collapsed": false
   },
   "outputs": [
    {
     "data": {
      "text/plain": [
       "array([200, 202, 204, 206, 208, 210, 212, 214, 216, 218, 220, 222, 224,\n",
       "       226, 228, 230, 232, 234, 236, 238, 240, 242, 244, 246, 248, 250])"
      ]
     },
     "execution_count": 29,
     "metadata": {},
     "output_type": "execute_result"
    }
   ],
   "source": [
    "# Create an array with the even numbers \n",
    "# between (and including) 200 and 250.\n",
    "a = np.arange(200, 251, 2)\n",
    "a"
   ]
  },
  {
   "cell_type": "markdown",
   "metadata": {},
   "source": [
    "The function <a href=\"http://docs.scipy.org/doc/numpy/reference/generated/numpy.linspace.html\">linspace</a> allows for controlling the amount of numbers to generate."
   ]
  },
  {
   "cell_type": "code",
   "execution_count": 31,
   "metadata": {
    "collapsed": false
   },
   "outputs": [
    {
     "data": {
      "text/plain": [
       "array([ 2.  ,  2.25,  2.5 ,  2.75,  3.  ])"
      ]
     },
     "execution_count": 31,
     "metadata": {},
     "output_type": "execute_result"
    }
   ],
   "source": [
    "np.linspace(2.0, 3.0, num=5)"
   ]
  },
  {
   "cell_type": "markdown",
   "metadata": {},
   "source": [
    "## Arrays have types"
   ]
  },
  {
   "cell_type": "markdown",
   "metadata": {},
   "source": [
    "The <code>dtype</code> attribut of an array returns the type of its elements."
   ]
  },
  {
   "cell_type": "code",
   "execution_count": 32,
   "metadata": {
    "collapsed": false
   },
   "outputs": [
    {
     "name": "stdout",
     "output_type": "stream",
     "text": [
      "<type 'numpy.float64'>\n",
      "[ 1.  1.  1.  1.  1.]\n",
      "float64\n",
      "8\n"
     ]
    }
   ],
   "source": [
    "ones = np.ones(5)\n",
    "print type(ones[0])\n",
    "print ones\n",
    "print ones.dtype\n",
    "print ones.itemsize"
   ]
  },
  {
   "cell_type": "markdown",
   "metadata": {},
   "source": [
    "NumPy arrays have a single element type for all its values. "
   ]
  },
  {
   "cell_type": "code",
   "execution_count": 33,
   "metadata": {
    "collapsed": false
   },
   "outputs": [
    {
     "name": "stdout",
     "output_type": "stream",
     "text": [
      "float64\n"
     ]
    }
   ],
   "source": [
    "L = [1, 4.6, 5]\n",
    "a = np.array(L)\n",
    "print a.dtype"
   ]
  },
  {
   "cell_type": "markdown",
   "metadata": {},
   "source": [
    "We can **explicitly** indicate the type we want for a NumPy array."
   ]
  },
  {
   "cell_type": "code",
   "execution_count": 34,
   "metadata": {
    "collapsed": false
   },
   "outputs": [
    {
     "name": "stdout",
     "output_type": "stream",
     "text": [
      "int32\n",
      "[1 4 5]\n"
     ]
    }
   ],
   "source": [
    "#What happened with the numbers? \n",
    "L = [1, 4.6, 5]\n",
    "a = np.array(L, dtype=\"int32\")\n",
    "print a.dtype\n",
    "print a"
   ]
  },
  {
   "cell_type": "markdown",
   "metadata": {},
   "source": [
    "NumPy element types are not the same as the standard data types of Python. "
   ]
  },
  {
   "cell_type": "code",
   "execution_count": 35,
   "metadata": {
    "collapsed": false
   },
   "outputs": [
    {
     "name": "stdout",
     "output_type": "stream",
     "text": [
      "|S12\n"
     ]
    }
   ],
   "source": [
    "L = [\"this\", \"is\", \"an\", \"array555rrrr\"]\n",
    "a = np.array(L)\n",
    "print a.dtype\n",
    "#TODO: Now interpret the type... look in the documentation of NumPy data types. "
   ]
  },
  {
   "cell_type": "markdown",
   "metadata": {},
   "source": [
    "You can convert the type of an array using <code>as_type</code> operation."
   ]
  },
  {
   "cell_type": "code",
   "execution_count": 43,
   "metadata": {
    "collapsed": false
   },
   "outputs": [
    {
     "name": "stdout",
     "output_type": "stream",
     "text": [
      "[5 4 3]\n",
      "['23' '12' 'nan' '32' '10']\n"
     ]
    },
    {
     "ename": "ValueError",
     "evalue": "invalid literal for int() with base 10: 'nan'",
     "output_type": "error",
     "traceback": [
      "\u001b[0;31m---------------------------------------------------------------------------\u001b[0m",
      "\u001b[0;31mValueError\u001b[0m                                Traceback (most recent call last)",
      "\u001b[0;32m<ipython-input-43-e02f6be3beec>\u001b[0m in \u001b[0;36m<module>\u001b[0;34m()\u001b[0m\n\u001b[1;32m      7\u001b[0m \u001b[0ma\u001b[0m \u001b[1;33m=\u001b[0m \u001b[0mnp\u001b[0m\u001b[1;33m.\u001b[0m\u001b[0marray\u001b[0m\u001b[1;33m(\u001b[0m\u001b[1;33m[\u001b[0m\u001b[1;34m\"23\"\u001b[0m\u001b[1;33m,\u001b[0m \u001b[1;34m\"12\"\u001b[0m\u001b[1;33m,\u001b[0m \u001b[1;34m\"nan\"\u001b[0m\u001b[1;33m,\u001b[0m \u001b[1;34m\"32\"\u001b[0m\u001b[1;33m,\u001b[0m \u001b[1;34m\"10\"\u001b[0m\u001b[1;33m]\u001b[0m\u001b[1;33m)\u001b[0m\u001b[1;33m\u001b[0m\u001b[0m\n\u001b[1;32m      8\u001b[0m \u001b[1;32mprint\u001b[0m \u001b[0ma\u001b[0m\u001b[1;33m\u001b[0m\u001b[0m\n\u001b[0;32m----> 9\u001b[0;31m \u001b[0mb\u001b[0m \u001b[1;33m=\u001b[0m \u001b[0ma\u001b[0m\u001b[1;33m.\u001b[0m\u001b[0mastype\u001b[0m\u001b[1;33m(\u001b[0m\u001b[0mnp\u001b[0m\u001b[1;33m.\u001b[0m\u001b[0mint32\u001b[0m\u001b[1;33m)\u001b[0m\u001b[1;33m\u001b[0m\u001b[0m\n\u001b[0m",
      "\u001b[0;31mValueError\u001b[0m: invalid literal for int() with base 10: 'nan'"
     ]
    }
   ],
   "source": [
    "#Convert form float to int with astype:\n",
    "a = np.array([5.7, 4.2, 3.0])\n",
    "b = a.astype(np.int32)\n",
    "print b\n",
    "\n",
    "#Try to convert this array of strings to some kind of integer array:\n",
    "a = np.array([\"23\", \"12\", \"nan\", \"32\", \"10\"])\n",
    "print a\n",
    "b = a.astype(np.int32)"
   ]
  },
  {
   "cell_type": "markdown",
   "metadata": {},
   "source": [
    "## Vectorization!"
   ]
  },
  {
   "cell_type": "markdown",
   "metadata": {},
   "source": [
    "In general, operations of arrays with scalars are **vectorized**, i.e. they are applied to each element."
   ]
  },
  {
   "cell_type": "code",
   "execution_count": 44,
   "metadata": {
    "collapsed": false
   },
   "outputs": [
    {
     "name": "stdout",
     "output_type": "stream",
     "text": [
      "[ 2.  2.  2.  2.  2.  2.  2.  2.  2.  2.]\n"
     ]
    }
   ],
   "source": [
    "x = np.ones(10)\n",
    "x = x*2\n",
    "print x"
   ]
  },
  {
   "cell_type": "markdown",
   "metadata": {},
   "source": [
    "And if we apply operation between arrays of the same shape (size) they are applied element-wise."
   ]
  },
  {
   "cell_type": "code",
   "execution_count": 45,
   "metadata": {
    "collapsed": false
   },
   "outputs": [
    {
     "data": {
      "text/plain": [
       "array([ 3.,  3.,  3.,  3.,  3.,  3.,  3.,  3.,  3.,  3.])"
      ]
     },
     "execution_count": 45,
     "metadata": {},
     "output_type": "execute_result"
    }
   ],
   "source": [
    "y = np.ones(10)\n",
    "y + x"
   ]
  },
  {
   "cell_type": "code",
   "execution_count": 49,
   "metadata": {
    "collapsed": false
   },
   "outputs": [
    {
     "ename": "ValueError",
     "evalue": "operands could not be broadcast together with shapes (10,) (5,) ",
     "output_type": "error",
     "traceback": [
      "\u001b[0;31m---------------------------------------------------------------------------\u001b[0m",
      "\u001b[0;31mValueError\u001b[0m                                Traceback (most recent call last)",
      "\u001b[0;32m<ipython-input-49-43e069923f90>\u001b[0m in \u001b[0;36m<module>\u001b[0;34m()\u001b[0m\n\u001b[1;32m      1\u001b[0m \u001b[1;31m# Arrays need to be same size:\u001b[0m\u001b[1;33m\u001b[0m\u001b[1;33m\u001b[0m\u001b[0m\n\u001b[1;32m      2\u001b[0m \u001b[0mz\u001b[0m \u001b[1;33m=\u001b[0m \u001b[0mnp\u001b[0m\u001b[1;33m.\u001b[0m\u001b[0mones\u001b[0m\u001b[1;33m(\u001b[0m\u001b[1;36m5\u001b[0m\u001b[1;33m)\u001b[0m\u001b[1;33m\u001b[0m\u001b[0m\n\u001b[0;32m----> 3\u001b[0;31m \u001b[0mx\u001b[0m\u001b[1;33m+\u001b[0m\u001b[0mz\u001b[0m\u001b[1;33m\u001b[0m\u001b[0m\n\u001b[0m",
      "\u001b[0;31mValueError\u001b[0m: operands could not be broadcast together with shapes (10,) (5,) "
     ]
    }
   ],
   "source": [
    "# Arrays need to be same size:\n",
    "z = np.ones(5)\n",
    "x+z"
   ]
  },
  {
   "cell_type": "markdown",
   "metadata": {},
   "source": [
    "Now an exercise!"
   ]
  },
  {
   "cell_type": "code",
   "execution_count": 50,
   "metadata": {
    "collapsed": false,
    "scrolled": true
   },
   "outputs": [
    {
     "name": "stdout",
     "output_type": "stream",
     "text": [
      "[  4.97126193   4.41486042   7.74462929   3.65221973  10.29086191\n",
      "   1.83767636   1.2485627    0.95501101   1.74086139   4.18677441\n",
      "   5.50235232   2.04011017   7.15651825   0.64647967   2.65131201\n",
      "   3.15518449   2.33808808   1.62067235   1.74704414   1.32644804]\n",
      "[  5.96551431   5.29783251   9.29355515   4.38266367  12.3490343\n",
      "   2.20521164   1.49827524   1.14601321   2.08903366   5.0241293\n",
      "   6.60282278   2.4481322    8.58782189   0.7757756    3.18157441\n",
      "   3.78622139   2.8057057    1.94480682   2.09645297   1.59173765]\n"
     ]
    }
   ],
   "source": [
    "# create an array of 20 numbers between 5 and 10 using a gamma distribution, print them \n",
    "# and later increase them in a 20% (you have to find the numpy function for that in the docs)\n",
    "shape, scale = 2., 2. # mean and dispersion\n",
    "r = np.random.gamma(shape, scale, 20)\n",
    "print r\n",
    "r = r*1.2\n",
    "print r"
   ]
  },
  {
   "cell_type": "markdown",
   "metadata": {},
   "source": [
    "## Basic graphing"
   ]
  },
  {
   "cell_type": "markdown",
   "metadata": {},
   "source": [
    "You can use matplotlib as usual. Now let's generate more random numbers."
   ]
  },
  {
   "cell_type": "code",
   "execution_count": 53,
   "metadata": {
    "collapsed": false
   },
   "outputs": [
    {
     "data": {
      "text/plain": [
       "[<matplotlib.lines.Line2D at 0x9548c88>]"
      ]
     },
     "execution_count": 53,
     "metadata": {},
     "output_type": "execute_result"
    },
    {
     "data": {
      "image/png": "[encoded data removed]",
      "text/plain": [
       "<matplotlib.figure.Figure at 0x94cd518>"
      ]
     },
     "metadata": {},
     "output_type": "display_data"
    }
   ],
   "source": [
    "import matplotlib.pyplot as plt\n",
    "%matplotlib inline\n",
    "#Re-generate the previous array but with 2000 elements and plot it\n",
    "r = np.random.gamma(shape, scale, 2000)\n",
    "plt.plot(r)"
   ]
  },
  {
   "cell_type": "markdown",
   "metadata": {},
   "source": [
    "But for plotting the histogram, you need to do it other way..."
   ]
  },
  {
   "cell_type": "code",
   "execution_count": 54,
   "metadata": {
    "collapsed": false
   },
   "outputs": [
    {
     "data": {
      "text/plain": [
       "(array([ 17.,  43.,  39.,  46.,  71.,  78.,  62.,  84.,  76.,  64.,  80.,\n",
       "         63.,  77.,  70.,  69.,  78.,  85.,  65.,  54.,  42.,  48.,  61.,\n",
       "         57.,  40.,  30.,  30.,  42.,  32.,  27.,  21.,  25.,  22.,  18.,\n",
       "         20.,  15.,  24.,  14.,  17.,  16.,  13.,   9.,  15.,   8.,  15.,\n",
       "          9.,   9.,   9.,   6.,   8.,   7.,   7.,   4.,   2.,   4.,   7.,\n",
       "          6.,   4.,   3.,   3.,   3.,   3.,   1.,   1.,   2.,   1.,   0.,\n",
       "          1.,   4.,   0.,   2.,   1.,   3.,   0.,   0.,   0.,   0.,   2.,\n",
       "          0.,   0.,   1.,   1.,   1.,   1.,   0.,   1.,   0.,   0.,   0.,\n",
       "          0.,   0.,   0.,   0.,   0.,   0.,   0.,   0.,   0.,   0.,   0.,\n",
       "          1.]), array([  0.05180733,   0.25482403,   0.45784074,   0.66085744,\n",
       "          0.86387414,   1.06689085,   1.26990755,   1.47292426,\n",
       "          1.67594096,   1.87895767,   2.08197437,   2.28499107,\n",
       "          2.48800778,   2.69102448,   2.89404119,   3.09705789,\n",
       "          3.3000746 ,   3.5030913 ,   3.70610801,   3.90912471,\n",
       "          4.11214141,   4.31515812,   4.51817482,   4.72119153,\n",
       "          4.92420823,   5.12722494,   5.33024164,   5.53325834,\n",
       "          5.73627505,   5.93929175,   6.14230846,   6.34532516,\n",
       "          6.54834187,   6.75135857,   6.95437528,   7.15739198,\n",
       "          7.36040868,   7.56342539,   7.76644209,   7.9694588 ,\n",
       "          8.1724755 ,   8.37549221,   8.57850891,   8.78152561,\n",
       "          8.98454232,   9.18755902,   9.39057573,   9.59359243,\n",
       "          9.79660914,   9.99962584,  10.20264255,  10.40565925,\n",
       "         10.60867595,  10.81169266,  11.01470936,  11.21772607,\n",
       "         11.42074277,  11.62375948,  11.82677618,  12.02979289,\n",
       "         12.23280959,  12.43582629,  12.638843  ,  12.8418597 ,\n",
       "         13.04487641,  13.24789311,  13.45090982,  13.65392652,\n",
       "         13.85694322,  14.05995993,  14.26297663,  14.46599334,\n",
       "         14.66901004,  14.87202675,  15.07504345,  15.27806016,\n",
       "         15.48107686,  15.68409356,  15.88711027,  16.09012697,\n",
       "         16.29314368,  16.49616038,  16.69917709,  16.90219379,\n",
       "         17.10521049,  17.3082272 ,  17.5112439 ,  17.71426061,\n",
       "         17.91727731,  18.12029402,  18.32331072,  18.52632743,\n",
       "         18.72934413,  18.93236083,  19.13537754,  19.33839424,\n",
       "         19.54141095,  19.74442765,  19.94744436,  20.15046106,  20.35347776]), <a list of 100 Patch objects>)"
      ]
     },
     "execution_count": 54,
     "metadata": {},
     "output_type": "execute_result"
    },
    {
     "data": {
      "image/png": "[encoded data removed]",
      "text/plain": [
       "<matplotlib.figure.Figure at 0x87eb550>"
      ]
     },
     "metadata": {},
     "output_type": "display_data"
    }
   ],
   "source": [
    "# TODO: Search in the docs of the pyplot object a way to plot a histogram. \n",
    "# You should particularly read what \"bins\" are as this influence the plotting of histograms. \n",
    "plt.hist(r, bins=100)"
   ]
  },
  {
   "cell_type": "markdown",
   "metadata": {},
   "source": [
    "Check if this looks like a Gamma distribution with the given parameters :-)"
   ]
  },
  {
   "cell_type": "markdown",
   "metadata": {},
   "source": [
    "## Using statistical libraries: analysis of variance"
   ]
  },
  {
   "cell_type": "markdown",
   "metadata": {},
   "source": [
    "Create three arrays of the same size, two with a Gamma distribution, and one with an exponential distribution. Print their variances."
   ]
  },
  {
   "cell_type": "code",
   "execution_count": 55,
   "metadata": {
    "collapsed": false
   },
   "outputs": [
    {
     "name": "stdout",
     "output_type": "stream",
     "text": [
      "0.0404185712036 0.0635200731325 0.506801334071 0.0635200731325\n"
     ]
    }
   ],
   "source": [
    "#Create three arrays of 200 random elements, two with Gamma and one exponential. \n",
    "# Print variances.\n",
    "a = np.random.gamma(0.25, 0.3, 200)\n",
    "b = np.random.gamma(0.3, 0.35, 200)\n",
    "c = np.random.exponential(0.7, 200)\n",
    "print a.var(), b.var(), c.var(), b.var()"
   ]
  },
  {
   "cell_type": "markdown",
   "metadata": {},
   "source": [
    "And now let's do the analysis of variance."
   ]
  },
  {
   "cell_type": "code",
   "execution_count": 56,
   "metadata": {
    "collapsed": false
   },
   "outputs": [
    {
     "name": "stdout",
     "output_type": "stream",
     "text": [
      "10.9398822943 0.000941161483012\n",
      "156.103260599 8.03716422763e-36\n"
     ]
    }
   ],
   "source": [
    "# Check analysis of variance between each pair of arrays and comment the results.\n",
    "# Note and read the assumptions of ANOVA, to see if they fit in this case.\n",
    "from scipy.stats import kruskal\n",
    "# In the first case, the p-value is relatively high which means they do not have different medians. \n",
    "h_val, p_val = kruskal(a, b)\n",
    "print h_val, p_val\n",
    "# In the second case, the p-value is very low, which means we reject the null hypothesis that \n",
    "# they come from the same population...\n",
    "h_val, p_val = kruskal(b, c)\n",
    "print h_val, p_val"
   ]
  },
  {
   "cell_type": "markdown",
   "metadata": {},
   "source": [
    "Now do the same check with two random samples normally distributed..."
   ]
  },
  {
   "cell_type": "markdown",
   "metadata": {},
   "source": [
    "## Indexing and slicing"
   ]
  },
  {
   "cell_type": "markdown",
   "metadata": {},
   "source": [
    "You can index and slice numpy arrays just as you do with Python lists. If you assign a value to an slice, it gets propagated to all the cells."
   ]
  },
  {
   "cell_type": "code",
   "execution_count": 59,
   "metadata": {
    "collapsed": false
   },
   "outputs": [
    {
     "name": "stdout",
     "output_type": "stream",
     "text": [
      "[ 1.  1.  1.  1.  1.  1.  1.  1.  1.  1.]\n",
      "[ 1.  1.  1.  1.  1.  0.  0.  0.  0.  0.]\n"
     ]
    }
   ],
   "source": [
    "#Create an array of ten ones, then slice the second half and set all the elements\n",
    "#in the slice to zero.\n",
    "o = np.ones(10)\n",
    "print o\n",
    "o[5:]=0\n",
    "print o"
   ]
  },
  {
   "cell_type": "markdown",
   "metadata": {},
   "source": [
    "A very important aspect of slicing is that **it creates views, not copies**"
   ]
  },
  {
   "cell_type": "code",
   "execution_count": 60,
   "metadata": {
    "collapsed": false
   },
   "outputs": [
    {
     "name": "stdout",
     "output_type": "stream",
     "text": [
      "[ 1.  1.  0.  0.]\n",
      "[ 4.  4.  4.  4.]\n",
      "[ 1.  1.  1.  4.  4.  4.  4.  0.  0.  0.]\n",
      "[ 4.  4.  4.  4.]\n"
     ]
    }
   ],
   "source": [
    "#Create a slice of the four elements in the middle of the above array \n",
    "# and use a new variable to reference it.\n",
    "# Then assign the value 2 to the new reference and print the original.\n",
    "sl = o[3:7]\n",
    "print sl\n",
    "sl[:] = 4\n",
    "print sl\n",
    "z = sl.copy()\n",
    "print o\n",
    "print z"
   ]
  },
  {
   "cell_type": "markdown",
   "metadata": {},
   "source": [
    "## Boolean arrays"
   ]
  },
  {
   "cell_type": "markdown",
   "metadata": {},
   "source": [
    "You can use boolean expressions to get boolean arrays."
   ]
  },
  {
   "cell_type": "code",
   "execution_count": 62,
   "metadata": {
    "collapsed": false
   },
   "outputs": [
    {
     "name": "stdout",
     "output_type": "stream",
     "text": [
      "[ 3.7  4.   4.7  5.7  4.1  4.2  6.4  7.8  4.9  6.8  1.8  5.6  2.4  2.7  2.2]\n",
      "[ 5.6  8.7  8.7  4.7  6.8  3.7  7.3  6.4  3.3  4.4  5.3  6.6  5.1  8.4  3.2]\n"
     ]
    }
   ],
   "source": [
    "# Assign scores in a class of 15 students for two assignments.\n",
    "# Create two arrays with the scores of the students using a normal distribution.\n",
    "assig1 = np.random.normal(5, 2, 15)\n",
    "assig2 = np.random.normal(5, 2, 15)\n",
    "\n",
    "#TODO Round all the scores to one decimal. \n",
    "assig1 = assig1.round(1)\n",
    "assig2 = assig2.round(1)\n",
    "print assig1\n",
    "print assig2"
   ]
  },
  {
   "cell_type": "code",
   "execution_count": 63,
   "metadata": {
    "collapsed": false
   },
   "outputs": [
    {
     "data": {
      "text/plain": [
       "array([False, False, False,  True, False, False,  True,  True, False,\n",
       "        True, False,  True, False, False, False], dtype=bool)"
      ]
     },
     "execution_count": 63,
     "metadata": {},
     "output_type": "execute_result"
    }
   ],
   "source": [
    "assig1 >= 5"
   ]
  },
  {
   "cell_type": "code",
   "execution_count": 64,
   "metadata": {
    "collapsed": false
   },
   "outputs": [
    {
     "name": "stdout",
     "output_type": "stream",
     "text": [
      "[False False False  True False False  True  True False  True False  True\n",
      " False False False]\n",
      "[ 5.2   6.85  7.1   5.6   6.1 ]\n"
     ]
    }
   ],
   "source": [
    "# Now let's think that only the students that passed the first assignment will \n",
    "# have the second considered.\n",
    "# Get a boolean array for the students that passed the first assignement. \n",
    "passed1 = assig1 >= 5.0\n",
    "print passed1\n",
    "\n",
    "# Now get the mean of the two assignments per each of the students that passed the first one.\n",
    "print ((assig2+assig1)/2)[passed1]"
   ]
  },
  {
   "cell_type": "markdown",
   "metadata": {},
   "source": [
    "## Playing with ufuncs"
   ]
  },
  {
   "cell_type": "markdown",
   "metadata": {},
   "source": [
    "Universal functions (ufuncs) are vectorized operations on NumPy arrays. Let's plot some functions implemented with ufuncs. The complete list is here: http://docs.scipy.org/doc/numpy/reference/ufuncs.html "
   ]
  },
  {
   "cell_type": "code",
   "execution_count": 77,
   "metadata": {
    "collapsed": false
   },
   "outputs": [
    {
     "name": "stdout",
     "output_type": "stream",
     "text": [
      "50\n"
     ]
    },
    {
     "data": {
      "text/plain": [
       "[<matplotlib.lines.Line2D at 0xc2fe9b0>]"
      ]
     },
     "execution_count": 77,
     "metadata": {},
     "output_type": "execute_result"
    },
    {
     "data": {
      "image/png": "[encoded data removed]",
      "text/plain": [
       "<matplotlib.figure.Figure at 0xd05a978>"
      ]
     },
     "metadata": {},
     "output_type": "display_data"
    }
   ],
   "source": [
    "import numpy as np\n",
    "#TODO: Create an array of 50 elements between 1 and 100 using linspace. Look\n",
    "# at the documentation of this function.\n",
    "x = np.linspace(1, 100)\n",
    "print len(x)\n",
    "\n",
    "# Get the sin of each of the generated points and plot them.\n",
    "y = np.sin(x)\n",
    "plt.plot(x,y)"
   ]
  },
  {
   "cell_type": "markdown",
   "metadata": {},
   "source": [
    "You can plot several arrays in the same plot. "
   ]
  },
  {
   "cell_type": "code",
   "execution_count": 39,
   "metadata": {
    "collapsed": false
   },
   "outputs": [
    {
     "data": {
      "text/plain": [
       "[<matplotlib.lines.Line2D at 0x99a86d8>,\n",
       " <matplotlib.lines.Line2D at 0x99a8898>]"
      ]
     },
     "execution_count": 39,
     "metadata": {},
     "output_type": "execute_result"
    },
    {
     "data": {
      "image/png": "[encoded data removed]",
      "text/plain": [
       "<matplotlib.figure.Figure at 0x98ebc18>"
      ]
     },
     "metadata": {},
     "output_type": "display_data"
    }
   ],
   "source": [
    "# TODO: Plot the same as above, plus the square of the sin values. \n",
    "# Look in the docs how you can pass more than one array to plot, and how to draw the second \n",
    "# with a different color, e.g. red.\n",
    "plt.plot(x, y, x, y**2, 'r-^')"
   ]
  },
  {
   "cell_type": "markdown",
   "metadata": {},
   "source": [
    "You can also generate random points and do scaterplotting"
   ]
  },
  {
   "cell_type": "code",
   "execution_count": 38,
   "metadata": {
    "collapsed": false
   },
   "outputs": [
    {
     "data": {
      "text/plain": [
       "<matplotlib.collections.PathCollection at 0x9669e48>"
      ]
     },
     "execution_count": 38,
     "metadata": {},
     "output_type": "execute_result"
    },
    {
     "data": {
      "image/png": "[encoded data removed]",
      "text/plain": [
       "<matplotlib.figure.Figure at 0x99ff9b0>"
      ]
     },
     "metadata": {},
     "output_type": "display_data"
    }
   ],
   "source": [
    "#TODO: generate two arrays of the same size using a random generator with gamma dstribution.\n",
    "a = np.random.gamma(3,2, 100)\n",
    "b = np.random.gamma(3,2, 100)\n",
    "\n",
    "# Plot the two arrays as a scatterplot.\n",
    "plt.scatter(a,b)"
   ]
  },
  {
   "cell_type": "markdown",
   "metadata": {
    "collapsed": false
   },
   "source": [
    "Summarization operations are implemented also."
   ]
  },
  {
   "cell_type": "code",
   "execution_count": null,
   "metadata": {
    "collapsed": false
   },
   "outputs": [],
   "source": [
    "b.mean()"
   ]
  },
  {
   "cell_type": "code",
   "execution_count": null,
   "metadata": {
    "collapsed": false
   },
   "outputs": [],
   "source": [
    "np.sqrt(b)"
   ]
  },
  {
   "cell_type": "markdown",
   "metadata": {},
   "source": [
    "This is a key reference:\n",
    "http://wiki.scipy.org/Numpy_Example_List"
   ]
  },
  {
   "cell_type": "code",
   "execution_count": null,
   "metadata": {
    "collapsed": true
   },
   "outputs": [],
   "source": []
  }
 ],
 "metadata": {
  "anaconda-cloud": {},
  "kernelspec": {
   "display_name": "Python [conda root]",
   "language": "python",
   "name": "conda-root-py"
  },
  "language_info": {
   "codemirror_mode": {
    "name": "ipython",
    "version": 2
   },
   "file_extension": ".py",
   "mimetype": "text/x-python",
   "name": "python",
   "nbconvert_exporter": "python",
   "pygments_lexer": "ipython2",
   "version": "2.7.12"
  }
 },
 "nbformat": 4,
 "nbformat_minor": 0
}
