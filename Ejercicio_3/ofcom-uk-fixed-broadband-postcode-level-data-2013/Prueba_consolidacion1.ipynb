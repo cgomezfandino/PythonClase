{
 "cells": [
  {
   "cell_type": "markdown",
   "metadata": {},
   "source": [
    "# Prueba de consolidación I\n",
    "### Entornos de data science con Python\n",
    "## Parte 1\n",
    "En esta primera parte trabajaremos con ficheros de la iniciativa de datos abiertos del Gobierno británico. Pueden consultarse aquí: https://www.data.gov.uk/dataset/broadband-coverage\n",
    "\n",
    "Si descargamos el fichero etiquetado como csv/zip denominado \"Broadband Coverage and speeds (postcode level data)\" y lo descomprimimos tendremos el dataset en dos fragmentos y la descripción del mismo.\n"
   ]
  },
  {
   "cell_type": "code",
   "execution_count": 1,
   "metadata": {
    "collapsed": false
   },
   "outputs": [],
   "source": [
    "import numpy as np\n",
    "import matplotlib.pyplot as plt\n",
    "import pandas as pd\n",
    "%matplotlib inline\n",
    "#import bokeh"
   ]
  },
  {
   "cell_type": "code",
   "execution_count": 2,
   "metadata": {
    "collapsed": false
   },
   "outputs": [],
   "source": [
    "data1 = pd.read_table('ofcom-part1-fixed-broadband-postcode-level-data-2013.csv', sep= ',')\n",
    "data2 = pd.read_table('ofcom-part2-fixed-broadband-postcode-level-data-2013.csv', sep= ',')"
   ]
  },
  {
   "cell_type": "code",
   "execution_count": 3,
   "metadata": {
    "collapsed": false
   },
   "outputs": [
    {
     "name": "stdout",
     "output_type": "stream",
     "text": [
      "949786\n",
      "949785\n",
      "1899571\n"
     ]
    }
   ],
   "source": [
    "#data1.head()\n",
    "#data2.head()\n",
    "print len(data1) # 949.786 Registros\n",
    "print len(data2) # 949.785 Registro\n",
    "print (len(data1)+len(data2)) #total Registros: 1.899.571"
   ]
  },
  {
   "cell_type": "code",
   "execution_count": 4,
   "metadata": {
    "collapsed": false
   },
   "outputs": [],
   "source": [
    "data3 = pd.merge(data1,data2,how='outer')\n",
    "#del data3"
   ]
  },
  {
   "cell_type": "code",
   "execution_count": 5,
   "metadata": {
    "collapsed": false
   },
   "outputs": [
    {
     "data": {
      "text/html": [
       "<div>\n",
       "<table border=\"1\" class=\"dataframe\">\n",
       "  <thead>\n",
       "    <tr style=\"text-align: right;\">\n",
       "      <th></th>\n",
       "      <th>Postcode(No Spaces)</th>\n",
       "      <th>Postcode Data Status</th>\n",
       "      <th>Lines &lt; 2Mbps(Y/N)</th>\n",
       "      <th>Average Speed/Mbps</th>\n",
       "      <th>Median Speed/Mbps</th>\n",
       "      <th>Maximum Speed/Mbps</th>\n",
       "      <th>NGA Available(Y/N)</th>\n",
       "      <th>Number of Connections</th>\n",
       "    </tr>\n",
       "  </thead>\n",
       "  <tbody>\n",
       "    <tr>\n",
       "      <th>0</th>\n",
       "      <td>AB101AA</td>\n",
       "      <td>No premises</td>\n",
       "      <td>NaN</td>\n",
       "      <td>NaN</td>\n",
       "      <td>NaN</td>\n",
       "      <td>NaN</td>\n",
       "      <td>N</td>\n",
       "      <td>0</td>\n",
       "    </tr>\n",
       "    <tr>\n",
       "      <th>1</th>\n",
       "      <td>AB101AB</td>\n",
       "      <td>No premises</td>\n",
       "      <td>NaN</td>\n",
       "      <td>NaN</td>\n",
       "      <td>NaN</td>\n",
       "      <td>NaN</td>\n",
       "      <td>Y</td>\n",
       "      <td>0</td>\n",
       "    </tr>\n",
       "    <tr>\n",
       "      <th>2</th>\n",
       "      <td>AB101AF</td>\n",
       "      <td>No premises</td>\n",
       "      <td>NaN</td>\n",
       "      <td>NaN</td>\n",
       "      <td>NaN</td>\n",
       "      <td>NaN</td>\n",
       "      <td>N</td>\n",
       "      <td>0</td>\n",
       "    </tr>\n",
       "    <tr>\n",
       "      <th>3</th>\n",
       "      <td>AB101AG</td>\n",
       "      <td>No premises</td>\n",
       "      <td>NaN</td>\n",
       "      <td>NaN</td>\n",
       "      <td>NaN</td>\n",
       "      <td>NaN</td>\n",
       "      <td>N</td>\n",
       "      <td>0</td>\n",
       "    </tr>\n",
       "    <tr>\n",
       "      <th>4</th>\n",
       "      <td>AB101AH</td>\n",
       "      <td>No premises</td>\n",
       "      <td>NaN</td>\n",
       "      <td>NaN</td>\n",
       "      <td>NaN</td>\n",
       "      <td>NaN</td>\n",
       "      <td>N</td>\n",
       "      <td>0</td>\n",
       "    </tr>\n",
       "  </tbody>\n",
       "</table>\n",
       "</div>"
      ],
      "text/plain": [
       "  Postcode(No Spaces)   Postcode Data Status   Lines < 2Mbps(Y/N)   \\\n",
       "0              AB101AA            No premises                  NaN   \n",
       "1              AB101AB            No premises                  NaN   \n",
       "2              AB101AF            No premises                  NaN   \n",
       "3              AB101AG            No premises                  NaN   \n",
       "4              AB101AH            No premises                  NaN   \n",
       "\n",
       "   Average Speed/Mbps   Median Speed/Mbps   Maximum Speed/Mbps  \\\n",
       "0                  NaN                 NaN                 NaN   \n",
       "1                  NaN                 NaN                 NaN   \n",
       "2                  NaN                 NaN                 NaN   \n",
       "3                  NaN                 NaN                 NaN   \n",
       "4                  NaN                 NaN                 NaN   \n",
       "\n",
       "   NGA Available(Y/N)  Number of Connections  \n",
       "0                    N                     0  \n",
       "1                    Y                     0  \n",
       "2                    N                     0  \n",
       "3                    N                     0  \n",
       "4                    N                     0  "
      ]
     },
     "execution_count": 5,
     "metadata": {},
     "output_type": "execute_result"
    }
   ],
   "source": [
    "data3.head()\n",
    "#print type(data3)\n",
    "#print type(data2)\n",
    "#print type(data1)"
   ]
  },
  {
   "cell_type": "code",
   "execution_count": 6,
   "metadata": {
    "collapsed": false
   },
   "outputs": [
    {
     "data": {
      "text/plain": [
       "Index([u'Postcode(No Spaces) ', u' Postcode Data Status ',\n",
       "       u' Lines < 2Mbps(Y/N) ', u' Average Speed/Mbps ',\n",
       "       u' Median Speed/Mbps ', u' Maximum Speed/Mbps', u' NGA Available(Y/N) ',\n",
       "       u'Number of Connections'],\n",
       "      dtype='object')"
      ]
     },
     "execution_count": 6,
     "metadata": {},
     "output_type": "execute_result"
    }
   ],
   "source": [
    "data3.columns #conociendo el nombre de cada una de las columnas de 'data3'"
   ]
  },
  {
   "cell_type": "markdown",
   "metadata": {},
   "source": [
    "### 1.1. Lectura de datos\n",
    "\n",
    "- Carga los datos como un DataFrame fusionando los dos ficheros en uno solo.\n",
    "\n",
    "- Renombra la primera columna para hacerla más corta (investiga alguna función para renombrar en pandas).\n"
   ]
  },
  {
   "cell_type": "code",
   "execution_count": 7,
   "metadata": {
    "collapsed": false
   },
   "outputs": [
    {
     "data": {
      "text/html": [
       "<div>\n",
       "<table border=\"1\" class=\"dataframe\">\n",
       "  <thead>\n",
       "    <tr style=\"text-align: right;\">\n",
       "      <th></th>\n",
       "      <th>Postcode</th>\n",
       "      <th>Postcode Data Status</th>\n",
       "      <th>Lines &lt; 2Mbps(Y/N)</th>\n",
       "      <th>Average Speed/Mbps</th>\n",
       "      <th>Median Speed/Mbps</th>\n",
       "      <th>Maximum Speed/Mbps</th>\n",
       "      <th>NGA Available(Y/N)</th>\n",
       "      <th>Number of Connections</th>\n",
       "    </tr>\n",
       "  </thead>\n",
       "  <tbody>\n",
       "    <tr>\n",
       "      <th>0</th>\n",
       "      <td>AB101AA</td>\n",
       "      <td>No premises</td>\n",
       "      <td>NaN</td>\n",
       "      <td>NaN</td>\n",
       "      <td>NaN</td>\n",
       "      <td>NaN</td>\n",
       "      <td>N</td>\n",
       "      <td>0</td>\n",
       "    </tr>\n",
       "    <tr>\n",
       "      <th>1</th>\n",
       "      <td>AB101AB</td>\n",
       "      <td>No premises</td>\n",
       "      <td>NaN</td>\n",
       "      <td>NaN</td>\n",
       "      <td>NaN</td>\n",
       "      <td>NaN</td>\n",
       "      <td>Y</td>\n",
       "      <td>0</td>\n",
       "    </tr>\n",
       "    <tr>\n",
       "      <th>2</th>\n",
       "      <td>AB101AF</td>\n",
       "      <td>No premises</td>\n",
       "      <td>NaN</td>\n",
       "      <td>NaN</td>\n",
       "      <td>NaN</td>\n",
       "      <td>NaN</td>\n",
       "      <td>N</td>\n",
       "      <td>0</td>\n",
       "    </tr>\n",
       "    <tr>\n",
       "      <th>3</th>\n",
       "      <td>AB101AG</td>\n",
       "      <td>No premises</td>\n",
       "      <td>NaN</td>\n",
       "      <td>NaN</td>\n",
       "      <td>NaN</td>\n",
       "      <td>NaN</td>\n",
       "      <td>N</td>\n",
       "      <td>0</td>\n",
       "    </tr>\n",
       "    <tr>\n",
       "      <th>4</th>\n",
       "      <td>AB101AH</td>\n",
       "      <td>No premises</td>\n",
       "      <td>NaN</td>\n",
       "      <td>NaN</td>\n",
       "      <td>NaN</td>\n",
       "      <td>NaN</td>\n",
       "      <td>N</td>\n",
       "      <td>0</td>\n",
       "    </tr>\n",
       "  </tbody>\n",
       "</table>\n",
       "</div>"
      ],
      "text/plain": [
       "  Postcode  Postcode Data Status   Lines < 2Mbps(Y/N)   Average Speed/Mbps   \\\n",
       "0  AB101AA            No premises                  NaN                  NaN   \n",
       "1  AB101AB            No premises                  NaN                  NaN   \n",
       "2  AB101AF            No premises                  NaN                  NaN   \n",
       "3  AB101AG            No premises                  NaN                  NaN   \n",
       "4  AB101AH            No premises                  NaN                  NaN   \n",
       "\n",
       "   Median Speed/Mbps   Maximum Speed/Mbps  NGA Available(Y/N)   \\\n",
       "0                 NaN                 NaN                    N   \n",
       "1                 NaN                 NaN                    Y   \n",
       "2                 NaN                 NaN                    N   \n",
       "3                 NaN                 NaN                    N   \n",
       "4                 NaN                 NaN                    N   \n",
       "\n",
       "  Number of Connections  \n",
       "0                     0  \n",
       "1                     0  \n",
       "2                     0  \n",
       "3                     0  \n",
       "4                     0  "
      ]
     },
     "execution_count": 7,
     "metadata": {},
     "output_type": "execute_result"
    }
   ],
   "source": [
    "#cambiando el nombre de la primera columna por 'Postcode' y grabandola en la variable data3\n",
    "data3.rename(columns = {'Postcode(No Spaces) ' : 'Postcode'}, inplace = True)\n",
    "data3.head()"
   ]
  },
  {
   "cell_type": "markdown",
   "metadata": {},
   "source": [
    "## 1.2. Limpieza de datos\n",
    "\n",
    "- Observa los valores faltantes (¿en qué columnas están?), cuantifícalos (¿cuántos hay en cada columna?). Pista: la función np.unique() puede darnos ayuda en esto.\n",
    "- Centa cuántas filas quitamos si eliminamos todas las filas con algún valor faltante, o con al menos tres valores faltantes.\n"
   ]
  },
  {
   "cell_type": "code",
   "execution_count": 8,
   "metadata": {
    "collapsed": false
   },
   "outputs": [
    {
     "name": "stderr",
     "output_type": "stream",
     "text": [
      "C:\\Users\\cgome\\Anaconda2\\lib\\site-packages\\numpy\\lib\\arraysetops.py:200: FutureWarning: numpy not_equal will not check object identity in the future. The comparison did not return the same result as suggested by the identity (`is`)) and will change.\n",
      "  flag = np.concatenate(([True], aux[1:] != aux[:-1]))\n"
     ]
    },
    {
     "data": {
      "text/plain": [
       "(array([nan, 'N', 'Y'], dtype=object),\n",
       " array([588441, 769634, 541496], dtype=int64))"
      ]
     },
     "execution_count": 8,
     "metadata": {},
     "output_type": "execute_result"
    }
   ],
   "source": [
    "#data3.isnull().sum\n",
    "np.unique(data3[[2]], return_counts=True)"
   ]
  },
  {
   "cell_type": "code",
   "execution_count": 9,
   "metadata": {
    "collapsed": false
   },
   "outputs": [
    {
     "data": {
      "text/plain": [
       "Postcode                       0\n",
       " Postcode Data Status          0\n",
       " Lines < 2Mbps(Y/N)       588441\n",
       " Average Speed/Mbps       588441\n",
       " Median Speed/Mbps        588441\n",
       " Maximum Speed/Mbps       588441\n",
       " NGA Available(Y/N)            0\n",
       "Number of Connections          0\n",
       "dtype: int64"
      ]
     },
     "execution_count": 9,
     "metadata": {},
     "output_type": "execute_result"
    }
   ],
   "source": [
    "#Nos permite contar el numero de valores nulos por columna\n",
    "data3.isnull().sum()"
   ]
  },
  {
   "cell_type": "code",
   "execution_count": 10,
   "metadata": {
    "collapsed": false
   },
   "outputs": [],
   "source": [
    "# si eliminamos los valores nulos, tendremos una tabla 'data3' con 1.311.130 registros\n",
    "# data3.dropna().shape #1.311.130 Registros\n",
    "data3.dropna(how='any',inplace=True)"
   ]
  },
  {
   "cell_type": "code",
   "execution_count": 11,
   "metadata": {
    "collapsed": false
   },
   "outputs": [
    {
     "data": {
      "text/plain": [
       "(1311130, 8)"
      ]
     },
     "execution_count": 11,
     "metadata": {},
     "output_type": "execute_result"
    }
   ],
   "source": [
    "data3.shape"
   ]
  },
  {
   "cell_type": "markdown",
   "metadata": {},
   "source": [
    "## 1.3. Procesamiento\n",
    "\n",
    "- Extrae las variables que refieren a la velocidad media, mediana y máxima y el código postal a una matriz de NumPy. \n",
    "El siguiente código permite convertir una de las columnas a numérico (suponemos que m es la matriz del punto anterior):\n",
    "\n",
    "    In [20]:\n",
    "\n",
    "    def isFloat(string):     \n",
    "    try:         \n",
    "       float(string)         \n",
    "       return True     \n",
    "    except ValueError:         \n",
    "       return False \n",
    "\n",
    "    L = [ ] \n",
    "\n",
    "    for i in np.asarray(m[ : , 1]):     \n",
    "       if isFloat(i):           \n",
    "          L.append(float(i)) L[:10] \n",
    "\n",
    "    Out[20]:\n",
    "    [20.0, 23.3, 17.9, 13.1, 19.6, 21.4, 18.0, 18.5, 19.8, 17.0]\n",
    "\n",
    "- Basándote en la idea del código anterior, calcula la diferencia en valor absoluto entre la media de la velocidad y el valor 3.0  por cada código postal, utilizando arrays de NumPy. Nota: No todos los valores son convertibles, por lo que no se aplicará a todas las filas.\n",
    "\n",
    "- Y dibuja un boxplot de la velocidad media para los datos que pueden convertirse a float con la función isFloat (ignora el resto), previamente tomando los primeros 3000 valores y partiendo el array en tres trozos, formando una matriz con tres subseries de 1000 datos cada una.\n"
   ]
  },
  {
   "cell_type": "code",
   "execution_count": 12,
   "metadata": {
    "collapsed": false
   },
   "outputs": [],
   "source": [
    "extrae = np.asarray(data3[['Postcode',' Average Speed/Mbps ', ' Median Speed/Mbps ', ' Maximum Speed/Mbps']])"
   ]
  },
  {
   "cell_type": "code",
   "execution_count": 13,
   "metadata": {
    "collapsed": false
   },
   "outputs": [
    {
     "data": {
      "text/plain": [
       "array([['AB101AU', '13.6', '14.7', '20'],\n",
       "       ['AB101BA', '16.2', '19.4', '23.3'],\n",
       "       ['AB101BB', '11.9', '12.2', '17.9'],\n",
       "       ..., \n",
       "       ['BT945PN', '2.6', '2', '5.1'],\n",
       "       ['BT945PP', '>=30', '>=30', '>=30'],\n",
       "       ['BT945PQ', '>=30', '>=30', '>=30']], dtype=object)"
      ]
     },
     "execution_count": 13,
     "metadata": {},
     "output_type": "execute_result"
    }
   ],
   "source": [
    "extrae"
   ]
  },
  {
   "cell_type": "code",
   "execution_count": 14,
   "metadata": {
    "collapsed": false
   },
   "outputs": [],
   "source": [
    "def isFloat(x):\n",
    "    try:\n",
    "        float(x)\n",
    "        return True\n",
    "    except ValueError:\n",
    "        return False"
   ]
  },
  {
   "cell_type": "code",
   "execution_count": 15,
   "metadata": {
    "collapsed": false
   },
   "outputs": [
    {
     "name": "stdout",
     "output_type": "stream",
     "text": [
      "1175453 Registros\n"
     ]
    }
   ],
   "source": [
    "avgSpeed=[]\n",
    "\n",
    "for i in np.asarray(extrae[:,1]):\n",
    "    if isFloat(i):\n",
    "        avgSpeed.append(float(i))\n",
    "\n",
    "        \n",
    "print len(avgSpeed), 'Registros' #1.175.453 Registros"
   ]
  },
  {
   "cell_type": "code",
   "execution_count": 16,
   "metadata": {
    "collapsed": false
   },
   "outputs": [],
   "source": [
    "diffAbs = []\n",
    "\n",
    "for i in np.asarray(avgSpeed):\n",
    "    diffAbs.append(abs(i - 3.0))"
   ]
  },
  {
   "cell_type": "code",
   "execution_count": 17,
   "metadata": {
    "collapsed": false
   },
   "outputs": [],
   "source": [
    "dataSpeed = pd.DataFrame({'avgSpeed':avgSpeed ,'diffAbs': diffAbs})"
   ]
  },
  {
   "cell_type": "code",
   "execution_count": 18,
   "metadata": {
    "collapsed": false
   },
   "outputs": [
    {
     "data": {
      "text/html": [
       "<div>\n",
       "<table border=\"1\" class=\"dataframe\">\n",
       "  <thead>\n",
       "    <tr style=\"text-align: right;\">\n",
       "      <th></th>\n",
       "      <th>avgSpeed</th>\n",
       "      <th>diffAbs</th>\n",
       "    </tr>\n",
       "  </thead>\n",
       "  <tbody>\n",
       "    <tr>\n",
       "      <th>0</th>\n",
       "      <td>13.6</td>\n",
       "      <td>10.6</td>\n",
       "    </tr>\n",
       "    <tr>\n",
       "      <th>1</th>\n",
       "      <td>16.2</td>\n",
       "      <td>13.2</td>\n",
       "    </tr>\n",
       "    <tr>\n",
       "      <th>2</th>\n",
       "      <td>11.9</td>\n",
       "      <td>8.9</td>\n",
       "    </tr>\n",
       "    <tr>\n",
       "      <th>3</th>\n",
       "      <td>10.4</td>\n",
       "      <td>7.4</td>\n",
       "    </tr>\n",
       "    <tr>\n",
       "      <th>4</th>\n",
       "      <td>16.7</td>\n",
       "      <td>13.7</td>\n",
       "    </tr>\n",
       "  </tbody>\n",
       "</table>\n",
       "</div>"
      ],
      "text/plain": [
       "   avgSpeed  diffAbs\n",
       "0      13.6     10.6\n",
       "1      16.2     13.2\n",
       "2      11.9      8.9\n",
       "3      10.4      7.4\n",
       "4      16.7     13.7"
      ]
     },
     "execution_count": 18,
     "metadata": {},
     "output_type": "execute_result"
    }
   ],
   "source": [
    "dataSpeed.head()"
   ]
  },
  {
   "cell_type": "code",
   "execution_count": 19,
   "metadata": {
    "collapsed": true
   },
   "outputs": [],
   "source": [
    "primeros = avgSpeed[0:1000]\n",
    "segundos = avgSpeed[1000:2000]\n",
    "terceros = avgSpeed[2000:3000]\n",
    "\n",
    "gruposAvgSpeed = pd.DataFrame({'primeros': primeros, 'segundos':segundos, 'terceros':terceros})"
   ]
  },
  {
   "cell_type": "code",
   "execution_count": 20,
   "metadata": {
    "collapsed": false
   },
   "outputs": [],
   "source": [
    "matriz= np.matrix(gruposAvgSpeed)"
   ]
  },
  {
   "cell_type": "code",
   "execution_count": 21,
   "metadata": {
    "collapsed": false,
    "scrolled": true
   },
   "outputs": [
    {
     "name": "stdout",
     "output_type": "stream",
     "text": [
      "(1000L, 3L)\n"
     ]
    },
    {
     "data": {
      "image/png": "[encoded data removed]",
      "text/plain": [
       "<matplotlib.figure.Figure at 0x9dc7b00>"
      ]
     },
     "metadata": {},
     "output_type": "display_data"
    }
   ],
   "source": [
    "#gruposAvgSpeed2 = [primeros,segundos,terceros]; #haciendo una lista\n",
    "#plt.boxplot(carlos);\n",
    "plt.boxplot(matriz);\n",
    "print matriz.shape\n",
    "#print len(gruposAvgSpeed2)"
   ]
  },
  {
   "cell_type": "markdown",
   "metadata": {
    "collapsed": false
   },
   "source": [
    "## Parte 2\n",
    "\n",
    "En esta segunda parte trabajaremos con un dataset de R que describe las características físicas de un conjunto de diamantes. Puede obtenerse de Internet.\n"
   ]
  },
  {
   "cell_type": "code",
   "execution_count": 22,
   "metadata": {
    "collapsed": false
   },
   "outputs": [
    {
     "data": {
      "text/html": [
       "<div>\n",
       "<table border=\"1\" class=\"dataframe\">\n",
       "  <thead>\n",
       "    <tr style=\"text-align: right;\">\n",
       "      <th></th>\n",
       "      <th>carat</th>\n",
       "      <th>cut</th>\n",
       "      <th>color</th>\n",
       "      <th>clarity</th>\n",
       "      <th>depth</th>\n",
       "      <th>table</th>\n",
       "      <th>price</th>\n",
       "      <th>x</th>\n",
       "      <th>y</th>\n",
       "      <th>z</th>\n",
       "    </tr>\n",
       "  </thead>\n",
       "  <tbody>\n",
       "    <tr>\n",
       "      <th>1</th>\n",
       "      <td>0.23</td>\n",
       "      <td>Ideal</td>\n",
       "      <td>E</td>\n",
       "      <td>SI2</td>\n",
       "      <td>61.5</td>\n",
       "      <td>55.0</td>\n",
       "      <td>326</td>\n",
       "      <td>3.95</td>\n",
       "      <td>3.98</td>\n",
       "      <td>2.43</td>\n",
       "    </tr>\n",
       "    <tr>\n",
       "      <th>2</th>\n",
       "      <td>0.21</td>\n",
       "      <td>Premium</td>\n",
       "      <td>E</td>\n",
       "      <td>SI1</td>\n",
       "      <td>59.8</td>\n",
       "      <td>61.0</td>\n",
       "      <td>326</td>\n",
       "      <td>3.89</td>\n",
       "      <td>3.84</td>\n",
       "      <td>2.31</td>\n",
       "    </tr>\n",
       "    <tr>\n",
       "      <th>3</th>\n",
       "      <td>0.23</td>\n",
       "      <td>Good</td>\n",
       "      <td>E</td>\n",
       "      <td>VS1</td>\n",
       "      <td>56.9</td>\n",
       "      <td>65.0</td>\n",
       "      <td>327</td>\n",
       "      <td>4.05</td>\n",
       "      <td>4.07</td>\n",
       "      <td>2.31</td>\n",
       "    </tr>\n",
       "    <tr>\n",
       "      <th>4</th>\n",
       "      <td>0.29</td>\n",
       "      <td>Premium</td>\n",
       "      <td>I</td>\n",
       "      <td>VS2</td>\n",
       "      <td>62.4</td>\n",
       "      <td>58.0</td>\n",
       "      <td>334</td>\n",
       "      <td>4.20</td>\n",
       "      <td>4.23</td>\n",
       "      <td>2.63</td>\n",
       "    </tr>\n",
       "    <tr>\n",
       "      <th>5</th>\n",
       "      <td>0.31</td>\n",
       "      <td>Good</td>\n",
       "      <td>J</td>\n",
       "      <td>SI2</td>\n",
       "      <td>63.3</td>\n",
       "      <td>58.0</td>\n",
       "      <td>335</td>\n",
       "      <td>4.34</td>\n",
       "      <td>4.35</td>\n",
       "      <td>2.75</td>\n",
       "    </tr>\n",
       "  </tbody>\n",
       "</table>\n",
       "</div>"
      ],
      "text/plain": [
       "   carat      cut color clarity  depth  table  price     x     y     z\n",
       "1   0.23    Ideal     E     SI2   61.5   55.0    326  3.95  3.98  2.43\n",
       "2   0.21  Premium     E     SI1   59.8   61.0    326  3.89  3.84  2.31\n",
       "3   0.23     Good     E     VS1   56.9   65.0    327  4.05  4.07  2.31\n",
       "4   0.29  Premium     I     VS2   62.4   58.0    334  4.20  4.23  2.63\n",
       "5   0.31     Good     J     SI2   63.3   58.0    335  4.34  4.35  2.75"
      ]
     },
     "execution_count": 22,
     "metadata": {},
     "output_type": "execute_result"
    }
   ],
   "source": [
    "diamantes = pd.read_table('diamonds.csv' , sep=',', index_col='Unnamed: 0')\n",
    "diamantes.head()\n"
   ]
  },
  {
   "cell_type": "code",
   "execution_count": 23,
   "metadata": {
    "collapsed": false
   },
   "outputs": [
    {
     "name": "stdout",
     "output_type": "stream",
     "text": [
      "Nombre de las columnas:  Index([u'carat', u'cut', u'color', u'clarity', u'depth', u'table', u'price',\n",
      "       u'x', u'y', u'z'],\n",
      "      dtype='object')\n",
      "dimensiones:  (53940, 10)\n"
     ]
    }
   ],
   "source": [
    "print 'Nombre de las columnas: ', diamantes.columns\n",
    "print 'dimensiones: ',diamantes.shape"
   ]
  },
  {
   "cell_type": "code",
   "execution_count": 24,
   "metadata": {
    "collapsed": false
   },
   "outputs": [
    {
     "data": {
      "text/plain": [
       "carat      0\n",
       "cut        0\n",
       "color      0\n",
       "clarity    0\n",
       "depth      0\n",
       "table      0\n",
       "price      0\n",
       "x          0\n",
       "y          0\n",
       "z          0\n",
       "dtype: int64"
      ]
     },
     "execution_count": 24,
     "metadata": {},
     "output_type": "execute_result"
    }
   ],
   "source": [
    "diamantes.isnull().sum() #No hay nullos"
   ]
  },
  {
   "cell_type": "markdown",
   "metadata": {},
   "source": [
    "- Calcula los valores máximo, mínimo y medio de la variable carat."
   ]
  },
  {
   "cell_type": "code",
   "execution_count": 25,
   "metadata": {
    "collapsed": false
   },
   "outputs": [
    {
     "name": "stdout",
     "output_type": "stream",
     "text": [
      "Maximo:  5.01\n",
      "Minimo:  0.2\n",
      "Media:  0.797939747868\n"
     ]
    }
   ],
   "source": [
    "print 'Maximo: ' , diamantes.carat.max()\n",
    "print 'Minimo: ', diamantes.carat.min()\n",
    "print 'Media: ', diamantes.carat.mean()"
   ]
  },
  {
   "cell_type": "markdown",
   "metadata": {},
   "source": [
    "- Dibuja su histograma y sobre el mismo gráfico, el histograma de una muestra aleatoria del mismo tamaño con puntos obtenidos de una distribución gamma con la misma media y desviación típica. Haz que la visualización sea más adecuada haciendo transparente uno de los histogramas utilizando el parámetro alpha."
   ]
  },
  {
   "cell_type": "code",
   "execution_count": 26,
   "metadata": {
    "collapsed": false
   },
   "outputs": [
    {
     "data": {
      "image/png": "[encoded data removed]",
      "text/plain": [
       "<matplotlib.figure.Figure at 0x9dd8860>"
      ]
     },
     "metadata": {},
     "output_type": "display_data"
    }
   ],
   "source": [
    "gamaDistri= np.random.gamma(diamantes.carat);\n",
    "bins = np.linspace(-1,5,50);\n",
    "plt.hist(diamantes.carat,bins,alpha = 0.5);\n",
    "plt.hist(gamaDistri,bins,alpha = 0.5);\n",
    "plt.show()"
   ]
  },
  {
   "cell_type": "markdown",
   "metadata": {},
   "source": [
    "- Utilizando matplotlib, dibuja la nube de puntos de carat contra el precio, con ambos ejes en escala logarítmica."
   ]
  },
  {
   "cell_type": "code",
   "execution_count": 27,
   "metadata": {
    "collapsed": false
   },
   "outputs": [
    {
     "data": {
      "image/png": "[encoded data removed]",
      "text/plain": [
       "<matplotlib.figure.Figure at 0x1bc84860>"
      ]
     },
     "metadata": {},
     "output_type": "display_data"
    }
   ],
   "source": [
    "plt.scatter(np.log(diamantes.carat), np.log(diamantes.price));\n",
    "plt.xlabel('Carat')\n",
    "plt.ylabel('Price')\n",
    "plt.show;"
   ]
  },
  {
   "cell_type": "markdown",
   "metadata": {},
   "source": [
    "- Ahora repite el gráfico pero utiliza solo los datos cuyo color sea \"E\" y su claridad sea \"SI1\""
   ]
  },
  {
   "cell_type": "code",
   "execution_count": 28,
   "metadata": {
    "collapsed": false
   },
   "outputs": [
    {
     "data": {
      "image/png": "[encoded data removed]",
      "text/plain": [
       "<matplotlib.figure.Figure at 0x1d0b7828>"
      ]
     },
     "metadata": {},
     "output_type": "display_data"
    }
   ],
   "source": [
    "colorClarity = diamantes.loc[((diamantes.color == 'E') & (diamantes.clarity == \"SI1\" )),:]\n",
    "plt.scatter(np.log(colorClarity.carat),np.log(colorClarity.price));\n",
    "#plt.yscale('log');\n",
    "#plt.xscale('log');\n",
    "plt.xlabel('Carat')\n",
    "plt.ylabel('Price')\n",
    "plt.show;"
   ]
  },
  {
   "cell_type": "markdown",
   "metadata": {},
   "source": [
    "- Investiga con un gráfico la relación entre el volumen (que puedes aproximar a partir de x, y, z) y el precio, de nuevo en escala logarítmica."
   ]
  },
  {
   "cell_type": "code",
   "execution_count": 29,
   "metadata": {
    "collapsed": false
   },
   "outputs": [
    {
     "data": {
      "text/plain": [
       "<matplotlib.collections.PathCollection at 0x1d6e3828>"
      ]
     },
     "execution_count": 29,
     "metadata": {},
     "output_type": "execute_result"
    },
    {
     "data": {
      "image/png": "[encoded data removed]",
      "text/plain": [
       "<matplotlib.figure.Figure at 0x1d0a7cc0>"
      ]
     },
     "metadata": {},
     "output_type": "display_data"
    }
   ],
   "source": [
    "volumen = (diamantes.x*diamantes.y*diamantes.z).astype(float)\n",
    "price = diamantes.price.astype(float)\n",
    "plt.scatter(np.log(volumen), np.log(price))\n"
   ]
  },
  {
   "cell_type": "markdown",
   "metadata": {
    "collapsed": true
   },
   "source": [
    "- Utilizando scipy.stats, comprueba si se la relación anterior ajusta bien a un modelo de regresión lineal, tomando solo los 1000 primeros valores del dataset."
   ]
  },
  {
   "cell_type": "code",
   "execution_count": 30,
   "metadata": {
    "collapsed": false
   },
   "outputs": [
    {
     "name": "stdout",
     "output_type": "stream",
     "text": [
      "Pendiente:  3145.41294769  ,   Intercepto:  -14094.0563771\n",
      "-\n",
      "R^2:  0.782225554042  ,   P-Value:  0.0  ,   Error Estander:  7.14607729965\n"
     ]
    }
   ],
   "source": [
    "from scipy.stats import linregress\n",
    "\n",
    "slope, intercept, rvalue, pvalue, stderr  = linregress(diamantes.x, diamantes.price)\n",
    "print 'Pendiente: ',slope,' , ', ' Intercepto: ', intercept\n",
    "print '-'\n",
    "print 'R^2: ',rvalue**2,' , ',' P-Value: ', float(pvalue),' , ', ' Error Estander: ', stderr"
   ]
  },
  {
   "cell_type": "code",
   "execution_count": 31,
   "metadata": {
    "collapsed": false
   },
   "outputs": [
    {
     "data": {
      "image/png": "[encoded data removed]",
      "text/plain": [
       "<matplotlib.figure.Figure at 0x1b91d780>"
      ]
     },
     "metadata": {},
     "output_type": "display_data"
    }
   ],
   "source": [
    "import seaborn as sns\n",
    "cols = ['price', 'carat']\n",
    "diamantes2 = diamantes[cols]\n",
    "sns.jointplot(x = 'price' , y = 'carat', data = diamantes2, kind='scatter');"
   ]
  },
  {
   "cell_type": "markdown",
   "metadata": {
    "collapsed": true
   },
   "source": [
    "- Identifica con un comando los diferentes tipos de corte (cut)."
   ]
  },
  {
   "cell_type": "code",
   "execution_count": 32,
   "metadata": {
    "collapsed": false
   },
   "outputs": [
    {
     "data": {
      "text/plain": [
       "array(['Ideal', 'Premium', 'Good', 'Very Good', 'Fair'], dtype=object)"
      ]
     },
     "execution_count": 32,
     "metadata": {},
     "output_type": "execute_result"
    }
   ],
   "source": [
    "diamantes.cut.unique() # conozco los calores unicos\n",
    "#diamantes['cut'].groupby(diamantes.cut).count() # Conozco los Valores unicos y su cuenta"
   ]
  },
  {
   "cell_type": "markdown",
   "metadata": {},
   "source": [
    "- Comprueba si hay diferencias significativas en la media del precio para los de corte \"Ideal\" y \"Premium\" y el resto, tomando 1000 valores de cada (nótese que no se puede asumir que las muestras son de una distribución normal). Puedes investigar funciones lógicas vectorizadas en NumPy como logical_or()."
   ]
  },
  {
   "cell_type": "code",
   "execution_count": 33,
   "metadata": {
    "collapsed": false
   },
   "outputs": [
    {
     "name": "stdout",
     "output_type": "stream",
     "text": [
      "Precio medio Cut Ideal & Premium:  2573.572\n",
      "Precio medio Cut Resto:  2692.669\n"
     ]
    }
   ],
   "source": [
    "ideal = 'Ideal'\n",
    "premium = 'Premium'\n",
    "\n",
    "# variables de cada 'cut': 'Ideal', 'Premium', 'Resto'\n",
    "cutIdealPremium = diamantes[((diamantes.cut == ideal)|(diamantes.cut == premium))] # 35.342 Registros\n",
    "cutIdeal = diamantes[((diamantes.cut == ideal))] # 21.551 Registros\n",
    "cutPremium = diamantes[(diamantes.cut == premium)] # 13.791 Registro\n",
    "cutResto = diamantes[((diamantes.cut != ideal) & (diamantes.cut != premium))] # 18.598 Registros\n",
    "\n",
    "# saca una muetra de 1000 de cada 'cut' : 'Ideal' , 'Premium' , 'Resto' otra manera\n",
    "cutIdealMil = cutIdeal.head(1000)\n",
    "cutPremiumMil = cutPremium.head(1000)\n",
    "cutRestoMil = cutResto.head(1000)\n",
    "cutIdealPremiumMil = cutIdealPremium.head(1000)\n",
    "\n",
    "#media del precio de 'cut' de 'Ideal, 'Premium', 'Resto'\n",
    "cutIdealMilPriceMean = cutIdealMil.price.mean()\n",
    "cutPremiumMilPriceMean = cutPremiumMil.price.mean()\n",
    "cutRestoMilPriceMean = cutRestoMil.price.mean()\n",
    "cutIdealPremiumMilPriceMean = cutIdealPremiumMil.price.mean()\n",
    "\n",
    "# Print\n",
    "#print 'Precio medio Cut Ideal: ', cutIdealMilPriceMean\n",
    "#print 'Precio medio Cut Premium: ', cutPremiumMilPriceMean\n",
    "print 'Precio medio Cut Ideal & Premium: ', cutIdealPremiumMilPriceMean\n",
    "print 'Precio medio Cut Resto: ', cutRestoMilPriceMean\n",
    "\n"
   ]
  },
  {
   "cell_type": "markdown",
   "metadata": {},
   "source": [
    "- Obtén la mediana del precio por cada valor de la claridad (clarity) y ordena los resultados de manera descendente."
   ]
  },
  {
   "cell_type": "code",
   "execution_count": 34,
   "metadata": {
    "collapsed": false
   },
   "outputs": [
    {
     "data": {
      "text/html": [
       "<div>\n",
       "<table border=\"1\" class=\"dataframe\">\n",
       "  <thead>\n",
       "    <tr style=\"text-align: right;\">\n",
       "      <th></th>\n",
       "      <th>price</th>\n",
       "    </tr>\n",
       "    <tr>\n",
       "      <th>clarity</th>\n",
       "      <th></th>\n",
       "    </tr>\n",
       "  </thead>\n",
       "  <tbody>\n",
       "    <tr>\n",
       "      <th>SI2</th>\n",
       "      <td>4072</td>\n",
       "    </tr>\n",
       "    <tr>\n",
       "      <th>I1</th>\n",
       "      <td>3344</td>\n",
       "    </tr>\n",
       "    <tr>\n",
       "      <th>SI1</th>\n",
       "      <td>2822</td>\n",
       "    </tr>\n",
       "    <tr>\n",
       "      <th>VS2</th>\n",
       "      <td>2054</td>\n",
       "    </tr>\n",
       "    <tr>\n",
       "      <th>VS1</th>\n",
       "      <td>2005</td>\n",
       "    </tr>\n",
       "    <tr>\n",
       "      <th>VVS2</th>\n",
       "      <td>1311</td>\n",
       "    </tr>\n",
       "    <tr>\n",
       "      <th>VVS1</th>\n",
       "      <td>1093</td>\n",
       "    </tr>\n",
       "    <tr>\n",
       "      <th>IF</th>\n",
       "      <td>1080</td>\n",
       "    </tr>\n",
       "  </tbody>\n",
       "</table>\n",
       "</div>"
      ],
      "text/plain": [
       "         price\n",
       "clarity       \n",
       "SI2       4072\n",
       "I1        3344\n",
       "SI1       2822\n",
       "VS2       2054\n",
       "VS1       2005\n",
       "VVS2      1311\n",
       "VVS1      1093\n",
       "IF        1080"
      ]
     },
     "execution_count": 34,
     "metadata": {},
     "output_type": "execute_result"
    }
   ],
   "source": [
    "#diamantes.price.groupby('clarity').sort_values('price',ascending = False)\n",
    "cols = ['clarity','price']\n",
    "diamantes[cols].groupby('clarity').median().sort_values('price',ascending = False)"
   ]
  },
  {
   "cell_type": "markdown",
   "metadata": {},
   "source": [
    "## Parte 3\n",
    "\n",
    "Podemos descargar datos de empresas del dataset Forbes2000 (paquete HSAUR) mediante get_rdataset(). Encontraremos un ranking de empresas categorizadas por sector, y con datos de su país, ventas, beneficios, recursos y valor de mercado.\n"
   ]
  },
  {
   "cell_type": "code",
   "execution_count": 35,
   "metadata": {
    "collapsed": false
   },
   "outputs": [
    {
     "data": {
      "text/html": [
       "<div>\n",
       "<table border=\"1\" class=\"dataframe\">\n",
       "  <thead>\n",
       "    <tr style=\"text-align: right;\">\n",
       "      <th></th>\n",
       "      <th>rank</th>\n",
       "      <th>name</th>\n",
       "      <th>country</th>\n",
       "      <th>category</th>\n",
       "      <th>sales</th>\n",
       "      <th>profits</th>\n",
       "      <th>assets</th>\n",
       "      <th>marketvalue</th>\n",
       "    </tr>\n",
       "  </thead>\n",
       "  <tbody>\n",
       "    <tr>\n",
       "      <th>0</th>\n",
       "      <td>1</td>\n",
       "      <td>Citigroup</td>\n",
       "      <td>United States</td>\n",
       "      <td>Banking</td>\n",
       "      <td>94.71</td>\n",
       "      <td>17.85</td>\n",
       "      <td>1264.03</td>\n",
       "      <td>255.30</td>\n",
       "    </tr>\n",
       "    <tr>\n",
       "      <th>1</th>\n",
       "      <td>2</td>\n",
       "      <td>General Electric</td>\n",
       "      <td>United States</td>\n",
       "      <td>Conglomerates</td>\n",
       "      <td>134.19</td>\n",
       "      <td>15.59</td>\n",
       "      <td>626.93</td>\n",
       "      <td>328.54</td>\n",
       "    </tr>\n",
       "    <tr>\n",
       "      <th>2</th>\n",
       "      <td>3</td>\n",
       "      <td>American Intl Group</td>\n",
       "      <td>United States</td>\n",
       "      <td>Insurance</td>\n",
       "      <td>76.66</td>\n",
       "      <td>6.46</td>\n",
       "      <td>647.66</td>\n",
       "      <td>194.87</td>\n",
       "    </tr>\n",
       "    <tr>\n",
       "      <th>3</th>\n",
       "      <td>4</td>\n",
       "      <td>ExxonMobil</td>\n",
       "      <td>United States</td>\n",
       "      <td>Oil &amp; gas operations</td>\n",
       "      <td>222.88</td>\n",
       "      <td>20.96</td>\n",
       "      <td>166.99</td>\n",
       "      <td>277.02</td>\n",
       "    </tr>\n",
       "    <tr>\n",
       "      <th>4</th>\n",
       "      <td>5</td>\n",
       "      <td>BP</td>\n",
       "      <td>United Kingdom</td>\n",
       "      <td>Oil &amp; gas operations</td>\n",
       "      <td>232.57</td>\n",
       "      <td>10.27</td>\n",
       "      <td>177.57</td>\n",
       "      <td>173.54</td>\n",
       "    </tr>\n",
       "  </tbody>\n",
       "</table>\n",
       "</div>"
      ],
      "text/plain": [
       "   rank                 name         country              category   sales  \\\n",
       "0     1            Citigroup   United States               Banking   94.71   \n",
       "1     2     General Electric   United States         Conglomerates  134.19   \n",
       "2     3  American Intl Group   United States             Insurance   76.66   \n",
       "3     4           ExxonMobil   United States  Oil & gas operations  222.88   \n",
       "4     5                   BP  United Kingdom  Oil & gas operations  232.57   \n",
       "\n",
       "   profits   assets  marketvalue  \n",
       "0    17.85  1264.03       255.30  \n",
       "1    15.59   626.93       328.54  \n",
       "2     6.46   647.66       194.87  \n",
       "3    20.96   166.99       277.02  \n",
       "4    10.27   177.57       173.54  "
      ]
     },
     "execution_count": 35,
     "metadata": {},
     "output_type": "execute_result"
    }
   ],
   "source": [
    "from statsmodels import datasets\n",
    "forbes2000 = datasets.get_rdataset('Forbes2000', 'HSAUR', cache=True).data\n",
    "forbes2000.head()"
   ]
  },
  {
   "cell_type": "markdown",
   "metadata": {},
   "source": [
    "- Seleccionar del dataframe los nombres de empresa que incluyen \"elect\" (sin tener en cuenta mayúsculas). Intentamos con esto obtener empresas “del sector de la electricidad” de forma aproximada. "
   ]
  },
  {
   "cell_type": "code",
   "execution_count": 36,
   "metadata": {
    "collapsed": false
   },
   "outputs": [
    {
     "name": "stdout",
     "output_type": "stream",
     "text": [
      "Index([u'rank', u'name', u'country', u'category', u'sales', u'profits',\n",
      "       u'assets', u'marketvalue'],\n",
      "      dtype='object')\n"
     ]
    }
   ],
   "source": [
    "print forbes2000.columns"
   ]
  },
  {
   "cell_type": "code",
   "execution_count": 37,
   "metadata": {
    "collapsed": false
   },
   "outputs": [
    {
     "data": {
      "text/html": [
       "<div>\n",
       "<table border=\"1\" class=\"dataframe\">\n",
       "  <thead>\n",
       "    <tr style=\"text-align: right;\">\n",
       "      <th></th>\n",
       "      <th>rank</th>\n",
       "      <th>name</th>\n",
       "      <th>country</th>\n",
       "      <th>category</th>\n",
       "      <th>sales</th>\n",
       "      <th>profits</th>\n",
       "      <th>assets</th>\n",
       "      <th>marketvalue</th>\n",
       "    </tr>\n",
       "  </thead>\n",
       "  <tbody>\n",
       "    <tr>\n",
       "      <th>1</th>\n",
       "      <td>2</td>\n",
       "      <td>General Electric</td>\n",
       "      <td>United States</td>\n",
       "      <td>Conglomerates</td>\n",
       "      <td>134.19</td>\n",
       "      <td>15.59</td>\n",
       "      <td>626.93</td>\n",
       "      <td>328.54</td>\n",
       "    </tr>\n",
       "    <tr>\n",
       "      <th>44</th>\n",
       "      <td>45</td>\n",
       "      <td>Samsung Electronics</td>\n",
       "      <td>South Korea</td>\n",
       "      <td>Semiconductors</td>\n",
       "      <td>50.22</td>\n",
       "      <td>5.95</td>\n",
       "      <td>54.58</td>\n",
       "      <td>72.72</td>\n",
       "    </tr>\n",
       "    <tr>\n",
       "      <th>71</th>\n",
       "      <td>72</td>\n",
       "      <td>Tokyo Electric Power</td>\n",
       "      <td>Japan</td>\n",
       "      <td>Utilities</td>\n",
       "      <td>41.62</td>\n",
       "      <td>1.40</td>\n",
       "      <td>116.68</td>\n",
       "      <td>30.63</td>\n",
       "    </tr>\n",
       "    <tr>\n",
       "      <th>151</th>\n",
       "      <td>152</td>\n",
       "      <td>Korea Electric Power</td>\n",
       "      <td>South Korea</td>\n",
       "      <td>Utilities</td>\n",
       "      <td>18.01</td>\n",
       "      <td>2.57</td>\n",
       "      <td>58.38</td>\n",
       "      <td>11.84</td>\n",
       "    </tr>\n",
       "    <tr>\n",
       "      <th>156</th>\n",
       "      <td>157</td>\n",
       "      <td>Kansai Electric Power</td>\n",
       "      <td>Japan</td>\n",
       "      <td>Utilities</td>\n",
       "      <td>22.12</td>\n",
       "      <td>0.68</td>\n",
       "      <td>60.52</td>\n",
       "      <td>17.56</td>\n",
       "    </tr>\n",
       "  </tbody>\n",
       "</table>\n",
       "</div>"
      ],
      "text/plain": [
       "     rank                   name        country        category   sales  \\\n",
       "1       2       General Electric  United States   Conglomerates  134.19   \n",
       "44     45    Samsung Electronics    South Korea  Semiconductors   50.22   \n",
       "71     72   Tokyo Electric Power          Japan       Utilities   41.62   \n",
       "151   152   Korea Electric Power    South Korea       Utilities   18.01   \n",
       "156   157  Kansai Electric Power          Japan       Utilities   22.12   \n",
       "\n",
       "     profits  assets  marketvalue  \n",
       "1      15.59  626.93       328.54  \n",
       "44      5.95   54.58        72.72  \n",
       "71      1.40  116.68        30.63  \n",
       "151     2.57   58.38        11.84  \n",
       "156     0.68   60.52        17.56  "
      ]
     },
     "execution_count": 37,
     "metadata": {},
     "output_type": "execute_result"
    }
   ],
   "source": [
    "forbesElect = forbes2000[forbes2000.name.apply(str.lower).str.contains('elect')]\n",
    "forbesElect.head()"
   ]
  },
  {
   "cell_type": "markdown",
   "metadata": {
    "collapsed": false
   },
   "source": [
    "- Utilizando como índice el país y la categoría y ordenándolo (sort_index), encontrar el valor de mercado de las empresas japonesas y estadounidenses."
   ]
  },
  {
   "cell_type": "code",
   "execution_count": 38,
   "metadata": {
    "collapsed": false
   },
   "outputs": [
    {
     "data": {
      "text/html": [
       "<div>\n",
       "<table border=\"1\" class=\"dataframe\">\n",
       "  <thead>\n",
       "    <tr style=\"text-align: right;\">\n",
       "      <th></th>\n",
       "      <th></th>\n",
       "      <th>rank</th>\n",
       "      <th>name</th>\n",
       "      <th>sales</th>\n",
       "      <th>profits</th>\n",
       "      <th>assets</th>\n",
       "      <th>marketvalue</th>\n",
       "    </tr>\n",
       "    <tr>\n",
       "      <th>country</th>\n",
       "      <th>category</th>\n",
       "      <th></th>\n",
       "      <th></th>\n",
       "      <th></th>\n",
       "      <th></th>\n",
       "      <th></th>\n",
       "      <th></th>\n",
       "    </tr>\n",
       "  </thead>\n",
       "  <tbody>\n",
       "    <tr>\n",
       "      <th rowspan=\"2\" valign=\"top\">Africa</th>\n",
       "      <th>Food markets</th>\n",
       "      <td>1864</td>\n",
       "      <td>Metro Cash and Carry South</td>\n",
       "      <td>7.10</td>\n",
       "      <td>0.06</td>\n",
       "      <td>1.27</td>\n",
       "      <td>0.66</td>\n",
       "    </tr>\n",
       "    <tr>\n",
       "      <th>Insurance</th>\n",
       "      <td>950</td>\n",
       "      <td>Sanlam South</td>\n",
       "      <td>6.54</td>\n",
       "      <td>-0.07</td>\n",
       "      <td>21.17</td>\n",
       "      <td>3.65</td>\n",
       "    </tr>\n",
       "    <tr>\n",
       "      <th rowspan=\"3\" valign=\"top\">Australia</th>\n",
       "      <th>Banking</th>\n",
       "      <td>86</td>\n",
       "      <td>Natl Australia Bank</td>\n",
       "      <td>15.34</td>\n",
       "      <td>2.69</td>\n",
       "      <td>269.94</td>\n",
       "      <td>36.51</td>\n",
       "    </tr>\n",
       "    <tr>\n",
       "      <th>Banking</th>\n",
       "      <td>126</td>\n",
       "      <td>Commonwealth Bank Group</td>\n",
       "      <td>10.75</td>\n",
       "      <td>1.36</td>\n",
       "      <td>178.29</td>\n",
       "      <td>31.95</td>\n",
       "    </tr>\n",
       "    <tr>\n",
       "      <th>Banking</th>\n",
       "      <td>149</td>\n",
       "      <td>Westpac Banking Group</td>\n",
       "      <td>9.45</td>\n",
       "      <td>1.49</td>\n",
       "      <td>150.08</td>\n",
       "      <td>24.44</td>\n",
       "    </tr>\n",
       "  </tbody>\n",
       "</table>\n",
       "</div>"
      ],
      "text/plain": [
       "                        rank                        name  sales  profits  \\\n",
       "country   category                                                         \n",
       "Africa    Food markets  1864  Metro Cash and Carry South   7.10     0.06   \n",
       "          Insurance      950                Sanlam South   6.54    -0.07   \n",
       "Australia Banking         86         Natl Australia Bank  15.34     2.69   \n",
       "          Banking        126     Commonwealth Bank Group  10.75     1.36   \n",
       "          Banking        149       Westpac Banking Group   9.45     1.49   \n",
       "\n",
       "                        assets  marketvalue  \n",
       "country   category                           \n",
       "Africa    Food markets    1.27         0.66  \n",
       "          Insurance      21.17         3.65  \n",
       "Australia Banking       269.94        36.51  \n",
       "          Banking       178.29        31.95  \n",
       "          Banking       150.08        24.44  "
      ]
     },
     "execution_count": 38,
     "metadata": {},
     "output_type": "execute_result"
    }
   ],
   "source": [
    "cols = ['country','category']\n",
    "paisCategoria = forbes2000.set_index(cols)\n",
    "paisCategoria.sort_index(axis=0,inplace = True)\n",
    "paisCategoria.head()"
   ]
  },
  {
   "cell_type": "code",
   "execution_count": 39,
   "metadata": {
    "collapsed": false
   },
   "outputs": [
    {
     "data": {
      "text/html": [
       "<div>\n",
       "<table border=\"1\" class=\"dataframe\">\n",
       "  <thead>\n",
       "    <tr style=\"text-align: right;\">\n",
       "      <th></th>\n",
       "      <th>marketvalue</th>\n",
       "    </tr>\n",
       "    <tr>\n",
       "      <th>country</th>\n",
       "      <th></th>\n",
       "    </tr>\n",
       "  </thead>\n",
       "  <tbody>\n",
       "    <tr>\n",
       "      <th>Japan</th>\n",
       "      <td>2091.30</td>\n",
       "    </tr>\n",
       "    <tr>\n",
       "      <th>United States</th>\n",
       "      <td>11575.58</td>\n",
       "    </tr>\n",
       "  </tbody>\n",
       "</table>\n",
       "</div>"
      ],
      "text/plain": [
       "               marketvalue\n",
       "country                   \n",
       "Japan              2091.30\n",
       "United States     11575.58"
      ]
     },
     "execution_count": 39,
     "metadata": {},
     "output_type": "execute_result"
    }
   ],
   "source": [
    "pais = ['United States', 'Japan']\n",
    "#paisCategoria['marketvalue'].loc['Japan'].sum() #Martket Value = 2.091,30\n",
    "#paisCategoria['marketvalue'].loc['United States'].sum() #Martket Value = 11.575,58\n",
    "paisCategoria['marketvalue'].loc[pais].reset_index().groupby('country').sum() "
   ]
  },
  {
   "cell_type": "markdown",
   "metadata": {},
   "source": [
    "- Sobre el mismo subconjunto de empresas eléctricas, obtener el país donde el sector de utilities tiene mayor valor de mercado medio en sus empresas."
   ]
  },
  {
   "cell_type": "code",
   "execution_count": 40,
   "metadata": {
    "collapsed": false
   },
   "outputs": [
    {
     "data": {
      "text/html": [
       "<div>\n",
       "<table border=\"1\" class=\"dataframe\">\n",
       "  <thead>\n",
       "    <tr style=\"text-align: right;\">\n",
       "      <th></th>\n",
       "      <th>marketvalue</th>\n",
       "    </tr>\n",
       "    <tr>\n",
       "      <th>country</th>\n",
       "      <th></th>\n",
       "    </tr>\n",
       "  </thead>\n",
       "  <tbody>\n",
       "    <tr>\n",
       "      <th>South Korea</th>\n",
       "      <td>11.84</td>\n",
       "    </tr>\n",
       "  </tbody>\n",
       "</table>\n",
       "</div>"
      ],
      "text/plain": [
       "             marketvalue\n",
       "country                 \n",
       "South Korea        11.84"
      ]
     },
     "execution_count": 40,
     "metadata": {},
     "output_type": "execute_result"
    }
   ],
   "source": [
    "cols = ['category','country']\n",
    "electCountries = forbesElect[['country','category','marketvalue']]\n",
    "electCountryUti = electCountries[electCountries['category']=='Utilities']\n",
    "electCountryUti.groupby('country').mean().sort_values('marketvalue',ascending=False).head(1)"
   ]
  },
  {
   "cell_type": "markdown",
   "metadata": {},
   "source": [
    "- Volviendo al dataset original, obtener las empresas españolas."
   ]
  },
  {
   "cell_type": "code",
   "execution_count": 47,
   "metadata": {
    "collapsed": false
   },
   "outputs": [
    {
     "data": {
      "text/html": [
       "<div>\n",
       "<table border=\"1\" class=\"dataframe\">\n",
       "  <thead>\n",
       "    <tr style=\"text-align: right;\">\n",
       "      <th></th>\n",
       "      <th>rank</th>\n",
       "      <th>name</th>\n",
       "      <th>country</th>\n",
       "      <th>category</th>\n",
       "      <th>sales</th>\n",
       "      <th>profits</th>\n",
       "      <th>assets</th>\n",
       "      <th>marketvalue</th>\n",
       "    </tr>\n",
       "  </thead>\n",
       "  <tbody>\n",
       "    <tr>\n",
       "      <th>38</th>\n",
       "      <td>39</td>\n",
       "      <td>Banco Santander Central</td>\n",
       "      <td>Spain</td>\n",
       "      <td>Banking</td>\n",
       "      <td>28.70</td>\n",
       "      <td>3.28</td>\n",
       "      <td>442.24</td>\n",
       "      <td>56.78</td>\n",
       "    </tr>\n",
       "    <tr>\n",
       "      <th>56</th>\n",
       "      <td>57</td>\n",
       "      <td>BBVA-Banco Bilbao Vizcaya</td>\n",
       "      <td>Spain</td>\n",
       "      <td>Banking</td>\n",
       "      <td>24.10</td>\n",
       "      <td>2.81</td>\n",
       "      <td>288.80</td>\n",
       "      <td>44.67</td>\n",
       "    </tr>\n",
       "    <tr>\n",
       "      <th>108</th>\n",
       "      <td>109</td>\n",
       "      <td>Repsol-YPF</td>\n",
       "      <td>Spain</td>\n",
       "      <td>Oil &amp; gas operations</td>\n",
       "      <td>29.14</td>\n",
       "      <td>2.05</td>\n",
       "      <td>39.34</td>\n",
       "      <td>26.22</td>\n",
       "    </tr>\n",
       "    <tr>\n",
       "      <th>114</th>\n",
       "      <td>115</td>\n",
       "      <td>Endesa Group</td>\n",
       "      <td>Spain</td>\n",
       "      <td>Utilities</td>\n",
       "      <td>20.43</td>\n",
       "      <td>1.65</td>\n",
       "      <td>57.92</td>\n",
       "      <td>21.10</td>\n",
       "    </tr>\n",
       "    <tr>\n",
       "      <th>188</th>\n",
       "      <td>189</td>\n",
       "      <td>Iberdrola</td>\n",
       "      <td>Spain</td>\n",
       "      <td>Utilities</td>\n",
       "      <td>11.94</td>\n",
       "      <td>1.33</td>\n",
       "      <td>30.99</td>\n",
       "      <td>18.78</td>\n",
       "    </tr>\n",
       "    <tr>\n",
       "      <th>378</th>\n",
       "      <td>379</td>\n",
       "      <td>Banco Popular Espaqol</td>\n",
       "      <td>Spain</td>\n",
       "      <td>Banking</td>\n",
       "      <td>3.32</td>\n",
       "      <td>0.67</td>\n",
       "      <td>44.01</td>\n",
       "      <td>14.38</td>\n",
       "    </tr>\n",
       "    <tr>\n",
       "      <th>408</th>\n",
       "      <td>409</td>\n",
       "      <td>Telefsnica</td>\n",
       "      <td>Spain</td>\n",
       "      <td>Telecommunications services</td>\n",
       "      <td>29.84</td>\n",
       "      <td>-5.86</td>\n",
       "      <td>60.65</td>\n",
       "      <td>86.39</td>\n",
       "    </tr>\n",
       "    <tr>\n",
       "      <th>462</th>\n",
       "      <td>463</td>\n",
       "      <td>Gas Natural SDG</td>\n",
       "      <td>Spain</td>\n",
       "      <td>Utilities</td>\n",
       "      <td>5.53</td>\n",
       "      <td>0.85</td>\n",
       "      <td>9.25</td>\n",
       "      <td>11.28</td>\n",
       "    </tr>\n",
       "    <tr>\n",
       "      <th>472</th>\n",
       "      <td>473</td>\n",
       "      <td>Altadis</td>\n",
       "      <td>Spain</td>\n",
       "      <td>Food drink &amp; tobacco</td>\n",
       "      <td>9.45</td>\n",
       "      <td>0.46</td>\n",
       "      <td>8.66</td>\n",
       "      <td>9.48</td>\n",
       "    </tr>\n",
       "    <tr>\n",
       "      <th>529</th>\n",
       "      <td>530</td>\n",
       "      <td>Unisn Fenosa</td>\n",
       "      <td>Spain</td>\n",
       "      <td>Utilities</td>\n",
       "      <td>6.13</td>\n",
       "      <td>0.36</td>\n",
       "      <td>15.71</td>\n",
       "      <td>6.35</td>\n",
       "    </tr>\n",
       "    <tr>\n",
       "      <th>532</th>\n",
       "      <td>533</td>\n",
       "      <td>Cepsa</td>\n",
       "      <td>Spain</td>\n",
       "      <td>Oil &amp; gas operations</td>\n",
       "      <td>8.85</td>\n",
       "      <td>0.48</td>\n",
       "      <td>6.31</td>\n",
       "      <td>9.29</td>\n",
       "    </tr>\n",
       "    <tr>\n",
       "      <th>605</th>\n",
       "      <td>606</td>\n",
       "      <td>Grupo Ferrovial</td>\n",
       "      <td>Spain</td>\n",
       "      <td>Construction</td>\n",
       "      <td>5.29</td>\n",
       "      <td>0.48</td>\n",
       "      <td>11.78</td>\n",
       "      <td>5.11</td>\n",
       "    </tr>\n",
       "    <tr>\n",
       "      <th>734</th>\n",
       "      <td>735</td>\n",
       "      <td>FCC Group</td>\n",
       "      <td>Spain</td>\n",
       "      <td>Construction</td>\n",
       "      <td>5.77</td>\n",
       "      <td>0.29</td>\n",
       "      <td>7.14</td>\n",
       "      <td>4.99</td>\n",
       "    </tr>\n",
       "    <tr>\n",
       "      <th>762</th>\n",
       "      <td>763</td>\n",
       "      <td>Inditex</td>\n",
       "      <td>Spain</td>\n",
       "      <td>Household &amp; personal products</td>\n",
       "      <td>4.28</td>\n",
       "      <td>0.47</td>\n",
       "      <td>3.24</td>\n",
       "      <td>13.52</td>\n",
       "    </tr>\n",
       "    <tr>\n",
       "      <th>787</th>\n",
       "      <td>788</td>\n",
       "      <td>Banco de Sabadell</td>\n",
       "      <td>Spain</td>\n",
       "      <td>Banking</td>\n",
       "      <td>1.99</td>\n",
       "      <td>0.30</td>\n",
       "      <td>38.38</td>\n",
       "      <td>4.77</td>\n",
       "    </tr>\n",
       "    <tr>\n",
       "      <th>876</th>\n",
       "      <td>877</td>\n",
       "      <td>ACS Group</td>\n",
       "      <td>Spain</td>\n",
       "      <td>Construction</td>\n",
       "      <td>4.64</td>\n",
       "      <td>0.19</td>\n",
       "      <td>5.16</td>\n",
       "      <td>6.24</td>\n",
       "    </tr>\n",
       "    <tr>\n",
       "      <th>951</th>\n",
       "      <td>952</td>\n",
       "      <td>Corporation Mapfre</td>\n",
       "      <td>Spain</td>\n",
       "      <td>Insurance</td>\n",
       "      <td>5.87</td>\n",
       "      <td>0.12</td>\n",
       "      <td>15.45</td>\n",
       "      <td>2.73</td>\n",
       "    </tr>\n",
       "    <tr>\n",
       "      <th>1035</th>\n",
       "      <td>1036</td>\n",
       "      <td>Acciona</td>\n",
       "      <td>Spain</td>\n",
       "      <td>Construction</td>\n",
       "      <td>3.59</td>\n",
       "      <td>0.17</td>\n",
       "      <td>6.11</td>\n",
       "      <td>4.13</td>\n",
       "    </tr>\n",
       "    <tr>\n",
       "      <th>1058</th>\n",
       "      <td>1059</td>\n",
       "      <td>Bankinter</td>\n",
       "      <td>Spain</td>\n",
       "      <td>Banking</td>\n",
       "      <td>1.37</td>\n",
       "      <td>0.17</td>\n",
       "      <td>30.05</td>\n",
       "      <td>3.26</td>\n",
       "    </tr>\n",
       "    <tr>\n",
       "      <th>1059</th>\n",
       "      <td>1060</td>\n",
       "      <td>Abertis Infraestructuras</td>\n",
       "      <td>Spain</td>\n",
       "      <td>Transportation</td>\n",
       "      <td>0.80</td>\n",
       "      <td>0.21</td>\n",
       "      <td>6.78</td>\n",
       "      <td>7.43</td>\n",
       "    </tr>\n",
       "    <tr>\n",
       "      <th>1074</th>\n",
       "      <td>1075</td>\n",
       "      <td>Iberia</td>\n",
       "      <td>Spain</td>\n",
       "      <td>Transportation</td>\n",
       "      <td>4.71</td>\n",
       "      <td>0.17</td>\n",
       "      <td>4.85</td>\n",
       "      <td>3.34</td>\n",
       "    </tr>\n",
       "    <tr>\n",
       "      <th>1426</th>\n",
       "      <td>1427</td>\n",
       "      <td>Amadeus Global Travel</td>\n",
       "      <td>Spain</td>\n",
       "      <td>Business services &amp; supplies</td>\n",
       "      <td>2.43</td>\n",
       "      <td>0.20</td>\n",
       "      <td>1.34</td>\n",
       "      <td>3.60</td>\n",
       "    </tr>\n",
       "    <tr>\n",
       "      <th>1435</th>\n",
       "      <td>1436</td>\n",
       "      <td>Sacyr-Vallehermoso</td>\n",
       "      <td>Spain</td>\n",
       "      <td>Diversified financials</td>\n",
       "      <td>0.88</td>\n",
       "      <td>0.22</td>\n",
       "      <td>3.75</td>\n",
       "      <td>4.09</td>\n",
       "    </tr>\n",
       "    <tr>\n",
       "      <th>1493</th>\n",
       "      <td>1494</td>\n",
       "      <td>Acerinox</td>\n",
       "      <td>Spain</td>\n",
       "      <td>Materials</td>\n",
       "      <td>2.63</td>\n",
       "      <td>0.18</td>\n",
       "      <td>2.70</td>\n",
       "      <td>3.05</td>\n",
       "    </tr>\n",
       "    <tr>\n",
       "      <th>1623</th>\n",
       "      <td>1624</td>\n",
       "      <td>Enagas</td>\n",
       "      <td>Spain</td>\n",
       "      <td>Oil &amp; gas operations</td>\n",
       "      <td>1.97</td>\n",
       "      <td>0.18</td>\n",
       "      <td>3.89</td>\n",
       "      <td>2.83</td>\n",
       "    </tr>\n",
       "    <tr>\n",
       "      <th>1892</th>\n",
       "      <td>1893</td>\n",
       "      <td>Banco Pastor</td>\n",
       "      <td>Spain</td>\n",
       "      <td>Banking</td>\n",
       "      <td>0.49</td>\n",
       "      <td>0.08</td>\n",
       "      <td>13.12</td>\n",
       "      <td>1.79</td>\n",
       "    </tr>\n",
       "    <tr>\n",
       "      <th>1897</th>\n",
       "      <td>1898</td>\n",
       "      <td>Red Eectrica de Espaqa</td>\n",
       "      <td>Spain</td>\n",
       "      <td>Utilities</td>\n",
       "      <td>1.14</td>\n",
       "      <td>0.15</td>\n",
       "      <td>4.28</td>\n",
       "      <td>2.36</td>\n",
       "    </tr>\n",
       "    <tr>\n",
       "      <th>1931</th>\n",
       "      <td>1932</td>\n",
       "      <td>Gamesa</td>\n",
       "      <td>Spain</td>\n",
       "      <td>Capital goods</td>\n",
       "      <td>1.15</td>\n",
       "      <td>0.14</td>\n",
       "      <td>2.04</td>\n",
       "      <td>3.02</td>\n",
       "    </tr>\n",
       "    <tr>\n",
       "      <th>1992</th>\n",
       "      <td>1993</td>\n",
       "      <td>Sogecable</td>\n",
       "      <td>Spain</td>\n",
       "      <td>Media</td>\n",
       "      <td>1.03</td>\n",
       "      <td>-0.06</td>\n",
       "      <td>1.53</td>\n",
       "      <td>6.02</td>\n",
       "    </tr>\n",
       "  </tbody>\n",
       "</table>\n",
       "</div>"
      ],
      "text/plain": [
       "      rank                       name country                       category  \\\n",
       "38      39    Banco Santander Central   Spain                        Banking   \n",
       "56      57  BBVA-Banco Bilbao Vizcaya   Spain                        Banking   \n",
       "108    109                 Repsol-YPF   Spain           Oil & gas operations   \n",
       "114    115               Endesa Group   Spain                      Utilities   \n",
       "188    189                  Iberdrola   Spain                      Utilities   \n",
       "378    379      Banco Popular Espaqol   Spain                        Banking   \n",
       "408    409                 Telefsnica   Spain    Telecommunications services   \n",
       "462    463            Gas Natural SDG   Spain                      Utilities   \n",
       "472    473                    Altadis   Spain           Food drink & tobacco   \n",
       "529    530               Unisn Fenosa   Spain                      Utilities   \n",
       "532    533                      Cepsa   Spain           Oil & gas operations   \n",
       "605    606            Grupo Ferrovial   Spain                   Construction   \n",
       "734    735                  FCC Group   Spain                   Construction   \n",
       "762    763                    Inditex   Spain  Household & personal products   \n",
       "787    788          Banco de Sabadell   Spain                        Banking   \n",
       "876    877                  ACS Group   Spain                   Construction   \n",
       "951    952         Corporation Mapfre   Spain                      Insurance   \n",
       "1035  1036                    Acciona   Spain                   Construction   \n",
       "1058  1059                  Bankinter   Spain                        Banking   \n",
       "1059  1060   Abertis Infraestructuras   Spain                 Transportation   \n",
       "1074  1075                     Iberia   Spain                 Transportation   \n",
       "1426  1427      Amadeus Global Travel   Spain   Business services & supplies   \n",
       "1435  1436         Sacyr-Vallehermoso   Spain         Diversified financials   \n",
       "1493  1494                   Acerinox   Spain                      Materials   \n",
       "1623  1624                     Enagas   Spain           Oil & gas operations   \n",
       "1892  1893               Banco Pastor   Spain                        Banking   \n",
       "1897  1898     Red Eectrica de Espaqa   Spain                      Utilities   \n",
       "1931  1932                     Gamesa   Spain                  Capital goods   \n",
       "1992  1993                  Sogecable   Spain                          Media   \n",
       "\n",
       "      sales  profits  assets  marketvalue  \n",
       "38    28.70     3.28  442.24        56.78  \n",
       "56    24.10     2.81  288.80        44.67  \n",
       "108   29.14     2.05   39.34        26.22  \n",
       "114   20.43     1.65   57.92        21.10  \n",
       "188   11.94     1.33   30.99        18.78  \n",
       "378    3.32     0.67   44.01        14.38  \n",
       "408   29.84    -5.86   60.65        86.39  \n",
       "462    5.53     0.85    9.25        11.28  \n",
       "472    9.45     0.46    8.66         9.48  \n",
       "529    6.13     0.36   15.71         6.35  \n",
       "532    8.85     0.48    6.31         9.29  \n",
       "605    5.29     0.48   11.78         5.11  \n",
       "734    5.77     0.29    7.14         4.99  \n",
       "762    4.28     0.47    3.24        13.52  \n",
       "787    1.99     0.30   38.38         4.77  \n",
       "876    4.64     0.19    5.16         6.24  \n",
       "951    5.87     0.12   15.45         2.73  \n",
       "1035   3.59     0.17    6.11         4.13  \n",
       "1058   1.37     0.17   30.05         3.26  \n",
       "1059   0.80     0.21    6.78         7.43  \n",
       "1074   4.71     0.17    4.85         3.34  \n",
       "1426   2.43     0.20    1.34         3.60  \n",
       "1435   0.88     0.22    3.75         4.09  \n",
       "1493   2.63     0.18    2.70         3.05  \n",
       "1623   1.97     0.18    3.89         2.83  \n",
       "1892   0.49     0.08   13.12         1.79  \n",
       "1897   1.14     0.15    4.28         2.36  \n",
       "1931   1.15     0.14    2.04         3.02  \n",
       "1992   1.03    -0.06    1.53         6.02  "
      ]
     },
     "execution_count": 47,
     "metadata": {},
     "output_type": "execute_result"
    }
   ],
   "source": [
    "forbesSpain = forbes2000[forbes2000['country']== 'Spain']\n",
    "forbesSpain"
   ]
  },
  {
   "cell_type": "markdown",
   "metadata": {},
   "source": [
    "- Indexar el dataframe anterior por beneficios (profits) y obtener los nombres y rangos de las que tengan un beneficio nulo o negativo. Nota: intenta indexar de manera mixta con números (filas) y etiquetas columnas), hay una operación específica para esto en pandas."
   ]
  },
  {
   "cell_type": "code",
   "execution_count": 63,
   "metadata": {
    "collapsed": false
   },
   "outputs": [
    {
     "data": {
      "text/html": [
       "<div>\n",
       "<table border=\"1\" class=\"dataframe\">\n",
       "  <thead>\n",
       "    <tr style=\"text-align: right;\">\n",
       "      <th></th>\n",
       "      <th>rank</th>\n",
       "      <th>name</th>\n",
       "      <th>profits</th>\n",
       "    </tr>\n",
       "  </thead>\n",
       "  <tbody>\n",
       "    <tr>\n",
       "      <th>408</th>\n",
       "      <td>409</td>\n",
       "      <td>Telefsnica</td>\n",
       "      <td>-5.86</td>\n",
       "    </tr>\n",
       "    <tr>\n",
       "      <th>1992</th>\n",
       "      <td>1993</td>\n",
       "      <td>Sogecable</td>\n",
       "      <td>-0.06</td>\n",
       "    </tr>\n",
       "  </tbody>\n",
       "</table>\n",
       "</div>"
      ],
      "text/plain": [
       "      rank        name  profits\n",
       "408    409  Telefsnica    -5.86\n",
       "1992  1993   Sogecable    -0.06"
      ]
     },
     "execution_count": 63,
     "metadata": {},
     "output_type": "execute_result"
    }
   ],
   "source": [
    "cols = ['rank', 'name', 'profits']\n",
    "forbesSpainV2 = forbesSpain[cols]\n",
    "forbesSpainV2[forbesSpainV2['profits']<=0]"
   ]
  },
  {
   "cell_type": "code",
   "execution_count": 90,
   "metadata": {
    "collapsed": false
   },
   "outputs": [
    {
     "data": {
      "text/html": [
       "<div>\n",
       "<table border=\"1\" class=\"dataframe\">\n",
       "  <thead>\n",
       "    <tr style=\"text-align: right;\">\n",
       "      <th></th>\n",
       "      <th>rank</th>\n",
       "      <th>name</th>\n",
       "    </tr>\n",
       "    <tr>\n",
       "      <th>profits</th>\n",
       "      <th></th>\n",
       "      <th></th>\n",
       "    </tr>\n",
       "  </thead>\n",
       "  <tbody>\n",
       "    <tr>\n",
       "      <th>-5.86</th>\n",
       "      <td>409</td>\n",
       "      <td>Telefsnica</td>\n",
       "    </tr>\n",
       "    <tr>\n",
       "      <th>-0.06</th>\n",
       "      <td>1993</td>\n",
       "      <td>Sogecable</td>\n",
       "    </tr>\n",
       "  </tbody>\n",
       "</table>\n",
       "</div>"
      ],
      "text/plain": [
       "         rank        name\n",
       "profits                  \n",
       "-5.86     409  Telefsnica\n",
       "-0.06    1993   Sogecable"
      ]
     },
     "execution_count": 90,
     "metadata": {},
     "output_type": "execute_result"
    }
   ],
   "source": [
    "forbesSpainV2.loc[(forbesSpainV2.profits<=0)].set_index('profits')[['rank','name']]"
   ]
  },
  {
   "cell_type": "code",
   "execution_count": null,
   "metadata": {
    "collapsed": true
   },
   "outputs": [],
   "source": []
  }
 ],
 "metadata": {
  "anaconda-cloud": {},
  "kernelspec": {
   "display_name": "Python [conda root]",
   "language": "python",
   "name": "conda-root-py"
  },
  "language_info": {
   "codemirror_mode": {
    "name": "ipython",
    "version": 2
   },
   "file_extension": ".py",
   "mimetype": "text/x-python",
   "name": "python",
   "nbconvert_exporter": "python",
   "pygments_lexer": "ipython2",
   "version": "2.7.12"
  }
 },
 "nbformat": 4,
 "nbformat_minor": 1
}
