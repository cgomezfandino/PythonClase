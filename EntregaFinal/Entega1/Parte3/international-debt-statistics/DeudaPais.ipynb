{
 "cells": [
  {
   "cell_type": "code",
   "execution_count": 1,
   "metadata": {
    "collapsed": false
   },
   "outputs": [],
   "source": [
    "import numpy as np\n",
    "import pandas as pd\n",
    "import seaborn as sns\n",
    "import matplotlib.pyplot as plt\n",
    "from scipy import stats\n",
    "%matplotlib inline"
   ]
  },
  {
   "cell_type": "code",
   "execution_count": 2,
   "metadata": {
    "collapsed": false
   },
   "outputs": [],
   "source": [
    "deudaPais = pd.read_table('data.csv',sep=',')"
   ]
  },
  {
   "cell_type": "code",
   "execution_count": 3,
   "metadata": {
    "collapsed": false
   },
   "outputs": [
    {
     "data": {
      "text/html": [
       "<div>\n",
       "<table border=\"1\" class=\"dataframe\">\n",
       "  <thead>\n",
       "    <tr style=\"text-align: right;\">\n",
       "      <th></th>\n",
       "      <th>﻿\"Country Name\"</th>\n",
       "      <th>Country Code</th>\n",
       "      <th>Indicator Name</th>\n",
       "      <th>Indicator Code</th>\n",
       "      <th>1970</th>\n",
       "      <th>1971</th>\n",
       "      <th>1972</th>\n",
       "      <th>1973</th>\n",
       "      <th>1974</th>\n",
       "      <th>1975</th>\n",
       "      <th>...</th>\n",
       "      <th>2016</th>\n",
       "      <th>2017</th>\n",
       "      <th>2018</th>\n",
       "      <th>2019</th>\n",
       "      <th>2020</th>\n",
       "      <th>2021</th>\n",
       "      <th>2022</th>\n",
       "      <th>2023</th>\n",
       "      <th>2024</th>\n",
       "      <th>Unnamed: 59</th>\n",
       "    </tr>\n",
       "  </thead>\n",
       "  <tbody>\n",
       "    <tr>\n",
       "      <th>0</th>\n",
       "      <td>Afghanistan</td>\n",
       "      <td>AFG</td>\n",
       "      <td>Average grace period on new external debt comm...</td>\n",
       "      <td>DT.GPA.DPPG</td>\n",
       "      <td>NaN</td>\n",
       "      <td>NaN</td>\n",
       "      <td>NaN</td>\n",
       "      <td>NaN</td>\n",
       "      <td>NaN</td>\n",
       "      <td>NaN</td>\n",
       "      <td>...</td>\n",
       "      <td>NaN</td>\n",
       "      <td>NaN</td>\n",
       "      <td>NaN</td>\n",
       "      <td>NaN</td>\n",
       "      <td>NaN</td>\n",
       "      <td>NaN</td>\n",
       "      <td>NaN</td>\n",
       "      <td>NaN</td>\n",
       "      <td>NaN</td>\n",
       "      <td>NaN</td>\n",
       "    </tr>\n",
       "    <tr>\n",
       "      <th>1</th>\n",
       "      <td>Afghanistan</td>\n",
       "      <td>AFG</td>\n",
       "      <td>Average grace period on new external debt comm...</td>\n",
       "      <td>DT.GPA.OFFT</td>\n",
       "      <td>NaN</td>\n",
       "      <td>NaN</td>\n",
       "      <td>NaN</td>\n",
       "      <td>NaN</td>\n",
       "      <td>NaN</td>\n",
       "      <td>NaN</td>\n",
       "      <td>...</td>\n",
       "      <td>NaN</td>\n",
       "      <td>NaN</td>\n",
       "      <td>NaN</td>\n",
       "      <td>NaN</td>\n",
       "      <td>NaN</td>\n",
       "      <td>NaN</td>\n",
       "      <td>NaN</td>\n",
       "      <td>NaN</td>\n",
       "      <td>NaN</td>\n",
       "      <td>NaN</td>\n",
       "    </tr>\n",
       "  </tbody>\n",
       "</table>\n",
       "<p>2 rows × 60 columns</p>\n",
       "</div>"
      ],
      "text/plain": [
       "  ﻿\"Country Name\" Country Code  \\\n",
       "0     Afghanistan          AFG   \n",
       "1     Afghanistan          AFG   \n",
       "\n",
       "                                      Indicator Name Indicator Code  1970  \\\n",
       "0  Average grace period on new external debt comm...    DT.GPA.DPPG   NaN   \n",
       "1  Average grace period on new external debt comm...    DT.GPA.OFFT   NaN   \n",
       "\n",
       "   1971  1972  1973  1974  1975     ...       2016  2017  2018  2019  2020  \\\n",
       "0   NaN   NaN   NaN   NaN   NaN     ...        NaN   NaN   NaN   NaN   NaN   \n",
       "1   NaN   NaN   NaN   NaN   NaN     ...        NaN   NaN   NaN   NaN   NaN   \n",
       "\n",
       "   2021  2022  2023  2024  Unnamed: 59  \n",
       "0   NaN   NaN   NaN   NaN          NaN  \n",
       "1   NaN   NaN   NaN   NaN          NaN  \n",
       "\n",
       "[2 rows x 60 columns]"
      ]
     },
     "execution_count": 3,
     "metadata": {},
     "output_type": "execute_result"
    }
   ],
   "source": [
    "deudaPais.head(2)"
   ]
  },
  {
   "cell_type": "code",
   "execution_count": 4,
   "metadata": {
    "collapsed": false
   },
   "outputs": [
    {
     "name": "stdout",
     "output_type": "stream",
     "text": [
      "Index([u'﻿\"Country Name\"', u'Country Code', u'Indicator Name',\n",
      "       u'Indicator Code', u'1970', u'1971', u'1972', u'1973', u'1974', u'1975',\n",
      "       u'1976', u'1977', u'1978', u'1979', u'1980', u'1981', u'1982', u'1983',\n",
      "       u'1984', u'1985', u'1986', u'1987', u'1988', u'1989', u'1990', u'1991',\n",
      "       u'1992', u'1993', u'1994', u'1995', u'1996', u'1997', u'1998', u'1999',\n",
      "       u'2000', u'2001', u'2002', u'2003', u'2004', u'2005', u'2006', u'2007',\n",
      "       u'2008', u'2009', u'2010', u'2011', u'2012', u'2013', u'2014', u'2015',\n",
      "       u'2016', u'2017', u'2018', u'2019', u'2020', u'2021', u'2022', u'2023',\n",
      "       u'2024', u'Unnamed: 59'],\n",
      "      dtype='object')\n",
      "--------------------------------\n",
      "(28034, 60)\n"
     ]
    }
   ],
   "source": [
    "print deudaPais.columns\n",
    "print '--------------------------------'\n",
    "print deudaPais.shape"
   ]
  },
  {
   "cell_type": "code",
   "execution_count": 5,
   "metadata": {
    "collapsed": false,
    "scrolled": true
   },
   "outputs": [],
   "source": [
    "deudaPais.rename(columns={'﻿\"Country Name\"' :'Country', 'Country Code':'Code', 'Indicator Name':'IndiName',\\\n",
    "                          'Indicator Code':'IndiCode'},inplace=True)"
   ]
  },
  {
   "cell_type": "code",
   "execution_count": 6,
   "metadata": {
    "collapsed": false
   },
   "outputs": [
    {
     "data": {
      "text/html": [
       "<div>\n",
       "<table border=\"1\" class=\"dataframe\">\n",
       "  <thead>\n",
       "    <tr style=\"text-align: right;\">\n",
       "      <th></th>\n",
       "      <th>Country</th>\n",
       "      <th>Code</th>\n",
       "      <th>IndiName</th>\n",
       "      <th>IndiCode</th>\n",
       "      <th>1970</th>\n",
       "      <th>1971</th>\n",
       "      <th>1972</th>\n",
       "      <th>1973</th>\n",
       "      <th>1974</th>\n",
       "      <th>1975</th>\n",
       "      <th>...</th>\n",
       "      <th>2016</th>\n",
       "      <th>2017</th>\n",
       "      <th>2018</th>\n",
       "      <th>2019</th>\n",
       "      <th>2020</th>\n",
       "      <th>2021</th>\n",
       "      <th>2022</th>\n",
       "      <th>2023</th>\n",
       "      <th>2024</th>\n",
       "      <th>Unnamed: 59</th>\n",
       "    </tr>\n",
       "  </thead>\n",
       "  <tbody>\n",
       "    <tr>\n",
       "      <th>0</th>\n",
       "      <td>Afghanistan</td>\n",
       "      <td>AFG</td>\n",
       "      <td>Average grace period on new external debt comm...</td>\n",
       "      <td>DT.GPA.DPPG</td>\n",
       "      <td>NaN</td>\n",
       "      <td>NaN</td>\n",
       "      <td>NaN</td>\n",
       "      <td>NaN</td>\n",
       "      <td>NaN</td>\n",
       "      <td>NaN</td>\n",
       "      <td>...</td>\n",
       "      <td>NaN</td>\n",
       "      <td>NaN</td>\n",
       "      <td>NaN</td>\n",
       "      <td>NaN</td>\n",
       "      <td>NaN</td>\n",
       "      <td>NaN</td>\n",
       "      <td>NaN</td>\n",
       "      <td>NaN</td>\n",
       "      <td>NaN</td>\n",
       "      <td>NaN</td>\n",
       "    </tr>\n",
       "    <tr>\n",
       "      <th>1</th>\n",
       "      <td>Afghanistan</td>\n",
       "      <td>AFG</td>\n",
       "      <td>Average grace period on new external debt comm...</td>\n",
       "      <td>DT.GPA.OFFT</td>\n",
       "      <td>NaN</td>\n",
       "      <td>NaN</td>\n",
       "      <td>NaN</td>\n",
       "      <td>NaN</td>\n",
       "      <td>NaN</td>\n",
       "      <td>NaN</td>\n",
       "      <td>...</td>\n",
       "      <td>NaN</td>\n",
       "      <td>NaN</td>\n",
       "      <td>NaN</td>\n",
       "      <td>NaN</td>\n",
       "      <td>NaN</td>\n",
       "      <td>NaN</td>\n",
       "      <td>NaN</td>\n",
       "      <td>NaN</td>\n",
       "      <td>NaN</td>\n",
       "      <td>NaN</td>\n",
       "    </tr>\n",
       "  </tbody>\n",
       "</table>\n",
       "<p>2 rows × 60 columns</p>\n",
       "</div>"
      ],
      "text/plain": [
       "       Country Code                                           IndiName  \\\n",
       "0  Afghanistan  AFG  Average grace period on new external debt comm...   \n",
       "1  Afghanistan  AFG  Average grace period on new external debt comm...   \n",
       "\n",
       "      IndiCode  1970  1971  1972  1973  1974  1975     ...       2016  2017  \\\n",
       "0  DT.GPA.DPPG   NaN   NaN   NaN   NaN   NaN   NaN     ...        NaN   NaN   \n",
       "1  DT.GPA.OFFT   NaN   NaN   NaN   NaN   NaN   NaN     ...        NaN   NaN   \n",
       "\n",
       "   2018  2019  2020  2021  2022  2023  2024  Unnamed: 59  \n",
       "0   NaN   NaN   NaN   NaN   NaN   NaN   NaN          NaN  \n",
       "1   NaN   NaN   NaN   NaN   NaN   NaN   NaN          NaN  \n",
       "\n",
       "[2 rows x 60 columns]"
      ]
     },
     "execution_count": 6,
     "metadata": {},
     "output_type": "execute_result"
    }
   ],
   "source": [
    "deudaPais.head(2)"
   ]
  },
  {
   "cell_type": "markdown",
   "metadata": {},
   "source": [
    "#### Obtener los datos del período 2000-2010 de la deuda externa (DT.DOD.DECT.CD (http://DT.DOD.DECT.CD)) por países (\"Country Name\"), transponer las columnas a filas y dibujar las series. ¿La visualización nos dice algo? ¿Es adecuada?"
   ]
  },
  {
   "cell_type": "code",
   "execution_count": 7,
   "metadata": {
    "collapsed": false
   },
   "outputs": [
    {
     "data": {
      "text/html": [
       "<div>\n",
       "<table border=\"1\" class=\"dataframe\">\n",
       "  <thead>\n",
       "    <tr style=\"text-align: right;\">\n",
       "      <th>Country</th>\n",
       "      <th>Afghanistan</th>\n",
       "      <th>Albania</th>\n",
       "      <th>Algeria</th>\n",
       "      <th>All developing countries</th>\n",
       "      <th>Angola</th>\n",
       "      <th>Armenia</th>\n",
       "      <th>Azerbaijan</th>\n",
       "      <th>Bangladesh</th>\n",
       "      <th>Belarus</th>\n",
       "      <th>Belize</th>\n",
       "      <th>...</th>\n",
       "      <th>Turkmenistan</th>\n",
       "      <th>Uganda</th>\n",
       "      <th>Ukraine</th>\n",
       "      <th>Upper middle income</th>\n",
       "      <th>Uzbekistan</th>\n",
       "      <th>Vanuatu</th>\n",
       "      <th>Vietnam</th>\n",
       "      <th>Yemen, Rep.</th>\n",
       "      <th>Zambia</th>\n",
       "      <th>Zimbabwe</th>\n",
       "    </tr>\n",
       "  </thead>\n",
       "  <tbody>\n",
       "    <tr>\n",
       "      <th>2000</th>\n",
       "      <td>NaN</td>\n",
       "      <td>1.122296e+09</td>\n",
       "      <td>2.547693e+10</td>\n",
       "      <td>1.742960e+12</td>\n",
       "      <td>9.763470e+09</td>\n",
       "      <td>1.009643e+09</td>\n",
       "      <td>1.524261e+09</td>\n",
       "      <td>1.559607e+10</td>\n",
       "      <td>2.604108e+09</td>\n",
       "      <td>5.279020e+08</td>\n",
       "      <td>...</td>\n",
       "      <td>2.509436e+09</td>\n",
       "      <td>3.535146e+09</td>\n",
       "      <td>1.389009e+10</td>\n",
       "      <td>1.043220e+12</td>\n",
       "      <td>4.979871e+09</td>\n",
       "      <td>95670000.0</td>\n",
       "      <td>1.285928e+10</td>\n",
       "      <td>5.162399e+09</td>\n",
       "      <td>5.811476e+09</td>\n",
       "      <td>3.832043e+09</td>\n",
       "    </tr>\n",
       "    <tr>\n",
       "      <th>2001</th>\n",
       "      <td>NaN</td>\n",
       "      <td>1.154850e+09</td>\n",
       "      <td>2.276389e+10</td>\n",
       "      <td>1.756875e+12</td>\n",
       "      <td>8.776913e+09</td>\n",
       "      <td>1.401649e+09</td>\n",
       "      <td>1.459853e+09</td>\n",
       "      <td>1.492421e+10</td>\n",
       "      <td>2.780349e+09</td>\n",
       "      <td>5.978810e+08</td>\n",
       "      <td>...</td>\n",
       "      <td>2.229529e+09</td>\n",
       "      <td>3.768223e+09</td>\n",
       "      <td>2.218211e+10</td>\n",
       "      <td>1.076943e+12</td>\n",
       "      <td>5.208444e+09</td>\n",
       "      <td>92032000.0</td>\n",
       "      <td>1.261666e+10</td>\n",
       "      <td>5.197891e+09</td>\n",
       "      <td>6.189777e+09</td>\n",
       "      <td>3.644778e+09</td>\n",
       "    </tr>\n",
       "    <tr>\n",
       "      <th>2002</th>\n",
       "      <td>NaN</td>\n",
       "      <td>1.181526e+09</td>\n",
       "      <td>2.304022e+10</td>\n",
       "      <td>1.820742e+12</td>\n",
       "      <td>9.110398e+09</td>\n",
       "      <td>1.711690e+09</td>\n",
       "      <td>1.626957e+09</td>\n",
       "      <td>1.663286e+10</td>\n",
       "      <td>3.378292e+09</td>\n",
       "      <td>6.973290e+08</td>\n",
       "      <td>...</td>\n",
       "      <td>2.060367e+09</td>\n",
       "      <td>4.014527e+09</td>\n",
       "      <td>2.342315e+10</td>\n",
       "      <td>1.116698e+12</td>\n",
       "      <td>5.151824e+09</td>\n",
       "      <td>112584000.0</td>\n",
       "      <td>1.334681e+10</td>\n",
       "      <td>5.337942e+09</td>\n",
       "      <td>6.674671e+09</td>\n",
       "      <td>3.978768e+09</td>\n",
       "    </tr>\n",
       "    <tr>\n",
       "      <th>2003</th>\n",
       "      <td>NaN</td>\n",
       "      <td>1.552159e+09</td>\n",
       "      <td>2.377485e+10</td>\n",
       "      <td>1.953504e+12</td>\n",
       "      <td>9.099853e+09</td>\n",
       "      <td>1.994268e+09</td>\n",
       "      <td>1.876746e+09</td>\n",
       "      <td>1.838549e+10</td>\n",
       "      <td>3.760979e+09</td>\n",
       "      <td>9.095300e+08</td>\n",
       "      <td>...</td>\n",
       "      <td>1.889766e+09</td>\n",
       "      <td>4.565233e+09</td>\n",
       "      <td>2.574826e+10</td>\n",
       "      <td>1.194071e+12</td>\n",
       "      <td>5.295598e+09</td>\n",
       "      <td>121146000.0</td>\n",
       "      <td>1.595835e+10</td>\n",
       "      <td>5.524634e+09</td>\n",
       "      <td>6.874318e+09</td>\n",
       "      <td>4.603900e+09</td>\n",
       "    </tr>\n",
       "    <tr>\n",
       "      <th>2004</th>\n",
       "      <td>NaN</td>\n",
       "      <td>1.606136e+09</td>\n",
       "      <td>2.242665e+10</td>\n",
       "      <td>2.081974e+12</td>\n",
       "      <td>9.786141e+09</td>\n",
       "      <td>2.106357e+09</td>\n",
       "      <td>2.019786e+09</td>\n",
       "      <td>1.965923e+10</td>\n",
       "      <td>4.584153e+09</td>\n",
       "      <td>9.278910e+08</td>\n",
       "      <td>...</td>\n",
       "      <td>1.630781e+09</td>\n",
       "      <td>4.769348e+09</td>\n",
       "      <td>3.068915e+10</td>\n",
       "      <td>1.294476e+12</td>\n",
       "      <td>5.215731e+09</td>\n",
       "      <td>145931000.0</td>\n",
       "      <td>1.799307e+10</td>\n",
       "      <td>5.616361e+09</td>\n",
       "      <td>7.540235e+09</td>\n",
       "      <td>4.953634e+09</td>\n",
       "    </tr>\n",
       "    <tr>\n",
       "      <th>2005</th>\n",
       "      <td>NaN</td>\n",
       "      <td>2.101163e+09</td>\n",
       "      <td>1.709240e+10</td>\n",
       "      <td>2.089796e+12</td>\n",
       "      <td>1.222396e+10</td>\n",
       "      <td>1.968027e+09</td>\n",
       "      <td>2.118242e+09</td>\n",
       "      <td>1.844882e+10</td>\n",
       "      <td>5.283532e+09</td>\n",
       "      <td>9.888200e+08</td>\n",
       "      <td>...</td>\n",
       "      <td>1.157800e+09</td>\n",
       "      <td>4.436715e+09</td>\n",
       "      <td>3.370593e+10</td>\n",
       "      <td>1.343201e+12</td>\n",
       "      <td>4.655813e+09</td>\n",
       "      <td>105348000.0</td>\n",
       "      <td>1.903868e+10</td>\n",
       "      <td>5.500561e+09</td>\n",
       "      <td>5.458981e+09</td>\n",
       "      <td>4.444631e+09</td>\n",
       "    </tr>\n",
       "    <tr>\n",
       "      <th>2006</th>\n",
       "      <td>9.691970e+08</td>\n",
       "      <td>2.465359e+09</td>\n",
       "      <td>5.910801e+09</td>\n",
       "      <td>2.267447e+12</td>\n",
       "      <td>9.890494e+09</td>\n",
       "      <td>2.136305e+09</td>\n",
       "      <td>2.687517e+09</td>\n",
       "      <td>2.010578e+10</td>\n",
       "      <td>6.543942e+09</td>\n",
       "      <td>1.023887e+09</td>\n",
       "      <td>...</td>\n",
       "      <td>9.910510e+08</td>\n",
       "      <td>1.276225e+09</td>\n",
       "      <td>5.248666e+10</td>\n",
       "      <td>1.507680e+12</td>\n",
       "      <td>4.487901e+09</td>\n",
       "      <td>107584000.0</td>\n",
       "      <td>1.864855e+10</td>\n",
       "      <td>5.705769e+09</td>\n",
       "      <td>2.375621e+09</td>\n",
       "      <td>4.908101e+09</td>\n",
       "    </tr>\n",
       "    <tr>\n",
       "      <th>2007</th>\n",
       "      <td>2.012885e+09</td>\n",
       "      <td>2.897759e+09</td>\n",
       "      <td>6.134509e+09</td>\n",
       "      <td>2.693260e+12</td>\n",
       "      <td>1.193168e+10</td>\n",
       "      <td>3.078652e+09</td>\n",
       "      <td>3.728508e+09</td>\n",
       "      <td>2.137264e+10</td>\n",
       "      <td>1.248816e+10</td>\n",
       "      <td>1.048500e+09</td>\n",
       "      <td>...</td>\n",
       "      <td>8.537490e+08</td>\n",
       "      <td>1.628567e+09</td>\n",
       "      <td>7.892908e+10</td>\n",
       "      <td>1.811890e+12</td>\n",
       "      <td>4.647813e+09</td>\n",
       "      <td>123899000.0</td>\n",
       "      <td>2.328472e+10</td>\n",
       "      <td>6.152424e+09</td>\n",
       "      <td>2.857153e+09</td>\n",
       "      <td>5.707379e+09</td>\n",
       "    </tr>\n",
       "    <tr>\n",
       "      <th>2008</th>\n",
       "      <td>2.133805e+09</td>\n",
       "      <td>4.238095e+09</td>\n",
       "      <td>6.246392e+09</td>\n",
       "      <td>2.908884e+12</td>\n",
       "      <td>1.550157e+10</td>\n",
       "      <td>3.609238e+09</td>\n",
       "      <td>4.465748e+09</td>\n",
       "      <td>2.292939e+10</td>\n",
       "      <td>1.512151e+10</td>\n",
       "      <td>1.252490e+09</td>\n",
       "      <td>...</td>\n",
       "      <td>7.457210e+08</td>\n",
       "      <td>2.268362e+09</td>\n",
       "      <td>9.826630e+10</td>\n",
       "      <td>1.942263e+12</td>\n",
       "      <td>5.108326e+09</td>\n",
       "      <td>150881000.0</td>\n",
       "      <td>2.648763e+10</td>\n",
       "      <td>6.318635e+09</td>\n",
       "      <td>3.079658e+09</td>\n",
       "      <td>5.710814e+09</td>\n",
       "    </tr>\n",
       "    <tr>\n",
       "      <th>2009</th>\n",
       "      <td>2.469925e+09</td>\n",
       "      <td>4.310066e+09</td>\n",
       "      <td>7.405467e+09</td>\n",
       "      <td>3.175081e+12</td>\n",
       "      <td>1.701427e+10</td>\n",
       "      <td>4.932598e+09</td>\n",
       "      <td>4.754598e+09</td>\n",
       "      <td>2.459598e+10</td>\n",
       "      <td>2.205383e+10</td>\n",
       "      <td>1.270864e+09</td>\n",
       "      <td>...</td>\n",
       "      <td>6.614750e+08</td>\n",
       "      <td>2.738678e+09</td>\n",
       "      <td>1.043271e+11</td>\n",
       "      <td>2.102098e+12</td>\n",
       "      <td>6.961540e+09</td>\n",
       "      <td>155309000.0</td>\n",
       "      <td>3.308383e+10</td>\n",
       "      <td>6.734195e+09</td>\n",
       "      <td>3.774356e+09</td>\n",
       "      <td>6.000141e+09</td>\n",
       "    </tr>\n",
       "    <tr>\n",
       "      <th>2010</th>\n",
       "      <td>2.423336e+09</td>\n",
       "      <td>5.200642e+09</td>\n",
       "      <td>7.246004e+09</td>\n",
       "      <td>3.665542e+12</td>\n",
       "      <td>1.694909e+10</td>\n",
       "      <td>6.304487e+09</td>\n",
       "      <td>7.028983e+09</td>\n",
       "      <td>2.575168e+10</td>\n",
       "      <td>2.839688e+10</td>\n",
       "      <td>1.286915e+09</td>\n",
       "      <td>...</td>\n",
       "      <td>5.291210e+08</td>\n",
       "      <td>2.974603e+09</td>\n",
       "      <td>1.250828e+11</td>\n",
       "      <td>2.469823e+12</td>\n",
       "      <td>7.795789e+09</td>\n",
       "      <td>173330000.0</td>\n",
       "      <td>4.492257e+10</td>\n",
       "      <td>6.681696e+09</td>\n",
       "      <td>4.419178e+09</td>\n",
       "      <td>6.604753e+09</td>\n",
       "    </tr>\n",
       "  </tbody>\n",
       "</table>\n",
       "<p>11 rows × 131 columns</p>\n",
       "</div>"
      ],
      "text/plain": [
       "Country   Afghanistan       Albania       Algeria  All developing countries  \\\n",
       "2000              NaN  1.122296e+09  2.547693e+10              1.742960e+12   \n",
       "2001              NaN  1.154850e+09  2.276389e+10              1.756875e+12   \n",
       "2002              NaN  1.181526e+09  2.304022e+10              1.820742e+12   \n",
       "2003              NaN  1.552159e+09  2.377485e+10              1.953504e+12   \n",
       "2004              NaN  1.606136e+09  2.242665e+10              2.081974e+12   \n",
       "2005              NaN  2.101163e+09  1.709240e+10              2.089796e+12   \n",
       "2006     9.691970e+08  2.465359e+09  5.910801e+09              2.267447e+12   \n",
       "2007     2.012885e+09  2.897759e+09  6.134509e+09              2.693260e+12   \n",
       "2008     2.133805e+09  4.238095e+09  6.246392e+09              2.908884e+12   \n",
       "2009     2.469925e+09  4.310066e+09  7.405467e+09              3.175081e+12   \n",
       "2010     2.423336e+09  5.200642e+09  7.246004e+09              3.665542e+12   \n",
       "\n",
       "Country        Angola       Armenia    Azerbaijan    Bangladesh       Belarus  \\\n",
       "2000     9.763470e+09  1.009643e+09  1.524261e+09  1.559607e+10  2.604108e+09   \n",
       "2001     8.776913e+09  1.401649e+09  1.459853e+09  1.492421e+10  2.780349e+09   \n",
       "2002     9.110398e+09  1.711690e+09  1.626957e+09  1.663286e+10  3.378292e+09   \n",
       "2003     9.099853e+09  1.994268e+09  1.876746e+09  1.838549e+10  3.760979e+09   \n",
       "2004     9.786141e+09  2.106357e+09  2.019786e+09  1.965923e+10  4.584153e+09   \n",
       "2005     1.222396e+10  1.968027e+09  2.118242e+09  1.844882e+10  5.283532e+09   \n",
       "2006     9.890494e+09  2.136305e+09  2.687517e+09  2.010578e+10  6.543942e+09   \n",
       "2007     1.193168e+10  3.078652e+09  3.728508e+09  2.137264e+10  1.248816e+10   \n",
       "2008     1.550157e+10  3.609238e+09  4.465748e+09  2.292939e+10  1.512151e+10   \n",
       "2009     1.701427e+10  4.932598e+09  4.754598e+09  2.459598e+10  2.205383e+10   \n",
       "2010     1.694909e+10  6.304487e+09  7.028983e+09  2.575168e+10  2.839688e+10   \n",
       "\n",
       "Country        Belize      ...       Turkmenistan        Uganda       Ukraine  \\\n",
       "2000     5.279020e+08      ...       2.509436e+09  3.535146e+09  1.389009e+10   \n",
       "2001     5.978810e+08      ...       2.229529e+09  3.768223e+09  2.218211e+10   \n",
       "2002     6.973290e+08      ...       2.060367e+09  4.014527e+09  2.342315e+10   \n",
       "2003     9.095300e+08      ...       1.889766e+09  4.565233e+09  2.574826e+10   \n",
       "2004     9.278910e+08      ...       1.630781e+09  4.769348e+09  3.068915e+10   \n",
       "2005     9.888200e+08      ...       1.157800e+09  4.436715e+09  3.370593e+10   \n",
       "2006     1.023887e+09      ...       9.910510e+08  1.276225e+09  5.248666e+10   \n",
       "2007     1.048500e+09      ...       8.537490e+08  1.628567e+09  7.892908e+10   \n",
       "2008     1.252490e+09      ...       7.457210e+08  2.268362e+09  9.826630e+10   \n",
       "2009     1.270864e+09      ...       6.614750e+08  2.738678e+09  1.043271e+11   \n",
       "2010     1.286915e+09      ...       5.291210e+08  2.974603e+09  1.250828e+11   \n",
       "\n",
       "Country  Upper middle income    Uzbekistan      Vanuatu       Vietnam  \\\n",
       "2000            1.043220e+12  4.979871e+09   95670000.0  1.285928e+10   \n",
       "2001            1.076943e+12  5.208444e+09   92032000.0  1.261666e+10   \n",
       "2002            1.116698e+12  5.151824e+09  112584000.0  1.334681e+10   \n",
       "2003            1.194071e+12  5.295598e+09  121146000.0  1.595835e+10   \n",
       "2004            1.294476e+12  5.215731e+09  145931000.0  1.799307e+10   \n",
       "2005            1.343201e+12  4.655813e+09  105348000.0  1.903868e+10   \n",
       "2006            1.507680e+12  4.487901e+09  107584000.0  1.864855e+10   \n",
       "2007            1.811890e+12  4.647813e+09  123899000.0  2.328472e+10   \n",
       "2008            1.942263e+12  5.108326e+09  150881000.0  2.648763e+10   \n",
       "2009            2.102098e+12  6.961540e+09  155309000.0  3.308383e+10   \n",
       "2010            2.469823e+12  7.795789e+09  173330000.0  4.492257e+10   \n",
       "\n",
       "Country   Yemen, Rep.        Zambia      Zimbabwe  \n",
       "2000     5.162399e+09  5.811476e+09  3.832043e+09  \n",
       "2001     5.197891e+09  6.189777e+09  3.644778e+09  \n",
       "2002     5.337942e+09  6.674671e+09  3.978768e+09  \n",
       "2003     5.524634e+09  6.874318e+09  4.603900e+09  \n",
       "2004     5.616361e+09  7.540235e+09  4.953634e+09  \n",
       "2005     5.500561e+09  5.458981e+09  4.444631e+09  \n",
       "2006     5.705769e+09  2.375621e+09  4.908101e+09  \n",
       "2007     6.152424e+09  2.857153e+09  5.707379e+09  \n",
       "2008     6.318635e+09  3.079658e+09  5.710814e+09  \n",
       "2009     6.734195e+09  3.774356e+09  6.000141e+09  \n",
       "2010     6.681696e+09  4.419178e+09  6.604753e+09  \n",
       "\n",
       "[11 rows x 131 columns]"
      ]
     },
     "execution_count": 7,
     "metadata": {},
     "output_type": "execute_result"
    }
   ],
   "source": [
    "deudaExternaPais = deudaPais.copy()\n",
    "deudaExternaPais = deudaExternaPais[deudaExternaPais.IndiCode=='DT.DOD.DECT.CD'].groupby('Country').sum()\\\n",
    ".loc[:,'2000':'2010']\n",
    "deudaExternaPais = deudaExternaPais.T\n",
    "#plt.plot(deudaExternaPais/1e12);\n",
    "deudaExternaPais\n",
    "# revisar funcion pd.melt"
   ]
  },
  {
   "cell_type": "markdown",
   "metadata": {},
   "source": [
    "Para este punto, solo podemos visualizar que cada pais a medida que transcurre año a año, la deuda aumenta poco a poco, sin embargo en algunos paises esa deuda aumenta en menor medida que en otros."
   ]
  },
  {
   "cell_type": "markdown",
   "metadata": {},
   "source": [
    "#### Obtener los cuatro países de mayor deuda en 2010 y los cuatro de menos (descartar previamente lo que no sean países sino agrupaciones de países). Volver a dibujar como en el apartado anterior, pero solo los ocho seleccionados."
   ]
  },
  {
   "cell_type": "markdown",
   "metadata": {},
   "source": [
    "#### Top 4 con menos Deuda Externa"
   ]
  },
  {
   "cell_type": "code",
   "execution_count": 8,
   "metadata": {
    "collapsed": false
   },
   "outputs": [
    {
     "data": {
      "text/html": [
       "<div>\n",
       "<table border=\"1\" class=\"dataframe\">\n",
       "  <thead>\n",
       "    <tr style=\"text-align: right;\">\n",
       "      <th></th>\n",
       "      <th>Country</th>\n",
       "      <th>2010</th>\n",
       "      <th>Code</th>\n",
       "    </tr>\n",
       "  </thead>\n",
       "  <tbody>\n",
       "    <tr>\n",
       "      <th>118</th>\n",
       "      <td>Tonga</td>\n",
       "      <td>153651000.0</td>\n",
       "      <td>TON</td>\n",
       "    </tr>\n",
       "    <tr>\n",
       "      <th>126</th>\n",
       "      <td>Vanuatu</td>\n",
       "      <td>173330000.0</td>\n",
       "      <td>VUT</td>\n",
       "    </tr>\n",
       "    <tr>\n",
       "      <th>99</th>\n",
       "      <td>Sao Tome and Principe</td>\n",
       "      <td>180881000.0</td>\n",
       "      <td>STP</td>\n",
       "    </tr>\n",
       "    <tr>\n",
       "      <th>103</th>\n",
       "      <td>Solomon Islands</td>\n",
       "      <td>230757000.0</td>\n",
       "      <td>SLB</td>\n",
       "    </tr>\n",
       "  </tbody>\n",
       "</table>\n",
       "</div>"
      ],
      "text/plain": [
       "                   Country         2010 Code\n",
       "118                  Tonga  153651000.0  TON\n",
       "126                Vanuatu  173330000.0  VUT\n",
       "99   Sao Tome and Principe  180881000.0  STP\n",
       "103        Solomon Islands  230757000.0  SLB"
      ]
     },
     "execution_count": 8,
     "metadata": {},
     "output_type": "execute_result"
    }
   ],
   "source": [
    "deudaExternaPais2 = deudaExternaPais.loc['2010',:].reset_index()\n",
    "cols = ['Country','Code']\n",
    "codigo = deudaPais[deudaPais.IndiCode=='DT.DOD.DECT.CD'][cols]\n",
    "unionPaises = pd.merge(deudaExternaPais2,codigo,how='left',on='Country')\n",
    "unionPaises.sort_values('2010',ascending=True).head(4)"
   ]
  },
  {
   "cell_type": "markdown",
   "metadata": {},
   "source": [
    "#### Top 4 con más Deuda Externa"
   ]
  },
  {
   "cell_type": "code",
   "execution_count": 9,
   "metadata": {
    "collapsed": false
   },
   "outputs": [
    {
     "data": {
      "text/html": [
       "<div>\n",
       "<table border=\"1\" class=\"dataframe\">\n",
       "  <thead>\n",
       "    <tr style=\"text-align: right;\">\n",
       "      <th></th>\n",
       "      <th>Country</th>\n",
       "      <th>2010</th>\n",
       "      <th>Code</th>\n",
       "    </tr>\n",
       "  </thead>\n",
       "  <tbody>\n",
       "    <tr>\n",
       "      <th>24</th>\n",
       "      <td>China</td>\n",
       "      <td>5.597721e+11</td>\n",
       "      <td>CHN</td>\n",
       "    </tr>\n",
       "    <tr>\n",
       "      <th>15</th>\n",
       "      <td>Brazil</td>\n",
       "      <td>3.523644e+11</td>\n",
       "      <td>BRA</td>\n",
       "    </tr>\n",
       "    <tr>\n",
       "      <th>120</th>\n",
       "      <td>Turkey</td>\n",
       "      <td>2.991132e+11</td>\n",
       "      <td>TUR</td>\n",
       "    </tr>\n",
       "    <tr>\n",
       "      <th>53</th>\n",
       "      <td>India</td>\n",
       "      <td>2.916505e+11</td>\n",
       "      <td>IND</td>\n",
       "    </tr>\n",
       "  </tbody>\n",
       "</table>\n",
       "</div>"
      ],
      "text/plain": [
       "    Country          2010 Code\n",
       "24    China  5.597721e+11  CHN\n",
       "15   Brazil  3.523644e+11  BRA\n",
       "120  Turkey  2.991132e+11  TUR\n",
       "53    India  2.916505e+11  IND"
      ]
     },
     "execution_count": 9,
     "metadata": {},
     "output_type": "execute_result"
    }
   ],
   "source": [
    "unionPaises[~unionPaises.Country.str.contains('All|Lower|East|Middle|Latin|Europe|Asia|Upper')]\\\n",
    ".sort_values('2010',ascending=False).head(4)"
   ]
  },
  {
   "cell_type": "code",
   "execution_count": 10,
   "metadata": {
    "collapsed": false
   },
   "outputs": [
    {
     "data": {
      "image/png": "[encoded data removed]",
      "text/plain": [
       "<matplotlib.figure.Figure at 0xce80630>"
      ]
     },
     "metadata": {},
     "output_type": "display_data"
    }
   ],
   "source": [
    "colsMayor = ['China','Brazil','Turkey','India']\n",
    "colsMenor = ['Tonga', 'Vanuatu','Sao Tome and Principe', 'Solomon Islands']\n",
    "#deudaExternaPais[cols]\n",
    "plt.plot(deudaExternaPais[colsMayor]);\n",
    "plt.legend(colsMayor,loc=0,fontsize='small');\n",
    "plt.title('Paises con mayor deuda Externa');"
   ]
  },
  {
   "cell_type": "code",
   "execution_count": 11,
   "metadata": {
    "collapsed": false
   },
   "outputs": [
    {
     "data": {
      "image/png": "[encoded data removed]",
      "text/plain": [
       "<matplotlib.figure.Figure at 0xc859c88>"
      ]
     },
     "metadata": {},
     "output_type": "display_data"
    }
   ],
   "source": [
    "plt.plot(deudaExternaPais[colsMenor]);\n",
    "plt.legend(colsMenor,loc=0,fontsize='small');\n",
    "plt.title('Paises con menor deuda Externa');"
   ]
  },
  {
   "cell_type": "markdown",
   "metadata": {
    "collapsed": false
   },
   "source": [
    "#### Conseguir en Internet la población de los países anteriores (copiar los valores \"a mano\" en un fichero de texto, y fusionarlos con la tabla existente mediante el \"Country Code\".) y observar si hay correlación o algún tipo de relación entre la población y la deuda externa."
   ]
  },
  {
   "cell_type": "code",
   "execution_count": 12,
   "metadata": {
    "collapsed": false
   },
   "outputs": [],
   "source": [
    "poblacion = pd.read_table('PoblacionPaises.txt',sep=';')"
   ]
  },
  {
   "cell_type": "code",
   "execution_count": 13,
   "metadata": {
    "collapsed": false
   },
   "outputs": [
    {
     "data": {
      "text/html": [
       "<div>\n",
       "<table border=\"1\" class=\"dataframe\">\n",
       "  <thead>\n",
       "    <tr style=\"text-align: right;\">\n",
       "      <th></th>\n",
       "      <th>Country</th>\n",
       "      <th>2010</th>\n",
       "      <th>censoPoblacion</th>\n",
       "    </tr>\n",
       "  </thead>\n",
       "  <tbody>\n",
       "    <tr>\n",
       "      <th>5</th>\n",
       "      <td>Tonga</td>\n",
       "      <td>1.536510e+08</td>\n",
       "      <td>103036</td>\n",
       "    </tr>\n",
       "    <tr>\n",
       "      <th>7</th>\n",
       "      <td>Vanuatu</td>\n",
       "      <td>1.733300e+08</td>\n",
       "      <td>206937</td>\n",
       "    </tr>\n",
       "    <tr>\n",
       "      <th>3</th>\n",
       "      <td>Sao Tome and Principe</td>\n",
       "      <td>1.808810e+08</td>\n",
       "      <td>193413</td>\n",
       "    </tr>\n",
       "    <tr>\n",
       "      <th>4</th>\n",
       "      <td>Solomon Islands</td>\n",
       "      <td>2.307570e+08</td>\n",
       "      <td>609833</td>\n",
       "    </tr>\n",
       "    <tr>\n",
       "      <th>2</th>\n",
       "      <td>India</td>\n",
       "      <td>2.916505e+11</td>\n",
       "      <td>1210193422</td>\n",
       "    </tr>\n",
       "    <tr>\n",
       "      <th>6</th>\n",
       "      <td>Turkey</td>\n",
       "      <td>2.991132e+11</td>\n",
       "      <td>79414269</td>\n",
       "    </tr>\n",
       "    <tr>\n",
       "      <th>0</th>\n",
       "      <td>Brazil</td>\n",
       "      <td>3.523644e+11</td>\n",
       "      <td>204450649</td>\n",
       "    </tr>\n",
       "    <tr>\n",
       "      <th>1</th>\n",
       "      <td>China</td>\n",
       "      <td>5.597721e+11</td>\n",
       "      <td>1339724852</td>\n",
       "    </tr>\n",
       "  </tbody>\n",
       "</table>\n",
       "</div>"
      ],
      "text/plain": [
       "                 Country          2010  censoPoblacion\n",
       "5                  Tonga  1.536510e+08          103036\n",
       "7                Vanuatu  1.733300e+08          206937\n",
       "3  Sao Tome and Principe  1.808810e+08          193413\n",
       "4        Solomon Islands  2.307570e+08          609833\n",
       "2                  India  2.916505e+11      1210193422\n",
       "6                 Turkey  2.991132e+11        79414269\n",
       "0                 Brazil  3.523644e+11       204450649\n",
       "1                  China  5.597721e+11      1339724852"
      ]
     },
     "execution_count": 13,
     "metadata": {},
     "output_type": "execute_result"
    }
   ],
   "source": [
    "cols = ['Country','2010','censoPoblacion']\n",
    "paisPoblacion = pd.merge(unionPaises,poblacion,how='inner',left_on='Code',right_on='codPais').sort_values('2010')\n",
    "#paisPoblacion.censoPoblacion = pd.to_numeric(censoPoblacion)\n",
    "paisPoblacion[cols]\n"
   ]
  },
  {
   "cell_type": "code",
   "execution_count": 14,
   "metadata": {
    "collapsed": false
   },
   "outputs": [
    {
     "data": {
      "image/png": "[encoded data removed]",
      "text/plain": [
       "<matplotlib.figure.Figure at 0xc6a0f28>"
      ]
     },
     "metadata": {},
     "output_type": "display_data"
    }
   ],
   "source": [
    "from scipy import stats\n",
    "names = np.asarray(paisPoblacion.Country)\n",
    "plt.scatter(np.log(paisPoblacion.censoPoblacion), np.log(paisPoblacion['2010']));\n",
    "plt.title('Deuda Externa vs Poblacion');\n",
    "plt.xlabel('Poblacion (Log)');\n",
    "plt.ylabel('Deuda Externa (Log)');"
   ]
  },
  {
   "cell_type": "markdown",
   "metadata": {
    "collapsed": true
   },
   "source": [
    " #### Conclusion: A menos poblacion menor deuda externa y a mayor población mayor deuda externa"
   ]
  },
  {
   "cell_type": "markdown",
   "metadata": {},
   "source": [
    "#### Calcular el ratio de deuda externa con el Gross national income (GNI) para todos los países y obtener los países que tienen un ratio más alto en la media de los años 2000 a 2010."
   ]
  },
  {
   "cell_type": "markdown",
   "metadata": {},
   "source": [
    "#### Gross national income (GNI) = NY.GNP.MKTP.CD, como se muestra en la pagina 17 del siguiente link http://databank.worldbank.org/data/download/site-content/ids2015.pdf"
   ]
  },
  {
   "cell_type": "markdown",
   "metadata": {},
   "source": [
    "#### Procedemos a crear dos tablas donde nos permita realizar la operacion de division para sacar el ratio por cada pais y año"
   ]
  },
  {
   "cell_type": "code",
   "execution_count": 15,
   "metadata": {
    "collapsed": false
   },
   "outputs": [
    {
     "data": {
      "text/html": [
       "<div>\n",
       "<table border=\"1\" class=\"dataframe\">\n",
       "  <thead>\n",
       "    <tr style=\"text-align: right;\">\n",
       "      <th></th>\n",
       "      <th>Country</th>\n",
       "      <th>2000</th>\n",
       "      <th>2001</th>\n",
       "      <th>2002</th>\n",
       "      <th>2003</th>\n",
       "      <th>2004</th>\n",
       "      <th>2005</th>\n",
       "      <th>2006</th>\n",
       "      <th>2007</th>\n",
       "      <th>2008</th>\n",
       "      <th>2009</th>\n",
       "      <th>2010</th>\n",
       "    </tr>\n",
       "  </thead>\n",
       "  <tbody>\n",
       "    <tr>\n",
       "      <th>56</th>\n",
       "      <td>Afghanistan</td>\n",
       "      <td>NaN</td>\n",
       "      <td>2.461666e+09</td>\n",
       "      <td>4.119884e+09</td>\n",
       "      <td>4.576561e+09</td>\n",
       "      <td>5.293545e+09</td>\n",
       "      <td>6.286221e+09</td>\n",
       "      <td>7.100902e+09</td>\n",
       "      <td>9.873623e+09</td>\n",
       "      <td>1.023353e+10</td>\n",
       "      <td>1.254085e+10</td>\n",
       "      <td>1.599880e+10</td>\n",
       "    </tr>\n",
       "    <tr>\n",
       "      <th>270</th>\n",
       "      <td>Albania</td>\n",
       "      <td>3.790485e+09</td>\n",
       "      <td>4.236568e+09</td>\n",
       "      <td>4.576969e+09</td>\n",
       "      <td>5.819788e+09</td>\n",
       "      <td>7.646347e+09</td>\n",
       "      <td>8.541042e+09</td>\n",
       "      <td>9.346567e+09</td>\n",
       "      <td>1.099809e+10</td>\n",
       "      <td>1.294574e+10</td>\n",
       "      <td>1.185314e+10</td>\n",
       "      <td>1.180746e+10</td>\n",
       "    </tr>\n",
       "    <tr>\n",
       "      <th>484</th>\n",
       "      <td>Algeria</td>\n",
       "      <td>5.208006e+10</td>\n",
       "      <td>5.314930e+10</td>\n",
       "      <td>5.456822e+10</td>\n",
       "      <td>6.540918e+10</td>\n",
       "      <td>8.181077e+10</td>\n",
       "      <td>9.861109e+10</td>\n",
       "      <td>1.126049e+11</td>\n",
       "      <td>1.331946e+11</td>\n",
       "      <td>1.697062e+11</td>\n",
       "      <td>1.359970e+11</td>\n",
       "      <td>1.609964e+11</td>\n",
       "    </tr>\n",
       "  </tbody>\n",
       "</table>\n",
       "</div>"
      ],
      "text/plain": [
       "         Country          2000          2001          2002          2003  \\\n",
       "56   Afghanistan           NaN  2.461666e+09  4.119884e+09  4.576561e+09   \n",
       "270      Albania  3.790485e+09  4.236568e+09  4.576969e+09  5.819788e+09   \n",
       "484      Algeria  5.208006e+10  5.314930e+10  5.456822e+10  6.540918e+10   \n",
       "\n",
       "             2004          2005          2006          2007          2008  \\\n",
       "56   5.293545e+09  6.286221e+09  7.100902e+09  9.873623e+09  1.023353e+10   \n",
       "270  7.646347e+09  8.541042e+09  9.346567e+09  1.099809e+10  1.294574e+10   \n",
       "484  8.181077e+10  9.861109e+10  1.126049e+11  1.331946e+11  1.697062e+11   \n",
       "\n",
       "             2009          2010  \n",
       "56   1.254085e+10  1.599880e+10  \n",
       "270  1.185314e+10  1.180746e+10  \n",
       "484  1.359970e+11  1.609964e+11  "
      ]
     },
     "execution_count": 15,
     "metadata": {},
     "output_type": "execute_result"
    }
   ],
   "source": [
    "cols = ['Country'] + list(deudaPais.loc[:,'2000':'2010'])\n",
    "grupoGNI = deudaPais[deudaPais.IndiCode == 'NY.GNP.MKTP.CD'].sort_values(['Country'])[cols]\n",
    "grupoDeudaExter = deudaPais[deudaPais.IndiCode=='DT.DOD.DECT.CD'].sort_values(['Country'])[cols]\n",
    "\n",
    "grupoGNI.head(3)"
   ]
  },
  {
   "cell_type": "code",
   "execution_count": 16,
   "metadata": {
    "collapsed": false
   },
   "outputs": [
    {
     "data": {
      "text/html": [
       "<div>\n",
       "<table border=\"1\" class=\"dataframe\">\n",
       "  <thead>\n",
       "    <tr style=\"text-align: right;\">\n",
       "      <th></th>\n",
       "      <th>Country</th>\n",
       "      <th>2000</th>\n",
       "      <th>2001</th>\n",
       "      <th>2002</th>\n",
       "      <th>2003</th>\n",
       "      <th>2004</th>\n",
       "      <th>2005</th>\n",
       "      <th>2006</th>\n",
       "      <th>2007</th>\n",
       "      <th>2008</th>\n",
       "      <th>2009</th>\n",
       "      <th>2010</th>\n",
       "    </tr>\n",
       "  </thead>\n",
       "  <tbody>\n",
       "    <tr>\n",
       "      <th>56</th>\n",
       "      <td>Afghanistan</td>\n",
       "      <td>NaN</td>\n",
       "      <td>2.461666e+09</td>\n",
       "      <td>4.119884e+09</td>\n",
       "      <td>4.576561e+09</td>\n",
       "      <td>5.293545e+09</td>\n",
       "      <td>6.286221e+09</td>\n",
       "      <td>7.100902e+09</td>\n",
       "      <td>9.873623e+09</td>\n",
       "      <td>1.023353e+10</td>\n",
       "      <td>1.254085e+10</td>\n",
       "      <td>1.599880e+10</td>\n",
       "    </tr>\n",
       "    <tr>\n",
       "      <th>270</th>\n",
       "      <td>Albania</td>\n",
       "      <td>3.790485e+09</td>\n",
       "      <td>4.236568e+09</td>\n",
       "      <td>4.576969e+09</td>\n",
       "      <td>5.819788e+09</td>\n",
       "      <td>7.646347e+09</td>\n",
       "      <td>8.541042e+09</td>\n",
       "      <td>9.346567e+09</td>\n",
       "      <td>1.099809e+10</td>\n",
       "      <td>1.294574e+10</td>\n",
       "      <td>1.185314e+10</td>\n",
       "      <td>1.180746e+10</td>\n",
       "    </tr>\n",
       "    <tr>\n",
       "      <th>484</th>\n",
       "      <td>Algeria</td>\n",
       "      <td>5.208006e+10</td>\n",
       "      <td>5.314930e+10</td>\n",
       "      <td>5.456822e+10</td>\n",
       "      <td>6.540918e+10</td>\n",
       "      <td>8.181077e+10</td>\n",
       "      <td>9.861109e+10</td>\n",
       "      <td>1.126049e+11</td>\n",
       "      <td>1.331946e+11</td>\n",
       "      <td>1.697062e+11</td>\n",
       "      <td>1.359970e+11</td>\n",
       "      <td>1.609964e+11</td>\n",
       "    </tr>\n",
       "  </tbody>\n",
       "</table>\n",
       "</div>"
      ],
      "text/plain": [
       "         Country          2000          2001          2002          2003  \\\n",
       "56   Afghanistan           NaN  2.461666e+09  4.119884e+09  4.576561e+09   \n",
       "270      Albania  3.790485e+09  4.236568e+09  4.576969e+09  5.819788e+09   \n",
       "484      Algeria  5.208006e+10  5.314930e+10  5.456822e+10  6.540918e+10   \n",
       "\n",
       "             2004          2005          2006          2007          2008  \\\n",
       "56   5.293545e+09  6.286221e+09  7.100902e+09  9.873623e+09  1.023353e+10   \n",
       "270  7.646347e+09  8.541042e+09  9.346567e+09  1.099809e+10  1.294574e+10   \n",
       "484  8.181077e+10  9.861109e+10  1.126049e+11  1.331946e+11  1.697062e+11   \n",
       "\n",
       "             2009          2010  \n",
       "56   1.254085e+10  1.599880e+10  \n",
       "270  1.185314e+10  1.180746e+10  \n",
       "484  1.359970e+11  1.609964e+11  "
      ]
     },
     "execution_count": 16,
     "metadata": {},
     "output_type": "execute_result"
    }
   ],
   "source": [
    "grupoGNI.head(3)"
   ]
  },
  {
   "cell_type": "code",
   "execution_count": 17,
   "metadata": {
    "collapsed": false,
    "scrolled": true
   },
   "outputs": [
    {
     "data": {
      "text/html": [
       "<div>\n",
       "<table border=\"1\" class=\"dataframe\">\n",
       "  <thead>\n",
       "    <tr style=\"text-align: right;\">\n",
       "      <th>Country</th>\n",
       "      <th>Afghanistan</th>\n",
       "      <th>Albania</th>\n",
       "      <th>Algeria</th>\n",
       "      <th>All developing countries</th>\n",
       "      <th>Angola</th>\n",
       "      <th>Armenia</th>\n",
       "      <th>Azerbaijan</th>\n",
       "      <th>Bangladesh</th>\n",
       "      <th>Belarus</th>\n",
       "      <th>Belize</th>\n",
       "      <th>...</th>\n",
       "      <th>Turkmenistan</th>\n",
       "      <th>Uganda</th>\n",
       "      <th>Ukraine</th>\n",
       "      <th>Upper middle income</th>\n",
       "      <th>Uzbekistan</th>\n",
       "      <th>Vanuatu</th>\n",
       "      <th>Vietnam</th>\n",
       "      <th>Yemen, Rep.</th>\n",
       "      <th>Zambia</th>\n",
       "      <th>Zimbabwe</th>\n",
       "    </tr>\n",
       "  </thead>\n",
       "  <tbody>\n",
       "    <tr>\n",
       "      <th>2000</th>\n",
       "      <td>NaN</td>\n",
       "      <td>0.296082</td>\n",
       "      <td>0.489188</td>\n",
       "      <td>0.346282</td>\n",
       "      <td>1.310752</td>\n",
       "      <td>0.513954</td>\n",
       "      <td>0.305621</td>\n",
       "      <td>0.283041</td>\n",
       "      <td>0.205207</td>\n",
       "      <td>0.677796</td>\n",
       "      <td>...</td>\n",
       "      <td>0.920089</td>\n",
       "      <td>0.580904</td>\n",
       "      <td>0.458124</td>\n",
       "      <td>0.286127</td>\n",
       "      <td>0.367752</td>\n",
       "      <td>0.369361</td>\n",
       "      <td>0.387403</td>\n",
       "      <td>0.582487</td>\n",
       "      <td>1.687168</td>\n",
       "      <td>0.605482</td>\n",
       "    </tr>\n",
       "    <tr>\n",
       "      <th>2001</th>\n",
       "      <td>NaN</td>\n",
       "      <td>0.272591</td>\n",
       "      <td>0.428301</td>\n",
       "      <td>0.347590</td>\n",
       "      <td>1.190077</td>\n",
       "      <td>0.642097</td>\n",
       "      <td>0.271776</td>\n",
       "      <td>0.268277</td>\n",
       "      <td>0.225971</td>\n",
       "      <td>0.742902</td>\n",
       "      <td>...</td>\n",
       "      <td>0.650052</td>\n",
       "      <td>0.665789</td>\n",
       "      <td>0.594020</td>\n",
       "      <td>0.294078</td>\n",
       "      <td>0.465191</td>\n",
       "      <td>0.362435</td>\n",
       "      <td>0.361986</td>\n",
       "      <td>0.567266</td>\n",
       "      <td>1.575209</td>\n",
       "      <td>0.565316</td>\n",
       "    </tr>\n",
       "    <tr>\n",
       "      <th>2002</th>\n",
       "      <td>NaN</td>\n",
       "      <td>0.258146</td>\n",
       "      <td>0.422228</td>\n",
       "      <td>0.340905</td>\n",
       "      <td>0.838687</td>\n",
       "      <td>0.694527</td>\n",
       "      <td>0.278050</td>\n",
       "      <td>0.292276</td>\n",
       "      <td>0.231925</td>\n",
       "      <td>0.805979</td>\n",
       "      <td>...</td>\n",
       "      <td>0.474769</td>\n",
       "      <td>0.664155</td>\n",
       "      <td>0.560538</td>\n",
       "      <td>0.289893</td>\n",
       "      <td>0.539856</td>\n",
       "      <td>0.448398</td>\n",
       "      <td>0.357019</td>\n",
       "      <td>0.540555</td>\n",
       "      <td>1.650781</td>\n",
       "      <td>0.655229</td>\n",
       "    </tr>\n",
       "    <tr>\n",
       "      <th>2003</th>\n",
       "      <td>NaN</td>\n",
       "      <td>0.266704</td>\n",
       "      <td>0.363479</td>\n",
       "      <td>0.325030</td>\n",
       "      <td>0.730181</td>\n",
       "      <td>0.687310</td>\n",
       "      <td>0.274627</td>\n",
       "      <td>0.293772</td>\n",
       "      <td>0.210693</td>\n",
       "      <td>1.009611</td>\n",
       "      <td>...</td>\n",
       "      <td>0.320330</td>\n",
       "      <td>0.735710</td>\n",
       "      <td>0.519621</td>\n",
       "      <td>0.278197</td>\n",
       "      <td>0.528919</td>\n",
       "      <td>0.404778</td>\n",
       "      <td>0.379165</td>\n",
       "      <td>0.513862</td>\n",
       "      <td>1.444548</td>\n",
       "      <td>0.835900</td>\n",
       "    </tr>\n",
       "    <tr>\n",
       "      <th>2004</th>\n",
       "      <td>NaN</td>\n",
       "      <td>0.210053</td>\n",
       "      <td>0.274128</td>\n",
       "      <td>0.296037</td>\n",
       "      <td>0.570380</td>\n",
       "      <td>0.571753</td>\n",
       "      <td>0.253106</td>\n",
       "      <td>0.289424</td>\n",
       "      <td>0.197874</td>\n",
       "      <td>0.985958</td>\n",
       "      <td>...</td>\n",
       "      <td>0.242267</td>\n",
       "      <td>0.617341</td>\n",
       "      <td>0.478887</td>\n",
       "      <td>0.255212</td>\n",
       "      <td>0.435336</td>\n",
       "      <td>0.421356</td>\n",
       "      <td>0.370433</td>\n",
       "      <td>0.448359</td>\n",
       "      <td>1.295034</td>\n",
       "      <td>0.897064</td>\n",
       "    </tr>\n",
       "    <tr>\n",
       "      <th>2005</th>\n",
       "      <td>NaN</td>\n",
       "      <td>0.246008</td>\n",
       "      <td>0.173331</td>\n",
       "      <td>0.252795</td>\n",
       "      <td>0.504506</td>\n",
       "      <td>0.385398</td>\n",
       "      <td>0.182624</td>\n",
       "      <td>0.254394</td>\n",
       "      <td>0.174572</td>\n",
       "      <td>0.989041</td>\n",
       "      <td>...</td>\n",
       "      <td>0.153527</td>\n",
       "      <td>0.507150</td>\n",
       "      <td>0.395811</td>\n",
       "      <td>0.223465</td>\n",
       "      <td>0.325964</td>\n",
       "      <td>0.285466</td>\n",
       "      <td>0.336520</td>\n",
       "      <td>0.363333</td>\n",
       "      <td>0.708946</td>\n",
       "      <td>0.810973</td>\n",
       "    </tr>\n",
       "    <tr>\n",
       "      <th>2006</th>\n",
       "      <td>0.136489</td>\n",
       "      <td>0.263772</td>\n",
       "      <td>0.052492</td>\n",
       "      <td>0.231943</td>\n",
       "      <td>0.279222</td>\n",
       "      <td>0.319496</td>\n",
       "      <td>0.146840</td>\n",
       "      <td>0.265002</td>\n",
       "      <td>0.177597</td>\n",
       "      <td>0.937488</td>\n",
       "      <td>...</td>\n",
       "      <td>0.099335</td>\n",
       "      <td>0.131641</td>\n",
       "      <td>0.495012</td>\n",
       "      <td>0.212605</td>\n",
       "      <td>0.265788</td>\n",
       "      <td>0.256678</td>\n",
       "      <td>0.287141</td>\n",
       "      <td>0.319719</td>\n",
       "      <td>0.205002</td>\n",
       "      <td>0.956548</td>\n",
       "    </tr>\n",
       "    <tr>\n",
       "      <th>2007</th>\n",
       "      <td>0.203865</td>\n",
       "      <td>0.263478</td>\n",
       "      <td>0.046057</td>\n",
       "      <td>0.223250</td>\n",
       "      <td>0.226718</td>\n",
       "      <td>0.317265</td>\n",
       "      <td>0.133300</td>\n",
       "      <td>0.252274</td>\n",
       "      <td>0.278351</td>\n",
       "      <td>0.926573</td>\n",
       "      <td>...</td>\n",
       "      <td>0.069412</td>\n",
       "      <td>0.135075</td>\n",
       "      <td>0.561365</td>\n",
       "      <td>0.206845</td>\n",
       "      <td>0.199971</td>\n",
       "      <td>0.248413</td>\n",
       "      <td>0.309458</td>\n",
       "      <td>0.252597</td>\n",
       "      <td>0.228345</td>\n",
       "      <td>1.157830</td>\n",
       "    </tr>\n",
       "    <tr>\n",
       "      <th>2008</th>\n",
       "      <td>0.208511</td>\n",
       "      <td>0.327374</td>\n",
       "      <td>0.036807</td>\n",
       "      <td>0.203572</td>\n",
       "      <td>0.220661</td>\n",
       "      <td>0.292167</td>\n",
       "      <td>0.102458</td>\n",
       "      <td>0.232351</td>\n",
       "      <td>0.252175</td>\n",
       "      <td>1.040751</td>\n",
       "      <td>...</td>\n",
       "      <td>0.040894</td>\n",
       "      <td>0.162251</td>\n",
       "      <td>0.550658</td>\n",
       "      <td>0.183488</td>\n",
       "      <td>0.172252</td>\n",
       "      <td>0.250129</td>\n",
       "      <td>0.275394</td>\n",
       "      <td>0.221007</td>\n",
       "      <td>0.186507</td>\n",
       "      <td>1.437647</td>\n",
       "    </tr>\n",
       "    <tr>\n",
       "      <th>2009</th>\n",
       "      <td>0.196950</td>\n",
       "      <td>0.363622</td>\n",
       "      <td>0.054453</td>\n",
       "      <td>0.220823</td>\n",
       "      <td>0.249115</td>\n",
       "      <td>0.547658</td>\n",
       "      <td>0.116613</td>\n",
       "      <td>0.222381</td>\n",
       "      <td>0.458548</td>\n",
       "      <td>1.019699</td>\n",
       "      <td>...</td>\n",
       "      <td>0.034892</td>\n",
       "      <td>0.163973</td>\n",
       "      <td>0.908870</td>\n",
       "      <td>0.199108</td>\n",
       "      <td>0.206489</td>\n",
       "      <td>0.264656</td>\n",
       "      <td>0.326116</td>\n",
       "      <td>0.245972</td>\n",
       "      <td>0.253149</td>\n",
       "      <td>0.696314</td>\n",
       "    </tr>\n",
       "    <tr>\n",
       "      <th>2010</th>\n",
       "      <td>0.151470</td>\n",
       "      <td>0.440454</td>\n",
       "      <td>0.045007</td>\n",
       "      <td>0.208351</td>\n",
       "      <td>0.229208</td>\n",
       "      <td>0.648705</td>\n",
       "      <td>0.142184</td>\n",
       "      <td>0.206646</td>\n",
       "      <td>0.525301</td>\n",
       "      <td>1.022486</td>\n",
       "      <td>...</td>\n",
       "      <td>0.026124</td>\n",
       "      <td>0.161030</td>\n",
       "      <td>0.930604</td>\n",
       "      <td>0.192845</td>\n",
       "      <td>0.192528</td>\n",
       "      <td>0.255238</td>\n",
       "      <td>0.402847</td>\n",
       "      <td>0.228875</td>\n",
       "      <td>0.233788</td>\n",
       "      <td>0.712956</td>\n",
       "    </tr>\n",
       "  </tbody>\n",
       "</table>\n",
       "<p>11 rows × 131 columns</p>\n",
       "</div>"
      ],
      "text/plain": [
       "Country  Afghanistan   Albania   Algeria  All developing countries    Angola  \\\n",
       "2000             NaN  0.296082  0.489188                  0.346282  1.310752   \n",
       "2001             NaN  0.272591  0.428301                  0.347590  1.190077   \n",
       "2002             NaN  0.258146  0.422228                  0.340905  0.838687   \n",
       "2003             NaN  0.266704  0.363479                  0.325030  0.730181   \n",
       "2004             NaN  0.210053  0.274128                  0.296037  0.570380   \n",
       "2005             NaN  0.246008  0.173331                  0.252795  0.504506   \n",
       "2006        0.136489  0.263772  0.052492                  0.231943  0.279222   \n",
       "2007        0.203865  0.263478  0.046057                  0.223250  0.226718   \n",
       "2008        0.208511  0.327374  0.036807                  0.203572  0.220661   \n",
       "2009        0.196950  0.363622  0.054453                  0.220823  0.249115   \n",
       "2010        0.151470  0.440454  0.045007                  0.208351  0.229208   \n",
       "\n",
       "Country   Armenia  Azerbaijan  Bangladesh   Belarus    Belize    ...     \\\n",
       "2000     0.513954    0.305621    0.283041  0.205207  0.677796    ...      \n",
       "2001     0.642097    0.271776    0.268277  0.225971  0.742902    ...      \n",
       "2002     0.694527    0.278050    0.292276  0.231925  0.805979    ...      \n",
       "2003     0.687310    0.274627    0.293772  0.210693  1.009611    ...      \n",
       "2004     0.571753    0.253106    0.289424  0.197874  0.985958    ...      \n",
       "2005     0.385398    0.182624    0.254394  0.174572  0.989041    ...      \n",
       "2006     0.319496    0.146840    0.265002  0.177597  0.937488    ...      \n",
       "2007     0.317265    0.133300    0.252274  0.278351  0.926573    ...      \n",
       "2008     0.292167    0.102458    0.232351  0.252175  1.040751    ...      \n",
       "2009     0.547658    0.116613    0.222381  0.458548  1.019699    ...      \n",
       "2010     0.648705    0.142184    0.206646  0.525301  1.022486    ...      \n",
       "\n",
       "Country  Turkmenistan    Uganda   Ukraine  Upper middle income  Uzbekistan  \\\n",
       "2000         0.920089  0.580904  0.458124             0.286127    0.367752   \n",
       "2001         0.650052  0.665789  0.594020             0.294078    0.465191   \n",
       "2002         0.474769  0.664155  0.560538             0.289893    0.539856   \n",
       "2003         0.320330  0.735710  0.519621             0.278197    0.528919   \n",
       "2004         0.242267  0.617341  0.478887             0.255212    0.435336   \n",
       "2005         0.153527  0.507150  0.395811             0.223465    0.325964   \n",
       "2006         0.099335  0.131641  0.495012             0.212605    0.265788   \n",
       "2007         0.069412  0.135075  0.561365             0.206845    0.199971   \n",
       "2008         0.040894  0.162251  0.550658             0.183488    0.172252   \n",
       "2009         0.034892  0.163973  0.908870             0.199108    0.206489   \n",
       "2010         0.026124  0.161030  0.930604             0.192845    0.192528   \n",
       "\n",
       "Country   Vanuatu   Vietnam  Yemen, Rep.    Zambia  Zimbabwe  \n",
       "2000     0.369361  0.387403     0.582487  1.687168  0.605482  \n",
       "2001     0.362435  0.361986     0.567266  1.575209  0.565316  \n",
       "2002     0.448398  0.357019     0.540555  1.650781  0.655229  \n",
       "2003     0.404778  0.379165     0.513862  1.444548  0.835900  \n",
       "2004     0.421356  0.370433     0.448359  1.295034  0.897064  \n",
       "2005     0.285466  0.336520     0.363333  0.708946  0.810973  \n",
       "2006     0.256678  0.287141     0.319719  0.205002  0.956548  \n",
       "2007     0.248413  0.309458     0.252597  0.228345  1.157830  \n",
       "2008     0.250129  0.275394     0.221007  0.186507  1.437647  \n",
       "2009     0.264656  0.326116     0.245972  0.253149  0.696314  \n",
       "2010     0.255238  0.402847     0.228875  0.233788  0.712956  \n",
       "\n",
       "[11 rows x 131 columns]"
      ]
     },
     "execution_count": 17,
     "metadata": {},
     "output_type": "execute_result"
    }
   ],
   "source": [
    "grupoGNI.index = np.arange(0,len(grupoGNI))\n",
    "grupoDeudaExter.index = np.arange(0,len(grupoDeudaExter))\n",
    "ratios = grupoDeudaExter.loc[:,'2000':'2010']/grupoGNI.loc[:,'2000':'2010']\n",
    "ratios['Country'] = grupoGNI.Country\n",
    "ratios = ratios.set_index('Country').T\n",
    "ratios"
   ]
  },
  {
   "cell_type": "markdown",
   "metadata": {},
   "source": [
    "#### Top 5 mayor ratio Deuda Externa/ GNI"
   ]
  },
  {
   "cell_type": "code",
   "execution_count": 18,
   "metadata": {
    "collapsed": false
   },
   "outputs": [
    {
     "data": {
      "text/plain": [
       "Country\n",
       "Liberia                  7.385635\n",
       "Sao Tome and Principe    2.390393\n",
       "Guinea-Bissau            1.879192\n",
       "Congo, Rep.              1.494459\n",
       "Guyana                   1.359730\n",
       "dtype: float64"
      ]
     },
     "execution_count": 18,
     "metadata": {},
     "output_type": "execute_result"
    }
   ],
   "source": [
    "np.mean(ratios).sort_values(ascending=False).head()"
   ]
  },
  {
   "cell_type": "markdown",
   "metadata": {},
   "source": [
    "Liberia lidera el Ranking de Ratio con mayor deuda / GNI, con un ratio: 7.38, lo cual quiere decir que deben 7.38 veces su ingreso bruto nacional, segudo por Sao Tome and Principe que debe 2.39 veces su ingreso."
   ]
  },
  {
   "cell_type": "markdown",
   "metadata": {},
   "source": [
    "#### [parte libre] Buscar y comentar alguna relación entre agregados económicos de los que aparecen en el dataset (excluyendo el GNI) y algún componente de la deuda. Utilizar correlaciones y en su caso modelos lineales básicos."
   ]
  },
  {
   "cell_type": "markdown",
   "metadata": {},
   "source": [
    "1. Exports of goods, services, and primary income = BX.GSR.TOTL.CD\n",
    "1. Personal transfers and compensation of employees = BX.TRF.PWKR.CD.DT\n",
    "1. Imports of goods, services, and primary income = BM.GSR.TOTL.CD\n",
    "1. Primary income on FDI (payments) = BX.KLT.DREM.CD.DT\n",
    "1. International reserves = FI.RES.TOTL.CD"
   ]
  },
  {
   "cell_type": "code",
   "execution_count": 19,
   "metadata": {
    "collapsed": false
   },
   "outputs": [],
   "source": [
    "cols = ['Country'] + list(deudaPais.loc[:,'2000':'2010'])\n",
    "grupoExports = deudaPais[deudaPais.IndiCode == 'BX.GSR.TOTL.CD'].sort_values(['Country'])[cols]\n",
    "grupoEmployees = deudaPais[deudaPais.IndiCode == 'BX.TRF.PWKR.CD.DT'].sort_values(['Country'])[cols]\n",
    "grupoImports = deudaPais[deudaPais.IndiCode == 'BM.GSR.TOTL.CD'].sort_values(['Country'])[cols]\n",
    "grupoPayments = deudaPais[deudaPais.IndiCode == 'BX.KLT.DREM.CD.DT'].sort_values(['Country'])[cols]\n",
    "grupoIntReserves = deudaPais[deudaPais.IndiCode == 'FI.RES.TOTL.CD'].sort_values(['Country'])[cols]"
   ]
  },
  {
   "cell_type": "code",
   "execution_count": 20,
   "metadata": {
    "collapsed": false
   },
   "outputs": [],
   "source": [
    "grupoExports.index = range(0,len(grupoExports))\n",
    "grupoEmployees.index = range(0,len(grupoEmployees))\n",
    "grupoImports.index = range(0,len(grupoImports))\n",
    "grupoPayments.index = range(0,len(grupoPayments))\n",
    "grupoIntReserves.index = range(0,len(grupoIntReserves))"
   ]
  },
  {
   "cell_type": "code",
   "execution_count": 21,
   "metadata": {
    "collapsed": false
   },
   "outputs": [],
   "source": [
    "#Si se presenta error, correr nuevamente desde dos pasos atras\n",
    "grupoExports = grupoExports.set_index('Country').T\n",
    "grupoEmployees = grupoEmployees.set_index('Country').T\n",
    "grupoImports = grupoImports.set_index('Country').T\n",
    "grupoPayments = grupoPayments.set_index('Country').T\n",
    "grupoIntReserves = grupoIntReserves.set_index('Country').T\n",
    "grupoDeudaExter1 = grupoDeudaExter.set_index('Country').T"
   ]
  },
  {
   "cell_type": "markdown",
   "metadata": {},
   "source": [
    "### Para este ejercico Country = 'Colombia'"
   ]
  },
  {
   "cell_type": "markdown",
   "metadata": {},
   "source": [
    "#### modelos de regresión lineal y correalción"
   ]
  },
  {
   "cell_type": "markdown",
   "metadata": {},
   "source": [
    "#### Deuda Externa vs. Trans. y Comp. Empleados - Colombia"
   ]
  },
  {
   "cell_type": "code",
   "execution_count": 22,
   "metadata": {
    "collapsed": false
   },
   "outputs": [
    {
     "name": "stdout",
     "output_type": "stream",
     "text": [
      "Modelo Regresion y correlacion para Colombia\n",
      "----------------------------------------------\n",
      "Correlacion:  0.646957929327\n",
      "Rvalue:  0.418554562319\n",
      "Pvalue:  0.0314350670501\n",
      "----------------------------------------------\n",
      "Podemos notar que hay una buena correlacion entre estas dos variables, sin embargo el pvalue nos dice que la regresion lineal no es un modelo predictivo\n"
     ]
    }
   ],
   "source": [
    "\n",
    "slope, intercept, rvalue, pvalue, stderr = stats.linregress(grupoDeudaExter1.Colombia, grupoEmployees.Colombia)\n",
    "y1 = grupoDeudaExter1.Colombia * slope + intercept\n",
    "correlacion = np.corrcoef(grupoDeudaExter1.Colombia, grupoEmployees.Colombia)\n",
    "print 'Modelo Regresion y correlacion para Colombia'\n",
    "print '----------------------------------------------'\n",
    "print 'Correlacion: ', correlacion[0,1]\n",
    "print 'Rvalue: ', rvalue**2\n",
    "print 'Pvalue: ', pvalue\n",
    "print '----------------------------------------------'\n",
    "print 'Podemos notar que hay una buena correlacion entre estas dos variables, sin embargo el pvalue nos dice que la regresion lineal no es un modelo predictivo'\n"
   ]
  },
  {
   "cell_type": "markdown",
   "metadata": {},
   "source": [
    "#### Gráfico"
   ]
  },
  {
   "cell_type": "code",
   "execution_count": 23,
   "metadata": {
    "collapsed": false,
    "scrolled": true
   },
   "outputs": [
    {
     "data": {
      "text/plain": [
       "<matplotlib.text.Text at 0xc9a3160>"
      ]
     },
     "execution_count": 23,
     "metadata": {},
     "output_type": "execute_result"
    },
    {
     "data": {
      "image/png": "[encoded data removed]",
      "text/plain": [
       "<matplotlib.figure.Figure at 0xc31a240>"
      ]
     },
     "metadata": {},
     "output_type": "display_data"
    }
   ],
   "source": [
    "plt.scatter(grupoDeudaExter1.Colombia, grupoEmployees.Colombia);\n",
    "plt.plot(grupoDeudaExter1.Colombia, y1)\n",
    "plt.title('Deuda Externa vs. Trans. y Comp. Empleados - Colombia');\n",
    "plt.xlabel('Deuda Externa');\n",
    "plt.ylabel('Trans. y Comp. Empleados')"
   ]
  },
  {
   "cell_type": "markdown",
   "metadata": {},
   "source": [
    "#### Deuda Externa vs. Expotaciones - Colombia"
   ]
  },
  {
   "cell_type": "code",
   "execution_count": 24,
   "metadata": {
    "collapsed": false
   },
   "outputs": [
    {
     "name": "stdout",
     "output_type": "stream",
     "text": [
      "Modelo Regresion y correlacion para Colombia\n",
      "----------------------------------------------\n",
      "Correlacion:  0.880208349267\n",
      "Rvalue:  0.774766738119\n",
      "Pvalue:  0.0003500500268\n",
      "----------------------------------------------\n",
      "Podemos notar que hay una buena correlacion entre estas dos variables, y este modelo de regresion lineal mejora frente al anterior, de igual manera el pvalue es menor al 5%\n"
     ]
    }
   ],
   "source": [
    "slope, intercept, rvalue, pvalue, stderr = stats.linregress(grupoDeudaExter1.Colombia, grupoExports.Colombia)\n",
    "y2 = grupoDeudaExter1.Colombia * slope + intercept\n",
    "correlacion = np.corrcoef(grupoDeudaExter1.Colombia, grupoExports.Colombia)\n",
    "print 'Modelo Regresion y correlacion para Colombia'\n",
    "print '----------------------------------------------'\n",
    "print 'Correlacion: ', correlacion[0,1]\n",
    "print 'Rvalue: ', rvalue**2\n",
    "print 'Pvalue: ', pvalue\n",
    "print '----------------------------------------------'\n",
    "print 'Podemos notar que hay una buena correlacion entre estas dos variables, y este modelo de regresion lineal mejora frente al anterior, de igual manera el pvalue es menor al 5%'\n"
   ]
  },
  {
   "cell_type": "markdown",
   "metadata": {},
   "source": [
    "#### Gráfico"
   ]
  },
  {
   "cell_type": "code",
   "execution_count": 25,
   "metadata": {
    "collapsed": false
   },
   "outputs": [
    {
     "data": {
      "image/png": "[encoded data removed]",
      "text/plain": [
       "<matplotlib.figure.Figure at 0xc280198>"
      ]
     },
     "metadata": {},
     "output_type": "display_data"
    }
   ],
   "source": [
    "plt.scatter(grupoDeudaExter1.Colombia, grupoExports.Colombia);\n",
    "plt.plot(grupoDeudaExter1.Colombia, y2)\n",
    "plt.title('Deuda Externa vs. Exportaciones - Colombia');\n",
    "plt.xlabel('Deuda Externa');\n",
    "plt.ylabel('Exportaciones');"
   ]
  },
  {
   "cell_type": "markdown",
   "metadata": {},
   "source": [
    "#### Deuda Externa vs. Importaciones - Colombia"
   ]
  },
  {
   "cell_type": "code",
   "execution_count": 26,
   "metadata": {
    "collapsed": false
   },
   "outputs": [
    {
     "name": "stdout",
     "output_type": "stream",
     "text": [
      "Modelo Regresion y correlacion para Colombia\n",
      "----------------------------------------------\n",
      "Correlacion:  0.87673377624\n",
      "Rvalue:  0.7686621144\n",
      "Pvalue:  0.000396046521328\n",
      "----------------------------------------------\n",
      "Este modelos de deuda Externa vs Importaciones, son muy parecidos, su analisis es igual\n"
     ]
    }
   ],
   "source": [
    "slope, intercept, rvalue, pvalue, stderr = stats.linregress(grupoDeudaExter1.Colombia, grupoImports.Colombia)\n",
    "y3 = grupoDeudaExter1.Colombia * slope + intercept\n",
    "correlacion = np.corrcoef(grupoDeudaExter1.Colombia, grupoImports.Colombia)\n",
    "print 'Modelo Regresion y correlacion para Colombia'\n",
    "print '----------------------------------------------'\n",
    "print 'Correlacion: ', correlacion[0,1]\n",
    "print 'Rvalue: ', rvalue**2\n",
    "print 'Pvalue: ', pvalue\n",
    "print '----------------------------------------------'\n",
    "print 'Este modelos de deuda Externa vs Importaciones, son muy parecidos, su analisis es igual'\n"
   ]
  },
  {
   "cell_type": "markdown",
   "metadata": {},
   "source": [
    "#### Gráfico"
   ]
  },
  {
   "cell_type": "code",
   "execution_count": 27,
   "metadata": {
    "collapsed": false
   },
   "outputs": [
    {
     "data": {
      "image/png": "[encoded data removed]",
      "text/plain": [
       "<matplotlib.figure.Figure at 0xc31a160>"
      ]
     },
     "metadata": {},
     "output_type": "display_data"
    }
   ],
   "source": [
    "plt.scatter(grupoDeudaExter1.Colombia, grupoImports.Colombia);\n",
    "plt.plot(grupoDeudaExter1.Colombia, y3)\n",
    "plt.title('Deuda Externa vs. Importaciones - Colombia');\n",
    "plt.xlabel('Deuda Externa');\n",
    "plt.ylabel('Importaciones');"
   ]
  },
  {
   "cell_type": "markdown",
   "metadata": {},
   "source": [
    "#### Deuda Externa vs. Reservas Internacionales - Colombia"
   ]
  },
  {
   "cell_type": "code",
   "execution_count": 28,
   "metadata": {
    "collapsed": false
   },
   "outputs": [
    {
     "name": "stdout",
     "output_type": "stream",
     "text": [
      "Modelo Regresion y correlacion para Colombia\n",
      "----------------------------------------------\n",
      "Correlacion:  0.934999672601\n",
      "Rvalue:  0.874224387765\n",
      "Pvalue:  2.42446970211e-05\n",
      "----------------------------------------------\n",
      "Este modelo el Rvalor muestra que es muy predictivo, y el pvalue es muy cercano a cero, el modelo es Excelente\n"
     ]
    }
   ],
   "source": [
    "slope, intercept, rvalue, pvalue, stderr = stats.linregress(grupoDeudaExter1.Colombia, grupoIntReserves.Colombia)\n",
    "y4 = grupoDeudaExter1.Colombia * slope + intercept\n",
    "correlacion = np.corrcoef(grupoDeudaExter1.Colombia, grupoIntReserves.Colombia)\n",
    "print 'Modelo Regresion y correlacion para Colombia'\n",
    "print '----------------------------------------------'\n",
    "print 'Correlacion: ', correlacion[0,1]\n",
    "print 'Rvalue: ', rvalue**2\n",
    "print 'Pvalue: ', pvalue\n",
    "print '----------------------------------------------'\n",
    "print 'Este modelo el Rvalor muestra que es muy predictivo, y el pvalue es muy cercano a cero, el modelo es Excelente'\n"
   ]
  },
  {
   "cell_type": "markdown",
   "metadata": {},
   "source": [
    "#### Gráfico"
   ]
  },
  {
   "cell_type": "code",
   "execution_count": 29,
   "metadata": {
    "collapsed": false
   },
   "outputs": [
    {
     "data": {
      "image/png": "[encoded data removed]",
      "text/plain": [
       "<matplotlib.figure.Figure at 0xc864940>"
      ]
     },
     "metadata": {},
     "output_type": "display_data"
    }
   ],
   "source": [
    "plt.scatter(grupoDeudaExter1.Colombia, grupoIntReserves.Colombia);\n",
    "plt.plot(grupoDeudaExter1.Colombia, y4)\n",
    "plt.title('Deuda Externa vs. Reservas Internacionales - Colombia');\n",
    "plt.xlabel('Deuda Externa');\n",
    "plt.ylabel('Reservas Internacionales');"
   ]
  },
  {
   "cell_type": "markdown",
   "metadata": {},
   "source": [
    "#### Deuda Externa vs. Ingresos por Inversion Extranjera Directa - Colombia"
   ]
  },
  {
   "cell_type": "code",
   "execution_count": 30,
   "metadata": {
    "collapsed": false
   },
   "outputs": [
    {
     "name": "stdout",
     "output_type": "stream",
     "text": [
      "Modelo Regresion y correlacion para Colombia\n",
      "----------------------------------------------\n",
      "Correlacion:  0.90309853812\n",
      "Rvalue:  0.815586969555\n",
      "Pvalue:  0.000139485471864\n",
      "----------------------------------------------\n",
      "el Rvalue nos dice que este modelo predictivo y el Pvalue al ser menor al 5% es significativo\n"
     ]
    }
   ],
   "source": [
    "slope, intercept, rvalue, pvalue, stderr = stats.linregress(grupoDeudaExter1.Colombia, grupoPayments.Colombia)\n",
    "y5 = grupoDeudaExter1.Colombia * slope + intercept\n",
    "correlacion = np.corrcoef(grupoDeudaExter1.Colombia, grupoPayments.Colombia)\n",
    "print 'Modelo Regresion y correlacion para Colombia'\n",
    "print '----------------------------------------------'\n",
    "print 'Correlacion: ', correlacion[0,1]\n",
    "print 'Rvalue: ', rvalue**2\n",
    "print 'Pvalue: ', pvalue\n",
    "print '----------------------------------------------'\n",
    "print 'el Rvalue nos dice que este modelo predictivo y el Pvalue al ser menor al 5% es significativo'\n"
   ]
  },
  {
   "cell_type": "markdown",
   "metadata": {},
   "source": [
    "#### Gráfico"
   ]
  },
  {
   "cell_type": "code",
   "execution_count": 31,
   "metadata": {
    "collapsed": false
   },
   "outputs": [
    {
     "data": {
      "image/png": "[encoded data removed]",
      "text/plain": [
       "<matplotlib.figure.Figure at 0xc554c50>"
      ]
     },
     "metadata": {},
     "output_type": "display_data"
    }
   ],
   "source": [
    "plt.scatter(grupoDeudaExter1.Colombia, grupoPayments.Colombia);\n",
    "plt.plot(grupoDeudaExter1.Colombia, y5)\n",
    "plt.title('Deuda Externa vs. Ingresos por Inversion Extranjera Directa - Colombia');\n",
    "plt.xlabel('Deuda Externa');\n",
    "plt.ylabel('Ingresos por Inversion Extranjera Directa');"
   ]
  },
  {
   "cell_type": "markdown",
   "metadata": {},
   "source": [
    "Para el caso de Colombia, la deuda Externa tiene relacion directa con cada una de los agregados economicos, sin embargo tendriamos que revisar pais a pais si ocurre lo mismo."
   ]
  }
 ],
 "metadata": {
  "anaconda-cloud": {},
  "kernelspec": {
   "display_name": "Python [conda root]",
   "language": "python",
   "name": "conda-root-py"
  },
  "language_info": {
   "codemirror_mode": {
    "name": "ipython",
    "version": 2
   },
   "file_extension": ".py",
   "mimetype": "text/x-python",
   "name": "python",
   "nbconvert_exporter": "python",
   "pygments_lexer": "ipython2",
   "version": "2.7.12"
  }
 },
 "nbformat": 4,
 "nbformat_minor": 1
}
