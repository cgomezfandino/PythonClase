{
 "cells": [
  {
   "cell_type": "code",
   "execution_count": 1,
   "metadata": {
    "collapsed": true
   },
   "outputs": [],
   "source": [
    "import numpy as np\n",
    "import pandas as pd\n",
    "import matplotlib.pyplot as plt\n",
    "import seaborn as sns"
   ]
  },
  {
   "cell_type": "code",
   "execution_count": 2,
   "metadata": {
    "collapsed": true
   },
   "outputs": [],
   "source": [
    "df_SAT = pd.read_table('SAT.csv',sep=',')"
   ]
  },
  {
   "cell_type": "code",
   "execution_count": 3,
   "metadata": {
    "collapsed": false
   },
   "outputs": [
    {
     "data": {
      "text/html": [
       "<div>\n",
       "<table border=\"1\" class=\"dataframe\">\n",
       "  <thead>\n",
       "    <tr style=\"text-align: right;\">\n",
       "      <th></th>\n",
       "      <th>Unnamed: 0</th>\n",
       "      <th>state</th>\n",
       "      <th>expend</th>\n",
       "      <th>ratio</th>\n",
       "      <th>salary</th>\n",
       "      <th>frac</th>\n",
       "      <th>verbal</th>\n",
       "      <th>math</th>\n",
       "      <th>sat</th>\n",
       "    </tr>\n",
       "  </thead>\n",
       "  <tbody>\n",
       "    <tr>\n",
       "      <th>0</th>\n",
       "      <td>1</td>\n",
       "      <td>Alabama</td>\n",
       "      <td>4.405</td>\n",
       "      <td>17.2</td>\n",
       "      <td>31.144</td>\n",
       "      <td>8</td>\n",
       "      <td>491</td>\n",
       "      <td>538</td>\n",
       "      <td>1029</td>\n",
       "    </tr>\n",
       "    <tr>\n",
       "      <th>1</th>\n",
       "      <td>2</td>\n",
       "      <td>Alaska</td>\n",
       "      <td>8.963</td>\n",
       "      <td>17.6</td>\n",
       "      <td>47.951</td>\n",
       "      <td>47</td>\n",
       "      <td>445</td>\n",
       "      <td>489</td>\n",
       "      <td>934</td>\n",
       "    </tr>\n",
       "    <tr>\n",
       "      <th>2</th>\n",
       "      <td>3</td>\n",
       "      <td>Arizona</td>\n",
       "      <td>4.778</td>\n",
       "      <td>19.3</td>\n",
       "      <td>32.175</td>\n",
       "      <td>27</td>\n",
       "      <td>448</td>\n",
       "      <td>496</td>\n",
       "      <td>944</td>\n",
       "    </tr>\n",
       "    <tr>\n",
       "      <th>3</th>\n",
       "      <td>4</td>\n",
       "      <td>Arkansas</td>\n",
       "      <td>4.459</td>\n",
       "      <td>17.1</td>\n",
       "      <td>28.934</td>\n",
       "      <td>6</td>\n",
       "      <td>482</td>\n",
       "      <td>523</td>\n",
       "      <td>1005</td>\n",
       "    </tr>\n",
       "    <tr>\n",
       "      <th>4</th>\n",
       "      <td>5</td>\n",
       "      <td>California</td>\n",
       "      <td>4.992</td>\n",
       "      <td>24.0</td>\n",
       "      <td>41.078</td>\n",
       "      <td>45</td>\n",
       "      <td>417</td>\n",
       "      <td>485</td>\n",
       "      <td>902</td>\n",
       "    </tr>\n",
       "  </tbody>\n",
       "</table>\n",
       "</div>"
      ],
      "text/plain": [
       "   Unnamed: 0       state  expend  ratio  salary  frac  verbal  math   sat\n",
       "0           1     Alabama   4.405   17.2  31.144     8     491   538  1029\n",
       "1           2      Alaska   8.963   17.6  47.951    47     445   489   934\n",
       "2           3     Arizona   4.778   19.3  32.175    27     448   496   944\n",
       "3           4    Arkansas   4.459   17.1  28.934     6     482   523  1005\n",
       "4           5  California   4.992   24.0  41.078    45     417   485   902"
      ]
     },
     "execution_count": 3,
     "metadata": {},
     "output_type": "execute_result"
    }
   ],
   "source": [
    "df_SAT.head()"
   ]
  },
  {
   "cell_type": "code",
   "execution_count": 4,
   "metadata": {
    "collapsed": false
   },
   "outputs": [
    {
     "data": {
      "text/plain": [
       "(50, 9)"
      ]
     },
     "execution_count": 4,
     "metadata": {},
     "output_type": "execute_result"
    }
   ],
   "source": [
    "df_SAT.shape"
   ]
  },
  {
   "cell_type": "code",
   "execution_count": 5,
   "metadata": {
    "collapsed": false
   },
   "outputs": [
    {
     "data": {
      "text/plain": [
       "Index([u'Unnamed: 0', u'state', u'expend', u'ratio', u'salary', u'frac',\n",
       "       u'verbal', u'math', u'sat'],\n",
       "      dtype='object')"
      ]
     },
     "execution_count": 5,
     "metadata": {},
     "output_type": "execute_result"
    }
   ],
   "source": [
    "df_SAT.columns"
   ]
  },
  {
   "cell_type": "markdown",
   "metadata": {},
   "source": [
    "#### Analizar gráficamente si los scores del test tienen una escala similar y los componentes tienen relación."
   ]
  },
  {
   "cell_type": "code",
   "execution_count": 6,
   "metadata": {
    "collapsed": false
   },
   "outputs": [
    {
     "data": {
      "image/png": "[encoded data removed]",
      "text/plain": [
       "<matplotlib.figure.Figure at 0xc02b390>"
      ]
     },
     "metadata": {},
     "output_type": "display_data"
    }
   ],
   "source": [
    "%matplotlib inline\n",
    "verbal = df_SAT.verbal\n",
    "math = df_SAT.math\n",
    "sat = df_SAT.sat\n",
    "\n",
    "cols = ['Verbal','Math']\n",
    "plt.plot(np.log(verbal),'r-',np.log(math), 'g-');#, np.log(sat),'b-');\n",
    "plt.legend(cols, fontsize ='small', loc='best');\n",
    "#plt.legend((line1,line2,line3),('Verbal','Math','SAT'))\n"
   ]
  },
  {
   "cell_type": "markdown",
   "metadata": {},
   "source": [
    "#### Ordenar los datos y obtener los estados que más (y menos) gastan y los que mejores (y peores) resultados obtienen."
   ]
  },
  {
   "cell_type": "markdown",
   "metadata": {},
   "source": [
    "#### Estado que mas Gasta en Educación"
   ]
  },
  {
   "cell_type": "code",
   "execution_count": 7,
   "metadata": {
    "collapsed": false
   },
   "outputs": [
    {
     "data": {
      "text/html": [
       "<div>\n",
       "<table border=\"1\" class=\"dataframe\">\n",
       "  <thead>\n",
       "    <tr style=\"text-align: right;\">\n",
       "      <th></th>\n",
       "      <th>expend</th>\n",
       "    </tr>\n",
       "    <tr>\n",
       "      <th>state</th>\n",
       "      <th></th>\n",
       "    </tr>\n",
       "  </thead>\n",
       "  <tbody>\n",
       "    <tr>\n",
       "      <th>New Jersey</th>\n",
       "      <td>9.774</td>\n",
       "    </tr>\n",
       "    <tr>\n",
       "      <th>New York</th>\n",
       "      <td>9.623</td>\n",
       "    </tr>\n",
       "    <tr>\n",
       "      <th>Alaska</th>\n",
       "      <td>8.963</td>\n",
       "    </tr>\n",
       "    <tr>\n",
       "      <th>Connecticut</th>\n",
       "      <td>8.817</td>\n",
       "    </tr>\n",
       "    <tr>\n",
       "      <th>Rhode Island</th>\n",
       "      <td>7.469</td>\n",
       "    </tr>\n",
       "  </tbody>\n",
       "</table>\n",
       "</div>"
      ],
      "text/plain": [
       "              expend\n",
       "state               \n",
       "New Jersey     9.774\n",
       "New York       9.623\n",
       "Alaska         8.963\n",
       "Connecticut    8.817\n",
       "Rhode Island   7.469"
      ]
     },
     "execution_count": 7,
     "metadata": {},
     "output_type": "execute_result"
    }
   ],
   "source": [
    "estados = df_SAT.copy()\n",
    "mostExpend = estados.groupby('state').sum()[['expend']].sort_values(by='expend',ascending=False)\n",
    "mostExpend.head()"
   ]
  },
  {
   "cell_type": "markdown",
   "metadata": {},
   "source": [
    "#### Estado que mejor paga a sus profesores"
   ]
  },
  {
   "cell_type": "code",
   "execution_count": 8,
   "metadata": {
    "collapsed": false
   },
   "outputs": [
    {
     "data": {
      "text/html": [
       "<div>\n",
       "<table border=\"1\" class=\"dataframe\">\n",
       "  <thead>\n",
       "    <tr style=\"text-align: right;\">\n",
       "      <th></th>\n",
       "      <th>salary</th>\n",
       "    </tr>\n",
       "    <tr>\n",
       "      <th>state</th>\n",
       "      <th></th>\n",
       "    </tr>\n",
       "  </thead>\n",
       "  <tbody>\n",
       "    <tr>\n",
       "      <th>Connecticut</th>\n",
       "      <td>50.045</td>\n",
       "    </tr>\n",
       "    <tr>\n",
       "      <th>Alaska</th>\n",
       "      <td>47.951</td>\n",
       "    </tr>\n",
       "    <tr>\n",
       "      <th>New York</th>\n",
       "      <td>47.612</td>\n",
       "    </tr>\n",
       "    <tr>\n",
       "      <th>New Jersey</th>\n",
       "      <td>46.087</td>\n",
       "    </tr>\n",
       "    <tr>\n",
       "      <th>Pennsylvania</th>\n",
       "      <td>44.510</td>\n",
       "    </tr>\n",
       "  </tbody>\n",
       "</table>\n",
       "</div>"
      ],
      "text/plain": [
       "              salary\n",
       "state               \n",
       "Connecticut   50.045\n",
       "Alaska        47.951\n",
       "New York      47.612\n",
       "New Jersey    46.087\n",
       "Pennsylvania  44.510"
      ]
     },
     "execution_count": 8,
     "metadata": {},
     "output_type": "execute_result"
    }
   ],
   "source": [
    "bestSalary = estados.groupby('state').sum()[['salary']].sort_values(by='salary',ascending=False)\n",
    "bestSalary.head()"
   ]
  },
  {
   "cell_type": "markdown",
   "metadata": {},
   "source": [
    "#### Estado que menos gasta en Educación"
   ]
  },
  {
   "cell_type": "code",
   "execution_count": 9,
   "metadata": {
    "collapsed": false
   },
   "outputs": [
    {
     "data": {
      "text/html": [
       "<div>\n",
       "<table border=\"1\" class=\"dataframe\">\n",
       "  <thead>\n",
       "    <tr style=\"text-align: right;\">\n",
       "      <th></th>\n",
       "      <th>expend</th>\n",
       "    </tr>\n",
       "    <tr>\n",
       "      <th>state</th>\n",
       "      <th></th>\n",
       "    </tr>\n",
       "  </thead>\n",
       "  <tbody>\n",
       "    <tr>\n",
       "      <th>Utah</th>\n",
       "      <td>3.656</td>\n",
       "    </tr>\n",
       "    <tr>\n",
       "      <th>Mississippi</th>\n",
       "      <td>4.080</td>\n",
       "    </tr>\n",
       "    <tr>\n",
       "      <th>Idaho</th>\n",
       "      <td>4.210</td>\n",
       "    </tr>\n",
       "    <tr>\n",
       "      <th>Tennessee</th>\n",
       "      <td>4.388</td>\n",
       "    </tr>\n",
       "    <tr>\n",
       "      <th>Alabama</th>\n",
       "      <td>4.405</td>\n",
       "    </tr>\n",
       "  </tbody>\n",
       "</table>\n",
       "</div>"
      ],
      "text/plain": [
       "             expend\n",
       "state              \n",
       "Utah          3.656\n",
       "Mississippi   4.080\n",
       "Idaho         4.210\n",
       "Tennessee     4.388\n",
       "Alabama       4.405"
      ]
     },
     "execution_count": 9,
     "metadata": {},
     "output_type": "execute_result"
    }
   ],
   "source": [
    "worstExpend = estados.groupby('state').sum()[['expend']].sort_values(by='expend',ascending=True)\n",
    "worstExpend.head()"
   ]
  },
  {
   "cell_type": "markdown",
   "metadata": {},
   "source": [
    "#### Estados que peor paga a sus Profesores"
   ]
  },
  {
   "cell_type": "code",
   "execution_count": 10,
   "metadata": {
    "collapsed": false
   },
   "outputs": [
    {
     "data": {
      "text/html": [
       "<div>\n",
       "<table border=\"1\" class=\"dataframe\">\n",
       "  <thead>\n",
       "    <tr style=\"text-align: right;\">\n",
       "      <th></th>\n",
       "      <th>salary</th>\n",
       "    </tr>\n",
       "    <tr>\n",
       "      <th>state</th>\n",
       "      <th></th>\n",
       "    </tr>\n",
       "  </thead>\n",
       "  <tbody>\n",
       "    <tr>\n",
       "      <th>South Dakota</th>\n",
       "      <td>25.994</td>\n",
       "    </tr>\n",
       "    <tr>\n",
       "      <th>North Dakota</th>\n",
       "      <td>26.327</td>\n",
       "    </tr>\n",
       "    <tr>\n",
       "      <th>Louisiana</th>\n",
       "      <td>26.461</td>\n",
       "    </tr>\n",
       "    <tr>\n",
       "      <th>Mississippi</th>\n",
       "      <td>26.818</td>\n",
       "    </tr>\n",
       "    <tr>\n",
       "      <th>Oklahoma</th>\n",
       "      <td>28.172</td>\n",
       "    </tr>\n",
       "  </tbody>\n",
       "</table>\n",
       "</div>"
      ],
      "text/plain": [
       "              salary\n",
       "state               \n",
       "South Dakota  25.994\n",
       "North Dakota  26.327\n",
       "Louisiana     26.461\n",
       "Mississippi   26.818\n",
       "Oklahoma      28.172"
      ]
     },
     "execution_count": 10,
     "metadata": {},
     "output_type": "execute_result"
    }
   ],
   "source": [
    "worstSalary = estados.groupby('state').sum()[['salary']].sort_values(by='salary',ascending=True)\n",
    "worstSalary.head()"
   ]
  },
  {
   "cell_type": "markdown",
   "metadata": {},
   "source": [
    "#### Estados con mejor SAT"
   ]
  },
  {
   "cell_type": "code",
   "execution_count": 11,
   "metadata": {
    "collapsed": false
   },
   "outputs": [
    {
     "data": {
      "text/html": [
       "<div>\n",
       "<table border=\"1\" class=\"dataframe\">\n",
       "  <thead>\n",
       "    <tr style=\"text-align: right;\">\n",
       "      <th></th>\n",
       "      <th>sat</th>\n",
       "    </tr>\n",
       "    <tr>\n",
       "      <th>state</th>\n",
       "      <th></th>\n",
       "    </tr>\n",
       "  </thead>\n",
       "  <tbody>\n",
       "    <tr>\n",
       "      <th>North Dakota</th>\n",
       "      <td>1107</td>\n",
       "    </tr>\n",
       "    <tr>\n",
       "      <th>Iowa</th>\n",
       "      <td>1099</td>\n",
       "    </tr>\n",
       "    <tr>\n",
       "      <th>Minnesota</th>\n",
       "      <td>1085</td>\n",
       "    </tr>\n",
       "    <tr>\n",
       "      <th>Utah</th>\n",
       "      <td>1076</td>\n",
       "    </tr>\n",
       "    <tr>\n",
       "      <th>Wisconsin</th>\n",
       "      <td>1073</td>\n",
       "    </tr>\n",
       "  </tbody>\n",
       "</table>\n",
       "</div>"
      ],
      "text/plain": [
       "               sat\n",
       "state             \n",
       "North Dakota  1107\n",
       "Iowa          1099\n",
       "Minnesota     1085\n",
       "Utah          1076\n",
       "Wisconsin     1073"
      ]
     },
     "execution_count": 11,
     "metadata": {},
     "output_type": "execute_result"
    }
   ],
   "source": [
    "bestSAT = estados.groupby('state').sum()[['sat']].sort_values(by='sat',ascending=False)\n",
    "bestSAT.head()"
   ]
  },
  {
   "cell_type": "markdown",
   "metadata": {},
   "source": [
    "#### Estados con peor SAT"
   ]
  },
  {
   "cell_type": "code",
   "execution_count": 12,
   "metadata": {
    "collapsed": false
   },
   "outputs": [
    {
     "data": {
      "text/html": [
       "<div>\n",
       "<table border=\"1\" class=\"dataframe\">\n",
       "  <thead>\n",
       "    <tr style=\"text-align: right;\">\n",
       "      <th></th>\n",
       "      <th>sat</th>\n",
       "    </tr>\n",
       "    <tr>\n",
       "      <th>state</th>\n",
       "      <th></th>\n",
       "    </tr>\n",
       "  </thead>\n",
       "  <tbody>\n",
       "    <tr>\n",
       "      <th>South Carolina</th>\n",
       "      <td>844</td>\n",
       "    </tr>\n",
       "    <tr>\n",
       "      <th>Georgia</th>\n",
       "      <td>854</td>\n",
       "    </tr>\n",
       "    <tr>\n",
       "      <th>North Carolina</th>\n",
       "      <td>865</td>\n",
       "    </tr>\n",
       "    <tr>\n",
       "      <th>Pennsylvania</th>\n",
       "      <td>880</td>\n",
       "    </tr>\n",
       "    <tr>\n",
       "      <th>Indiana</th>\n",
       "      <td>882</td>\n",
       "    </tr>\n",
       "  </tbody>\n",
       "</table>\n",
       "</div>"
      ],
      "text/plain": [
       "                sat\n",
       "state              \n",
       "South Carolina  844\n",
       "Georgia         854\n",
       "North Carolina  865\n",
       "Pennsylvania    880\n",
       "Indiana         882"
      ]
     },
     "execution_count": 12,
     "metadata": {},
     "output_type": "execute_result"
    }
   ],
   "source": [
    "worstSAT = estados.groupby('state').sum()[['sat']].sort_values(by='sat',ascending=True)\n",
    "worstSAT.head()"
   ]
  },
  {
   "cell_type": "markdown",
   "metadata": {},
   "source": [
    "#### Analizar de manera intuitiva con gráficos si hay relación entre las variables que indican resultados (las del test SAT) y las variables que indican gasto."
   ]
  },
  {
   "cell_type": "markdown",
   "metadata": {},
   "source": [
    "#### Gráficos de dispercion, relacion entre Gastos y SAT"
   ]
  },
  {
   "cell_type": "code",
   "execution_count": 13,
   "metadata": {
    "collapsed": false
   },
   "outputs": [
    {
     "name": "stdout",
     "output_type": "stream",
     "text": [
      "En los graficos de dispersión las varibales \"Expend\" y \"Salary\" con respecto a \"SAT\", podemos notal que no tiene ningun tipo de relacion lineal con respecto a la variable \"SAT\"\n"
     ]
    },
    {
     "data": {
      "image/png": "[encoded data removed]",
      "text/plain": [
       "<matplotlib.figure.Figure at 0xc536518>"
      ]
     },
     "metadata": {},
     "output_type": "display_data"
    }
   ],
   "source": [
    "gastoExpend = estados.expend\n",
    "gastoSalary =estados.salary\n",
    "resultado = estados.sat\n",
    "plt.figure(1)\n",
    "plt.subplot(121)\n",
    "plt.scatter(gastoExpend,resultado,c='r')\n",
    "plt.title('Expend vs. SAT')\n",
    "plt.xlabel('Expend')\n",
    "plt.ylabel('SAT')\n",
    "plt.subplot(122)\n",
    "plt.scatter(gastoSalary,resultado)\n",
    "plt.title('Salary vs. SAT')\n",
    "plt.xlabel('Salary')\n",
    "print 'En los graficos de dispersión las varibales \"Expend\" y \"Salary\" con respecto a \"SAT\", podemos notal que no tiene ningun tipo de relacion lineal con respecto a la variable \"SAT\"'"
   ]
  },
  {
   "cell_type": "markdown",
   "metadata": {},
   "source": [
    "#### Utilizar correlaciones y un modelo lineal básico como exploración numérica de ese tipo de relación gasto/resultados. ¿Cuál es la conclusión aparente?"
   ]
  },
  {
   "cell_type": "markdown",
   "metadata": {
    "collapsed": true
   },
   "source": [
    "#### Correlaciones Expend vs. SAT"
   ]
  },
  {
   "cell_type": "code",
   "execution_count": 14,
   "metadata": {
    "collapsed": false
   },
   "outputs": [
    {
     "name": "stdout",
     "output_type": "stream",
     "text": [
      "Coeficiente de correlacion\n",
      "-----------------------------------------------------------------------------------\n",
      "Coef. Expend y SAT es:  -0.380537003305 ,Lo cual quiere decir que no tiene correlación, mientras una varibale aumenta la otra disminuye\n",
      "-----------------------------------------------------------------------------------\n",
      "coef. Salary y SAT es:  -0.439883381442 ,Lo cual quiere decir que no tiene correlación, mientras una variable aumenta la otra disminuye\n"
     ]
    }
   ],
   "source": [
    "print 'Coeficiente de correlacion'\n",
    "print '-----------------------------------------------------------------------------------'\n",
    "print 'Coef. Expend y SAT es: ' , np.corrcoef(df_SAT.expend,df_SAT.sat)[0,1], ',Lo cual quiere decir que no tiene correlación, mientras una varibale aumenta la otra disminuye'\n",
    "print '-----------------------------------------------------------------------------------'\n",
    "print 'coef. Salary y SAT es: ' , np.corrcoef(df_SAT.salary,df_SAT.sat)[0,1], ',Lo cual quiere decir que no tiene correlación, mientras una variable aumenta la otra disminuye'\n"
   ]
  },
  {
   "cell_type": "markdown",
   "metadata": {},
   "source": [
    "#### Modelo Regresion Lineal Expend & SAT"
   ]
  },
  {
   "cell_type": "code",
   "execution_count": 15,
   "metadata": {
    "collapsed": false,
    "scrolled": true
   },
   "outputs": [
    {
     "name": "stdout",
     "output_type": "stream",
     "text": [
      "---------------------------------\n",
      "Modelo Regresion Linal Expend,SAT\n",
      "---------------------------------\n",
      "Slope:  -20.8921737147\n",
      "Intercept:  1089.29371775\n",
      "r_value^2:  0.144808410884\n",
      "p_value:  0.00640796491636\n",
      "std_err:  7.3282086509\n",
      "---------------------------------------------------------------------------------------------------------------------\n",
      "Analisis: el R cuadrado muestra que este modelo de regresion lineal entre el \"Gasto\" y \"Rendimiento SAT\" no es un buen modelo predictivo, se recomienda probar otros modelos no lineales\n"
     ]
    }
   ],
   "source": [
    "from scipy import stats\n",
    "slope, intercept, rvalue, pvalue, stderr = stats.linregress(df_SAT.expend,df_SAT.sat)\n",
    "print '---------------------------------'\n",
    "print 'Modelo Regresion Linal Expend,SAT'\n",
    "print '---------------------------------'\n",
    "print 'Slope: ',slope\n",
    "print 'Intercept: ',intercept\n",
    "print 'r_value^2: ', rvalue**2\n",
    "print 'p_value: ', pvalue\n",
    "print 'std_err: ', stderr\n",
    "print '---------------------------------------------------------------------------------------------------------------------'\n",
    "print 'Analisis: el R cuadrado muestra que este modelo de regresion lineal entre el \"Gasto\" y \"Rendimiento SAT\" no es un buen modelo predictivo, se recomienda probar otros modelos no lineales'"
   ]
  },
  {
   "cell_type": "markdown",
   "metadata": {},
   "source": [
    "#### Modelo Regresion Lineal Salary & SAT"
   ]
  },
  {
   "cell_type": "code",
   "execution_count": 16,
   "metadata": {
    "collapsed": false
   },
   "outputs": [
    {
     "name": "stdout",
     "output_type": "stream",
     "text": [
      "---------------------------------\n",
      "Modelo Regresion Linal Expend,SAT\n",
      "---------------------------------\n",
      "Slope:  -5.53961469119\n",
      "Intercept:  1158.85879691\n",
      "r_value^2:  0.193497389269\n",
      "p_value:  0.00139131045892\n",
      "std_err:  1.63239130787\n",
      "---------------------------------------------------------------------------------------------------------------------\n",
      "Analisis: el R cuadrado muestra que este modelo de regresion lineal entre el \"Salario\" y \"Rendimiento SAT\" no es un buen modelo predictivo, se recomienda probar otros modelos no lineales\n"
     ]
    }
   ],
   "source": [
    "slope, intercept, rvalue, pvalue, stderr = stats.linregress(df_SAT.salary,df_SAT.sat)\n",
    "print '---------------------------------'\n",
    "print 'Modelo Regresion Linal Expend,SAT'\n",
    "print '---------------------------------'\n",
    "print 'Slope: ',slope\n",
    "print 'Intercept: ',intercept\n",
    "print 'r_value^2: ', rvalue**2\n",
    "print 'p_value: ', pvalue\n",
    "print 'std_err: ', stderr\n",
    "print '---------------------------------------------------------------------------------------------------------------------'\n",
    "print 'Analisis: el R cuadrado muestra que este modelo de regresion lineal entre el \"Salario\" y \"Rendimiento SAT\" no es un buen modelo predictivo, se recomienda probar otros modelos no lineales'"
   ]
  },
  {
   "cell_type": "markdown",
   "metadata": {},
   "source": [
    "#### Una vez hecho lo anterior, utilizar la variable frac para dividir a los estados en grupos. Repetir el análisis de la relación gasto/resultados. ¿Las conclusiones son las mismas que en el análisis anterior?"
   ]
  },
  {
   "cell_type": "code",
   "execution_count": 17,
   "metadata": {
    "collapsed": false
   },
   "outputs": [
    {
     "data": {
      "text/html": [
       "<div>\n",
       "<table border=\"1\" class=\"dataframe\">\n",
       "  <thead>\n",
       "    <tr style=\"text-align: right;\">\n",
       "      <th></th>\n",
       "      <th>frac</th>\n",
       "    </tr>\n",
       "    <tr>\n",
       "      <th>state</th>\n",
       "      <th></th>\n",
       "    </tr>\n",
       "  </thead>\n",
       "  <tbody>\n",
       "    <tr>\n",
       "      <th>Connecticut</th>\n",
       "      <td>81</td>\n",
       "    </tr>\n",
       "    <tr>\n",
       "      <th>Massachusetts</th>\n",
       "      <td>80</td>\n",
       "    </tr>\n",
       "    <tr>\n",
       "      <th>New York</th>\n",
       "      <td>74</td>\n",
       "    </tr>\n",
       "    <tr>\n",
       "      <th>Pennsylvania</th>\n",
       "      <td>70</td>\n",
       "    </tr>\n",
       "    <tr>\n",
       "      <th>New Hampshire</th>\n",
       "      <td>70</td>\n",
       "    </tr>\n",
       "  </tbody>\n",
       "</table>\n",
       "</div>"
      ],
      "text/plain": [
       "               frac\n",
       "state              \n",
       "Connecticut      81\n",
       "Massachusetts    80\n",
       "New York         74\n",
       "Pennsylvania     70\n",
       "New Hampshire    70"
      ]
     },
     "execution_count": 17,
     "metadata": {},
     "output_type": "execute_result"
    }
   ],
   "source": [
    "estados.groupby('state').mean().sort_values(by='frac', ascending=False)[['frac']].head()"
   ]
  },
  {
   "cell_type": "markdown",
   "metadata": {},
   "source": [
    "### Agrupación de Estados respecto a la Variable 'Frac'"
   ]
  },
  {
   "cell_type": "code",
   "execution_count": 18,
   "metadata": {
    "collapsed": false
   },
   "outputs": [
    {
     "name": "stdout",
     "output_type": "stream",
     "text": [
      "Maximo:  81\n",
      "Minimo:  4\n",
      "Media:  35.24\n"
     ]
    }
   ],
   "source": [
    "print 'Maximo: ', max(estados.frac)\n",
    "print 'Minimo: ', min(estados.frac)\n",
    "print 'Media: ', np.mean(estados.frac)\n"
   ]
  },
  {
   "cell_type": "markdown",
   "metadata": {},
   "source": [
    "### Primer analisis: Agrupacion por encima y por debajo de la media"
   ]
  },
  {
   "cell_type": "markdown",
   "metadata": {},
   "source": [
    "Grupo1: Agrupado menor o igual a la media de la variable 'Frac'"
   ]
  },
  {
   "cell_type": "code",
   "execution_count": 19,
   "metadata": {
    "collapsed": false
   },
   "outputs": [
    {
     "data": {
      "text/html": [
       "<div>\n",
       "<table border=\"1\" class=\"dataframe\">\n",
       "  <thead>\n",
       "    <tr style=\"text-align: right;\">\n",
       "      <th></th>\n",
       "      <th>Unnamed: 0</th>\n",
       "      <th>state</th>\n",
       "      <th>expend</th>\n",
       "      <th>ratio</th>\n",
       "      <th>salary</th>\n",
       "      <th>frac</th>\n",
       "      <th>verbal</th>\n",
       "      <th>math</th>\n",
       "      <th>sat</th>\n",
       "    </tr>\n",
       "  </thead>\n",
       "  <tbody>\n",
       "    <tr>\n",
       "      <th>0</th>\n",
       "      <td>1</td>\n",
       "      <td>Alabama</td>\n",
       "      <td>4.405</td>\n",
       "      <td>17.2</td>\n",
       "      <td>31.144</td>\n",
       "      <td>8</td>\n",
       "      <td>491</td>\n",
       "      <td>538</td>\n",
       "      <td>1029</td>\n",
       "    </tr>\n",
       "    <tr>\n",
       "      <th>2</th>\n",
       "      <td>3</td>\n",
       "      <td>Arizona</td>\n",
       "      <td>4.778</td>\n",
       "      <td>19.3</td>\n",
       "      <td>32.175</td>\n",
       "      <td>27</td>\n",
       "      <td>448</td>\n",
       "      <td>496</td>\n",
       "      <td>944</td>\n",
       "    </tr>\n",
       "    <tr>\n",
       "      <th>3</th>\n",
       "      <td>4</td>\n",
       "      <td>Arkansas</td>\n",
       "      <td>4.459</td>\n",
       "      <td>17.1</td>\n",
       "      <td>28.934</td>\n",
       "      <td>6</td>\n",
       "      <td>482</td>\n",
       "      <td>523</td>\n",
       "      <td>1005</td>\n",
       "    </tr>\n",
       "    <tr>\n",
       "      <th>5</th>\n",
       "      <td>6</td>\n",
       "      <td>Colorado</td>\n",
       "      <td>5.443</td>\n",
       "      <td>18.4</td>\n",
       "      <td>34.571</td>\n",
       "      <td>29</td>\n",
       "      <td>462</td>\n",
       "      <td>518</td>\n",
       "      <td>980</td>\n",
       "    </tr>\n",
       "    <tr>\n",
       "      <th>11</th>\n",
       "      <td>12</td>\n",
       "      <td>Idaho</td>\n",
       "      <td>4.210</td>\n",
       "      <td>19.1</td>\n",
       "      <td>29.783</td>\n",
       "      <td>15</td>\n",
       "      <td>468</td>\n",
       "      <td>511</td>\n",
       "      <td>979</td>\n",
       "    </tr>\n",
       "  </tbody>\n",
       "</table>\n",
       "</div>"
      ],
      "text/plain": [
       "    Unnamed: 0     state  expend  ratio  salary  frac  verbal  math   sat\n",
       "0            1   Alabama   4.405   17.2  31.144     8     491   538  1029\n",
       "2            3   Arizona   4.778   19.3  32.175    27     448   496   944\n",
       "3            4  Arkansas   4.459   17.1  28.934     6     482   523  1005\n",
       "5            6  Colorado   5.443   18.4  34.571    29     462   518   980\n",
       "11          12     Idaho   4.210   19.1  29.783    15     468   511   979"
      ]
     },
     "execution_count": 19,
     "metadata": {},
     "output_type": "execute_result"
    }
   ],
   "source": [
    "grupo1 = estados[estados.frac <= np.mean(estados.frac)] \n",
    "#grupo1.shape #27 Estados\n",
    "grupo1.head()"
   ]
  },
  {
   "cell_type": "markdown",
   "metadata": {},
   "source": [
    "Grupo2: Agrupado mayor a la media de la variable 'Frac'"
   ]
  },
  {
   "cell_type": "code",
   "execution_count": 20,
   "metadata": {
    "collapsed": false
   },
   "outputs": [
    {
     "data": {
      "text/html": [
       "<div>\n",
       "<table border=\"1\" class=\"dataframe\">\n",
       "  <thead>\n",
       "    <tr style=\"text-align: right;\">\n",
       "      <th></th>\n",
       "      <th>Unnamed: 0</th>\n",
       "      <th>state</th>\n",
       "      <th>expend</th>\n",
       "      <th>ratio</th>\n",
       "      <th>salary</th>\n",
       "      <th>frac</th>\n",
       "      <th>verbal</th>\n",
       "      <th>math</th>\n",
       "      <th>sat</th>\n",
       "    </tr>\n",
       "  </thead>\n",
       "  <tbody>\n",
       "    <tr>\n",
       "      <th>1</th>\n",
       "      <td>2</td>\n",
       "      <td>Alaska</td>\n",
       "      <td>8.963</td>\n",
       "      <td>17.6</td>\n",
       "      <td>47.951</td>\n",
       "      <td>47</td>\n",
       "      <td>445</td>\n",
       "      <td>489</td>\n",
       "      <td>934</td>\n",
       "    </tr>\n",
       "    <tr>\n",
       "      <th>4</th>\n",
       "      <td>5</td>\n",
       "      <td>California</td>\n",
       "      <td>4.992</td>\n",
       "      <td>24.0</td>\n",
       "      <td>41.078</td>\n",
       "      <td>45</td>\n",
       "      <td>417</td>\n",
       "      <td>485</td>\n",
       "      <td>902</td>\n",
       "    </tr>\n",
       "    <tr>\n",
       "      <th>6</th>\n",
       "      <td>7</td>\n",
       "      <td>Connecticut</td>\n",
       "      <td>8.817</td>\n",
       "      <td>14.4</td>\n",
       "      <td>50.045</td>\n",
       "      <td>81</td>\n",
       "      <td>431</td>\n",
       "      <td>477</td>\n",
       "      <td>908</td>\n",
       "    </tr>\n",
       "    <tr>\n",
       "      <th>7</th>\n",
       "      <td>8</td>\n",
       "      <td>Delaware</td>\n",
       "      <td>7.030</td>\n",
       "      <td>16.6</td>\n",
       "      <td>39.076</td>\n",
       "      <td>68</td>\n",
       "      <td>429</td>\n",
       "      <td>468</td>\n",
       "      <td>897</td>\n",
       "    </tr>\n",
       "    <tr>\n",
       "      <th>8</th>\n",
       "      <td>9</td>\n",
       "      <td>Florida</td>\n",
       "      <td>5.718</td>\n",
       "      <td>19.1</td>\n",
       "      <td>32.588</td>\n",
       "      <td>48</td>\n",
       "      <td>420</td>\n",
       "      <td>469</td>\n",
       "      <td>889</td>\n",
       "    </tr>\n",
       "  </tbody>\n",
       "</table>\n",
       "</div>"
      ],
      "text/plain": [
       "   Unnamed: 0        state  expend  ratio  salary  frac  verbal  math  sat\n",
       "1           2       Alaska   8.963   17.6  47.951    47     445   489  934\n",
       "4           5   California   4.992   24.0  41.078    45     417   485  902\n",
       "6           7  Connecticut   8.817   14.4  50.045    81     431   477  908\n",
       "7           8     Delaware   7.030   16.6  39.076    68     429   468  897\n",
       "8           9      Florida   5.718   19.1  32.588    48     420   469  889"
      ]
     },
     "execution_count": 20,
     "metadata": {},
     "output_type": "execute_result"
    }
   ],
   "source": [
    "grupo2 = estados[estados.frac > np.mean(estados.frac)]\n",
    "#grupo2.shape #23 Estados\n",
    "grupo2.head()\n"
   ]
  },
  {
   "cell_type": "markdown",
   "metadata": {},
   "source": [
    "### Correlacion y Regresion Lineal del Grupo1 (Menor o igual a la media de 'Frac')"
   ]
  },
  {
   "cell_type": "code",
   "execution_count": 21,
   "metadata": {
    "collapsed": false
   },
   "outputs": [
    {
     "name": "stdout",
     "output_type": "stream",
     "text": [
      "---------------------------------\n",
      "Modelo Regresion Lineal Expend, SAT\n",
      "---------------------------------\n",
      "Slope:  0.250357264699\n",
      "Intercept:  1022.86536659\n",
      "r_value^2:  1.97286069738e-05\n",
      "p_value:  0.982457816722\n",
      "std_err:  11.2729530716\n",
      "Correlacion:  0.00444168965303\n",
      "---------------------------------------------------------------------------------------------------------------\n",
      "Agrupando los estados por la varibale \"frac\", los resultados nos arroja que haciendo una regresion lineal el modelo no es predictivo\n"
     ]
    }
   ],
   "source": [
    "slope, intercept, rvalue, pvalue, stderr = stats.linregress(grupo1.expend,grupo1.sat)\n",
    "corre = np.corrcoef(grupo1.expend,grupo1.sat)\n",
    "print '---------------------------------'\n",
    "print 'Modelo Regresion Lineal Expend, SAT'\n",
    "print '---------------------------------'\n",
    "print 'Slope: ',slope\n",
    "print 'Intercept: ',intercept\n",
    "print 'r_value^2: ', rvalue**2\n",
    "print 'p_value: ', pvalue\n",
    "print 'std_err: ', stderr\n",
    "print 'Correlacion: ', corre[0,1]\n",
    "print '---------------------------------------------------------------------------------------------------------------'\n",
    "print 'Agrupando los estados por la varibale \"frac\", los resultados nos arroja que haciendo una regresion lineal el modelo no es predictivo'"
   ]
  },
  {
   "cell_type": "code",
   "execution_count": 22,
   "metadata": {
    "collapsed": false
   },
   "outputs": [
    {
     "name": "stdout",
     "output_type": "stream",
     "text": [
      "---------------------------------\n",
      "Modelo Regresion Lineal Salary, SAT\n",
      "---------------------------------\n",
      "Slope:  -1.26145522539\n",
      "Intercept:  1064.34777042\n",
      "r_value^2:  0.0113030541536\n",
      "p_value:  0.597643252178\n",
      "std_err:  2.35958446331\n",
      "Correlacion:  -0.106315822687\n",
      "---------------------------------------------------------------------------------------------------------------\n",
      "Agrupando los estados por la varibale \"frac\", los resultados nos arroja que haciendo una regresion lineal el modelo no es predictivo\n"
     ]
    }
   ],
   "source": [
    "slope, intercept, rvalue, pvalue, stderr = stats.linregress(grupo1.salary,grupo1.sat)\n",
    "corre = np.corrcoef(grupo1.salary,grupo1.sat)\n",
    "print '---------------------------------'\n",
    "print 'Modelo Regresion Lineal Salary, SAT'\n",
    "print '---------------------------------'\n",
    "print 'Slope: ', slope\n",
    "print 'Intercept: ',intercept\n",
    "print 'r_value^2: ', rvalue**2\n",
    "print 'p_value: ', pvalue\n",
    "print 'std_err: ', stderr\n",
    "print 'Correlacion: ', corre[0,1]\n",
    "print '---------------------------------------------------------------------------------------------------------------'\n",
    "print 'Agrupando los estados por la varibale \"frac\", los resultados nos arroja que haciendo una regresion lineal el modelo no es predictivo'"
   ]
  },
  {
   "cell_type": "markdown",
   "metadata": {},
   "source": [
    "### Correlacion y Regresion Lineal del Grupo1 (Menor o igual a la media de 'Frac')"
   ]
  },
  {
   "cell_type": "code",
   "execution_count": 23,
   "metadata": {
    "collapsed": false
   },
   "outputs": [
    {
     "name": "stdout",
     "output_type": "stream",
     "text": [
      "---------------------------------\n",
      "Modelo Regresion Lineal Expend, SAT\n",
      "---------------------------------\n",
      "Slope:  5.40850866032\n",
      "Intercept:  861.560800201\n",
      "r_value^2:  0.102364518842\n",
      "p_value:  0.136678360142\n",
      "std_err:  3.49496767069\n",
      "Correlacion:  0.319944555887\n",
      "---------------------------------------------------------------------------------------------------------------\n",
      "Para el \"Grupo2\", el modelo de regresion no es predictivo\n"
     ]
    }
   ],
   "source": [
    "slope, intercept, rvalue, pvalue, stderr = stats.linregress(grupo2.expend,grupo2.sat)\n",
    "corre = np.corrcoef(grupo2.expend,grupo2.sat)\n",
    "print '---------------------------------'\n",
    "print 'Modelo Regresion Lineal Expend, SAT'\n",
    "print '---------------------------------'\n",
    "print 'Slope: ',slope\n",
    "print 'Intercept: ',intercept\n",
    "print 'r_value^2: ', rvalue**2\n",
    "print 'p_value: ', pvalue\n",
    "print 'std_err: ', stderr\n",
    "print 'Correlacion: ', corre[0,1]\n",
    "print '---------------------------------------------------------------------------------------------------------------'\n",
    "print 'Para el \"Grupo2\", el modelo de regresion no es predictivo'"
   ]
  },
  {
   "cell_type": "code",
   "execution_count": 24,
   "metadata": {
    "collapsed": false
   },
   "outputs": [
    {
     "name": "stdout",
     "output_type": "stream",
     "text": [
      "---------------------------------\n",
      "Modelo Regresion Lineal Salary, SAT\n",
      "---------------------------------\n",
      "Slope:  1.55363079448\n",
      "Intercept:  837.956074864\n",
      "r_value^2:  0.134943122666\n",
      "p_value:  0.0846418345117\n",
      "std_err:  0.858390943884\n",
      "Correlacion:  0.367346053015\n",
      "---------------------------------------------------------------------------------------------------------------\n",
      "El modelo no es predictivo, ya que su R cuadrado es muy pequeño y el pvalue es mayor al 5%\n"
     ]
    }
   ],
   "source": [
    "slope, intercept, rvalue, pvalue, stderr = stats.linregress(grupo2.salary,grupo2.sat)\n",
    "corre = np.corrcoef(grupo2.salary,grupo2.sat)\n",
    "print '---------------------------------'\n",
    "print 'Modelo Regresion Lineal Salary, SAT'\n",
    "print '---------------------------------'\n",
    "print 'Slope: ',slope\n",
    "print 'Intercept: ',intercept\n",
    "print 'r_value^2: ', rvalue**2\n",
    "print 'p_value: ', pvalue\n",
    "print 'std_err: ', stderr\n",
    "print 'Correlacion: ', corre[0,1]\n",
    "print '---------------------------------------------------------------------------------------------------------------'\n",
    "print 'El modelo no es predictivo, ya que su R cuadrado es muy pequeño y el pvalue es mayor al 5%'"
   ]
  },
  {
   "cell_type": "markdown",
   "metadata": {},
   "source": [
    "### Segundo analisis: con 3 Grupos."
   ]
  },
  {
   "cell_type": "code",
   "execution_count": 25,
   "metadata": {
    "collapsed": false
   },
   "outputs": [
    {
     "name": "stdout",
     "output_type": "stream",
     "text": [
      "Agrupaciones:  [  4.          29.66666667  55.33333333  81.        ]\n",
      "Minimo: 4\n",
      "Maximo:  81\n"
     ]
    }
   ],
   "source": [
    "minimo = min(estados.frac)\n",
    "maximo = max(estados.frac)\n",
    "bins = np.linspace(minimo,maximo,4)\n",
    "print 'Agrupaciones: ', bins\n",
    "print 'Minimo:', minimo\n",
    "print 'Maximo: ', maximo"
   ]
  },
  {
   "cell_type": "code",
   "execution_count": 26,
   "metadata": {
    "collapsed": true
   },
   "outputs": [],
   "source": [
    "group1 = estados[estados.frac < bins[1] ]\n",
    "group2 = estados[(estados.frac >= bins[1])&(estados.frac < bins[2])]\n",
    "group3 = estados[(estados.frac >= bins[2])&(estados.frac <= bins[3])]"
   ]
  },
  {
   "cell_type": "markdown",
   "metadata": {},
   "source": [
    "### Correlacion y Regresion Lineal del Grupo1 (Expend vs. SAT)"
   ]
  },
  {
   "cell_type": "code",
   "execution_count": 27,
   "metadata": {
    "collapsed": false
   },
   "outputs": [
    {
     "name": "stdout",
     "output_type": "stream",
     "text": [
      "---------------------------------\n",
      "Modelo Regresion Lineal Expend, SAT\n",
      "---------------------------------\n",
      "Slope:  -0.394690287131\n",
      "Intercept:  1030.39009344\n",
      "r_value^2:  6.08451843832e-05\n",
      "p_value:  0.96983250081\n",
      "std_err:  10.3281966813\n",
      "Correlacion:  -0.00780033232518\n",
      "---------------------------------------------------------------------------------------------------------------\n",
      "Para este segundo analisis hicimos tres grupos de los estados por la varibale \"frac\", sin embargo los resultados nos sigue arrojando que el modelo de regresion lineal no es predictivo\n"
     ]
    }
   ],
   "source": [
    "slope, intercept, rvalue, pvalue, stderr = stats.linregress(group1.expend,group1.sat)\n",
    "corre = np.corrcoef(group1.expend,group1.sat)\n",
    "print '---------------------------------'\n",
    "print 'Modelo Regresion Lineal Expend, SAT'\n",
    "print '---------------------------------'\n",
    "print 'Slope: ', slope\n",
    "print 'Intercept: ', intercept\n",
    "print 'r_value^2: ', rvalue**2\n",
    "print 'p_value: ', pvalue\n",
    "print 'std_err: ', stderr\n",
    "print 'Correlacion: ', corre[0,1]\n",
    "print '---------------------------------------------------------------------------------------------------------------'\n",
    "print 'Para este segundo analisis hicimos tres grupos de los estados por la varibale \"frac\", sin embargo los resultados nos sigue arrojando que el modelo de regresion lineal no es predictivo'"
   ]
  },
  {
   "cell_type": "markdown",
   "metadata": {},
   "source": [
    "### Correlacion y Regresion Lineal del Grupo2 (Expend vs. SAT)"
   ]
  },
  {
   "cell_type": "code",
   "execution_count": 28,
   "metadata": {
    "collapsed": false
   },
   "outputs": [
    {
     "name": "stdout",
     "output_type": "stream",
     "text": [
      "---------------------------------\n",
      "Modelo Regresion Lineal Expend, SAT\n",
      "---------------------------------\n",
      "Slope:  9.08789478228\n",
      "Intercept:  861.957217845\n",
      "r_value^2:  0.295654356435\n",
      "p_value:  0.207087728659\n",
      "std_err:  6.27305453529\n",
      "Correlacion:  0.543741074809\n",
      "---------------------------------------------------------------------------------------------------------------\n",
      "Para este segundo analisis el \"Group2\" es que mejor R cuadrado presenta, sin embargo los resultados nos sigue arrojando que el modelo de regresion lineal no es predictivo\n"
     ]
    }
   ],
   "source": [
    "slope, intercept, rvalue, pvalue, stderr = stats.linregress(group2.expend,group2.sat)\n",
    "corre = np.corrcoef(group2.expend,group2.sat)\n",
    "print '---------------------------------'\n",
    "print 'Modelo Regresion Lineal Expend, SAT'\n",
    "print '---------------------------------'\n",
    "print 'Slope: ',slope\n",
    "print 'Intercept: ',intercept\n",
    "print 'r_value^2: ', rvalue**2\n",
    "print 'p_value: ', pvalue\n",
    "print 'std_err: ', stderr\n",
    "print 'Correlacion: ', corre[0,1]\n",
    "print '---------------------------------------------------------------------------------------------------------------'\n",
    "print 'Para este segundo analisis el \"Group2\" es que mejor R cuadrado presenta, sin embargo los resultados nos sigue arrojando que el modelo de regresion lineal no es predictivo'"
   ]
  },
  {
   "cell_type": "markdown",
   "metadata": {},
   "source": [
    "### Correlacion y Regresion Lineal del Grupo3 (Expend vs. SAT)"
   ]
  },
  {
   "cell_type": "code",
   "execution_count": 29,
   "metadata": {
    "collapsed": false
   },
   "outputs": [
    {
     "name": "stdout",
     "output_type": "stream",
     "text": [
      "---------------------------------\n",
      "Modelo Regresion Lineal Expend, SAT\n",
      "---------------------------------\n",
      "Slope:  6.28673351266\n",
      "Intercept:  847.864358038\n",
      "r_value^2:  0.190259911293\n",
      "p_value:  0.0800555959184\n",
      "std_err:  3.34871816118\n",
      "Correlacion:  0.436187931164\n",
      "---------------------------------------------------------------------------------------------------------------\n",
      "El modelo de regresion lineal no es predictivo, para el \"Group3\", dado que el pvalue es mayor al 5%, y el R cuadrado\n"
     ]
    }
   ],
   "source": [
    "slope, intercept, rvalue, pvalue, stderr = stats.linregress(group3.expend,group3.sat)\n",
    "corre = np.corrcoef(group3.expend,group3.sat)\n",
    "print '---------------------------------'\n",
    "print 'Modelo Regresion Lineal Expend, SAT'\n",
    "print '---------------------------------'\n",
    "print 'Slope: ',slope\n",
    "print 'Intercept: ',intercept\n",
    "print 'r_value^2: ', rvalue**2\n",
    "print 'p_value: ', pvalue\n",
    "print 'std_err: ', stderr\n",
    "print 'Correlacion: ', corre[0,1]\n",
    "print '---------------------------------------------------------------------------------------------------------------'\n",
    "print 'El modelo de regresion lineal no es predictivo, para el \"Group3\", dado que el pvalue es mayor al 5%, y el R cuadrado'"
   ]
  },
  {
   "cell_type": "markdown",
   "metadata": {},
   "source": [
    "## Conclusión: la variable \"expend\" no tiene ninguna relacion con el puntaje obtenido en las pruebas \"SAT\"."
   ]
  }
 ],
 "metadata": {
  "anaconda-cloud": {},
  "kernelspec": {
   "display_name": "Python 2",
   "language": "python",
   "name": "python2"
  },
  "language_info": {
   "codemirror_mode": {
    "name": "ipython",
    "version": 2
   },
   "file_extension": ".py",
   "mimetype": "text/x-python",
   "name": "python",
   "nbconvert_exporter": "python",
   "pygments_lexer": "ipython2",
   "version": "2.7.13"
  }
 },
 "nbformat": 4,
 "nbformat_minor": 1
}
