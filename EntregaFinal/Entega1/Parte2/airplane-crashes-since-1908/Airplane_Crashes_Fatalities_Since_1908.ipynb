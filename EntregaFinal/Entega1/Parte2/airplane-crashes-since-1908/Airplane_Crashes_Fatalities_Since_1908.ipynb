{
 "cells": [
  {
   "cell_type": "code",
   "execution_count": 1,
   "metadata": {
    "collapsed": false
   },
   "outputs": [],
   "source": [
    "import numpy as np\n",
    "import pandas as pd\n",
    "import matplotlib.pyplot as plt\n",
    "import seaborn as sns"
   ]
  },
  {
   "cell_type": "code",
   "execution_count": 2,
   "metadata": {
    "collapsed": false
   },
   "outputs": [
    {
     "data": {
      "text/html": [
       "<div>\n",
       "<table border=\"1\" class=\"dataframe\">\n",
       "  <thead>\n",
       "    <tr style=\"text-align: right;\">\n",
       "      <th></th>\n",
       "      <th>Date</th>\n",
       "      <th>Time</th>\n",
       "      <th>Location</th>\n",
       "      <th>Operator</th>\n",
       "      <th>Flight #</th>\n",
       "      <th>Route</th>\n",
       "      <th>Type</th>\n",
       "      <th>Registration</th>\n",
       "      <th>cn/In</th>\n",
       "      <th>Aboard</th>\n",
       "      <th>Fatalities</th>\n",
       "      <th>Ground</th>\n",
       "      <th>Summary</th>\n",
       "      <th>Year</th>\n",
       "    </tr>\n",
       "  </thead>\n",
       "  <tbody>\n",
       "    <tr>\n",
       "      <th>0</th>\n",
       "      <td>1908-09-17</td>\n",
       "      <td>17:18</td>\n",
       "      <td>Fort Myer, Virginia</td>\n",
       "      <td>Military - U.S. Army</td>\n",
       "      <td>NaN</td>\n",
       "      <td>Demonstration</td>\n",
       "      <td>Wright Flyer III</td>\n",
       "      <td>NaN</td>\n",
       "      <td>1</td>\n",
       "      <td>2.0</td>\n",
       "      <td>1.0</td>\n",
       "      <td>0.0</td>\n",
       "      <td>During a demonstration flight, a U.S. Army fly...</td>\n",
       "      <td>1908</td>\n",
       "    </tr>\n",
       "    <tr>\n",
       "      <th>1</th>\n",
       "      <td>1912-07-12</td>\n",
       "      <td>06:30</td>\n",
       "      <td>AtlantiCity, New Jersey</td>\n",
       "      <td>Military - U.S. Navy</td>\n",
       "      <td>NaN</td>\n",
       "      <td>Test flight</td>\n",
       "      <td>Dirigible</td>\n",
       "      <td>NaN</td>\n",
       "      <td>NaN</td>\n",
       "      <td>5.0</td>\n",
       "      <td>5.0</td>\n",
       "      <td>0.0</td>\n",
       "      <td>First U.S. dirigible Akron exploded just offsh...</td>\n",
       "      <td>1912</td>\n",
       "    </tr>\n",
       "    <tr>\n",
       "      <th>2</th>\n",
       "      <td>1913-08-06</td>\n",
       "      <td>NaN</td>\n",
       "      <td>Victoria, British Columbia, Canada</td>\n",
       "      <td>Private</td>\n",
       "      <td>-</td>\n",
       "      <td>NaN</td>\n",
       "      <td>Curtiss seaplane</td>\n",
       "      <td>NaN</td>\n",
       "      <td>NaN</td>\n",
       "      <td>1.0</td>\n",
       "      <td>1.0</td>\n",
       "      <td>0.0</td>\n",
       "      <td>The first fatal airplane accident in Canada oc...</td>\n",
       "      <td>1913</td>\n",
       "    </tr>\n",
       "    <tr>\n",
       "      <th>3</th>\n",
       "      <td>1913-09-09</td>\n",
       "      <td>18:30</td>\n",
       "      <td>Over the North Sea</td>\n",
       "      <td>Military - German Navy</td>\n",
       "      <td>NaN</td>\n",
       "      <td>NaN</td>\n",
       "      <td>Zeppelin L-1 (airship)</td>\n",
       "      <td>NaN</td>\n",
       "      <td>NaN</td>\n",
       "      <td>20.0</td>\n",
       "      <td>14.0</td>\n",
       "      <td>0.0</td>\n",
       "      <td>The airship flew into a thunderstorm and encou...</td>\n",
       "      <td>1913</td>\n",
       "    </tr>\n",
       "    <tr>\n",
       "      <th>4</th>\n",
       "      <td>1913-10-17</td>\n",
       "      <td>10:30</td>\n",
       "      <td>Near Johannisthal, Germany</td>\n",
       "      <td>Military - German Navy</td>\n",
       "      <td>NaN</td>\n",
       "      <td>NaN</td>\n",
       "      <td>Zeppelin L-2 (airship)</td>\n",
       "      <td>NaN</td>\n",
       "      <td>NaN</td>\n",
       "      <td>30.0</td>\n",
       "      <td>30.0</td>\n",
       "      <td>0.0</td>\n",
       "      <td>Hydrogen gas which was being vented was sucked...</td>\n",
       "      <td>1913</td>\n",
       "    </tr>\n",
       "  </tbody>\n",
       "</table>\n",
       "</div>"
      ],
      "text/plain": [
       "        Date   Time                            Location  \\\n",
       "0 1908-09-17  17:18                 Fort Myer, Virginia   \n",
       "1 1912-07-12  06:30             AtlantiCity, New Jersey   \n",
       "2 1913-08-06    NaN  Victoria, British Columbia, Canada   \n",
       "3 1913-09-09  18:30                  Over the North Sea   \n",
       "4 1913-10-17  10:30          Near Johannisthal, Germany   \n",
       "\n",
       "                 Operator Flight #          Route                    Type  \\\n",
       "0    Military - U.S. Army      NaN  Demonstration        Wright Flyer III   \n",
       "1    Military - U.S. Navy      NaN    Test flight               Dirigible   \n",
       "2                 Private        -            NaN        Curtiss seaplane   \n",
       "3  Military - German Navy      NaN            NaN  Zeppelin L-1 (airship)   \n",
       "4  Military - German Navy      NaN            NaN  Zeppelin L-2 (airship)   \n",
       "\n",
       "  Registration cn/In  Aboard  Fatalities  Ground  \\\n",
       "0          NaN     1     2.0         1.0     0.0   \n",
       "1          NaN   NaN     5.0         5.0     0.0   \n",
       "2          NaN   NaN     1.0         1.0     0.0   \n",
       "3          NaN   NaN    20.0        14.0     0.0   \n",
       "4          NaN   NaN    30.0        30.0     0.0   \n",
       "\n",
       "                                             Summary  Year  \n",
       "0  During a demonstration flight, a U.S. Army fly...  1908  \n",
       "1  First U.S. dirigible Akron exploded just offsh...  1912  \n",
       "2  The first fatal airplane accident in Canada oc...  1913  \n",
       "3  The airship flew into a thunderstorm and encou...  1913  \n",
       "4  Hydrogen gas which was being vented was sucked...  1913  "
      ]
     },
     "execution_count": 2,
     "metadata": {},
     "output_type": "execute_result"
    }
   ],
   "source": [
    "df_airplane = pd.read_table('Airplane_Crashes_and_Fatalities_Since_1908.csv', sep=',')\n",
    "df_airplane['Date'] = pd.to_datetime(df_airplane.Date)\n",
    "df_airplane['Year'] = df_airplane.Date.dt.year #Creando la columna 'Year', para mas adelante poder agrupor por años.\n",
    "df_airplane.head()"
   ]
  },
  {
   "cell_type": "markdown",
   "metadata": {},
   "source": [
    "- Tamaño del DataFrame"
   ]
  },
  {
   "cell_type": "code",
   "execution_count": 3,
   "metadata": {
    "collapsed": false
   },
   "outputs": [
    {
     "data": {
      "text/plain": [
       "(5268, 14)"
      ]
     },
     "execution_count": 3,
     "metadata": {},
     "output_type": "execute_result"
    }
   ],
   "source": [
    "df_airplane.shape"
   ]
  },
  {
   "cell_type": "markdown",
   "metadata": {},
   "source": [
    "- Nombre de las columnas del DataFrame"
   ]
  },
  {
   "cell_type": "code",
   "execution_count": 4,
   "metadata": {
    "collapsed": false
   },
   "outputs": [
    {
     "data": {
      "text/plain": [
       "Index([u'Date', u'Time', u'Location', u'Operator', u'Flight #', u'Route',\n",
       "       u'Type', u'Registration', u'cn/In', u'Aboard', u'Fatalities', u'Ground',\n",
       "       u'Summary', u'Year'],\n",
       "      dtype='object')"
      ]
     },
     "execution_count": 4,
     "metadata": {},
     "output_type": "execute_result"
    }
   ],
   "source": [
    "df_airplane.columns"
   ]
  },
  {
   "cell_type": "markdown",
   "metadata": {},
   "source": [
    "## Analizar en qué variables hay valores nulos y el porcentaje de los mismos."
   ]
  },
  {
   "cell_type": "markdown",
   "metadata": {},
   "source": [
    "### Cuenta de Nulos y su porcentaje respecto al total de registros"
   ]
  },
  {
   "cell_type": "code",
   "execution_count": 5,
   "metadata": {
    "collapsed": false
   },
   "outputs": [
    {
     "data": {
      "text/html": [
       "<div>\n",
       "<table border=\"1\" class=\"dataframe\">\n",
       "  <thead>\n",
       "    <tr style=\"text-align: right;\">\n",
       "      <th></th>\n",
       "      <th>index</th>\n",
       "      <th>Registros</th>\n",
       "      <th>Porcentaje</th>\n",
       "    </tr>\n",
       "  </thead>\n",
       "  <tbody>\n",
       "    <tr>\n",
       "      <th>0</th>\n",
       "      <td>Date</td>\n",
       "      <td>0</td>\n",
       "      <td>0.000000</td>\n",
       "    </tr>\n",
       "    <tr>\n",
       "      <th>1</th>\n",
       "      <td>Time</td>\n",
       "      <td>2219</td>\n",
       "      <td>0.421222</td>\n",
       "    </tr>\n",
       "    <tr>\n",
       "      <th>2</th>\n",
       "      <td>Location</td>\n",
       "      <td>20</td>\n",
       "      <td>0.003797</td>\n",
       "    </tr>\n",
       "    <tr>\n",
       "      <th>3</th>\n",
       "      <td>Operator</td>\n",
       "      <td>18</td>\n",
       "      <td>0.003417</td>\n",
       "    </tr>\n",
       "    <tr>\n",
       "      <th>4</th>\n",
       "      <td>Flight #</td>\n",
       "      <td>4199</td>\n",
       "      <td>0.797077</td>\n",
       "    </tr>\n",
       "    <tr>\n",
       "      <th>5</th>\n",
       "      <td>Route</td>\n",
       "      <td>1706</td>\n",
       "      <td>0.323842</td>\n",
       "    </tr>\n",
       "    <tr>\n",
       "      <th>6</th>\n",
       "      <td>Type</td>\n",
       "      <td>27</td>\n",
       "      <td>0.005125</td>\n",
       "    </tr>\n",
       "    <tr>\n",
       "      <th>7</th>\n",
       "      <td>Registration</td>\n",
       "      <td>335</td>\n",
       "      <td>0.063591</td>\n",
       "    </tr>\n",
       "    <tr>\n",
       "      <th>8</th>\n",
       "      <td>cn/In</td>\n",
       "      <td>1228</td>\n",
       "      <td>0.233106</td>\n",
       "    </tr>\n",
       "    <tr>\n",
       "      <th>9</th>\n",
       "      <td>Aboard</td>\n",
       "      <td>22</td>\n",
       "      <td>0.004176</td>\n",
       "    </tr>\n",
       "    <tr>\n",
       "      <th>10</th>\n",
       "      <td>Fatalities</td>\n",
       "      <td>12</td>\n",
       "      <td>0.002278</td>\n",
       "    </tr>\n",
       "    <tr>\n",
       "      <th>11</th>\n",
       "      <td>Ground</td>\n",
       "      <td>22</td>\n",
       "      <td>0.004176</td>\n",
       "    </tr>\n",
       "    <tr>\n",
       "      <th>12</th>\n",
       "      <td>Summary</td>\n",
       "      <td>390</td>\n",
       "      <td>0.074032</td>\n",
       "    </tr>\n",
       "    <tr>\n",
       "      <th>13</th>\n",
       "      <td>Year</td>\n",
       "      <td>0</td>\n",
       "      <td>0.000000</td>\n",
       "    </tr>\n",
       "  </tbody>\n",
       "</table>\n",
       "</div>"
      ],
      "text/plain": [
       "           index  Registros  Porcentaje\n",
       "0           Date          0    0.000000\n",
       "1           Time       2219    0.421222\n",
       "2       Location         20    0.003797\n",
       "3       Operator         18    0.003417\n",
       "4       Flight #       4199    0.797077\n",
       "5          Route       1706    0.323842\n",
       "6           Type         27    0.005125\n",
       "7   Registration        335    0.063591\n",
       "8          cn/In       1228    0.233106\n",
       "9         Aboard         22    0.004176\n",
       "10    Fatalities         12    0.002278\n",
       "11        Ground         22    0.004176\n",
       "12       Summary        390    0.074032\n",
       "13          Year          0    0.000000"
      ]
     },
     "execution_count": 5,
     "metadata": {},
     "output_type": "execute_result"
    }
   ],
   "source": [
    "nulos = df_airplane.isnull().sum().reset_index()\n",
    "nulos['Porcentaje'] = nulos[0]/len(df_airplane)\n",
    "nulos.rename(columns={0:'Registros'}, inplace=True)\n",
    "nulos\n"
   ]
  },
  {
   "cell_type": "markdown",
   "metadata": {},
   "source": [
    "## Dibujar la tendencia de número accidentes en escala temporal, agrupando el dataset por años. ¿Puede decirse que hay un incremento o decremento de la siniestralidad? ¿Qué relación tiene con la expansión del tráfico aéreo en el tiempo?"
   ]
  },
  {
   "cell_type": "code",
   "execution_count": 6,
   "metadata": {
    "collapsed": false
   },
   "outputs": [
    {
     "data": {
      "text/html": [
       "<div>\n",
       "<table border=\"1\" class=\"dataframe\">\n",
       "  <thead>\n",
       "    <tr style=\"text-align: right;\">\n",
       "      <th></th>\n",
       "      <th>Date</th>\n",
       "      <th>Registros</th>\n",
       "    </tr>\n",
       "  </thead>\n",
       "  <tbody>\n",
       "    <tr>\n",
       "      <th>0</th>\n",
       "      <td>1908-09-17</td>\n",
       "      <td>1</td>\n",
       "    </tr>\n",
       "    <tr>\n",
       "      <th>1</th>\n",
       "      <td>1912-07-12</td>\n",
       "      <td>1</td>\n",
       "    </tr>\n",
       "    <tr>\n",
       "      <th>2</th>\n",
       "      <td>1913-08-06</td>\n",
       "      <td>1</td>\n",
       "    </tr>\n",
       "    <tr>\n",
       "      <th>3</th>\n",
       "      <td>1913-09-09</td>\n",
       "      <td>1</td>\n",
       "    </tr>\n",
       "    <tr>\n",
       "      <th>4</th>\n",
       "      <td>1913-10-17</td>\n",
       "      <td>1</td>\n",
       "    </tr>\n",
       "  </tbody>\n",
       "</table>\n",
       "</div>"
      ],
      "text/plain": [
       "        Date  Registros\n",
       "0 1908-09-17          1\n",
       "1 1912-07-12          1\n",
       "2 1913-08-06          1\n",
       "3 1913-09-09          1\n",
       "4 1913-10-17          1"
      ]
     },
     "execution_count": 6,
     "metadata": {},
     "output_type": "execute_result"
    }
   ],
   "source": [
    "%matplotlib inline\n",
    "byyear = df_airplane.copy()\n",
    "byyear = byyear.groupby('Date').size().reset_index().sort_values('Date', ascending=True)\n",
    "byyear.rename(columns={0:'Registros'}, inplace=True)\n",
    "#plt.plot(byyear.Date,byyear.Registros)\n",
    "#plt.plot(byyear.Registros)\n",
    "byyear.head()"
   ]
  },
  {
   "cell_type": "markdown",
   "metadata": {},
   "source": [
    "### Converting Date column to Datetime"
   ]
  },
  {
   "cell_type": "code",
   "execution_count": 7,
   "metadata": {
    "collapsed": false
   },
   "outputs": [
    {
     "data": {
      "text/html": [
       "<div>\n",
       "<table border=\"1\" class=\"dataframe\">\n",
       "  <thead>\n",
       "    <tr style=\"text-align: right;\">\n",
       "      <th></th>\n",
       "      <th>Date</th>\n",
       "      <th>Registros</th>\n",
       "      <th>Year</th>\n",
       "      <th>Month</th>\n",
       "    </tr>\n",
       "  </thead>\n",
       "  <tbody>\n",
       "    <tr>\n",
       "      <th>0</th>\n",
       "      <td>1908-09-17</td>\n",
       "      <td>1</td>\n",
       "      <td>1908</td>\n",
       "      <td>9</td>\n",
       "    </tr>\n",
       "    <tr>\n",
       "      <th>1</th>\n",
       "      <td>1912-07-12</td>\n",
       "      <td>1</td>\n",
       "      <td>1912</td>\n",
       "      <td>7</td>\n",
       "    </tr>\n",
       "    <tr>\n",
       "      <th>2</th>\n",
       "      <td>1913-08-06</td>\n",
       "      <td>1</td>\n",
       "      <td>1913</td>\n",
       "      <td>8</td>\n",
       "    </tr>\n",
       "    <tr>\n",
       "      <th>3</th>\n",
       "      <td>1913-09-09</td>\n",
       "      <td>1</td>\n",
       "      <td>1913</td>\n",
       "      <td>9</td>\n",
       "    </tr>\n",
       "    <tr>\n",
       "      <th>4</th>\n",
       "      <td>1913-10-17</td>\n",
       "      <td>1</td>\n",
       "      <td>1913</td>\n",
       "      <td>10</td>\n",
       "    </tr>\n",
       "  </tbody>\n",
       "</table>\n",
       "</div>"
      ],
      "text/plain": [
       "        Date  Registros  Year  Month\n",
       "0 1908-09-17          1  1908      9\n",
       "1 1912-07-12          1  1912      7\n",
       "2 1913-08-06          1  1913      8\n",
       "3 1913-09-09          1  1913      9\n",
       "4 1913-10-17          1  1913     10"
      ]
     },
     "execution_count": 7,
     "metadata": {},
     "output_type": "execute_result"
    }
   ],
   "source": [
    "byyear['Date']= pd.to_datetime(byyear.Date)\n",
    "byyear['Year'],byyear['Month'] = byyear['Date'].dt.year, byyear['Date'].dt.month\n",
    "byyear.head()"
   ]
  },
  {
   "cell_type": "code",
   "execution_count": 8,
   "metadata": {
    "collapsed": false
   },
   "outputs": [
    {
     "data": {
      "image/png": "[encoded data removed]",
      "text/plain": [
       "<matplotlib.figure.Figure at 0x473af60>"
      ]
     },
     "metadata": {},
     "output_type": "display_data"
    }
   ],
   "source": [
    "byyearplt = byyear.groupby('Year').size().reset_index()\n",
    "byyearplt.rename(columns={0:'Registros'},inplace=True)\n",
    "m,b = np.polyfit(byyearplt.Year, byyearplt.Registros, 1)\n",
    "#byyearplt = byyearplt[byyearplt.Year > 2000]\n",
    "byyearplt.head()\n",
    "plt.scatter(byyearplt.Year,byyearplt.Registros);\n",
    "plt.plot(byyearplt.Year, m*byyearplt.Year+ b, '-');\n",
    "plt.xlabel('Years');\n",
    "plt.ylabel('Number of Accidents per Year');\n",
    "plt.title('Accidents per year');\n"
   ]
  },
  {
   "cell_type": "markdown",
   "metadata": {},
   "source": [
    "Podemos ver que la tendencia de accidentes es creciente año a año, sin embargo gráficamente podemos ver que se han reducido significativamente los accidentes desde el año 2000, respecto a los años anteriores. Sin embargo podemos ver que la relacion es directa."
   ]
  },
  {
   "cell_type": "markdown",
   "metadata": {},
   "source": [
    "### Obtener y dibujar las frecuencias del número de accidentes por tipo de avión. ¿se parece a alguna distribución conocida? Hacer el análisis en cuanto a las rutas. ¿hay algún hallazgo que parezca relevante?"
   ]
  },
  {
   "cell_type": "code",
   "execution_count": 9,
   "metadata": {
    "collapsed": false
   },
   "outputs": [],
   "source": [
    "#import sys\n",
    "#reload(sys)\n",
    "#sys.setdefaultencoding(\"utf-8\")\n",
    "\n",
    "byplane = df_airplane.copy()\n",
    "byplane = byplane.groupby('Type').size().reset_index().sort_values(0,ascending=False)\n",
    "byplane.rename(columns={0:'Registros'},inplace=True)\n"
   ]
  },
  {
   "cell_type": "markdown",
   "metadata": {},
   "source": [
    "### Accidentes por avión top10 por número de Accidentes"
   ]
  },
  {
   "cell_type": "code",
   "execution_count": 10,
   "metadata": {
    "collapsed": false
   },
   "outputs": [
    {
     "data": {
      "text/html": [
       "<div>\n",
       "<table border=\"1\" class=\"dataframe\">\n",
       "  <thead>\n",
       "    <tr style=\"text-align: right;\">\n",
       "      <th></th>\n",
       "      <th>Type</th>\n",
       "      <th>Registros</th>\n",
       "    </tr>\n",
       "  </thead>\n",
       "  <tbody>\n",
       "    <tr>\n",
       "      <th>1178</th>\n",
       "      <td>Douglas DC-3</td>\n",
       "      <td>334</td>\n",
       "    </tr>\n",
       "    <tr>\n",
       "      <th>2388</th>\n",
       "      <td>de Havilland Canada DHC-6 Twin Otter 300</td>\n",
       "      <td>81</td>\n",
       "    </tr>\n",
       "    <tr>\n",
       "      <th>1097</th>\n",
       "      <td>Douglas C-47A</td>\n",
       "      <td>74</td>\n",
       "    </tr>\n",
       "    <tr>\n",
       "      <th>1089</th>\n",
       "      <td>Douglas C-47</td>\n",
       "      <td>62</td>\n",
       "    </tr>\n",
       "    <tr>\n",
       "      <th>1230</th>\n",
       "      <td>Douglas DC-4</td>\n",
       "      <td>40</td>\n",
       "    </tr>\n",
       "    <tr>\n",
       "      <th>2340</th>\n",
       "      <td>Yakovlev YAK-40</td>\n",
       "      <td>37</td>\n",
       "    </tr>\n",
       "    <tr>\n",
       "      <th>125</th>\n",
       "      <td>Antonov AN-26</td>\n",
       "      <td>36</td>\n",
       "    </tr>\n",
       "    <tr>\n",
       "      <th>1598</th>\n",
       "      <td>Junkers JU-52/3m</td>\n",
       "      <td>32</td>\n",
       "    </tr>\n",
       "    <tr>\n",
       "      <th>1119</th>\n",
       "      <td>Douglas C-47B</td>\n",
       "      <td>29</td>\n",
       "    </tr>\n",
       "    <tr>\n",
       "      <th>1045</th>\n",
       "      <td>De Havilland DH-4</td>\n",
       "      <td>28</td>\n",
       "    </tr>\n",
       "  </tbody>\n",
       "</table>\n",
       "</div>"
      ],
      "text/plain": [
       "                                          Type  Registros\n",
       "1178                              Douglas DC-3        334\n",
       "2388  de Havilland Canada DHC-6 Twin Otter 300         81\n",
       "1097                             Douglas C-47A         74\n",
       "1089                              Douglas C-47         62\n",
       "1230                              Douglas DC-4         40\n",
       "2340                           Yakovlev YAK-40         37\n",
       "125                              Antonov AN-26         36\n",
       "1598                          Junkers JU-52/3m         32\n",
       "1119                             Douglas C-47B         29\n",
       "1045                         De Havilland DH-4         28"
      ]
     },
     "execution_count": 10,
     "metadata": {},
     "output_type": "execute_result"
    }
   ],
   "source": [
    "byplane.head(10)"
   ]
  },
  {
   "cell_type": "markdown",
   "metadata": {},
   "source": [
    "### Gráfico de accidentes por avión"
   ]
  },
  {
   "cell_type": "code",
   "execution_count": 11,
   "metadata": {
    "collapsed": false
   },
   "outputs": [
    {
     "data": {
      "image/png": "[encoded data removed]",
      "text/plain": [
       "<matplotlib.figure.Figure at 0xc71f470>"
      ]
     },
     "metadata": {},
     "output_type": "display_data"
    }
   ],
   "source": [
    "x = np.arange(0,10) #2.446 registros\n",
    "names = np.asarray(byplane.Type[0:10])\n",
    "plt.xticks(x,names, rotation=90)\n",
    "plt.bar(x,byplane.Registros[0:10],align='center')\n",
    "plt.title('Top 10 Most Dangerous Airplanes')\n",
    "plt.ylabel('Number of Crashes')\n",
    "plt.plot(x[0:10],byplane.Registros[0:10],'r-')\n",
    "plt.show()"
   ]
  },
  {
   "cell_type": "markdown",
   "metadata": {},
   "source": [
    "Gráficamente notamos que de los aviones con mas accidentes es el Douglas DC-3. Por otro lado dentro del top 5 encontramos 4 que son de la linea de fabricación Douglas, mostrando una clara evidencia que eran de los aviones mas peligrosos."
   ]
  },
  {
   "cell_type": "code",
   "execution_count": 12,
   "metadata": {
    "collapsed": false
   },
   "outputs": [
    {
     "data": {
      "image/png": "[encoded data removed]",
      "text/plain": [
       "<matplotlib.figure.Figure at 0xc8973c8>"
      ]
     },
     "metadata": {},
     "output_type": "display_data"
    }
   ],
   "source": [
    "plt.hist(byplane.Registros,bins=100);"
   ]
  },
  {
   "cell_type": "markdown",
   "metadata": {},
   "source": [
    "Podemos notar graficamente, que su distribucion es parecida a la de Pareto."
   ]
  },
  {
   "cell_type": "markdown",
   "metadata": {},
   "source": [
    "### Accidentes por Rutas top10"
   ]
  },
  {
   "cell_type": "code",
   "execution_count": 13,
   "metadata": {
    "collapsed": false
   },
   "outputs": [
    {
     "data": {
      "text/html": [
       "<div>\n",
       "<table border=\"1\" class=\"dataframe\">\n",
       "  <thead>\n",
       "    <tr style=\"text-align: right;\">\n",
       "      <th></th>\n",
       "      <th>Route</th>\n",
       "      <th>Registros</th>\n",
       "    </tr>\n",
       "  </thead>\n",
       "  <tbody>\n",
       "    <tr>\n",
       "      <th>3029</th>\n",
       "      <td>Training</td>\n",
       "      <td>81</td>\n",
       "    </tr>\n",
       "    <tr>\n",
       "      <th>2790</th>\n",
       "      <td>Sightseeing</td>\n",
       "      <td>29</td>\n",
       "    </tr>\n",
       "    <tr>\n",
       "      <th>2979</th>\n",
       "      <td>Test flight</td>\n",
       "      <td>17</td>\n",
       "    </tr>\n",
       "    <tr>\n",
       "      <th>2978</th>\n",
       "      <td>Test</td>\n",
       "      <td>6</td>\n",
       "    </tr>\n",
       "    <tr>\n",
       "      <th>2711</th>\n",
       "      <td>Sao Paulo - Rio de Janeiro</td>\n",
       "      <td>5</td>\n",
       "    </tr>\n",
       "    <tr>\n",
       "      <th>2710</th>\n",
       "      <td>Sao Paulo - Porto Alegre</td>\n",
       "      <td>4</td>\n",
       "    </tr>\n",
       "    <tr>\n",
       "      <th>2576</th>\n",
       "      <td>Saigon - Paris</td>\n",
       "      <td>4</td>\n",
       "    </tr>\n",
       "    <tr>\n",
       "      <th>385</th>\n",
       "      <td>Bogota - Barranquilla</td>\n",
       "      <td>4</td>\n",
       "    </tr>\n",
       "    <tr>\n",
       "      <th>3144</th>\n",
       "      <td>Villavicencio - Mitu</td>\n",
       "      <td>4</td>\n",
       "    </tr>\n",
       "    <tr>\n",
       "      <th>1621</th>\n",
       "      <td>London - Glasgow</td>\n",
       "      <td>3</td>\n",
       "    </tr>\n",
       "  </tbody>\n",
       "</table>\n",
       "</div>"
      ],
      "text/plain": [
       "                           Route  Registros\n",
       "3029                    Training         81\n",
       "2790                 Sightseeing         29\n",
       "2979                 Test flight         17\n",
       "2978                        Test          6\n",
       "2711  Sao Paulo - Rio de Janeiro          5\n",
       "2710    Sao Paulo - Porto Alegre          4\n",
       "2576              Saigon - Paris          4\n",
       "385        Bogota - Barranquilla          4\n",
       "3144        Villavicencio - Mitu          4\n",
       "1621            London - Glasgow          3"
      ]
     },
     "execution_count": 13,
     "metadata": {},
     "output_type": "execute_result"
    }
   ],
   "source": [
    "byRoute = df_airplane.copy()\n",
    "byRoute = byRoute.groupby(['Route']).size().reset_index().sort_values(0, ascending=False)\n",
    "byRoute.rename(columns={0:'Registros'},inplace=True)\n",
    "byRoute.head(10)"
   ]
  },
  {
   "cell_type": "markdown",
   "metadata": {},
   "source": [
    "Encontramos que el mayor numero de accidentes es cuando estan en estapa de entrenamiento."
   ]
  },
  {
   "cell_type": "markdown",
   "metadata": {},
   "source": [
    "### Gráfico de accidentes por avión"
   ]
  },
  {
   "cell_type": "code",
   "execution_count": 14,
   "metadata": {
    "collapsed": false
   },
   "outputs": [
    {
     "data": {
      "image/png": "[encoded data removed]",
      "text/plain": [
       "<matplotlib.figure.Figure at 0xd0565c0>"
      ]
     },
     "metadata": {},
     "output_type": "display_data"
    }
   ],
   "source": [
    "x = np.arange(0,10) #2.446 registros\n",
    "names = np.asarray(byRoute.Route[0:10])\n",
    "plt.xticks(x,names, rotation=90)\n",
    "plt.bar(x,byRoute.Registros[0:10],align='center')\n",
    "plt.title('Top 10 Most Dangerous Routes')\n",
    "plt.ylabel('Number of Crashes')\n",
    "plt.plot(x[0:10],byRoute.Registros[0:10],'r-')\n",
    "plt.show()"
   ]
  },
  {
   "cell_type": "markdown",
   "metadata": {},
   "source": [
    "### Filtering Not Army Airplanes"
   ]
  },
  {
   "cell_type": "code",
   "execution_count": 15,
   "metadata": {
    "collapsed": false
   },
   "outputs": [
    {
     "name": "stdout",
     "output_type": "stream",
     "text": [
      "(5250, 14)\n"
     ]
    }
   ],
   "source": [
    "airplaneNA = df_airplane.copy()\n",
    "airplaneNA = airplaneNA[airplaneNA['Operator'].notnull()]\n",
    "print airplaneNA.shape\n",
    "airplaneNA = airplaneNA[(~airplaneNA['Operator'].str.lower().str.contains('navy|military|army'))]"
   ]
  },
  {
   "cell_type": "markdown",
   "metadata": {},
   "source": [
    "Con el anterior código, hemos filtrado todos y cada unos de los aviones que no sean Militares o de guerra, teniendo ahora aviones comerciales o de compañías de mensajería."
   ]
  },
  {
   "cell_type": "markdown",
   "metadata": {},
   "source": [
    "### Not Army Airplanes Table"
   ]
  },
  {
   "cell_type": "code",
   "execution_count": 16,
   "metadata": {
    "collapsed": false
   },
   "outputs": [
    {
     "data": {
      "text/html": [
       "<div>\n",
       "<table border=\"1\" class=\"dataframe\">\n",
       "  <thead>\n",
       "    <tr style=\"text-align: right;\">\n",
       "      <th></th>\n",
       "      <th>Date</th>\n",
       "      <th>Time</th>\n",
       "      <th>Location</th>\n",
       "      <th>Operator</th>\n",
       "      <th>Flight #</th>\n",
       "      <th>Route</th>\n",
       "      <th>Type</th>\n",
       "      <th>Registration</th>\n",
       "      <th>cn/In</th>\n",
       "      <th>Aboard</th>\n",
       "      <th>Fatalities</th>\n",
       "      <th>Ground</th>\n",
       "      <th>Summary</th>\n",
       "      <th>Year</th>\n",
       "    </tr>\n",
       "  </thead>\n",
       "  <tbody>\n",
       "    <tr>\n",
       "      <th>2</th>\n",
       "      <td>1913-08-06</td>\n",
       "      <td>NaN</td>\n",
       "      <td>Victoria, British Columbia, Canada</td>\n",
       "      <td>Private</td>\n",
       "      <td>-</td>\n",
       "      <td>NaN</td>\n",
       "      <td>Curtiss seaplane</td>\n",
       "      <td>NaN</td>\n",
       "      <td>NaN</td>\n",
       "      <td>1.0</td>\n",
       "      <td>1.0</td>\n",
       "      <td>0.0</td>\n",
       "      <td>The first fatal airplane accident in Canada oc...</td>\n",
       "      <td>1913</td>\n",
       "    </tr>\n",
       "    <tr>\n",
       "      <th>21</th>\n",
       "      <td>1918-12-16</td>\n",
       "      <td>NaN</td>\n",
       "      <td>Elizabeth, New Jersey</td>\n",
       "      <td>US Aerial Mail Service</td>\n",
       "      <td>NaN</td>\n",
       "      <td>NaN</td>\n",
       "      <td>De Havilland DH-4</td>\n",
       "      <td>97</td>\n",
       "      <td>NaN</td>\n",
       "      <td>1.0</td>\n",
       "      <td>1.0</td>\n",
       "      <td>0.0</td>\n",
       "      <td>NaN</td>\n",
       "      <td>1918</td>\n",
       "    </tr>\n",
       "    <tr>\n",
       "      <th>22</th>\n",
       "      <td>1919-05-25</td>\n",
       "      <td>NaN</td>\n",
       "      <td>Cleveland, Ohio</td>\n",
       "      <td>US Aerial Mail Service</td>\n",
       "      <td>NaN</td>\n",
       "      <td>NaN</td>\n",
       "      <td>De Havilland DH-4</td>\n",
       "      <td>61</td>\n",
       "      <td>NaN</td>\n",
       "      <td>1.0</td>\n",
       "      <td>1.0</td>\n",
       "      <td>0.0</td>\n",
       "      <td>Caught fire in midair. The pilot leaped from t...</td>\n",
       "      <td>1919</td>\n",
       "    </tr>\n",
       "  </tbody>\n",
       "</table>\n",
       "</div>"
      ],
      "text/plain": [
       "         Date Time                            Location  \\\n",
       "2  1913-08-06  NaN  Victoria, British Columbia, Canada   \n",
       "21 1918-12-16  NaN               Elizabeth, New Jersey   \n",
       "22 1919-05-25  NaN                     Cleveland, Ohio   \n",
       "\n",
       "                  Operator Flight # Route               Type Registration  \\\n",
       "2                  Private        -   NaN   Curtiss seaplane          NaN   \n",
       "21  US Aerial Mail Service      NaN   NaN  De Havilland DH-4           97   \n",
       "22  US Aerial Mail Service      NaN   NaN  De Havilland DH-4           61   \n",
       "\n",
       "   cn/In  Aboard  Fatalities  Ground  \\\n",
       "2    NaN     1.0         1.0     0.0   \n",
       "21   NaN     1.0         1.0     0.0   \n",
       "22   NaN     1.0         1.0     0.0   \n",
       "\n",
       "                                              Summary  Year  \n",
       "2   The first fatal airplane accident in Canada oc...  1913  \n",
       "21                                                NaN  1918  \n",
       "22  Caught fire in midair. The pilot leaped from t...  1919  "
      ]
     },
     "execution_count": 16,
     "metadata": {},
     "output_type": "execute_result"
    }
   ],
   "source": [
    "airplaneNA.head(3)"
   ]
  },
  {
   "cell_type": "markdown",
   "metadata": {},
   "source": [
    "La anterior es la tabla de los aviones que no son de Guerra o del Ejercito."
   ]
  },
  {
   "cell_type": "markdown",
   "metadata": {},
   "source": [
    "### Top 10 Not Army airplanes per Crashes"
   ]
  },
  {
   "cell_type": "code",
   "execution_count": 17,
   "metadata": {
    "collapsed": false
   },
   "outputs": [
    {
     "data": {
      "text/html": [
       "<div>\n",
       "<table border=\"1\" class=\"dataframe\">\n",
       "  <thead>\n",
       "    <tr style=\"text-align: right;\">\n",
       "      <th></th>\n",
       "      <th>Type</th>\n",
       "      <th>0</th>\n",
       "    </tr>\n",
       "  </thead>\n",
       "  <tbody>\n",
       "    <tr>\n",
       "      <th>1008</th>\n",
       "      <td>Douglas DC-3</td>\n",
       "      <td>333</td>\n",
       "    </tr>\n",
       "    <tr>\n",
       "      <th>1995</th>\n",
       "      <td>de Havilland Canada DHC-6 Twin Otter 300</td>\n",
       "      <td>77</td>\n",
       "    </tr>\n",
       "    <tr>\n",
       "      <th>947</th>\n",
       "      <td>Douglas C-47A</td>\n",
       "      <td>62</td>\n",
       "    </tr>\n",
       "    <tr>\n",
       "      <th>1055</th>\n",
       "      <td>Douglas DC-4</td>\n",
       "      <td>39</td>\n",
       "    </tr>\n",
       "    <tr>\n",
       "      <th>1971</th>\n",
       "      <td>Yakovlev YAK-40</td>\n",
       "      <td>36</td>\n",
       "    </tr>\n",
       "    <tr>\n",
       "      <th>943</th>\n",
       "      <td>Douglas C-47</td>\n",
       "      <td>34</td>\n",
       "    </tr>\n",
       "    <tr>\n",
       "      <th>1367</th>\n",
       "      <td>Junkers JU-52/3m</td>\n",
       "      <td>32</td>\n",
       "    </tr>\n",
       "    <tr>\n",
       "      <th>912</th>\n",
       "      <td>De Havilland DH-4</td>\n",
       "      <td>28</td>\n",
       "    </tr>\n",
       "    <tr>\n",
       "      <th>1069</th>\n",
       "      <td>Douglas DC-6B</td>\n",
       "      <td>26</td>\n",
       "    </tr>\n",
       "    <tr>\n",
       "      <th>574</th>\n",
       "      <td>Breguet 14</td>\n",
       "      <td>23</td>\n",
       "    </tr>\n",
       "  </tbody>\n",
       "</table>\n",
       "</div>"
      ],
      "text/plain": [
       "                                          Type    0\n",
       "1008                              Douglas DC-3  333\n",
       "1995  de Havilland Canada DHC-6 Twin Otter 300   77\n",
       "947                              Douglas C-47A   62\n",
       "1055                              Douglas DC-4   39\n",
       "1971                           Yakovlev YAK-40   36\n",
       "943                               Douglas C-47   34\n",
       "1367                          Junkers JU-52/3m   32\n",
       "912                          De Havilland DH-4   28\n",
       "1069                             Douglas DC-6B   26\n",
       "574                                 Breguet 14   23"
      ]
     },
     "execution_count": 17,
     "metadata": {},
     "output_type": "execute_result"
    }
   ],
   "source": [
    "topCrashes = airplaneNA.groupby('Type').size().reset_index().sort_values(0, ascending = False)\n",
    "topCrashes.head(10)"
   ]
  },
  {
   "cell_type": "markdown",
   "metadata": {},
   "source": [
    "Para este análisis notamos que continua en el primer puesto el Douglas DC-3. Sin embargo ahora son 319 Crashes, debido a que ahora hemos hecho un filtro y hemos sacado todos aquellos aviones que sean Army, Military o Navy."
   ]
  },
  {
   "cell_type": "markdown",
   "metadata": {
    "collapsed": true
   },
   "source": [
    "### Top 10 Not Army Airplanes per Fatalities"
   ]
  },
  {
   "cell_type": "code",
   "execution_count": 18,
   "metadata": {
    "collapsed": false
   },
   "outputs": [
    {
     "data": {
      "text/html": [
       "<div>\n",
       "<table border=\"1\" class=\"dataframe\">\n",
       "  <thead>\n",
       "    <tr style=\"text-align: right;\">\n",
       "      <th></th>\n",
       "      <th>Fatalities</th>\n",
       "    </tr>\n",
       "    <tr>\n",
       "      <th>Type</th>\n",
       "      <th></th>\n",
       "    </tr>\n",
       "  </thead>\n",
       "  <tbody>\n",
       "    <tr>\n",
       "      <th>Douglas DC-3</th>\n",
       "      <td>4780.0</td>\n",
       "    </tr>\n",
       "    <tr>\n",
       "      <th>Douglas DC-6B</th>\n",
       "      <td>1017.0</td>\n",
       "    </tr>\n",
       "    <tr>\n",
       "      <th>McDonnell Douglas DC-9-32</th>\n",
       "      <td>951.0</td>\n",
       "    </tr>\n",
       "    <tr>\n",
       "      <th>Douglas DC-4</th>\n",
       "      <td>912.0</td>\n",
       "    </tr>\n",
       "    <tr>\n",
       "      <th>Ilyushin IL-18B</th>\n",
       "      <td>852.0</td>\n",
       "    </tr>\n",
       "    <tr>\n",
       "      <th>Tupolev TU-134A</th>\n",
       "      <td>809.0</td>\n",
       "    </tr>\n",
       "    <tr>\n",
       "      <th>Yakovlev YAK-40</th>\n",
       "      <td>808.0</td>\n",
       "    </tr>\n",
       "    <tr>\n",
       "      <th>McDonnell Douglas DC-10-10</th>\n",
       "      <td>804.0</td>\n",
       "    </tr>\n",
       "    <tr>\n",
       "      <th>de Havilland Canada DHC-6 Twin Otter 300</th>\n",
       "      <td>745.0</td>\n",
       "    </tr>\n",
       "    <tr>\n",
       "      <th>McDonnell Douglas MD-82</th>\n",
       "      <td>695.0</td>\n",
       "    </tr>\n",
       "  </tbody>\n",
       "</table>\n",
       "</div>"
      ],
      "text/plain": [
       "                                          Fatalities\n",
       "Type                                                \n",
       "Douglas DC-3                                  4780.0\n",
       "Douglas DC-6B                                 1017.0\n",
       "McDonnell Douglas DC-9-32                      951.0\n",
       "Douglas DC-4                                   912.0\n",
       "Ilyushin IL-18B                                852.0\n",
       "Tupolev TU-134A                                809.0\n",
       "Yakovlev YAK-40                                808.0\n",
       "McDonnell Douglas DC-10-10                     804.0\n",
       "de Havilland Canada DHC-6 Twin Otter 300       745.0\n",
       "McDonnell Douglas MD-82                        695.0"
      ]
     },
     "execution_count": 18,
     "metadata": {},
     "output_type": "execute_result"
    }
   ],
   "source": [
    "topFatalieties = airplaneNA.groupby('Type').sum()[['Fatalities']].sort_values(by='Fatalities', ascending=False)\n",
    "topFatalieties.head(10)"
   ]
  },
  {
   "cell_type": "markdown",
   "metadata": {},
   "source": [
    "En esta consulta notamos que el avión Dougles DC-3 es uno de los mas peligrosos, teniendo un total de 4.780 muertos, en toda su historia, seguido del Douglas DC-6B con 1.017 Muertes."
   ]
  },
  {
   "cell_type": "markdown",
   "metadata": {},
   "source": [
    "### Summary"
   ]
  },
  {
   "cell_type": "code",
   "execution_count": 19,
   "metadata": {
    "collapsed": false
   },
   "outputs": [],
   "source": [
    "airplaneNA = airplaneNA[airplaneNA.Summary.notnull()]\n",
    "summaryExplosion = airplaneNA[airplaneNA.Summary.str.lower().str.contains('explosion')]#Explosion \n",
    "summaryNotExplosion = airplaneNA[~airplaneNA.Summary.str.lower().str.contains('explosion')] #No Explosion\n",
    "summaryExplosion = summaryExplosion[['Type','Fatalities']]\n",
    "summaryNotExplosion = summaryNotExplosion[['Type','Fatalities']]\n"
   ]
  },
  {
   "cell_type": "markdown",
   "metadata": {},
   "source": [
    "### Se elimina los NA de 'summaryNotExplosion'"
   ]
  },
  {
   "cell_type": "code",
   "execution_count": 20,
   "metadata": {
    "collapsed": false
   },
   "outputs": [
    {
     "data": {
      "text/plain": [
       "4072"
      ]
     },
     "execution_count": 20,
     "metadata": {},
     "output_type": "execute_result"
    }
   ],
   "source": [
    "summaryNotExplosion.dropna(how='any',inplace= True)\n",
    "len(summaryNotExplosion)"
   ]
  },
  {
   "cell_type": "markdown",
   "metadata": {
    "collapsed": true
   },
   "source": [
    "### Cuadro Resumen de vuelos donde se presentaron y no Explosiones"
   ]
  },
  {
   "cell_type": "code",
   "execution_count": 21,
   "metadata": {
    "collapsed": false
   },
   "outputs": [
    {
     "name": "stdout",
     "output_type": "stream",
     "text": [
      "Resumen de las muertes por Explosion\n",
      "--------------------------------------------------------------------------------------------------------------------\n",
      "count     42.000000\n",
      "mean      30.238095\n",
      "std       46.015273\n",
      "min        0.000000\n",
      "25%        2.000000\n",
      "50%       13.000000\n",
      "75%       44.250000\n",
      "max      230.000000\n",
      "Name: Fatalities, dtype: float64\n",
      "--------------------------------------------------------------------------------------------------------------------\n",
      "Resumen de las muertes por otras causas (No explosion)\n",
      "--------------------------------------------------------------------------------------------------------------------\n",
      "count    4072.000000\n",
      "mean       20.140226\n",
      "std        35.457119\n",
      "min         0.000000\n",
      "25%         3.000000\n",
      "50%         7.500000\n",
      "75%        21.000000\n",
      "max       583.000000\n",
      "Name: Fatalities, dtype: float64\n"
     ]
    }
   ],
   "source": [
    "print 'Resumen de las muertes por Explosion'\n",
    "print '--------------------------------------------------------------------------------------------------------------------'\n",
    "print summaryExplosion['Fatalities'].describe()\n",
    "print '--------------------------------------------------------------------------------------------------------------------'\n",
    "print 'Resumen de las muertes por otras causas (No explosion)'\n",
    "print '--------------------------------------------------------------------------------------------------------------------'\n",
    "print summaryNotExplosion['Fatalities'].describe()\n"
   ]
  },
  {
   "cell_type": "markdown",
   "metadata": {
    "collapsed": false
   },
   "source": [
    "Podemos notar que la media de Muertes cuando se presenta una exposion es mas alta a la media de otros eventos que no sean explosiones, sin embargo 42 veces se presento una explosion dentro del avión frente a 4.072 de otros eventos no relacionados a explosiones."
   ]
  },
  {
   "cell_type": "markdown",
   "metadata": {},
   "source": [
    "### Modelo Regresion Lineal 'summaryExplosion' vs 'summaryNotExplosion'"
   ]
  },
  {
   "cell_type": "markdown",
   "metadata": {},
   "source": [
    "Dado que las dos bases de datos no cuentan con la misma cantidad de registros, tomamos 42 datos aleatorios de SummaryNotExposion para poder compararlos."
   ]
  },
  {
   "cell_type": "code",
   "execution_count": 22,
   "metadata": {
    "collapsed": false
   },
   "outputs": [
    {
     "name": "stdout",
     "output_type": "stream",
     "text": [
      "R cuadrado:  1.12866143753e-05\n"
     ]
    },
    {
     "data": {
      "image/png": "[encoded data removed]",
      "text/plain": [
       "<matplotlib.figure.Figure at 0xc708b70>"
      ]
     },
     "metadata": {},
     "output_type": "display_data"
    }
   ],
   "source": [
    "from scipy import stats\n",
    "import random\n",
    "muestraNotExplotion = np.asarray(random.sample(summaryNotExplosion.Fatalities,42)) #toma aleatoriamente 42 elementos de 'summaryNotExplosion.Fatalities'\n",
    "slope, intercept, rvalue, pvalue, stderr = stats.linregress(summaryExplosion.Fatalities,muestraNotExplotion)\n",
    "print 'R cuadrado: ', rvalue**2\n",
    "y = summaryExplosion.Fatalities * slope + intercept\n",
    "plt.scatter(summaryExplosion.Fatalities,muestraNotExplotion);\n",
    "plt.plot(summaryExplosion.Fatalities, y);\n",
    "plt.ylabel('Muestra Explosion');\n",
    "plt.xlabel('Explosion');\n",
    "plt.title('Summary Explosion vs Muestra Not Explosion');\n"
   ]
  },
  {
   "cell_type": "markdown",
   "metadata": {
    "collapsed": true
   },
   "source": [
    "### Como podemo ver graficamente no hay ninguna realcion entre estas dos bases de Datos, de igual manera si vemos el R cuadrano, notamos que el modelo de regresion lineal no es predictivo."
   ]
  }
 ],
 "metadata": {
  "anaconda-cloud": {},
  "kernelspec": {
   "display_name": "Python 2",
   "language": "python",
   "name": "python2"
  },
  "language_info": {
   "codemirror_mode": {
    "name": "ipython",
    "version": 2
   },
   "file_extension": ".py",
   "mimetype": "text/x-python",
   "name": "python",
   "nbconvert_exporter": "python",
   "pygments_lexer": "ipython2",
   "version": "2.7.13"
  }
 },
 "nbformat": 4,
 "nbformat_minor": 1
}
